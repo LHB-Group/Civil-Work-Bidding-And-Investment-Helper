{
 "cells": [
  {
   "cell_type": "code",
   "execution_count": 53,
   "metadata": {},
   "outputs": [],
   "source": [
    "import pandas as pd\n",
    "import numpy as np\n",
    "\n",
    "from sklearn.model_selection import train_test_split\n",
    "from sklearn.pipeline import Pipeline\n",
    "from sklearn.impute import SimpleImputer\n",
    "from sklearn.preprocessing import OneHotEncoder, StandardScaler\n",
    "from sklearn.compose import ColumnTransformer\n",
    "from sklearn.linear_model import LinearRegression\n",
    "from sklearn.metrics import r2_score"
   ]
  },
  {
   "cell_type": "markdown",
   "metadata": {},
   "source": [
    "Loading Dataset"
   ]
  },
  {
   "cell_type": "code",
   "execution_count": 54,
   "metadata": {},
   "outputs": [
    {
     "name": "stdout",
     "output_type": "stream",
     "text": [
      "Loading dataset...\n"
     ]
    },
    {
     "name": "stderr",
     "output_type": "stream",
     "text": [
      "c:\\Users\\Baptiste Cournault\\AppData\\Local\\Programs\\Python\\Python310\\lib\\site-packages\\IPython\\core\\interactiveshell.py:3369: DtypeWarning: Columns (18,22,23,32,35) have mixed types.Specify dtype option on import or set low_memory=False.\n",
      "  exec(code_obj, self.user_global_ns, self.user_ns)\n"
     ]
    },
    {
     "name": "stdout",
     "output_type": "stream",
     "text": [
      "...Done.\n"
     ]
    }
   ],
   "source": [
    "# Import dataset\n",
    "print(\"Loading dataset...\")\n",
    "dataset = pd.read_csv(\"src/Building_Permits_Large.csv\")\n",
    "print(\"...Done.\")"
   ]
  },
  {
   "cell_type": "markdown",
   "metadata": {},
   "source": [
    "Data Cleaning"
   ]
  },
  {
   "cell_type": "code",
   "execution_count": 55,
   "metadata": {},
   "outputs": [],
   "source": [
    "mask = dataset['Permit Type'] < 3\n",
    "\n",
    "filtered_dataset = dataset.loc[mask, :]"
   ]
  },
  {
   "cell_type": "code",
   "execution_count": 56,
   "metadata": {},
   "outputs": [
    {
     "data": {
      "text/plain": [
       "(15247, 53)"
      ]
     },
     "execution_count": 56,
     "metadata": {},
     "output_type": "execute_result"
    }
   ],
   "source": [
    "filtered_dataset.shape"
   ]
  },
  {
   "cell_type": "code",
   "execution_count": 57,
   "metadata": {},
   "outputs": [],
   "source": [
    "filtered_dataset = filtered_dataset.dropna(subset=['Estimated Cost'])"
   ]
  },
  {
   "cell_type": "code",
   "execution_count": 58,
   "metadata": {},
   "outputs": [
    {
     "data": {
      "text/plain": [
       "Index([5.0, 1.0, 3.0, 2.0, '5', 4.0, '1', '3', '2', '4', 'III'], dtype='object')"
      ]
     },
     "execution_count": 58,
     "metadata": {},
     "output_type": "execute_result"
    }
   ],
   "source": [
    "filtered_dataset['Proposed Construction Type'].value_counts().index"
   ]
  },
  {
   "cell_type": "code",
   "execution_count": 59,
   "metadata": {},
   "outputs": [],
   "source": [
    "filtered_dataset['Proposed Construction Type'] = filtered_dataset['Proposed Construction Type'].replace('III', '3').fillna(0).astype(float)"
   ]
  },
  {
   "cell_type": "code",
   "execution_count": 60,
   "metadata": {},
   "outputs": [],
   "source": [
    "filtered_dataset['Zipcode'] = filtered_dataset['Zipcode'].fillna(0).astype(int)"
   ]
  },
  {
   "cell_type": "code",
   "execution_count": 61,
   "metadata": {},
   "outputs": [
    {
     "data": {
      "text/plain": [
       "(15099, 53)"
      ]
     },
     "execution_count": 61,
     "metadata": {},
     "output_type": "execute_result"
    }
   ],
   "source": [
    "filtered_dataset.shape"
   ]
  },
  {
   "cell_type": "code",
   "execution_count": 62,
   "metadata": {},
   "outputs": [
    {
     "data": {
      "text/plain": [
       "(11803, 53)"
      ]
     },
     "execution_count": 62,
     "metadata": {},
     "output_type": "execute_result"
    }
   ],
   "source": [
    "m1 = filtered_dataset[\"Estimated Cost\"] < 1000000\n",
    "filtered_dataset = filtered_dataset.loc[m1,:]\n",
    "#m1b = filtered_dataset[\"Estimated Cost\"] > 50000\n",
    "#filtered_dataset = filtered_dataset.loc[m1b,:]\n",
    "filtered_dataset.shape"
   ]
  },
  {
   "cell_type": "code",
   "execution_count": 63,
   "metadata": {},
   "outputs": [
    {
     "data": {
      "text/plain": [
       "(6784, 54)"
      ]
     },
     "execution_count": 63,
     "metadata": {},
     "output_type": "execute_result"
    }
   ],
   "source": [
    "filtered_dataset[\"Year\"]=filtered_dataset[\"Filed Date\"].apply(lambda x : int(x[6:]))\n",
    "m2 = filtered_dataset[\"Year\"]>1990\n",
    "filtered_dataset = filtered_dataset.loc[m2,:]\n",
    "filtered_dataset.shape"
   ]
  },
  {
   "cell_type": "code",
   "execution_count": 64,
   "metadata": {},
   "outputs": [
    {
     "data": {
      "text/plain": [
       "1991    622\n",
       "2000    481\n",
       "1998    401\n",
       "1999    334\n",
       "1997    327\n",
       "1995    312\n",
       "2001    297\n",
       "1994    286\n",
       "2002    286\n",
       "1996    272\n",
       "1993    270\n",
       "2015    258\n",
       "2005    254\n",
       "2003    225\n",
       "1992    223\n",
       "2006    195\n",
       "2004    194\n",
       "2007    175\n",
       "2014    174\n",
       "2012    155\n",
       "2013    136\n",
       "2010    122\n",
       "2008    109\n",
       "2019    102\n",
       "2016    100\n",
       "2022     96\n",
       "2018     84\n",
       "2021     79\n",
       "2017     70\n",
       "2009     61\n",
       "2020     46\n",
       "2011     38\n",
       "Name: Year, dtype: int64"
      ]
     },
     "execution_count": 64,
     "metadata": {},
     "output_type": "execute_result"
    }
   ],
   "source": [
    "filtered_dataset[\"Year\"].value_counts()"
   ]
  },
  {
   "cell_type": "markdown",
   "metadata": {},
   "source": [
    "Features selection"
   ]
  },
  {
   "cell_type": "code",
   "execution_count": 65,
   "metadata": {},
   "outputs": [
    {
     "name": "stdout",
     "output_type": "stream",
     "text": [
      "Separating labels from features...\n",
      "...Done.\n",
      "\n",
      "Y : \n",
      "1      50000.0\n",
      "2      50000.0\n",
      "39    900000.0\n",
      "65    550000.0\n",
      "80    800000.0\n",
      "Name: Estimated Cost, dtype: float64\n",
      "\n",
      "X :\n",
      "    Permit Type  Year  Unit  Number of Proposed Stories  Plansets  \\\n",
      "1             2  2020   NaN                         1.0       2.0   \n",
      "2             2  2020   NaN                         1.0       2.0   \n",
      "39            2  2018   NaN                         4.0       2.0   \n",
      "65            2  2019   NaN                         4.0       2.0   \n",
      "80            2  2019   NaN                         4.0       2.0   \n",
      "\n",
      "    Proposed Construction Type Neighborhoods - Analysis Boundaries  Zipcode  \n",
      "1                          5.0                        Inner Sunset    94122  \n",
      "2                          5.0                        Inner Sunset    94122  \n",
      "39                         5.0                            Nob Hill    94108  \n",
      "65                         5.0                        Hayes Valley    94102  \n",
      "80                         5.0               Bayview Hunters Point    94124  \n"
     ]
    }
   ],
   "source": [
    "# Separate target variable Y from features X\n",
    "print(\"Separating labels from features...\")\n",
    "features_list = [\n",
    "    \"Permit Type\",\n",
    "    \"Year\",\n",
    "    \"Unit\",\n",
    "    \"Number of Proposed Stories\", \n",
    "    \"Plansets\", \n",
    "    \"Proposed Construction Type\", \n",
    "    \"Neighborhoods - Analysis Boundaries\", \n",
    "    \"Zipcode\"\n",
    "]\n",
    "\n",
    "target_variable = \"Estimated Cost\"\n",
    "\n",
    "X = filtered_dataset.loc[:,features_list]\n",
    "Y = filtered_dataset.loc[:,target_variable]\n",
    "\n",
    "print(\"...Done.\")\n",
    "print()\n",
    "\n",
    "print('Y : ')\n",
    "print(Y.head())\n",
    "print()\n",
    "print('X :')\n",
    "print(X.head())\n"
   ]
  },
  {
   "cell_type": "code",
   "execution_count": 66,
   "metadata": {},
   "outputs": [
    {
     "name": "stdout",
     "output_type": "stream",
     "text": [
      "Found numeric features  ['Permit Type', 'Year', 'Unit', 'Number of Proposed Stories', 'Plansets', 'Proposed Construction Type', 'Zipcode']\n",
      "Found categorical features  ['Neighborhoods - Analysis Boundaries']\n"
     ]
    }
   ],
   "source": [
    "# Automatically detect names of numeric/categorical columns\n",
    "numeric_features = []\n",
    "categorical_features = []\n",
    "for i,t in X.dtypes.iteritems():\n",
    "    if ('float' in str(t)) or ('int' in str(t)) :\n",
    "        numeric_features.append(i)\n",
    "    else :\n",
    "        categorical_features.append(i)\n",
    "\n",
    "print('Found numeric features ', numeric_features)\n",
    "print('Found categorical features ', categorical_features)"
   ]
  },
  {
   "cell_type": "code",
   "execution_count": 67,
   "metadata": {},
   "outputs": [],
   "source": [
    "numeric_features = ['Permit Type', 'Number of Proposed Stories','Unit',  'Plansets', 'Proposed Construction Type'] \n",
    "categorical_features = ['Neighborhoods - Analysis Boundaries', 'Zipcode','Year']"
   ]
  },
  {
   "cell_type": "markdown",
   "metadata": {},
   "source": [
    "Train-Test split"
   ]
  },
  {
   "cell_type": "code",
   "execution_count": 68,
   "metadata": {},
   "outputs": [
    {
     "name": "stdout",
     "output_type": "stream",
     "text": [
      "Dividing into train and test sets...\n",
      "...Done.\n",
      "\n"
     ]
    }
   ],
   "source": [
    "# Divide dataset Train set & Test set \n",
    "print(\"Dividing into train and test sets...\")\n",
    "X_train, X_test, Y_train, Y_test = train_test_split(X, Y, test_size=0.15, random_state=0)\n",
    "print(\"...Done.\")\n",
    "print()"
   ]
  },
  {
   "cell_type": "markdown",
   "metadata": {},
   "source": [
    "Preprocessing"
   ]
  },
  {
   "cell_type": "code",
   "execution_count": 69,
   "metadata": {},
   "outputs": [],
   "source": [
    "# Create pipeline for numeric features\n",
    "numeric_transformer = Pipeline(steps=[\n",
    "    ('imputer', SimpleImputer(strategy='mean')), # missing values will be replaced by columns' mean\n",
    "    ('scaler', StandardScaler())\n",
    "])"
   ]
  },
  {
   "cell_type": "code",
   "execution_count": 70,
   "metadata": {},
   "outputs": [],
   "source": [
    "# Create pipeline for categorical features\n",
    "categorical_transformer = Pipeline(\n",
    "    steps=[\n",
    "    ('encoder', OneHotEncoder(drop='first')) # first column will be dropped to avoid creating correlations between features\n",
    "    ])"
   ]
  },
  {
   "cell_type": "code",
   "execution_count": 71,
   "metadata": {},
   "outputs": [],
   "source": [
    "# Use ColumnTransformer to make a preprocessor object that describes all the treatments to be done\n",
    "preprocessor = ColumnTransformer(\n",
    "    transformers=[\n",
    "        ('num', numeric_transformer, numeric_features),\n",
    "        ('cat', categorical_transformer, categorical_features)\n",
    "    ])"
   ]
  },
  {
   "cell_type": "code",
   "execution_count": 72,
   "metadata": {},
   "outputs": [
    {
     "name": "stdout",
     "output_type": "stream",
     "text": [
      "Performing preprocessings on train set...\n",
      "         Permit Type  Year  Unit  Number of Proposed Stories  Plansets  \\\n",
      "243849             2  1995   NaN                         3.0       2.0   \n",
      "188192             2  1992   NaN                         4.0       2.0   \n",
      "596544             2  2007   NaN                         3.0       2.0   \n",
      "293579             2  1997   NaN                         3.0       0.0   \n",
      "1179697            2  2007   NaN                         4.0       2.0   \n",
      "\n",
      "         Proposed Construction Type Neighborhoods - Analysis Boundaries  \\\n",
      "243849                          5.0                      Outer Richmond   \n",
      "188192                          5.0                 Castro/Upper Market   \n",
      "596544                          5.0                          Noe Valley   \n",
      "293579                          5.0                                 NaN   \n",
      "1179697                         5.0                             Mission   \n",
      "\n",
      "         Zipcode  \n",
      "243849     94121  \n",
      "188192     94114  \n",
      "596544     94114  \n",
      "293579     94110  \n",
      "1179697    94110  \n",
      "...Done.\n",
      "  (0, 0)\t0.2212143375878879\n",
      "  (0, 1)\t0.17127401668213263\n",
      "  (0, 3)\t-0.15205143534358107\n",
      "  (0, 4)\t0.2230526331724132\n",
      "  (0, 28)\t1.0\n",
      "  (0, 60)\t1.0\n",
      "  (0, 75)\t1.0\n",
      "  (1, 0)\t0.2212143375878879\n",
      "  (1, 1)\t1.1418835287147757\n",
      "  (1, 3)\t-0.15205143534358107\n",
      "  (1, 4)\t0.2230526331724132\n",
      "  (1, 6)\t1.0\n",
      "  (1, 55)\t1.0\n",
      "  (1, 72)\t1.0\n",
      "  (2, 0)\t0.2212143375878879\n",
      "  (2, 1)\t0.17127401668213263\n",
      "  (2, 3)\t-0.15205143534358107\n",
      "  (2, 4)\t0.2230526331724132\n",
      "  (2, 24)\t1.0\n",
      "  (2, 55)\t1.0\n",
      "  (2, 87)\t1.0\n",
      "  (3, 0)\t0.2212143375878879\n",
      "  (3, 1)\t0.17127401668213263\n",
      "  (3, 3)\t-3.363511421391523\n",
      "  (3, 4)\t0.2230526331724132\n",
      "  (3, 44)\t1.0\n",
      "  (3, 52)\t1.0\n",
      "  (3, 77)\t1.0\n",
      "  (4, 0)\t0.2212143375878879\n",
      "  (4, 1)\t1.1418835287147757\n",
      "  (4, 3)\t-0.15205143534358107\n",
      "  (4, 4)\t0.2230526331724132\n",
      "  (4, 21)\t1.0\n",
      "  (4, 52)\t1.0\n",
      "  (4, 87)\t1.0\n",
      "\n",
      "Performing preprocessings on test set...\n",
      "         Permit Type  Year  Unit  Number of Proposed Stories  Plansets  \\\n",
      "438432             2  2002   NaN                         4.0       2.0   \n",
      "524455             2  2005   NaN                         3.0       2.0   \n",
      "337406             2  1998   NaN                         2.0       2.0   \n",
      "1095967            2  2022   NaN                         3.0       2.0   \n",
      "192751             2  1992   NaN                         2.0       2.0   \n",
      "\n",
      "         Proposed Construction Type Neighborhoods - Analysis Boundaries  \\\n",
      "438432                          5.0                    Presidio Heights   \n",
      "524455                          5.0          Oceanview/Merced/Ingleside   \n",
      "337406                          5.0                       Outer Mission   \n",
      "1095967                         5.0               Bayview Hunters Point   \n",
      "192751                          5.0                                 NaN   \n",
      "\n",
      "         Zipcode  \n",
      "438432     94118  \n",
      "524455     94112  \n",
      "337406     94112  \n",
      "1095967    94124  \n",
      "192751     94124  \n",
      "...Done.\n",
      "  (0, 0)\t0.2212143375878879\n",
      "  (0, 1)\t1.1418835287147757\n",
      "  (0, 3)\t-0.15205143534358107\n",
      "  (0, 4)\t0.2230526331724132\n",
      "  (0, 33)\t1.0\n",
      "  (0, 59)\t1.0\n",
      "  (0, 82)\t1.0\n",
      "  (1, 0)\t0.2212143375878879\n",
      "  (1, 1)\t0.17127401668213263\n",
      "  (1, 3)\t-0.15205143534358107\n",
      "  (1, 4)\t0.2230526331724132\n",
      "  (1, 26)\t1.0\n",
      "  (1, 54)\t1.0\n",
      "  (1, 85)\t1.0\n",
      "  (2, 0)\t0.2212143375878879\n",
      "  (2, 1)\t-0.7993354953505105\n",
      "  (2, 3)\t-0.15205143534358107\n",
      "  (2, 4)\t0.2230526331724132\n",
      "  (2, 27)\t1.0\n",
      "  (2, 54)\t1.0\n",
      "  (2, 78)\t1.0\n",
      "  (3, 0)\t0.2212143375878879\n",
      "  (3, 1)\t0.17127401668213263\n",
      "  (3, 3)\t-0.15205143534358107\n",
      "  (3, 4)\t0.2230526331724132\n",
      "  (3, 63)\t1.0\n",
      "  (3, 102)\t1.0\n",
      "  (4, 0)\t0.2212143375878879\n",
      "  (4, 1)\t-0.7993354953505105\n",
      "  (4, 3)\t-0.15205143534358107\n",
      "  (4, 4)\t0.2230526331724132\n",
      "  (4, 44)\t1.0\n",
      "  (4, 63)\t1.0\n",
      "  (4, 72)\t1.0\n",
      "\n"
     ]
    }
   ],
   "source": [
    "# Preprocessings on train set\n",
    "print(\"Performing preprocessings on train set...\")\n",
    "print(X_train.head())\n",
    "X_train = preprocessor.fit_transform(X_train)\n",
    "print('...Done.')\n",
    "print(X_train[0:5]) # MUST use this syntax because X_train is a numpy array and not a pandas DataFrame anymore\n",
    "print()\n",
    "\n",
    "# Preprocessings on test set\n",
    "print(\"Performing preprocessings on test set...\")\n",
    "print(X_test.head()) \n",
    "X_test = preprocessor.transform(X_test) # Don't fit again !! The test set is used for validating decisions\n",
    "# we made based on the training set, therefore we can only apply transformations that were parametered using the training set.\n",
    "# Otherwise this creates what is called a leak from the test set which will introduce a bias in all your results.\n",
    "print('...Done.')\n",
    "print(X_test[0:5,:]) # MUST use this syntax because X_test is a numpy array and not a pandas DataFrame anymore\n",
    "print()"
   ]
  },
  {
   "cell_type": "markdown",
   "metadata": {},
   "source": []
  },
  {
   "cell_type": "markdown",
   "metadata": {},
   "source": [
    "Train model\n",
    "-> Baseline model : Linear regression"
   ]
  },
  {
   "cell_type": "code",
   "execution_count": 73,
   "metadata": {},
   "outputs": [
    {
     "name": "stdout",
     "output_type": "stream",
     "text": [
      "Train model...\n",
      "...Done.\n"
     ]
    }
   ],
   "source": [
    "# Train model\n",
    "print(\"Train model...\")\n",
    "regressor = LinearRegression()\n",
    "regressor.fit(X_train, Y_train)\n",
    "print(\"...Done.\")"
   ]
  },
  {
   "cell_type": "markdown",
   "metadata": {},
   "source": [
    "Performance assessment"
   ]
  },
  {
   "cell_type": "code",
   "execution_count": 74,
   "metadata": {},
   "outputs": [
    {
     "name": "stdout",
     "output_type": "stream",
     "text": [
      "Predictions on training set...\n",
      "...Done.\n",
      "[250560.93424981 396393.59810839 543149.64986241 ... 114319.07147906\n",
      " 222674.66853793 159203.57889141]\n",
      "\n"
     ]
    }
   ],
   "source": [
    "# Predictions on training set\n",
    "print(\"Predictions on training set...\")\n",
    "Y_train_pred = regressor.predict(X_train)\n",
    "print(\"...Done.\")\n",
    "print(Y_train_pred)\n",
    "print()"
   ]
  },
  {
   "cell_type": "code",
   "execution_count": 75,
   "metadata": {},
   "outputs": [
    {
     "name": "stdout",
     "output_type": "stream",
     "text": [
      "Predictions on test set...\n",
      "...Done.\n",
      "[456653.80877965 347172.12678316 167705.15724325 ... 206253.04657988\n",
      " 406567.62560708 379003.79729334]\n",
      "\n"
     ]
    }
   ],
   "source": [
    "# Predictions on test set\n",
    "print(\"Predictions on test set...\")\n",
    "Y_test_pred = regressor.predict(X_test)\n",
    "print(\"...Done.\")\n",
    "print(Y_test_pred)\n",
    "print()"
   ]
  },
  {
   "cell_type": "code",
   "execution_count": 76,
   "metadata": {},
   "outputs": [
    {
     "name": "stdout",
     "output_type": "stream",
     "text": [
      "R2 score on training set :  0.4018518668860177\n",
      "R2 score on test set :  0.3672541275525679\n"
     ]
    }
   ],
   "source": [
    "# Print R^2 scores\n",
    "print(\"R2 score on training set : \", r2_score(Y_train, Y_train_pred))\n",
    "print(\"R2 score on test set : \", r2_score(Y_test, Y_test_pred))"
   ]
  },
  {
   "cell_type": "code",
   "execution_count": 77,
   "metadata": {},
   "outputs": [
    {
     "data": {
      "image/png": "[encoded data removed]",
      "text/plain": [
       "<Figure size 432x288 with 1 Axes>"
      ]
     },
     "metadata": {
      "needs_background": "light"
     },
     "output_type": "display_data"
    }
   ],
   "source": [
    "import matplotlib.pyplot as plt\n",
    "fig = plt.figure()\n",
    "ax = plt.gca()\n",
    "ax.scatter(Y_train,Y_train_pred)\n",
    "ax.set_yscale('log')\n",
    "ax.set_xscale('log')\n"
   ]
  },
  {
   "cell_type": "code",
   "execution_count": 78,
   "metadata": {},
   "outputs": [
    {
     "name": "stdout",
     "output_type": "stream",
     "text": [
      "1.0\n",
      "995300.0\n"
     ]
    }
   ],
   "source": [
    "print(min(Y_test))\n",
    "print(max(Y_test))"
   ]
  },
  {
   "cell_type": "code",
   "execution_count": 79,
   "metadata": {},
   "outputs": [
    {
     "data": {
      "text/plain": [
       "array([0, 5, 0, 3, 6, 9, 8, 6, 5])"
      ]
     },
     "execution_count": 79,
     "metadata": {},
     "output_type": "execute_result"
    }
   ],
   "source": [
    "np.random.randint(0, 10, 9)"
   ]
  },
  {
   "cell_type": "code",
   "execution_count": 80,
   "metadata": {},
   "outputs": [
    {
     "data": {
      "text/plain": [
       "<function len(obj, /)>"
      ]
     },
     "execution_count": 80,
     "metadata": {},
     "output_type": "execute_result"
    }
   ],
   "source": [
    "len"
   ]
  },
  {
   "cell_type": "code",
   "execution_count": 103,
   "metadata": {},
   "outputs": [],
   "source": [
    "noise_pred = np.random.randint(min(Y_test),max(Y_test), size=len(Y_test))"
   ]
  },
  {
   "cell_type": "code",
   "execution_count": 104,
   "metadata": {},
   "outputs": [
    {
     "name": "stdout",
     "output_type": "stream",
     "text": [
      "R2 score on random noise :  -2.347330112653762\n"
     ]
    }
   ],
   "source": [
    "print(\"R2 score on random noise : \", r2_score(Y_test, noise_pred))"
   ]
  },
  {
   "cell_type": "code",
   "execution_count": 83,
   "metadata": {},
   "outputs": [
    {
     "data": {
      "text/plain": [
       "<AxesSubplot:title={'center':'Estimated costs by year'}, xlabel='Estimated Cost', ylabel='Count'>"
      ]
     },
     "execution_count": 83,
     "metadata": {},
     "output_type": "execute_result"
    },
    {
     "data": {
      "image/png": "[encoded data removed]",
      "text/plain": [
       "<Figure size 1368x576 with 1 Axes>"
      ]
     },
     "metadata": {
      "needs_background": "light"
     },
     "output_type": "display_data"
    }
   ],
   "source": [
    "import seaborn as sns\n",
    "import matplotlib.pyplot as plt\n",
    "\n",
    "plt.figure(figsize=(19,8))\n",
    "# Add title\n",
    "plt.title(\"Estimated costs by year\")\n",
    "sns.histplot(data=filtered_dataset, x ='Estimated Cost')"
   ]
  },
  {
   "cell_type": "code",
   "execution_count": 89,
   "metadata": {},
   "outputs": [
    {
     "data": {
      "text/plain": [
       "<matplotlib.collections.PathCollection at 0x2be75c1cf10>"
      ]
     },
     "execution_count": 89,
     "metadata": {},
     "output_type": "execute_result"
    },
    {
     "data": {
      "image/png": "[encoded data removed]",
      "text/plain": [
       "<Figure size 432x288 with 1 Axes>"
      ]
     },
     "metadata": {
      "needs_background": "light"
     },
     "output_type": "display_data"
    }
   ],
   "source": [
    "import matplotlib.pyplot as plt\n",
    "fig = plt.figure()\n",
    "ax = plt.gca()\n",
    "ax.scatter(Y_test,noise_pred)"
   ]
  },
  {
   "cell_type": "code",
   "execution_count": 85,
   "metadata": {},
   "outputs": [
    {
     "name": "stdout",
     "output_type": "stream",
     "text": [
      "\u001b[1;31mSignature:\u001b[0m\n",
      "\u001b[0mr2_score\u001b[0m\u001b[1;33m(\u001b[0m\u001b[1;33m\n",
      "\u001b[0m    \u001b[0my_true\u001b[0m\u001b[1;33m,\u001b[0m\u001b[1;33m\n",
      "\u001b[0m    \u001b[0my_pred\u001b[0m\u001b[1;33m,\u001b[0m\u001b[1;33m\n",
      "\u001b[0m    \u001b[1;33m*\u001b[0m\u001b[1;33m,\u001b[0m\u001b[1;33m\n",
      "\u001b[0m    \u001b[0msample_weight\u001b[0m\u001b[1;33m=\u001b[0m\u001b[1;32mNone\u001b[0m\u001b[1;33m,\u001b[0m\u001b[1;33m\n",
      "\u001b[0m    \u001b[0mmultioutput\u001b[0m\u001b[1;33m=\u001b[0m\u001b[1;34m'uniform_average'\u001b[0m\u001b[1;33m,\u001b[0m\u001b[1;33m\n",
      "\u001b[0m    \u001b[0mforce_finite\u001b[0m\u001b[1;33m=\u001b[0m\u001b[1;32mTrue\u001b[0m\u001b[1;33m,\u001b[0m\u001b[1;33m\n",
      "\u001b[0m\u001b[1;33m)\u001b[0m\u001b[1;33m\u001b[0m\u001b[1;33m\u001b[0m\u001b[0m\n",
      "\u001b[1;31mDocstring:\u001b[0m\n",
      ":math:`R^2` (coefficient of determination) regression score function.\n",
      "\n",
      "Best possible score is 1.0 and it can be negative (because the\n",
      "model can be arbitrarily worse). In the general case when the true y is\n",
      "non-constant, a constant model that always predicts the average y\n",
      "disregarding the input features would get a :math:`R^2` score of 0.0.\n",
      "\n",
      "In the particular case when ``y_true`` is constant, the :math:`R^2` score\n",
      "is not finite: it is either ``NaN`` (perfect predictions) or ``-Inf``\n",
      "(imperfect predictions). To prevent such non-finite numbers to pollute\n",
      "higher-level experiments such as a grid search cross-validation, by default\n",
      "these cases are replaced with 1.0 (perfect predictions) or 0.0 (imperfect\n",
      "predictions) respectively. You can set ``force_finite`` to ``False`` to\n",
      "prevent this fix from happening.\n",
      "\n",
      "Note: when the prediction residuals have zero mean, the :math:`R^2` score\n",
      "is identical to the\n",
      ":func:`Explained Variance score <explained_variance_score>`.\n",
      "\n",
      "Read more in the :ref:`User Guide <r2_score>`.\n",
      "\n",
      "Parameters\n",
      "----------\n",
      "y_true : array-like of shape (n_samples,) or (n_samples, n_outputs)\n",
      "    Ground truth (correct) target values.\n",
      "\n",
      "y_pred : array-like of shape (n_samples,) or (n_samples, n_outputs)\n",
      "    Estimated target values.\n",
      "\n",
      "sample_weight : array-like of shape (n_samples,), default=None\n",
      "    Sample weights.\n",
      "\n",
      "multioutput : {'raw_values', 'uniform_average', 'variance_weighted'},             array-like of shape (n_outputs,) or None, default='uniform_average'\n",
      "\n",
      "    Defines aggregating of multiple output scores.\n",
      "    Array-like value defines weights used to average scores.\n",
      "    Default is \"uniform_average\".\n",
      "\n",
      "    'raw_values' :\n",
      "        Returns a full set of scores in case of multioutput input.\n",
      "\n",
      "    'uniform_average' :\n",
      "        Scores of all outputs are averaged with uniform weight.\n",
      "\n",
      "    'variance_weighted' :\n",
      "        Scores of all outputs are averaged, weighted by the variances\n",
      "        of each individual output.\n",
      "\n",
      "    .. versionchanged:: 0.19\n",
      "        Default value of multioutput is 'uniform_average'.\n",
      "\n",
      "force_finite : bool, default=True\n",
      "    Flag indicating if ``NaN`` and ``-Inf`` scores resulting from constant\n",
      "    data should be replaced with real numbers (``1.0`` if prediction is\n",
      "    perfect, ``0.0`` otherwise). Default is ``True``, a convenient setting\n",
      "    for hyperparameters' search procedures (e.g. grid search\n",
      "    cross-validation).\n",
      "\n",
      "    .. versionadded:: 1.1\n",
      "\n",
      "Returns\n",
      "-------\n",
      "z : float or ndarray of floats\n",
      "    The :math:`R^2` score or ndarray of scores if 'multioutput' is\n",
      "    'raw_values'.\n",
      "\n",
      "Notes\n",
      "-----\n",
      "This is not a symmetric function.\n",
      "\n",
      "Unlike most other scores, :math:`R^2` score may be negative (it need not\n",
      "actually be the square of a quantity R).\n",
      "\n",
      "This metric is not well-defined for single samples and will return a NaN\n",
      "value if n_samples is less than two.\n",
      "\n",
      "References\n",
      "----------\n",
      ".. [1] `Wikipedia entry on the Coefficient of determination\n",
      "        <https://en.wikipedia.org/wiki/Coefficient_of_determination>`_\n",
      "\n",
      "Examples\n",
      "--------\n",
      ">>> from sklearn.metrics import r2_score\n",
      ">>> y_true = [3, -0.5, 2, 7]\n",
      ">>> y_pred = [2.5, 0.0, 2, 8]\n",
      ">>> r2_score(y_true, y_pred)\n",
      "0.948...\n",
      ">>> y_true = [[0.5, 1], [-1, 1], [7, -6]]\n",
      ">>> y_pred = [[0, 2], [-1, 2], [8, -5]]\n",
      ">>> r2_score(y_true, y_pred,\n",
      "...          multioutput='variance_weighted')\n",
      "0.938...\n",
      ">>> y_true = [1, 2, 3]\n",
      ">>> y_pred = [1, 2, 3]\n",
      ">>> r2_score(y_true, y_pred)\n",
      "1.0\n",
      ">>> y_true = [1, 2, 3]\n",
      ">>> y_pred = [2, 2, 2]\n",
      ">>> r2_score(y_true, y_pred)\n",
      "0.0\n",
      ">>> y_true = [1, 2, 3]\n",
      ">>> y_pred = [3, 2, 1]\n",
      ">>> r2_score(y_true, y_pred)\n",
      "-3.0\n",
      ">>> y_true = [-2, -2, -2]\n",
      ">>> y_pred = [-2, -2, -2]\n",
      ">>> r2_score(y_true, y_pred)\n",
      "1.0\n",
      ">>> r2_score(y_true, y_pred, force_finite=False)\n",
      "nan\n",
      ">>> y_true = [-2, -2, -2]\n",
      ">>> y_pred = [-2, -2, -2 + 1e-8]\n",
      ">>> r2_score(y_true, y_pred)\n",
      "0.0\n",
      ">>> r2_score(y_true, y_pred, force_finite=False)\n",
      "-inf\n",
      "\u001b[1;31mFile:\u001b[0m      c:\\users\\baptiste cournault\\appdata\\local\\programs\\python\\python310\\lib\\site-packages\\sklearn\\metrics\\_regression.py\n",
      "\u001b[1;31mType:\u001b[0m      function\n"
     ]
    }
   ],
   "source": [
    "r2_score?\n"
   ]
  },
  {
   "cell_type": "code",
   "execution_count": null,
   "metadata": {},
   "outputs": [],
   "source": []
  }
 ],
 "metadata": {
  "kernelspec": {
   "display_name": "Python 3.10.0 64-bit",
   "language": "python",
   "name": "python3"
  },
  "language_info": {
   "codemirror_mode": {
    "name": "ipython",
    "version": 3
   },
   "file_extension": ".py",
   "mimetype": "text/x-python",
   "name": "python",
   "nbconvert_exporter": "python",
   "pygments_lexer": "ipython3",
   "version": "3.10.0"
  },
  "orig_nbformat": 4,
  "vscode": {
   "interpreter": {
    "hash": "6b23b447ae8d7dd20d4fc812b5289c3091e759321a9b689f6e1bbc2b9587a95b"
   }
  }
 },
 "nbformat": 4,
 "nbformat_minor": 2
}
