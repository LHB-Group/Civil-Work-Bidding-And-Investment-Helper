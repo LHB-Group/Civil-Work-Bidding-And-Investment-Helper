{
  "cells": [
    {
      "cell_type": "markdown",
      "metadata": {
        "id": "276e7c4c-d1f6-467c-9863-80e8d552ef8a"
      },
      "source": [
        "***PART 1 - LOADING LIBRARIES AND DATABASE***"
      ],
      "id": "276e7c4c-d1f6-467c-9863-80e8d552ef8a"
    },
    {
      "cell_type": "code",
      "execution_count": 1,
      "metadata": {
        "id": "ANdajOWjvYQ8"
      },
      "outputs": [],
      "source": [
        "#!pip install plotly"
      ],
      "id": "ANdajOWjvYQ8"
    },
    {
      "cell_type": "code",
      "execution_count": 2,
      "metadata": {
        "id": "4iKqqb1npMa_",
        "colab": {
          "base_uri": "https://localhost:8080/"
        },
        "outputId": "b2ee2e50-a760-4ccb-ac2b-46ef30fd2972"
      },
      "outputs": [
        {
          "output_type": "stream",
          "name": "stdout",
          "text": [
            "Drive already mounted at /content/drive; to attempt to forcibly remount, call drive.mount(\"/content/drive\", force_remount=True).\n"
          ]
        }
      ],
      "source": [
        "from google.colab import drive\n",
        "drive.mount(\"/content/drive\")\n"
      ],
      "id": "4iKqqb1npMa_"
    },
    {
      "cell_type": "code",
      "execution_count": 3,
      "metadata": {
        "id": "2vD4Tiqd1iUB"
      },
      "outputs": [],
      "source": [
        "#ls drive/MyDrive"
      ],
      "id": "2vD4Tiqd1iUB"
    },
    {
      "cell_type": "code",
      "execution_count": 4,
      "metadata": {
        "id": "462851cc-45f5-4f5f-860a-7c154c262dd3"
      },
      "outputs": [],
      "source": [
        "import pandas as pd\n",
        "import numpy as np\n",
        "import matplotlib.pyplot as plt\n",
        "\n",
        "import plotly.express as px\n",
        "import plotly.graph_objects as go\n",
        "from plotly.subplots import make_subplots\n",
        "import plotly.io as pio\n",
        "\n",
        "import warnings\n",
        "warnings.filterwarnings('ignore')\n",
        "\n"
      ],
      "id": "462851cc-45f5-4f5f-860a-7c154c262dd3"
    },
    {
      "cell_type": "code",
      "execution_count": 5,
      "metadata": {
        "id": "8EaKjOn5qmEV"
      },
      "outputs": [],
      "source": [
        "pd.options.display.max_columns = None #The dataset is huge. To see all of the columns, we change max columns\n",
        "pd.options.display.max_seq_items=1000\n",
        "pd.options.display.max_rows=1000"
      ],
      "id": "8EaKjOn5qmEV"
    },
    {
      "cell_type": "code",
      "execution_count": 6,
      "metadata": {
        "id": "ad2096f8-d662-4ed7-aadd-d0362fc1713b"
      },
      "outputs": [],
      "source": [
        "fname1 = 'drive/MyDrive/colab/Building_Permits.csv'\n"
      ],
      "id": "ad2096f8-d662-4ed7-aadd-d0362fc1713b"
    },
    {
      "cell_type": "code",
      "execution_count": 7,
      "metadata": {
        "id": "da151b56-2ac1-43d1-beb0-2084703103f5"
      },
      "outputs": [],
      "source": [
        "dataset = pd.read_csv(fname1, low_memory=False)"
      ],
      "id": "da151b56-2ac1-43d1-beb0-2084703103f5"
    },
    {
      "cell_type": "code",
      "execution_count": 8,
      "metadata": {
        "id": "547bd10f-54d8-4960-8bd8-17f075986afb",
        "colab": {
          "base_uri": "https://localhost:8080/"
        },
        "outputId": "792f0ea0-72b1-4e14-862c-79edde5306c6"
      },
      "outputs": [
        {
          "output_type": "execute_result",
          "data": {
            "text/plain": [
              "(1193083, 53)"
            ]
          },
          "metadata": {},
          "execution_count": 8
        }
      ],
      "source": [
        "dataset.shape"
      ],
      "id": "547bd10f-54d8-4960-8bd8-17f075986afb"
    },
    {
      "cell_type": "code",
      "execution_count": 9,
      "metadata": {
        "id": "c857dce1-a36e-4ca5-b76d-3bb5a026c453",
        "colab": {
          "base_uri": "https://localhost:8080/"
        },
        "outputId": "77a044b1-9bb4-4858-d615-65b3109f6d0d"
      },
      "outputs": [
        {
          "output_type": "execute_result",
          "data": {
            "text/plain": [
              "Index(['Permit Number', 'Permit Type', 'Permit Type Definition',\n",
              "       'Permit Creation Date', 'Block', 'Lot', 'Street Number',\n",
              "       'Street Number Suffix', 'Street Name', 'Street Suffix', 'Unit',\n",
              "       'Unit Suffix', 'Description', 'Current Status', 'Current Status Date',\n",
              "       'Filed Date', 'Issued Date', 'Completed Date',\n",
              "       'First Construction Document Date', 'Structural Notification',\n",
              "       'Number of Existing Stories', 'Number of Proposed Stories',\n",
              "       'Voluntary Soft-Story Retrofit', 'Fire Only Permit',\n",
              "       'Permit Expiration Date', 'Estimated Cost', 'Revised Cost',\n",
              "       'Existing Use', 'Existing Units', 'Proposed Use', 'Proposed Units',\n",
              "       'Plansets', 'TIDF Compliance', 'Existing Construction Type',\n",
              "       'Existing Construction Type Description', 'Proposed Construction Type',\n",
              "       'Proposed Construction Type Description', 'Site Permit',\n",
              "       'Supervisor District', 'Neighborhoods - Analysis Boundaries', 'Zipcode',\n",
              "       'Location', 'Record ID', 'SF Find Neighborhoods 2',\n",
              "       'Current Police Districts 2', 'Current Supervisor Districts 2',\n",
              "       'Analysis Neighborhoods 2', 'DELETE - Zip Codes 2',\n",
              "       'DELETE - Fire Prevention Districts 2',\n",
              "       'DELETE - Supervisor Districts 2',\n",
              "       'DELETE - Current Police Districts 2',\n",
              "       'DELETE - Supervisorial_Districts_Waterline_data_from_7pkg_wer3 2',\n",
              "       'Neighborhoods'],\n",
              "      dtype='object')"
            ]
          },
          "metadata": {},
          "execution_count": 9
        }
      ],
      "source": [
        "dataset.columns"
      ],
      "id": "c857dce1-a36e-4ca5-b76d-3bb5a026c453"
    },
    {
      "cell_type": "markdown",
      "metadata": {
        "id": "42b27bed-9216-4107-ab14-7fbdcd1c6b2a"
      },
      "source": [
        "In the following, we will convert Date columns to Datetime. It will be useful to avoid problems with our visualizations."
      ],
      "id": "42b27bed-9216-4107-ab14-7fbdcd1c6b2a"
    },
    {
      "cell_type": "code",
      "execution_count": 10,
      "metadata": {
        "id": "0e6fbf99-3751-496e-ab1e-c13587fd3afa",
        "colab": {
          "base_uri": "https://localhost:8080/"
        },
        "outputId": "29e926c3-5147-407f-dc27-9fb22af4d1db"
      },
      "outputs": [
        {
          "output_type": "execute_result",
          "data": {
            "text/plain": [
              "['Permit Creation Date',\n",
              " 'Current Status Date',\n",
              " 'Filed Date',\n",
              " 'Issued Date',\n",
              " 'Completed Date',\n",
              " 'First Construction Document Date',\n",
              " 'Permit Expiration Date']"
            ]
          },
          "metadata": {},
          "execution_count": 10
        }
      ],
      "source": [
        "date_cols = [col for col in dataset.columns if 'date' in col.lower()]\n",
        "date_cols"
      ],
      "id": "0e6fbf99-3751-496e-ab1e-c13587fd3afa"
    },
    {
      "cell_type": "code",
      "execution_count": 11,
      "metadata": {
        "id": "63112874-67ee-4cb5-b125-dda452c3245b",
        "colab": {
          "base_uri": "https://localhost:8080/",
          "height": 35
        },
        "outputId": "8f853dde-72ca-40f0-be7c-804b7d18a8a7"
      },
      "outputs": [
        {
          "output_type": "execute_result",
          "data": {
            "text/plain": [
              "'10/24/2019'"
            ],
            "application/vnd.google.colaboratory.intrinsic+json": {
              "type": "string"
            }
          },
          "metadata": {},
          "execution_count": 11
        }
      ],
      "source": [
        "dataset['Permit Creation Date'][0]"
      ],
      "id": "63112874-67ee-4cb5-b125-dda452c3245b"
    },
    {
      "cell_type": "code",
      "execution_count": 12,
      "metadata": {
        "id": "d39e5cbe-ed43-4c60-b823-d0a60face067",
        "colab": {
          "base_uri": "https://localhost:8080/"
        },
        "outputId": "b091e814-6d94-49a5-a665-830bcb043927"
      },
      "outputs": [
        {
          "output_type": "stream",
          "name": "stdout",
          "text": [
            "Col : Permit Creation Date  Min=  1901-03-10 00:00:00 Max=  2022-08-05 00:00:00\n",
            "Col : Current Status Date  Min=  1968-10-25 00:00:00 Max=  2022-08-05 00:00:00\n",
            "Col : Filed Date  Min=  1901-03-10 00:00:00 Max=  2022-08-05 00:00:00\n",
            "Col : Issued Date  Min=  1906-11-08 00:00:00 Max=  2022-08-05 00:00:00\n",
            "Col : Completed Date  Min=  1900-03-01 00:00:00 Max=  2022-08-05 00:00:00\n",
            "Col : First Construction Document Date  Min=  1989-03-27 00:00:00 Max=  2022-08-04 00:00:00\n",
            "Col : Permit Expiration Date  Min=  1948-11-13 00:00:00 Max=  2031-01-29 00:00:00\n"
          ]
        }
      ],
      "source": [
        "for col in date_cols:\n",
        "    dataset.loc[:,col] = pd.to_datetime(dataset[col], errors = 'coerce')\n",
        "    print('Col :',col, ' Min= ', dataset.loc[:,col].min(), 'Max= ', dataset.loc[:,col].max())\n",
        "    #we used errors = coerce, as there are some values/outliers out of the bound     "
      ],
      "id": "d39e5cbe-ed43-4c60-b823-d0a60face067"
    },
    {
      "cell_type": "code",
      "execution_count": 13,
      "metadata": {
        "id": "c8d0da2e-6d53-4a4c-9ccf-e21c08ddba5c",
        "colab": {
          "base_uri": "https://localhost:8080/"
        },
        "outputId": "67d9c5ee-3604-4547-fb41-395dfae6d31f"
      },
      "outputs": [
        {
          "output_type": "stream",
          "name": "stdout",
          "text": [
            "<class 'pandas.core.frame.DataFrame'>\n",
            "RangeIndex: 1193083 entries, 0 to 1193082\n",
            "Data columns (total 7 columns):\n",
            " #   Column                            Non-Null Count    Dtype         \n",
            "---  ------                            --------------    -----         \n",
            " 0   Permit Creation Date              1193083 non-null  datetime64[ns]\n",
            " 1   Current Status Date               1193071 non-null  datetime64[ns]\n",
            " 2   Filed Date                        1193067 non-null  datetime64[ns]\n",
            " 3   Issued Date                       1133452 non-null  datetime64[ns]\n",
            " 4   Completed Date                    666075 non-null   datetime64[ns]\n",
            " 5   First Construction Document Date  14580 non-null    datetime64[ns]\n",
            " 6   Permit Expiration Date            1008221 non-null  datetime64[ns]\n",
            "dtypes: datetime64[ns](7)\n",
            "memory usage: 63.7 MB\n"
          ]
        }
      ],
      "source": [
        "dataset[date_cols].info()"
      ],
      "id": "c8d0da2e-6d53-4a4c-9ccf-e21c08ddba5c"
    },
    {
      "cell_type": "code",
      "execution_count": 14,
      "metadata": {
        "id": "f143667f-f037-4613-b887-abb704a08605",
        "colab": {
          "base_uri": "https://localhost:8080/",
          "height": 348
        },
        "outputId": "011e4d5f-b7dc-4867-e366-40eed6b15909"
      },
      "outputs": [
        {
          "output_type": "execute_result",
          "data": {
            "text/plain": [
              "                Permit Creation Date            Current Status Date  \\\n",
              "count                        1193083                        1193071   \n",
              "mean   2004-10-04 02:12:47.727308288  2005-06-17 07:21:16.222119040   \n",
              "min              1901-03-10 00:00:00            1968-10-25 00:00:00   \n",
              "25%              1996-03-26 00:00:00            1996-12-25 00:00:00   \n",
              "50%              2005-09-09 00:00:00            2006-07-10 00:00:00   \n",
              "75%              2014-04-17 00:00:00            2014-11-14 00:00:00   \n",
              "max              2022-08-05 00:00:00            2022-08-05 00:00:00   \n",
              "\n",
              "                          Filed Date                    Issued Date  \\\n",
              "count                        1193067                        1133452   \n",
              "mean   2004-10-05 02:59:20.432397952  2004-11-02 17:29:32.602633600   \n",
              "min              1901-03-10 00:00:00            1906-11-08 00:00:00   \n",
              "25%              1996-03-27 00:00:00            1996-06-21 00:00:00   \n",
              "50%              2005-09-09 00:00:00            2005-09-13 00:00:00   \n",
              "75%              2014-04-17 00:00:00            2014-02-27 00:00:00   \n",
              "max              2022-08-05 00:00:00            2022-08-05 00:00:00   \n",
              "\n",
              "                      Completed Date First Construction Document Date  \\\n",
              "count                         666075                            14580   \n",
              "mean   2004-09-15 10:47:11.389257728    2009-09-16 07:38:10.370370560   \n",
              "min              1900-03-01 00:00:00              1989-03-27 00:00:00   \n",
              "25%              1995-01-23 00:00:00              2003-07-21 00:00:00   \n",
              "50%              2005-11-17 00:00:00              2008-08-01 00:00:00   \n",
              "75%              2014-07-24 00:00:00              2016-06-24 00:00:00   \n",
              "max              2022-08-05 00:00:00              2022-08-04 00:00:00   \n",
              "\n",
              "              Permit Expiration Date  \n",
              "count                        1008221  \n",
              "mean   2004-10-05 15:41:19.759894016  \n",
              "min              1948-11-13 00:00:00  \n",
              "25%              1995-10-10 00:00:00  \n",
              "50%              2004-10-08 00:00:00  \n",
              "75%              2014-08-03 00:00:00  \n",
              "max              2031-01-29 00:00:00  "
            ],
            "text/html": [
              "\n",
              "  <div id=\"df-f4ef0fa2-0dad-4054-844a-96031d76d1bd\">\n",
              "    <div class=\"colab-df-container\">\n",
              "      <div>\n",
              "<style scoped>\n",
              "    .dataframe tbody tr th:only-of-type {\n",
              "        vertical-align: middle;\n",
              "    }\n",
              "\n",
              "    .dataframe tbody tr th {\n",
              "        vertical-align: top;\n",
              "    }\n",
              "\n",
              "    .dataframe thead th {\n",
              "        text-align: right;\n",
              "    }\n",
              "</style>\n",
              "<table border=\"1\" class=\"dataframe\">\n",
              "  <thead>\n",
              "    <tr style=\"text-align: right;\">\n",
              "      <th></th>\n",
              "      <th>Permit Creation Date</th>\n",
              "      <th>Current Status Date</th>\n",
              "      <th>Filed Date</th>\n",
              "      <th>Issued Date</th>\n",
              "      <th>Completed Date</th>\n",
              "      <th>First Construction Document Date</th>\n",
              "      <th>Permit Expiration Date</th>\n",
              "    </tr>\n",
              "  </thead>\n",
              "  <tbody>\n",
              "    <tr>\n",
              "      <th>count</th>\n",
              "      <td>1193083</td>\n",
              "      <td>1193071</td>\n",
              "      <td>1193067</td>\n",
              "      <td>1133452</td>\n",
              "      <td>666075</td>\n",
              "      <td>14580</td>\n",
              "      <td>1008221</td>\n",
              "    </tr>\n",
              "    <tr>\n",
              "      <th>mean</th>\n",
              "      <td>2004-10-04 02:12:47.727308288</td>\n",
              "      <td>2005-06-17 07:21:16.222119040</td>\n",
              "      <td>2004-10-05 02:59:20.432397952</td>\n",
              "      <td>2004-11-02 17:29:32.602633600</td>\n",
              "      <td>2004-09-15 10:47:11.389257728</td>\n",
              "      <td>2009-09-16 07:38:10.370370560</td>\n",
              "      <td>2004-10-05 15:41:19.759894016</td>\n",
              "    </tr>\n",
              "    <tr>\n",
              "      <th>min</th>\n",
              "      <td>1901-03-10 00:00:00</td>\n",
              "      <td>1968-10-25 00:00:00</td>\n",
              "      <td>1901-03-10 00:00:00</td>\n",
              "      <td>1906-11-08 00:00:00</td>\n",
              "      <td>1900-03-01 00:00:00</td>\n",
              "      <td>1989-03-27 00:00:00</td>\n",
              "      <td>1948-11-13 00:00:00</td>\n",
              "    </tr>\n",
              "    <tr>\n",
              "      <th>25%</th>\n",
              "      <td>1996-03-26 00:00:00</td>\n",
              "      <td>1996-12-25 00:00:00</td>\n",
              "      <td>1996-03-27 00:00:00</td>\n",
              "      <td>1996-06-21 00:00:00</td>\n",
              "      <td>1995-01-23 00:00:00</td>\n",
              "      <td>2003-07-21 00:00:00</td>\n",
              "      <td>1995-10-10 00:00:00</td>\n",
              "    </tr>\n",
              "    <tr>\n",
              "      <th>50%</th>\n",
              "      <td>2005-09-09 00:00:00</td>\n",
              "      <td>2006-07-10 00:00:00</td>\n",
              "      <td>2005-09-09 00:00:00</td>\n",
              "      <td>2005-09-13 00:00:00</td>\n",
              "      <td>2005-11-17 00:00:00</td>\n",
              "      <td>2008-08-01 00:00:00</td>\n",
              "      <td>2004-10-08 00:00:00</td>\n",
              "    </tr>\n",
              "    <tr>\n",
              "      <th>75%</th>\n",
              "      <td>2014-04-17 00:00:00</td>\n",
              "      <td>2014-11-14 00:00:00</td>\n",
              "      <td>2014-04-17 00:00:00</td>\n",
              "      <td>2014-02-27 00:00:00</td>\n",
              "      <td>2014-07-24 00:00:00</td>\n",
              "      <td>2016-06-24 00:00:00</td>\n",
              "      <td>2014-08-03 00:00:00</td>\n",
              "    </tr>\n",
              "    <tr>\n",
              "      <th>max</th>\n",
              "      <td>2022-08-05 00:00:00</td>\n",
              "      <td>2022-08-05 00:00:00</td>\n",
              "      <td>2022-08-05 00:00:00</td>\n",
              "      <td>2022-08-05 00:00:00</td>\n",
              "      <td>2022-08-05 00:00:00</td>\n",
              "      <td>2022-08-04 00:00:00</td>\n",
              "      <td>2031-01-29 00:00:00</td>\n",
              "    </tr>\n",
              "  </tbody>\n",
              "</table>\n",
              "</div>\n",
              "      <button class=\"colab-df-convert\" onclick=\"convertToInteractive('df-f4ef0fa2-0dad-4054-844a-96031d76d1bd')\"\n",
              "              title=\"Convert this dataframe to an interactive table.\"\n",
              "              style=\"display:none;\">\n",
              "        \n",
              "  <svg xmlns=\"http://www.w3.org/2000/svg\" height=\"24px\"viewBox=\"0 0 24 24\"\n",
              "       width=\"24px\">\n",
              "    <path d=\"M0 0h24v24H0V0z\" fill=\"none\"/>\n",
              "    <path d=\"M18.56 5.44l.94 2.06.94-2.06 2.06-.94-2.06-.94-.94-2.06-.94 2.06-2.06.94zm-11 1L8.5 8.5l.94-2.06 2.06-.94-2.06-.94L8.5 2.5l-.94 2.06-2.06.94zm10 10l.94 2.06.94-2.06 2.06-.94-2.06-.94-.94-2.06-.94 2.06-2.06.94z\"/><path d=\"M17.41 7.96l-1.37-1.37c-.4-.4-.92-.59-1.43-.59-.52 0-1.04.2-1.43.59L10.3 9.45l-7.72 7.72c-.78.78-.78 2.05 0 2.83L4 21.41c.39.39.9.59 1.41.59.51 0 1.02-.2 1.41-.59l7.78-7.78 2.81-2.81c.8-.78.8-2.07 0-2.86zM5.41 20L4 18.59l7.72-7.72 1.47 1.35L5.41 20z\"/>\n",
              "  </svg>\n",
              "      </button>\n",
              "      \n",
              "  <style>\n",
              "    .colab-df-container {\n",
              "      display:flex;\n",
              "      flex-wrap:wrap;\n",
              "      gap: 12px;\n",
              "    }\n",
              "\n",
              "    .colab-df-convert {\n",
              "      background-color: #E8F0FE;\n",
              "      border: none;\n",
              "      border-radius: 50%;\n",
              "      cursor: pointer;\n",
              "      display: none;\n",
              "      fill: #1967D2;\n",
              "      height: 32px;\n",
              "      padding: 0 0 0 0;\n",
              "      width: 32px;\n",
              "    }\n",
              "\n",
              "    .colab-df-convert:hover {\n",
              "      background-color: #E2EBFA;\n",
              "      box-shadow: 0px 1px 2px rgba(60, 64, 67, 0.3), 0px 1px 3px 1px rgba(60, 64, 67, 0.15);\n",
              "      fill: #174EA6;\n",
              "    }\n",
              "\n",
              "    [theme=dark] .colab-df-convert {\n",
              "      background-color: #3B4455;\n",
              "      fill: #D2E3FC;\n",
              "    }\n",
              "\n",
              "    [theme=dark] .colab-df-convert:hover {\n",
              "      background-color: #434B5C;\n",
              "      box-shadow: 0px 1px 3px 1px rgba(0, 0, 0, 0.15);\n",
              "      filter: drop-shadow(0px 1px 2px rgba(0, 0, 0, 0.3));\n",
              "      fill: #FFFFFF;\n",
              "    }\n",
              "  </style>\n",
              "\n",
              "      <script>\n",
              "        const buttonEl =\n",
              "          document.querySelector('#df-f4ef0fa2-0dad-4054-844a-96031d76d1bd button.colab-df-convert');\n",
              "        buttonEl.style.display =\n",
              "          google.colab.kernel.accessAllowed ? 'block' : 'none';\n",
              "\n",
              "        async function convertToInteractive(key) {\n",
              "          const element = document.querySelector('#df-f4ef0fa2-0dad-4054-844a-96031d76d1bd');\n",
              "          const dataTable =\n",
              "            await google.colab.kernel.invokeFunction('convertToInteractive',\n",
              "                                                     [key], {});\n",
              "          if (!dataTable) return;\n",
              "\n",
              "          const docLinkHtml = 'Like what you see? Visit the ' +\n",
              "            '<a target=\"_blank\" href=https://colab.research.google.com/notebooks/data_table.ipynb>data table notebook</a>'\n",
              "            + ' to learn more about interactive tables.';\n",
              "          element.innerHTML = '';\n",
              "          dataTable['output_type'] = 'display_data';\n",
              "          await google.colab.output.renderOutput(dataTable, element);\n",
              "          const docLink = document.createElement('div');\n",
              "          docLink.innerHTML = docLinkHtml;\n",
              "          element.appendChild(docLink);\n",
              "        }\n",
              "      </script>\n",
              "    </div>\n",
              "  </div>\n",
              "  "
            ]
          },
          "metadata": {},
          "execution_count": 14
        }
      ],
      "source": [
        "dataset[date_cols].describe(datetime_is_numeric=True )"
      ],
      "id": "f143667f-f037-4613-b887-abb704a08605"
    },
    {
      "cell_type": "code",
      "source": [
        ""
      ],
      "metadata": {
        "id": "fkHVW2IosSHq"
      },
      "id": "fkHVW2IosSHq",
      "execution_count": 14,
      "outputs": []
    },
    {
      "cell_type": "code",
      "execution_count": 15,
      "metadata": {
        "id": "haqB5q0GMlsb"
      },
      "outputs": [],
      "source": [
        "dataset['Duration'] =dataset['Completed Date'] - dataset['Filed Date'] \n",
        "dataset['Duration_b'] =dataset['Completed Date'] - dataset['Issued Date'] "
      ],
      "id": "haqB5q0GMlsb"
    },
    {
      "cell_type": "code",
      "execution_count": 16,
      "metadata": {
        "id": "2zPSMcjRMPOT"
      },
      "outputs": [],
      "source": [
        "dataset['Year']= dataset['Filed Date'].apply(lambda x : x.year)"
      ],
      "id": "2zPSMcjRMPOT"
    },
    {
      "cell_type": "code",
      "execution_count": 17,
      "metadata": {
        "id": "889e1c5f-47ff-4565-bf44-a1a21ae949b4",
        "colab": {
          "base_uri": "https://localhost:8080/",
          "height": 87
        },
        "outputId": "1c3195c7-449b-4189-c0c7-ed021d1e2638"
      },
      "outputs": [
        {
          "output_type": "execute_result",
          "data": {
            "text/plain": [
              "'\\n\\nfig = px.histogram (dataset, x=\\'Year\\',\\n                   title=\\'Histogram of Permits in San Francisco\\',\\n                   #labels={\\'total_bill\\':\\'total bill\\'}, # can specify one label per df column\\n                   opacity=0.8,\\n                   color=\"Permit Type Definition\",\\n                   #log_y=True, # represent bars with log scale\\n                  # color_discrete_sequence=[\\'indianred\\'] # color of histogram bars\\n                   hover_data=[\"Permit Type Definition\"]\\n                   )\\n'"
            ],
            "application/vnd.google.colaboratory.intrinsic+json": {
              "type": "string"
            }
          },
          "metadata": {},
          "execution_count": 17
        }
      ],
      "source": [
        "\"\"\"\n",
        "\n",
        "fig = px.histogram (dataset, x='Year',\n",
        "                   title='Histogram of Permits in San Francisco',\n",
        "                   #labels={'total_bill':'total bill'}, # can specify one label per df column\n",
        "                   opacity=0.8,\n",
        "                   color=\"Permit Type Definition\",\n",
        "                   #log_y=True, # represent bars with log scale\n",
        "                  # color_discrete_sequence=['indianred'] # color of histogram bars\n",
        "                   hover_data=[\"Permit Type Definition\"]\n",
        "                   )\n",
        "\"\"\""
      ],
      "id": "889e1c5f-47ff-4565-bf44-a1a21ae949b4"
    },
    {
      "cell_type": "code",
      "execution_count": 18,
      "metadata": {
        "id": "W2_L3HAtvFPh",
        "colab": {
          "base_uri": "https://localhost:8080/",
          "height": 122
        },
        "outputId": "2efed6f7-03a7-4a67-dc93-4fa82c25590c"
      },
      "outputs": [
        {
          "output_type": "execute_result",
          "data": {
            "text/plain": [
              "'\\nfig.update_xaxes(rangeslider_visible=True,\\n                rangeselector=dict(\\n            buttons=list([\\n            #dict(count=1, label=\"1m\", step=\"month\", stepmode=\"backward\"),\\n            #dict(count=6, label=\"6m\", step=\"month\", stepmode=\"backward\"),\\n            #dict(count=1, label=\"YTD\", step=\"year\", stepmode=\"todate\"),\\n            dict(count=1, label=\"1y\", step=\"year\", stepmode=\"backward\"),\\n            dict(count=5, label=\"5y\", step=\"year\", stepmode=\"backward\"),\\n            dict(count=10, label=\"10y\", step=\"year\", stepmode=\"backward\"),\\n            dict(count=20, label=\"20y\", step=\"year\", stepmode=\"backward\"),\\n            dict(count=30, label=\"30y\", step=\"year\", stepmode=\"backward\"),\\n            dict(count=50, label=\"40y\", step=\"year\", stepmode=\"backward\"),\\n            dict(step=\"all\")\\n        ])))\\n'"
            ],
            "application/vnd.google.colaboratory.intrinsic+json": {
              "type": "string"
            }
          },
          "metadata": {},
          "execution_count": 18
        }
      ],
      "source": [
        "\n",
        "\"\"\"\n",
        "fig.update_xaxes(rangeslider_visible=True,\n",
        "                rangeselector=dict(\n",
        "            buttons=list([\n",
        "            #dict(count=1, label=\"1m\", step=\"month\", stepmode=\"backward\"),\n",
        "            #dict(count=6, label=\"6m\", step=\"month\", stepmode=\"backward\"),\n",
        "            #dict(count=1, label=\"YTD\", step=\"year\", stepmode=\"todate\"),\n",
        "            dict(count=1, label=\"1y\", step=\"year\", stepmode=\"backward\"),\n",
        "            dict(count=5, label=\"5y\", step=\"year\", stepmode=\"backward\"),\n",
        "            dict(count=10, label=\"10y\", step=\"year\", stepmode=\"backward\"),\n",
        "            dict(count=20, label=\"20y\", step=\"year\", stepmode=\"backward\"),\n",
        "            dict(count=30, label=\"30y\", step=\"year\", stepmode=\"backward\"),\n",
        "            dict(count=50, label=\"40y\", step=\"year\", stepmode=\"backward\"),\n",
        "            dict(step=\"all\")\n",
        "        ])))\n",
        "\"\"\""
      ],
      "id": "W2_L3HAtvFPh"
    },
    {
      "cell_type": "code",
      "execution_count": 19,
      "metadata": {
        "id": "75JbUVD06EWF"
      },
      "outputs": [],
      "source": [
        "#fig.write_html(\"drive/MyDrive/colab/datevsnumberpermits.html\")"
      ],
      "id": "75JbUVD06EWF"
    },
    {
      "cell_type": "markdown",
      "metadata": {
        "id": "SRKss7CQ5kNP"
      },
      "source": [
        "Insights :\n",
        "\n",
        "\n",
        "1.   Need to clean data obtained before 1980ish\n",
        "2.   Need to apply inflation rates to the cost data\n",
        "3.   There were more constructions up to early 90s and then increase around 2000s till 2010s and  fewer constructions afterwards."
      ],
      "id": "SRKss7CQ5kNP"
    },
    {
      "cell_type": "markdown",
      "metadata": {
        "id": "YlM8jVyL5mRc"
      },
      "source": [
        "Let's see the impact of duration of construction on cost"
      ],
      "id": "YlM8jVyL5mRc"
    },
    {
      "cell_type": "code",
      "execution_count": 20,
      "metadata": {
        "id": "u-hmzmjJf2rD"
      },
      "outputs": [],
      "source": [
        "dataset['Duration']=dataset['Duration'].dt.days"
      ],
      "id": "u-hmzmjJf2rD"
    },
    {
      "cell_type": "code",
      "execution_count": 21,
      "metadata": {
        "id": "NZ1dNPngeoQv"
      },
      "outputs": [],
      "source": [
        "m2 = (dataset ['Permit Type'] < 3)"
      ],
      "id": "NZ1dNPngeoQv"
    },
    {
      "cell_type": "code",
      "execution_count": 22,
      "metadata": {
        "id": "LTuqih_c5lTY",
        "colab": {
          "base_uri": "https://localhost:8080/",
          "height": 52
        },
        "outputId": "f66d8c1d-7210-44a9-8f5b-50f44dd4aec0"
      },
      "outputs": [
        {
          "output_type": "execute_result",
          "data": {
            "text/plain": [
              "'\\nfig = px.scatter(dataset.loc[m2,:], x=\"Duration\", y=\"Estimated Cost\", #hover_data=[\"Current Status\"],\\n                 color=\\'Year\\',log_y =True, range_x = [0,1e4])\\n                # hover_data=[\\'Permit Type Definition\\']) #size=\\'petal_length\\', #symbol\\n'"
            ],
            "application/vnd.google.colaboratory.intrinsic+json": {
              "type": "string"
            }
          },
          "metadata": {},
          "execution_count": 22
        }
      ],
      "source": [
        "\"\"\"\n",
        "fig = px.scatter(dataset.loc[m2,:], x=\"Duration\", y=\"Estimated Cost\", #hover_data=[\"Current Status\"],\n",
        "                 color='Year',log_y =True, range_x = [0,1e4])\n",
        "                # hover_data=['Permit Type Definition']) #size='petal_length', #symbol\n",
        "\"\"\""
      ],
      "id": "LTuqih_c5lTY"
    },
    {
      "cell_type": "code",
      "execution_count": 23,
      "metadata": {
        "id": "wAcrm9M-vBrI",
        "colab": {
          "base_uri": "https://localhost:8080/",
          "height": 122
        },
        "outputId": "54995755-d141-4ddd-cdb8-2334f325a4d1"
      },
      "outputs": [
        {
          "output_type": "execute_result",
          "data": {
            "text/plain": [
              "'\\nfig.update_xaxes(rangeslider_visible=True,\\n                 rangeselector=dict(\\n            buttons=list([\\n            #dict(count=1, label=\"1m\", step=\"month\", stepmode=\"backward\"),\\n            #dict(count=6, label=\"6m\", step=\"month\", stepmode=\"backward\"),\\n            #dict(count=1, label=\"YTD\", step=\"year\", stepmode=\"todate\"),\\n            dict(count=1, label=\"1y\", step=\"year\", stepmode=\"backward\"),\\n            dict(count=5, label=\"5y\", step=\"year\", stepmode=\"backward\"),\\n            dict(count=10, label=\"10y\", step=\"year\", stepmode=\"backward\"),\\n            dict(count=20, label=\"20y\", step=\"year\", stepmode=\"backward\"),\\n            dict(count=30, label=\"30y\", step=\"year\", stepmode=\"backward\"),\\n            dict(count=50, label=\"40y\", step=\"year\", stepmode=\"backward\"),\\n            dict(step=\"all\")\\n        ])))\\n  '"
            ],
            "application/vnd.google.colaboratory.intrinsic+json": {
              "type": "string"
            }
          },
          "metadata": {},
          "execution_count": 23
        }
      ],
      "source": [
        "\"\"\"\n",
        "fig.update_xaxes(rangeslider_visible=True,\n",
        "                 rangeselector=dict(\n",
        "            buttons=list([\n",
        "            #dict(count=1, label=\"1m\", step=\"month\", stepmode=\"backward\"),\n",
        "            #dict(count=6, label=\"6m\", step=\"month\", stepmode=\"backward\"),\n",
        "            #dict(count=1, label=\"YTD\", step=\"year\", stepmode=\"todate\"),\n",
        "            dict(count=1, label=\"1y\", step=\"year\", stepmode=\"backward\"),\n",
        "            dict(count=5, label=\"5y\", step=\"year\", stepmode=\"backward\"),\n",
        "            dict(count=10, label=\"10y\", step=\"year\", stepmode=\"backward\"),\n",
        "            dict(count=20, label=\"20y\", step=\"year\", stepmode=\"backward\"),\n",
        "            dict(count=30, label=\"30y\", step=\"year\", stepmode=\"backward\"),\n",
        "            dict(count=50, label=\"40y\", step=\"year\", stepmode=\"backward\"),\n",
        "            dict(step=\"all\")\n",
        "        ])))\n",
        "  \"\"\""
      ],
      "id": "wAcrm9M-vBrI"
    },
    {
      "cell_type": "code",
      "execution_count": 24,
      "metadata": {
        "id": "U3X3zIEs9e8s"
      },
      "outputs": [],
      "source": [
        "#fig.write_html(\"drive/MyDrive/colab/durationvscost_year.html\")"
      ],
      "id": "U3X3zIEs9e8s"
    },
    {
      "cell_type": "markdown",
      "metadata": {
        "id": "_hYIUL888jND"
      },
      "source": [
        "#check if there are any correspandance between duration and year of construction ?"
      ],
      "id": "_hYIUL888jND"
    },
    {
      "cell_type": "code",
      "execution_count": 24,
      "metadata": {
        "id": "KMrmOb-l8iZn"
      },
      "outputs": [],
      "source": [
        ""
      ],
      "id": "KMrmOb-l8iZn"
    },
    {
      "cell_type": "code",
      "execution_count": 24,
      "metadata": {
        "id": "UxlKztDx5jUU"
      },
      "outputs": [],
      "source": [
        "\n"
      ],
      "id": "UxlKztDx5jUU"
    },
    {
      "cell_type": "code",
      "execution_count": 25,
      "metadata": {
        "id": "8ba2b08a-687d-45d0-9d6f-3b4ab0a0cd76"
      },
      "outputs": [],
      "source": [
        "#fig.show()"
      ],
      "id": "8ba2b08a-687d-45d0-9d6f-3b4ab0a0cd76"
    },
    {
      "cell_type": "code",
      "execution_count": 26,
      "metadata": {
        "id": "T57NSIn2PlH-",
        "colab": {
          "base_uri": "https://localhost:8080/",
          "height": 52
        },
        "outputId": "f9fd59b9-3d71-4983-f813-40213f78fb77"
      },
      "outputs": [
        {
          "output_type": "execute_result",
          "data": {
            "text/plain": [
              "'\\ndataset[\\'Duration_b\\']=dataset[\\'Duration_b\\'].dt.days\\nfig = px.scatter(dataset.loc[m2,:], x=\"Duration_b\", y=\"Estimated Cost\", #hover_data=[\"Year\"],\\n                 color=\\'Permit Type\\',log_y =True, range_x = [0,1e4])\\nfig.write_html(\"drive/MyDrive/colab/duration_bvscost.html\")\\n'"
            ],
            "application/vnd.google.colaboratory.intrinsic+json": {
              "type": "string"
            }
          },
          "metadata": {},
          "execution_count": 26
        }
      ],
      "source": [
        "\"\"\"\n",
        "dataset['Duration_b']=dataset['Duration_b'].dt.days\n",
        "fig = px.scatter(dataset.loc[m2,:], x=\"Duration_b\", y=\"Estimated Cost\", #hover_data=[\"Year\"],\n",
        "                 color='Permit Type',log_y =True, range_x = [0,1e4])\n",
        "fig.write_html(\"drive/MyDrive/colab/duration_bvscost.html\")\n",
        "\"\"\""
      ],
      "id": "T57NSIn2PlH-"
    },
    {
      "cell_type": "code",
      "execution_count": 27,
      "metadata": {
        "id": "2BrN2GcAl8o3"
      },
      "outputs": [],
      "source": [
        "#fig.show()"
      ],
      "id": "2BrN2GcAl8o3"
    },
    {
      "cell_type": "code",
      "execution_count": 28,
      "metadata": {
        "id": "x8TNZE3kmWt2"
      },
      "outputs": [],
      "source": [
        "#dataset.columns"
      ],
      "id": "x8TNZE3kmWt2"
    },
    {
      "cell_type": "code",
      "execution_count": 29,
      "metadata": {
        "id": "dpFws0GNP4ye"
      },
      "outputs": [],
      "source": [
        "#LI STOPPED HERE 09/08/22"
      ],
      "id": "dpFws0GNP4ye"
    },
    {
      "cell_type": "markdown",
      "metadata": {
        "id": "uZONddRV-q5E"
      },
      "source": [
        "#DATA VISUALISATION"
      ],
      "id": "uZONddRV-q5E"
    },
    {
      "cell_type": "markdown",
      "metadata": {
        "id": "M3lAEG3ROUuf"
      },
      "source": [
        "***Let's explore our dataset***"
      ],
      "id": "M3lAEG3ROUuf"
    },
    {
      "cell_type": "code",
      "execution_count": 30,
      "metadata": {
        "id": "AEe1R-7LUKf8"
      },
      "outputs": [],
      "source": [
        "import seaborn as sns"
      ],
      "id": "AEe1R-7LUKf8"
    },
    {
      "cell_type": "code",
      "execution_count": 30,
      "metadata": {
        "id": "a_Hxf71_UwVL"
      },
      "outputs": [],
      "source": [
        ""
      ],
      "id": "a_Hxf71_UwVL"
    },
    {
      "cell_type": "code",
      "execution_count": 31,
      "metadata": {
        "id": "9dGgQ3AaCd-f",
        "colab": {
          "base_uri": "https://localhost:8080/"
        },
        "outputId": "74255ff8-b265-4ef7-f641-619286ec19da"
      },
      "outputs": [
        {
          "output_type": "execute_result",
          "data": {
            "text/plain": [
              "(1193083, 19)"
            ]
          },
          "metadata": {},
          "execution_count": 31
        }
      ],
      "source": [
        "cols = ['Permit Type', 'Current Status',\n",
        "        'Duration', 'Year',\n",
        "        'Estimated Cost', 'Revised Cost',\n",
        "        'Neighborhoods - Analysis Boundaries', 'Zipcode',\n",
        "       'Number of Existing Stories', 'Number of Proposed Stories',\n",
        "       'Existing Use', 'Existing Units',\n",
        "        'Proposed Use', 'Proposed Units',\n",
        "        'Existing Construction Type','Existing Construction Type Description',\n",
        "        'Proposed Construction Type','Proposed Construction Type Description',\n",
        "        'Plansets'\n",
        "       ]\n",
        "newdf = dataset[cols]\n",
        "\n",
        "newdf.shape"
      ],
      "id": "9dGgQ3AaCd-f"
    },
    {
      "cell_type": "code",
      "execution_count": 32,
      "metadata": {
        "colab": {
          "base_uri": "https://localhost:8080/",
          "height": 1000
        },
        "id": "Laz60oDT-AjW",
        "outputId": "b91e3414-0428-4ba5-a499-d1af377bb0a1"
      },
      "outputs": [
        {
          "output_type": "display_data",
          "data": {
            "text/plain": [
              "<Figure size 1440x2880 with 20 Axes>"
            ],
            "image/png": "[encoded data removed]"
          },
          "metadata": {
            "needs_background": "light"
          }
        }
      ],
      "source": [
        "newdf=newdf.sample(1000)#frac=0.01)#0.15)\n",
        "\n",
        "\n",
        "fig, axes = plt.subplots(nrows = 10, ncols = 2)    # axes is 2d array (3x3)\n",
        "axes = axes.flatten()         # Convert axes to 1d array of length 9\n",
        "fig.set_size_inches(20, 40)\n",
        "\n",
        "for ax, col in zip(axes, newdf.columns):\n",
        "    sns.histplot(data=newdf,y=col,kde=True,ax=ax,stat='density',color='forestgreen')\n",
        "    #if 'cost' in col.lower():\n",
        "    #  sns.histplot(data=newdf,y=col,kde=True,ax=ax,stat='density',color='forestgreen',log_scale=True)\n",
        "    #ax.set_title(col)\n",
        "    #print(col)\n",
        "#fig.savefig('drive/MyDrive/colab/data_exploration_.png',dpi=800)\n",
        "#fig.close()\n",
        "\n"
      ],
      "id": "Laz60oDT-AjW"
    },
    {
      "cell_type": "markdown",
      "source": [
        "***Let's analyze cost a bit more ***\n",
        "\n",
        "We try to predict cost so it remains as our top priority."
      ],
      "metadata": {
        "id": "KKhRyu-ff_7j"
      },
      "id": "KKhRyu-ff_7j"
    },
    {
      "cell_type": "code",
      "source": [
        "mask = dataset['Permit Type'] < 3\n",
        "\n",
        "filtered_dataset = dataset.loc[mask, :]\n",
        "filtered_dataset = filtered_dataset.dropna(subset=['Estimated Cost'])\n",
        "\n"
      ],
      "metadata": {
        "id": "7CkyUf7PiCS4"
      },
      "id": "7CkyUf7PiCS4",
      "execution_count": 33,
      "outputs": []
    },
    {
      "cell_type": "code",
      "source": [
        "#descriptive statistics summary\n",
        "filtered_dataset['Estimated Cost'].describe()"
      ],
      "metadata": {
        "colab": {
          "base_uri": "https://localhost:8080/"
        },
        "id": "uSeV95Qcf-0w",
        "outputId": "5609d4c3-573c-4eb6-f39e-43d636d4aecf"
      },
      "id": "uSeV95Qcf-0w",
      "execution_count": 34,
      "outputs": [
        {
          "output_type": "execute_result",
          "data": {
            "text/plain": [
              "count    1.509900e+04\n",
              "mean     3.497085e+06\n",
              "std      1.701285e+07\n",
              "min      1.000000e+00\n",
              "25%      1.596500e+05\n",
              "50%      3.000000e+05\n",
              "75%      7.921100e+05\n",
              "max      5.379586e+08\n",
              "Name: Estimated Cost, dtype: float64"
            ]
          },
          "metadata": {},
          "execution_count": 34
        }
      ]
    },
    {
      "cell_type": "code",
      "source": [
        "filtered_dataset['Revised Cost'].describe()"
      ],
      "metadata": {
        "colab": {
          "base_uri": "https://localhost:8080/"
        },
        "id": "kkeWBtuRgVJT",
        "outputId": "6a139280-5c3d-4252-86a6-27e77f9fbfff"
      },
      "id": "kkeWBtuRgVJT",
      "execution_count": 35,
      "outputs": [
        {
          "output_type": "execute_result",
          "data": {
            "text/plain": [
              "count    7.275000e+03\n",
              "mean     6.107606e+06\n",
              "std      2.353362e+07\n",
              "min      1.000000e+00\n",
              "25%      2.728480e+05\n",
              "50%      5.400000e+05\n",
              "75%      1.600000e+06\n",
              "max      7.805000e+08\n",
              "Name: Revised Cost, dtype: float64"
            ]
          },
          "metadata": {},
          "execution_count": 35
        }
      ]
    },
    {
      "cell_type": "markdown",
      "source": [
        "**There are much less data in revised cost*"
      ],
      "metadata": {
        "id": "KGKgcBf3hLtH"
      },
      "id": "KGKgcBf3hLtH"
    },
    {
      "cell_type": "code",
      "source": [
        "#histogram\n",
        "sns.histplot(data= filtered_dataset , x='Estimated Cost',kde=True,stat='density',color='forestgreen',log_scale=True)"
      ],
      "metadata": {
        "colab": {
          "base_uri": "https://localhost:8080/",
          "height": 300
        },
        "id": "yQVHoUuFhKTb",
        "outputId": "1d7c6308-91a4-4748-ae6f-5f534c1e2630"
      },
      "id": "yQVHoUuFhKTb",
      "execution_count": 36,
      "outputs": [
        {
          "output_type": "execute_result",
          "data": {
            "text/plain": [
              "<matplotlib.axes._subplots.AxesSubplot at 0x7f15b25f4d50>"
            ]
          },
          "metadata": {},
          "execution_count": 36
        },
        {
          "output_type": "display_data",
          "data": {
            "text/plain": [
              "<Figure size 432x288 with 1 Axes>"
            ],
            "image/png": "[encoded data removed]"
          },
          "metadata": {
            "needs_background": "light"
          }
        }
      ]
    },
    {
      "cell_type": "markdown",
      "source": [
        "***Let's check the skewedness of the distribution***\n",
        "\n",
        "Since we observe\n",
        "\n",
        "    Deviation from the normal distribution.\n",
        "    positive skewness.\n",
        "    peakedness.\n"
      ],
      "metadata": {
        "id": "DDWjjXMEitCa"
      },
      "id": "DDWjjXMEitCa"
    },
    {
      "cell_type": "code",
      "source": [
        "#skewness and kurtosis\n",
        "print(\"Skewness: %f\" % filtered_dataset['Estimated Cost'].skew())\n",
        "print(\"Kurtosis: %f\" % filtered_dataset['Estimated Cost'].kurt())"
      ],
      "metadata": {
        "colab": {
          "base_uri": "https://localhost:8080/"
        },
        "id": "OUF6ZzR3irB5",
        "outputId": "589c24e1-7cd4-4a9a-d4d5-0bf7d60dcb71"
      },
      "id": "OUF6ZzR3irB5",
      "execution_count": 37,
      "outputs": [
        {
          "output_type": "stream",
          "name": "stdout",
          "text": [
            "Skewness: 13.469670\n",
            "Kurtosis: 282.835392\n"
          ]
        }
      ]
    },
    {
      "cell_type": "markdown",
      "source": [
        "We will start by looking carefully at the relationship with other variables."
      ],
      "metadata": {
        "id": "yrC9rmKrkMB5"
      },
      "id": "yrC9rmKrkMB5"
    },
    {
      "cell_type": "code",
      "source": [
        ""
      ],
      "metadata": {
        "id": "x5dzIrcFkJj6"
      },
      "id": "x5dzIrcFkJj6",
      "execution_count": 37,
      "outputs": []
    },
    {
      "cell_type": "markdown",
      "metadata": {
        "id": "C3qQmsgPObZe"
      },
      "source": [
        "***Let's explore heatmap***"
      ],
      "id": "C3qQmsgPObZe"
    },
    {
      "cell_type": "code",
      "execution_count": 37,
      "metadata": {
        "id": "JaJuVwBhXVHm"
      },
      "outputs": [],
      "source": [
        ""
      ],
      "id": "JaJuVwBhXVHm"
    },
    {
      "cell_type": "code",
      "source": [
        "newdf = filtered_dataset[cols]"
      ],
      "metadata": {
        "id": "BUwbygcZmExz"
      },
      "id": "BUwbygcZmExz",
      "execution_count": 38,
      "outputs": []
    },
    {
      "cell_type": "code",
      "execution_count": 39,
      "metadata": {
        "colab": {
          "base_uri": "https://localhost:8080/",
          "height": 524
        },
        "id": "qow8EKT2E6WD",
        "outputId": "344a7c9c-1588-44fc-ba43-0ecd4942c7f5"
      },
      "outputs": [
        {
          "output_type": "execute_result",
          "data": {
            "text/plain": [
              "<matplotlib.axes._subplots.AxesSubplot at 0x7f15ac578c90>"
            ]
          },
          "metadata": {},
          "execution_count": 39
        },
        {
          "output_type": "display_data",
          "data": {
            "text/plain": [
              "<Figure size 648x432 with 2 Axes>"
            ],
            "image/png": "[encoded data removed]"
          },
          "metadata": {
            "needs_background": "light"
          }
        }
      ],
      "source": [
        "f, ax = plt.subplots(figsize=(9, 6))\n",
        "sns.heatmap(newdf.corr(), vmax=.8, square=True)\n",
        "#fig.savefig('drive/MyDrive/colab/data_heatmap.jpg',dpi=400)"
      ],
      "id": "qow8EKT2E6WD"
    },
    {
      "cell_type": "code",
      "source": [
        "k = 12 #number of variables for heatmap\n",
        "corrm = newdf.corr()\n",
        "cols = corrm.nlargest(k, 'Estimated Cost')['Estimated Cost'].index"
      ],
      "metadata": {
        "id": "sBa37ldYmfGu"
      },
      "id": "sBa37ldYmfGu",
      "execution_count": 40,
      "outputs": []
    },
    {
      "cell_type": "code",
      "source": [
        "cols"
      ],
      "metadata": {
        "colab": {
          "base_uri": "https://localhost:8080/"
        },
        "id": "No2wZwMEnT7u",
        "outputId": "71973f21-3e4f-4fec-9594-f5564fcc5194"
      },
      "id": "No2wZwMEnT7u",
      "execution_count": 41,
      "outputs": [
        {
          "output_type": "execute_result",
          "data": {
            "text/plain": [
              "Index(['Estimated Cost', 'Revised Cost', 'Proposed Units', 'Year',\n",
              "       'Number of Proposed Stories', 'Duration', 'Plansets',\n",
              "       'Number of Existing Stories', 'Zipcode', 'Existing Units',\n",
              "       'Permit Type', 'Existing Construction Type'],\n",
              "      dtype='object')"
            ]
          },
          "metadata": {},
          "execution_count": 41
        }
      ]
    },
    {
      "cell_type": "code",
      "source": [
        "\n",
        "# correlation matrix with numerical values\n",
        "import numpy as np\n",
        "cm = np.corrcoef(newdf[cols].values.T)\n",
        "sns.set(font_scale=1.25)\n",
        "hm = sns.heatmap(cm, cbar=True, annot=True, square=True, fmt='.2f', annot_kws={'size': 10}, yticklabels=cols.values, xticklabels=newdf.columns.values)\n",
        "plt.show()\n",
        "\n"
      ],
      "metadata": {
        "colab": {
          "base_uri": "https://localhost:8080/",
          "height": 516
        },
        "id": "0rmQanUJlkvg",
        "outputId": "b9bbb74e-be5b-40b4-fcef-1a8f991da8ce"
      },
      "id": "0rmQanUJlkvg",
      "execution_count": 42,
      "outputs": [
        {
          "output_type": "display_data",
          "data": {
            "text/plain": [
              "<Figure size 432x288 with 2 Axes>"
            ],
            "image/png": "[encoded data removed]"
          },
          "metadata": {}
        }
      ]
    },
    {
      "cell_type": "markdown",
      "source": [
        "**Observations of HeatMap**\n",
        "\n",
        "\n",
        "\n",
        "*   List item\n",
        "*   List item\n",
        "\n"
      ],
      "metadata": {
        "id": "5DROX0QNla6X"
      },
      "id": "5DROX0QNla6X"
    },
    {
      "cell_type": "code",
      "source": [
        ""
      ],
      "metadata": {
        "id": "tZTTJ2drlZ1N"
      },
      "id": "tZTTJ2drlZ1N",
      "execution_count": 42,
      "outputs": []
    },
    {
      "cell_type": "markdown",
      "source": [
        "**In summary **\n",
        "\n",
        "we can conclude that \n",
        "\n",
        "\n",
        "\n",
        "*   List item\n",
        "*   List item\n",
        "\n"
      ],
      "metadata": {
        "id": "N6P8Xp6EktH_"
      },
      "id": "N6P8Xp6EktH_"
    },
    {
      "cell_type": "markdown",
      "source": [
        "***Trying history and normal probability plot**"
      ],
      "metadata": {
        "id": "MvfRy9tinxP7"
      },
      "id": "MvfRy9tinxP7"
    },
    {
      "cell_type": "code",
      "source": [
        "from scipy.stats import norm\n",
        "from scipy import stats"
      ],
      "metadata": {
        "id": "7SG4rsEtofAA"
      },
      "id": "7SG4rsEtofAA",
      "execution_count": 43,
      "outputs": []
    },
    {
      "cell_type": "code",
      "source": [
        "#histogram and normal probability plot\n",
        "sns.distplot(newdf['Estimated Cost'], fit=norm);\n",
        "fig = plt.figure()\n",
        "res = stats.probplot(newdf['Estimated Cost'], plot=plt)"
      ],
      "metadata": {
        "colab": {
          "base_uri": "https://localhost:8080/",
          "height": 597
        },
        "id": "gvYV1gyLnvx2",
        "outputId": "a1bc65e5-e0fc-4cf2-c15f-5a11e8ffda42"
      },
      "id": "gvYV1gyLnvx2",
      "execution_count": 44,
      "outputs": [
        {
          "output_type": "display_data",
          "data": {
            "text/plain": [
              "<Figure size 432x288 with 1 Axes>"
            ],
            "image/png": "[encoded data removed]"
          },
          "metadata": {}
        },
        {
          "output_type": "display_data",
          "data": {
            "text/plain": [
              "<Figure size 432x288 with 1 Axes>"
            ],
            "image/png": "[encoded data removed]"
          },
          "metadata": {}
        }
      ]
    },
    {
      "cell_type": "code",
      "source": [
        "\n",
        "#applying log transformation\n",
        "newdf['Estimated Cost_log']= np.log(newdf['Estimated Cost'])\n",
        "\n",
        "#histogram and normal probability plot\n",
        "sns.distplot(newdf['Estimated Cost_log'], fit=norm);\n",
        "fig = plt.figure()\n",
        "res = stats.probplot(newdf['Estimated Cost_log'], plot=plt)"
      ],
      "metadata": {
        "colab": {
          "base_uri": "https://localhost:8080/",
          "height": 584
        },
        "id": "xWjGZNTXolaT",
        "outputId": "27ac0b86-8c3e-4a2d-e28d-05810a537b11"
      },
      "id": "xWjGZNTXolaT",
      "execution_count": 45,
      "outputs": [
        {
          "output_type": "display_data",
          "data": {
            "text/plain": [
              "<Figure size 432x288 with 1 Axes>"
            ],
            "image/png": "[encoded data removed]"
          },
          "metadata": {}
        },
        {
          "output_type": "display_data",
          "data": {
            "text/plain": [
              "<Figure size 432x288 with 1 Axes>"
            ],
            "image/png": "[encoded data removed]"
          },
          "metadata": {}
        }
      ]
    },
    {
      "cell_type": "markdown",
      "source": [
        "*** Observations***\n",
        "\n",
        "\n",
        "\n",
        "*   Log works much better\n",
        "*   List item\n",
        "\n"
      ],
      "metadata": {
        "id": "zQMQK-47o7fl"
      },
      "id": "zQMQK-47o7fl"
    },
    {
      "cell_type": "code",
      "source": [
        "#need to repeat this step for other feautres\n",
        "#ref. data cleaning and explotaory https://www.kaggle.com/code/pmarcelino/comprehensive-data-exploration-with-python"
      ],
      "metadata": {
        "id": "eohJyQQnpCt9"
      },
      "id": "eohJyQQnpCt9",
      "execution_count": 46,
      "outputs": []
    },
    {
      "cell_type": "markdown",
      "source": [
        "***Check outliers***"
      ],
      "metadata": {
        "id": "9pDwBIFqprL7"
      },
      "id": "9pDwBIFqprL7"
    },
    {
      "cell_type": "markdown",
      "source": [
        "#Imputing missing values\n",
        "ref. https://www.kaggle.com/code/serigne/stacked-regressions-top-4-on-leaderboard"
      ],
      "metadata": {
        "id": "yEpMk01np9_B"
      },
      "id": "yEpMk01np9_B"
    },
    {
      "cell_type": "markdown",
      "source": [
        "#Skewed features\n"
      ],
      "metadata": {
        "id": "pFneCoxUqNOq"
      },
      "id": "pFneCoxUqNOq"
    },
    {
      "cell_type": "code",
      "source": [
        "\n",
        "from scipy import stats\n",
        "from scipy.stats import norm, skew #for some statistics"
      ],
      "metadata": {
        "id": "yGhiqiUoqvD5"
      },
      "id": "yGhiqiUoqvD5",
      "execution_count": 47,
      "outputs": []
    },
    {
      "cell_type": "code",
      "source": [
        "numeric_feats = newdf.dtypes[newdf.dtypes != \"object\"].index\n",
        "\n",
        "# Check the skew of all numerical features\n",
        "skewed_feats = newdf[numeric_feats].apply(lambda x: skew(x.dropna())).sort_values(ascending=False)\n",
        "print(\"\\nSkew in numerical features: \\n\")\n",
        "skewness = pd.DataFrame({'Skew' :skewed_feats})\n",
        "skewness.head(10)"
      ],
      "metadata": {
        "colab": {
          "base_uri": "https://localhost:8080/",
          "height": 415
        },
        "id": "Du9_mnYnqP8m",
        "outputId": "c6754eae-841b-40d4-a3d7-d63f41ad83e7"
      },
      "id": "Du9_mnYnqP8m",
      "execution_count": 48,
      "outputs": [
        {
          "output_type": "stream",
          "name": "stdout",
          "text": [
            "\n",
            "Skew in numerical features: \n",
            "\n"
          ]
        },
        {
          "output_type": "execute_result",
          "data": {
            "text/plain": [
              "                                 Skew\n",
              "Proposed Units              45.226581\n",
              "Number of Proposed Stories  44.698522\n",
              "Estimated Cost              13.468332\n",
              "Revised Cost                11.783400\n",
              "Plansets                     3.442893\n",
              "Number of Existing Stories   0.822304\n",
              "Year                         0.512291\n",
              "Zipcode                      0.415880\n",
              "Existing Units               0.000000\n",
              "Existing Construction Type  -1.324471"
            ],
            "text/html": [
              "\n",
              "  <div id=\"df-3c9152ff-17de-4d31-b475-e2f2a9bc4468\">\n",
              "    <div class=\"colab-df-container\">\n",
              "      <div>\n",
              "<style scoped>\n",
              "    .dataframe tbody tr th:only-of-type {\n",
              "        vertical-align: middle;\n",
              "    }\n",
              "\n",
              "    .dataframe tbody tr th {\n",
              "        vertical-align: top;\n",
              "    }\n",
              "\n",
              "    .dataframe thead th {\n",
              "        text-align: right;\n",
              "    }\n",
              "</style>\n",
              "<table border=\"1\" class=\"dataframe\">\n",
              "  <thead>\n",
              "    <tr style=\"text-align: right;\">\n",
              "      <th></th>\n",
              "      <th>Skew</th>\n",
              "    </tr>\n",
              "  </thead>\n",
              "  <tbody>\n",
              "    <tr>\n",
              "      <th>Proposed Units</th>\n",
              "      <td>45.226581</td>\n",
              "    </tr>\n",
              "    <tr>\n",
              "      <th>Number of Proposed Stories</th>\n",
              "      <td>44.698522</td>\n",
              "    </tr>\n",
              "    <tr>\n",
              "      <th>Estimated Cost</th>\n",
              "      <td>13.468332</td>\n",
              "    </tr>\n",
              "    <tr>\n",
              "      <th>Revised Cost</th>\n",
              "      <td>11.783400</td>\n",
              "    </tr>\n",
              "    <tr>\n",
              "      <th>Plansets</th>\n",
              "      <td>3.442893</td>\n",
              "    </tr>\n",
              "    <tr>\n",
              "      <th>Number of Existing Stories</th>\n",
              "      <td>0.822304</td>\n",
              "    </tr>\n",
              "    <tr>\n",
              "      <th>Year</th>\n",
              "      <td>0.512291</td>\n",
              "    </tr>\n",
              "    <tr>\n",
              "      <th>Zipcode</th>\n",
              "      <td>0.415880</td>\n",
              "    </tr>\n",
              "    <tr>\n",
              "      <th>Existing Units</th>\n",
              "      <td>0.000000</td>\n",
              "    </tr>\n",
              "    <tr>\n",
              "      <th>Existing Construction Type</th>\n",
              "      <td>-1.324471</td>\n",
              "    </tr>\n",
              "  </tbody>\n",
              "</table>\n",
              "</div>\n",
              "      <button class=\"colab-df-convert\" onclick=\"convertToInteractive('df-3c9152ff-17de-4d31-b475-e2f2a9bc4468')\"\n",
              "              title=\"Convert this dataframe to an interactive table.\"\n",
              "              style=\"display:none;\">\n",
              "        \n",
              "  <svg xmlns=\"http://www.w3.org/2000/svg\" height=\"24px\"viewBox=\"0 0 24 24\"\n",
              "       width=\"24px\">\n",
              "    <path d=\"M0 0h24v24H0V0z\" fill=\"none\"/>\n",
              "    <path d=\"M18.56 5.44l.94 2.06.94-2.06 2.06-.94-2.06-.94-.94-2.06-.94 2.06-2.06.94zm-11 1L8.5 8.5l.94-2.06 2.06-.94-2.06-.94L8.5 2.5l-.94 2.06-2.06.94zm10 10l.94 2.06.94-2.06 2.06-.94-2.06-.94-.94-2.06-.94 2.06-2.06.94z\"/><path d=\"M17.41 7.96l-1.37-1.37c-.4-.4-.92-.59-1.43-.59-.52 0-1.04.2-1.43.59L10.3 9.45l-7.72 7.72c-.78.78-.78 2.05 0 2.83L4 21.41c.39.39.9.59 1.41.59.51 0 1.02-.2 1.41-.59l7.78-7.78 2.81-2.81c.8-.78.8-2.07 0-2.86zM5.41 20L4 18.59l7.72-7.72 1.47 1.35L5.41 20z\"/>\n",
              "  </svg>\n",
              "      </button>\n",
              "      \n",
              "  <style>\n",
              "    .colab-df-container {\n",
              "      display:flex;\n",
              "      flex-wrap:wrap;\n",
              "      gap: 12px;\n",
              "    }\n",
              "\n",
              "    .colab-df-convert {\n",
              "      background-color: #E8F0FE;\n",
              "      border: none;\n",
              "      border-radius: 50%;\n",
              "      cursor: pointer;\n",
              "      display: none;\n",
              "      fill: #1967D2;\n",
              "      height: 32px;\n",
              "      padding: 0 0 0 0;\n",
              "      width: 32px;\n",
              "    }\n",
              "\n",
              "    .colab-df-convert:hover {\n",
              "      background-color: #E2EBFA;\n",
              "      box-shadow: 0px 1px 2px rgba(60, 64, 67, 0.3), 0px 1px 3px 1px rgba(60, 64, 67, 0.15);\n",
              "      fill: #174EA6;\n",
              "    }\n",
              "\n",
              "    [theme=dark] .colab-df-convert {\n",
              "      background-color: #3B4455;\n",
              "      fill: #D2E3FC;\n",
              "    }\n",
              "\n",
              "    [theme=dark] .colab-df-convert:hover {\n",
              "      background-color: #434B5C;\n",
              "      box-shadow: 0px 1px 3px 1px rgba(0, 0, 0, 0.15);\n",
              "      filter: drop-shadow(0px 1px 2px rgba(0, 0, 0, 0.3));\n",
              "      fill: #FFFFFF;\n",
              "    }\n",
              "  </style>\n",
              "\n",
              "      <script>\n",
              "        const buttonEl =\n",
              "          document.querySelector('#df-3c9152ff-17de-4d31-b475-e2f2a9bc4468 button.colab-df-convert');\n",
              "        buttonEl.style.display =\n",
              "          google.colab.kernel.accessAllowed ? 'block' : 'none';\n",
              "\n",
              "        async function convertToInteractive(key) {\n",
              "          const element = document.querySelector('#df-3c9152ff-17de-4d31-b475-e2f2a9bc4468');\n",
              "          const dataTable =\n",
              "            await google.colab.kernel.invokeFunction('convertToInteractive',\n",
              "                                                     [key], {});\n",
              "          if (!dataTable) return;\n",
              "\n",
              "          const docLinkHtml = 'Like what you see? Visit the ' +\n",
              "            '<a target=\"_blank\" href=https://colab.research.google.com/notebooks/data_table.ipynb>data table notebook</a>'\n",
              "            + ' to learn more about interactive tables.';\n",
              "          element.innerHTML = '';\n",
              "          dataTable['output_type'] = 'display_data';\n",
              "          await google.colab.output.renderOutput(dataTable, element);\n",
              "          const docLink = document.createElement('div');\n",
              "          docLink.innerHTML = docLinkHtml;\n",
              "          element.appendChild(docLink);\n",
              "        }\n",
              "      </script>\n",
              "    </div>\n",
              "  </div>\n",
              "  "
            ]
          },
          "metadata": {},
          "execution_count": 48
        }
      ]
    },
    {
      "cell_type": "markdown",
      "source": [
        "\n",
        "\n",
        "Box Cox Transformation of (highly) skewed features\n",
        "\n",
        "We use the scipy function boxcox1p which computes the Box-Cox transformation of 1+x\n",
        "\n",
        ".\n",
        "\n",
        "Note that setting λ=0\n",
        "\n",
        "is equivalent to log1p used above for the target variable.\n",
        "\n",
        "See this page for more details on Box Cox Transformation as well as the scipy function's page"
      ],
      "metadata": {
        "id": "FJ810hMlscZt"
      },
      "id": "FJ810hMlscZt"
    },
    {
      "cell_type": "code",
      "source": [
        "skewness = skewness[abs(skewness) > 0.75]\n",
        "print(\"There are {} skewed numerical features to Box Cox transform\".format(skewness.shape[0]))\n",
        "\n",
        "from scipy.special import boxcox1p\n",
        "skewed_features = skewness.index\n",
        "lam = 0.15\n",
        "for feat in skewed_features:\n",
        "    #all_data[feat] += 1\n",
        "    newdf[feat] = boxcox1p(newdf[feat], lam)\n",
        "    \n",
        "#all_data[skewed_features] = np.log1p(all_data[skewed_features])"
      ],
      "metadata": {
        "colab": {
          "base_uri": "https://localhost:8080/"
        },
        "id": "qIYA23bLsZfP",
        "outputId": "63af3667-b59f-427e-aef1-03c69651f6ec"
      },
      "id": "qIYA23bLsZfP",
      "execution_count": 49,
      "outputs": [
        {
          "output_type": "stream",
          "name": "stdout",
          "text": [
            "There are 13 skewed numerical features to Box Cox transform\n"
          ]
        }
      ]
    },
    {
      "cell_type": "markdown",
      "source": [
        "let's investigate further what was done for the skewed columns"
      ],
      "metadata": {
        "id": "NbO69-HtqM_d"
      },
      "id": "NbO69-HtqM_d"
    },
    {
      "cell_type": "code",
      "source": [
        ""
      ],
      "metadata": {
        "id": "5aY9R6K2tKXN"
      },
      "id": "5aY9R6K2tKXN",
      "execution_count": 49,
      "outputs": []
    },
    {
      "cell_type": "markdown",
      "source": [
        "***Here I do feature engineering ***"
      ],
      "metadata": {
        "id": "R42u7ch9Zuje"
      },
      "id": "R42u7ch9Zuje"
    },
    {
      "cell_type": "code",
      "execution_count": 50,
      "metadata": {
        "id": "BDuOjZNUmYty"
      },
      "outputs": [],
      "source": [
        "mask = dataset['Permit Type'] < 3\n",
        "\n",
        "filtered_dataset = dataset.loc[mask, :]\n",
        "#filtered_dataset.describe()\n",
        "#filtered_dataset = filtered_dataset.dropna(subset=['Estimated Cost'])\n"
      ],
      "id": "BDuOjZNUmYty"
    },
    {
      "cell_type": "code",
      "source": [
        "#newdf.describe()"
      ],
      "metadata": {
        "id": "qKy2ozF2uPN8"
      },
      "id": "qKy2ozF2uPN8",
      "execution_count": 51,
      "outputs": []
    },
    {
      "cell_type": "code",
      "execution_count": 52,
      "metadata": {
        "id": "5PEVd9aDmadj",
        "colab": {
          "base_uri": "https://localhost:8080/"
        },
        "outputId": "73dc8fec-de76-46cc-fac3-71d6c0d4195f"
      },
      "outputs": [
        {
          "output_type": "execute_result",
          "data": {
            "text/plain": [
              "Index(['5', '1', '3', '2', '4', 'III'], dtype='object')"
            ]
          },
          "metadata": {},
          "execution_count": 52
        }
      ],
      "source": [
        "filtered_dataset['Proposed Construction Type'].value_counts().index"
      ],
      "id": "5PEVd9aDmadj"
    },
    {
      "cell_type": "code",
      "execution_count": 53,
      "metadata": {
        "id": "tlGh32tGolbU"
      },
      "outputs": [],
      "source": [
        "filtered_dataset['Zipcode']=filtered_dataset['Zipcode'].fillna(0).astype(int)\n"
      ],
      "id": "tlGh32tGolbU"
    },
    {
      "cell_type": "code",
      "execution_count": 53,
      "metadata": {
        "id": "cki3LKPFyClq"
      },
      "outputs": [],
      "source": [
        ""
      ],
      "id": "cki3LKPFyClq"
    },
    {
      "cell_type": "code",
      "source": [
        "#filtered_dataset['Year'] "
      ],
      "metadata": {
        "id": "FpXZC3JMv0BX"
      },
      "id": "FpXZC3JMv0BX",
      "execution_count": 54,
      "outputs": []
    },
    {
      "cell_type": "code",
      "execution_count": 55,
      "metadata": {
        "id": "S4j40BVGxjNw"
      },
      "outputs": [],
      "source": [
        "filtered_dataset['Year']=filtered_dataset['Year'].astype(int)\n",
        "myear = filtered_dataset['Year'] > 1990\n",
        "\n",
        "filtered_dataset=filtered_dataset.loc[myear,:]\n"
      ],
      "id": "S4j40BVGxjNw"
    },
    {
      "cell_type": "code",
      "source": [
        "#filtered_dataset.describe()"
      ],
      "metadata": {
        "id": "L0zqwDbAu5EJ"
      },
      "id": "L0zqwDbAu5EJ",
      "execution_count": 56,
      "outputs": []
    },
    {
      "cell_type": "code",
      "source": [
        "filtered_dataset['Current Status'].value_counts()"
      ],
      "metadata": {
        "colab": {
          "base_uri": "https://localhost:8080/"
        },
        "id": "OijT1F4nJoCr",
        "outputId": "da86b6b4-1dee-40eb-8a35-c4d3500ce9a4"
      },
      "execution_count": 57,
      "outputs": [
        {
          "output_type": "execute_result",
          "data": {
            "text/plain": [
              "complete       5718\n",
              "expired         892\n",
              "issued          850\n",
              "filed           731\n",
              "cancelled       598\n",
              "withdrawn       562\n",
              "approved         85\n",
              "reinstated       68\n",
              "filing           31\n",
              "disapproved      16\n",
              "suspend          13\n",
              "revoked           1\n",
              "Name: Current Status, dtype: int64"
            ]
          },
          "metadata": {},
          "execution_count": 57
        }
      ],
      "id": "OijT1F4nJoCr"
    },
    {
      "cell_type": "code",
      "source": [
        "mstat= filtered_dataset['Current Status'] == 'complete'\n",
        "#filtered_dataset['Duration'][mstat].describe()\n",
        "filtered_dataset = filtered_dataset.loc[mstat,:]"
      ],
      "metadata": {
        "id": "3ALskMWyW5po"
      },
      "execution_count": 58,
      "outputs": [],
      "id": "3ALskMWyW5po"
    },
    {
      "cell_type": "code",
      "execution_count": 59,
      "metadata": {
        "id": "HSoqySyxpNfU",
        "colab": {
          "base_uri": "https://localhost:8080/"
        },
        "outputId": "8e86f9f3-7418-42db-c80c-6d7ead471758"
      },
      "outputs": [
        {
          "output_type": "execute_result",
          "data": {
            "text/plain": [
              "21.0"
            ]
          },
          "metadata": {},
          "execution_count": 59
        }
      ],
      "source": [
        "filtered_dataset['Duration'].value_counts().index.min()"
      ],
      "id": "HSoqySyxpNfU"
    },
    {
      "cell_type": "code",
      "source": [
        "#filtered_dataset['Duration'] = filtered_dataset['Duration'].fillna(0).apply(lambda x : 0 if x < 0 else x)\n",
        "filtered_dataset['Duration'].isna().sum()"
      ],
      "metadata": {
        "colab": {
          "base_uri": "https://localhost:8080/"
        },
        "id": "J_IamGgzaIOd",
        "outputId": "ddf82604-46dc-43c9-c34f-7c85727ee0b1"
      },
      "id": "J_IamGgzaIOd",
      "execution_count": 60,
      "outputs": [
        {
          "output_type": "execute_result",
          "data": {
            "text/plain": [
              "0"
            ]
          },
          "metadata": {},
          "execution_count": 60
        }
      ]
    },
    {
      "cell_type": "code",
      "execution_count": 60,
      "metadata": {
        "id": "WelSALmlpg5H"
      },
      "outputs": [],
      "source": [
        ""
      ],
      "id": "WelSALmlpg5H"
    },
    {
      "cell_type": "code",
      "execution_count": 61,
      "metadata": {
        "id": "uZ-zH5w5man4"
      },
      "outputs": [],
      "source": [
        "filtered_dataset['Proposed Construction Type']=filtered_dataset['Proposed Construction Type'].apply(lambda x : '3' if x =='III' else x)"
      ],
      "id": "uZ-zH5w5man4"
    },
    {
      "cell_type": "code",
      "execution_count": 62,
      "metadata": {
        "id": "0lkYux_Pq0kq"
      },
      "outputs": [],
      "source": [
        "#for neighbors less than 20 data, we use category 'other'\n",
        "\n",
        "col_ = \"Neighborhoods - Analysis Boundaries\"\n",
        "n_count = filtered_dataset[col_].value_counts()\n",
        "m_ng = filtered_dataset[col_].isin(n_count.index[n_count.values < 20])\n",
        "filtered_dataset.loc[m_ng,col_] = 'Other'\n",
        "filtered_dataset[col_].fillna('Other',inplace=True)\n",
        "filtered_dataset[col_].value_counts()\n",
        "filtered_dataset[col_] =filtered_dataset[col_].astype('str')"
      ],
      "id": "0lkYux_Pq0kq"
    },
    {
      "cell_type": "code",
      "source": [
        "#category of proposed construction type\n",
        "col_ = 'Proposed Construction Type'\n",
        "n_count = filtered_dataset[col_].value_counts()\n",
        "m_ng = filtered_dataset[col_].isin(n_count.index[n_count.values < 20])\n",
        "filtered_dataset.loc[m_ng,col_] = '99'\n",
        "filtered_dataset[col_].fillna('99',inplace=True)\n",
        "filtered_dataset[col_].value_counts()\n",
        "filtered_dataset[col_] =filtered_dataset[col_].astype('str')"
      ],
      "metadata": {
        "id": "ctpA2QJuezsU"
      },
      "id": "ctpA2QJuezsU",
      "execution_count": 63,
      "outputs": []
    },
    {
      "cell_type": "code",
      "source": [
        ""
      ],
      "metadata": {
        "id": "GIABbqW5f4oP"
      },
      "id": "GIABbqW5f4oP",
      "execution_count": 63,
      "outputs": []
    },
    {
      "cell_type": "code",
      "source": [
        ""
      ],
      "metadata": {
        "id": "RrJBI-XueQuC"
      },
      "id": "RrJBI-XueQuC",
      "execution_count": 63,
      "outputs": []
    },
    {
      "cell_type": "code",
      "execution_count": 64,
      "metadata": {
        "id": "aAmu_pyqrYG7",
        "colab": {
          "base_uri": "https://localhost:8080/",
          "height": 69
        },
        "outputId": "06691666-4caf-4ddb-d597-5bb30f87bab4"
      },
      "outputs": [
        {
          "output_type": "execute_result",
          "data": {
            "text/plain": [
              "'\\nm2b = filtered_dataset[\"Neighborhoods - Analysis Boundaries\"]!=\\'Presidio\\'\\nfiltered_dataset = filtered_dataset.loc[m2b,:]\\nm2c = filtered_dataset[\"Neighborhoods - Analysis Boundaries\"]!=\\'McLaren Park\\'\\nfiltered_dataset = filtered_dataset.loc[m2c,:]\\nm2d = filtered_dataset[\"Neighborhoods - Analysis Boundaries\"]!=\\'Japantown\\'\\nfiltered_dataset = filtered_dataset.loc[m2d,:]\\nm2c= filtered_dataset[\"Neighborhoods - Analysis Boundaries\"].fillna(\\'Zero\\')\\n'"
            ],
            "application/vnd.google.colaboratory.intrinsic+json": {
              "type": "string"
            }
          },
          "metadata": {},
          "execution_count": 64
        }
      ],
      "source": [
        "\"\"\"\n",
        "m2b = filtered_dataset[\"Neighborhoods - Analysis Boundaries\"]!='Presidio'\n",
        "filtered_dataset = filtered_dataset.loc[m2b,:]\n",
        "m2c = filtered_dataset[\"Neighborhoods - Analysis Boundaries\"]!='McLaren Park'\n",
        "filtered_dataset = filtered_dataset.loc[m2c,:]\n",
        "m2d = filtered_dataset[\"Neighborhoods - Analysis Boundaries\"]!='Japantown'\n",
        "filtered_dataset = filtered_dataset.loc[m2d,:]\n",
        "m2c= filtered_dataset[\"Neighborhoods - Analysis Boundaries\"].fillna('Zero')\n",
        "\"\"\"\n",
        "#filtered_dataset.loc[m2c,\"Neighborhoods - Analysis Boundaries\"]  =filtered_dataset.loc[m2c,\"Zipcode\"] "
      ],
      "id": "aAmu_pyqrYG7"
    },
    {
      "cell_type": "code",
      "source": [
        "#m3a = filtered_dataset[\"Current Status\"]=='Complete'\n",
        "#filtered_dataset = filtered_dataset.loc[m3a,:]"
      ],
      "metadata": {
        "id": "ZD7A8eZttf6x"
      },
      "id": "ZD7A8eZttf6x",
      "execution_count": 65,
      "outputs": []
    },
    {
      "cell_type": "code",
      "source": [
        "filtered_dataset['Estimated Cost'].isna().sum()"
      ],
      "metadata": {
        "colab": {
          "base_uri": "https://localhost:8080/"
        },
        "id": "5550m09dsUkD",
        "outputId": "b6b4bb2b-7729-40c0-aa93-7e4ac13fc670"
      },
      "id": "5550m09dsUkD",
      "execution_count": 66,
      "outputs": [
        {
          "output_type": "execute_result",
          "data": {
            "text/plain": [
              "93"
            ]
          },
          "metadata": {},
          "execution_count": 66
        }
      ]
    },
    {
      "cell_type": "code",
      "source": [
        "filtered_dataset = filtered_dataset.dropna(subset=['Estimated Cost'])"
      ],
      "metadata": {
        "id": "OSvmb0sUrvJK"
      },
      "id": "OSvmb0sUrvJK",
      "execution_count": 67,
      "outputs": []
    },
    {
      "cell_type": "code",
      "source": [
        "#removing estimated cost less than 5000 dollars\n",
        "col_='Estimated Cost'\n",
        "m_ecost = filtered_dataset [col_] < 5000\n",
        "filtered_dataset=filtered_dataset.loc[~m_ecost,:]\n",
        "\n",
        "filtered_dataset ['Estimated Cost_log10'] = filtered_dataset['Estimated Cost'].apply(lambda x : np.log10(x))\n",
        "m_ecost.sum()"
      ],
      "metadata": {
        "colab": {
          "base_uri": "https://localhost:8080/"
        },
        "id": "Fi1pd7K_07e2",
        "outputId": "4b9f6744-175f-4d7e-8eff-3c367cac35eb"
      },
      "id": "Fi1pd7K_07e2",
      "execution_count": 68,
      "outputs": [
        {
          "output_type": "execute_result",
          "data": {
            "text/plain": [
              "99"
            ]
          },
          "metadata": {},
          "execution_count": 68
        }
      ]
    },
    {
      "cell_type": "code",
      "source": [
        "filtered_dataset.shape"
      ],
      "metadata": {
        "colab": {
          "base_uri": "https://localhost:8080/"
        },
        "id": "u8KHrpxdWalt",
        "outputId": "97a867ed-cb5e-4409-846d-c982f3d2e944"
      },
      "id": "u8KHrpxdWalt",
      "execution_count": 69,
      "outputs": [
        {
          "output_type": "execute_result",
          "data": {
            "text/plain": [
              "(5526, 57)"
            ]
          },
          "metadata": {},
          "execution_count": 69
        }
      ]
    },
    {
      "cell_type": "code",
      "source": [
        "#filtered_dataset.describe()\n",
        "#histogram and normal probability plot\n",
        "sns.distplot(filtered_dataset['Estimated Cost'])#, fit=norm)"
      ],
      "metadata": {
        "id": "JA5S8nQMty_T",
        "colab": {
          "base_uri": "https://localhost:8080/",
          "height": 322
        },
        "outputId": "2e57ea52-ea9e-4159-eaa4-13b1234e57ef"
      },
      "id": "JA5S8nQMty_T",
      "execution_count": 70,
      "outputs": [
        {
          "output_type": "execute_result",
          "data": {
            "text/plain": [
              "<matplotlib.axes._subplots.AxesSubplot at 0x7f15a815b090>"
            ]
          },
          "metadata": {},
          "execution_count": 70
        },
        {
          "output_type": "display_data",
          "data": {
            "text/plain": [
              "<Figure size 432x288 with 1 Axes>"
            ],
            "image/png": "[encoded data removed]"
          },
          "metadata": {}
        }
      ]
    },
    {
      "cell_type": "code",
      "source": [
        "sns.distplot(filtered_dataset['Estimated Cost_log10'])"
      ],
      "metadata": {
        "colab": {
          "base_uri": "https://localhost:8080/",
          "height": 309
        },
        "id": "NP5cftfmx7ZM",
        "outputId": "a2b7284a-2d7a-422a-cfed-161b6ab6b84a"
      },
      "id": "NP5cftfmx7ZM",
      "execution_count": 71,
      "outputs": [
        {
          "output_type": "execute_result",
          "data": {
            "text/plain": [
              "<matplotlib.axes._subplots.AxesSubplot at 0x7f15a7fbd550>"
            ]
          },
          "metadata": {},
          "execution_count": 71
        },
        {
          "output_type": "display_data",
          "data": {
            "text/plain": [
              "<Figure size 432x288 with 1 Axes>"
            ],
            "image/png": "[encoded data removed]"
          },
          "metadata": {}
        }
      ]
    },
    {
      "cell_type": "code",
      "source": [
        "sns.distplot(filtered_dataset['Duration'])"
      ],
      "metadata": {
        "colab": {
          "base_uri": "https://localhost:8080/",
          "height": 308
        },
        "id": "iPCEagsDXsvl",
        "outputId": "9421a184-81dc-458b-f680-d0dc69a5abda"
      },
      "id": "iPCEagsDXsvl",
      "execution_count": 72,
      "outputs": [
        {
          "output_type": "execute_result",
          "data": {
            "text/plain": [
              "<matplotlib.axes._subplots.AxesSubplot at 0x7f15a7ed0f50>"
            ]
          },
          "metadata": {},
          "execution_count": 72
        },
        {
          "output_type": "display_data",
          "data": {
            "text/plain": [
              "<Figure size 432x288 with 1 Axes>"
            ],
            "image/png": "[encoded data removed]"
          },
          "metadata": {}
        }
      ]
    },
    {
      "cell_type": "code",
      "source": [
        "filtered_dataset.to_csv('Building_Permits_v2.csv')"
      ],
      "metadata": {
        "id": "WtqPKCd-6ZHL"
      },
      "id": "WtqPKCd-6ZHL",
      "execution_count": 73,
      "outputs": []
    },
    {
      "cell_type": "code",
      "source": [
        "#abc\n",
        "#For filtering certain outliers, see the code below: \n",
        "\n",
        "\"\"\"\n",
        "low, high = df.B.quantile([0.25,0.75])\n",
        "df.query('{low}<B<{high}'.format(low=low,high=high))\n",
        "\"\"\""
      ],
      "metadata": {
        "colab": {
          "base_uri": "https://localhost:8080/",
          "height": 35
        },
        "id": "LOnRcBn7e5B8",
        "outputId": "3afb0008-6a1a-4336-8c21-76bcb16f6cca"
      },
      "id": "LOnRcBn7e5B8",
      "execution_count": 74,
      "outputs": [
        {
          "output_type": "execute_result",
          "data": {
            "text/plain": [
              "\"\\nlow, high = df.B.quantile([0.25,0.75])\\ndf.query('{low}<B<{high}'.format(low=low,high=high))\\n\""
            ],
            "application/vnd.google.colaboratory.intrinsic+json": {
              "type": "string"
            }
          },
          "metadata": {},
          "execution_count": 74
        }
      ]
    },
    {
      "cell_type": "markdown",
      "metadata": {
        "id": "BrpFaO9f99LU"
      },
      "source": [
        "#MACHINE LEARNING\n",
        "\n"
      ],
      "id": "BrpFaO9f99LU"
    },
    {
      "cell_type": "code",
      "source": [
        ""
      ],
      "metadata": {
        "id": "IGH4M44bn9Fh"
      },
      "id": "IGH4M44bn9Fh",
      "execution_count": 74,
      "outputs": []
    },
    {
      "cell_type": "code",
      "execution_count": 75,
      "metadata": {
        "id": "CTrreYidvyW4"
      },
      "outputs": [],
      "source": [
        "#filtered_dataset[\"Street Name\"].value_counts()"
      ],
      "id": "CTrreYidvyW4"
    },
    {
      "cell_type": "code",
      "execution_count": 76,
      "metadata": {
        "id": "lPq5X1tvvVkQ"
      },
      "outputs": [],
      "source": [
        "from sklearn.model_selection import train_test_split\n",
        "from sklearn.pipeline import Pipeline\n",
        "from sklearn.impute import SimpleImputer\n",
        "from sklearn.preprocessing import OneHotEncoder, StandardScaler\n",
        "from sklearn.compose import ColumnTransformer\n",
        "from sklearn.linear_model import LinearRegression\n",
        "from sklearn.metrics import r2_score"
      ],
      "id": "lPq5X1tvvVkQ"
    },
    {
      "cell_type": "code",
      "execution_count": 77,
      "metadata": {
        "id": "wUMOJ1dfmayF",
        "colab": {
          "base_uri": "https://localhost:8080/"
        },
        "outputId": "9f304805-1fca-4f5d-bf2c-cccc9f373f37"
      },
      "outputs": [
        {
          "output_type": "stream",
          "name": "stdout",
          "text": [
            "Separating labels from features...\n",
            "...Done.\n",
            "\n",
            "Y : \n",
            "478    5.397940\n",
            "856    7.653213\n",
            "967    5.505150\n",
            "978    5.243038\n",
            "993    5.130212\n",
            "Name: Estimated Cost_log10, dtype: float64\n",
            "\n",
            "X :\n",
            "     Permit Type  Number of Proposed Stories  Plansets  \\\n",
            "478            2                         4.0       2.0   \n",
            "856            1                         5.0       4.0   \n",
            "967            2                         4.0       2.0   \n",
            "978            2                         3.0       2.0   \n",
            "993            2                         3.0       2.0   \n",
            "\n",
            "    Proposed Construction Type Neighborhoods - Analysis Boundaries  Year  \\\n",
            "478                          5                 Castro/Upper Market  1991   \n",
            "856                          1                               Other  1991   \n",
            "967                          5                               Other  1995   \n",
            "978                          5                               Other  1995   \n",
            "993                          5                               Other  1996   \n",
            "\n",
            "     Duration  \n",
            "478     815.0  \n",
            "856    1100.0  \n",
            "967     528.0  \n",
            "978     496.0  \n",
            "993     662.0  \n"
          ]
        }
      ],
      "source": [
        "# Separate target variable Y from features X\n",
        "print(\"Separating labels from features...\")\n",
        "features_list = [\n",
        "    \"Permit Type\",\n",
        "    #\"Unit\",\n",
        "    #\"Street Name\",\n",
        "    \"Number of Proposed Stories\", \n",
        "    \"Plansets\", \n",
        "    \"Proposed Construction Type\", \n",
        "    \"Neighborhoods - Analysis Boundaries\", \n",
        "    #\"Zipcode\",\n",
        "    \"Year\",\n",
        "    \"Duration\"\n",
        "]\n",
        "\n",
        "target_variable = \"Estimated Cost_log10\"#\"Estimated Cost\"\n",
        "\n",
        "X = filtered_dataset.loc[:,features_list]\n",
        "Y = filtered_dataset.loc[:,target_variable]\n",
        "\n",
        "print(\"...Done.\")\n",
        "print()\n",
        "\n",
        "print('Y : ')\n",
        "print(Y.head())\n",
        "print()\n",
        "print('X :')\n",
        "print(X.head())\n"
      ],
      "id": "wUMOJ1dfmayF"
    },
    {
      "cell_type": "code",
      "execution_count": 78,
      "metadata": {
        "id": "bfuuIs8Ima6i",
        "colab": {
          "base_uri": "https://localhost:8080/"
        },
        "outputId": "579f46a3-7536-4060-c3d2-bbcbeb8c8151"
      },
      "outputs": [
        {
          "output_type": "stream",
          "name": "stdout",
          "text": [
            "Found numeric features  ['Permit Type', 'Number of Proposed Stories', 'Plansets', 'Year', 'Duration']\n",
            "Found categorical features  ['Proposed Construction Type', 'Neighborhoods - Analysis Boundaries']\n"
          ]
        }
      ],
      "source": [
        "# Automatically detect names of numeric/categorical columns\n",
        "numeric_features = []\n",
        "categorical_features = []\n",
        "for i,t in X.dtypes.iteritems():\n",
        "    if ('float' in str(t)) or ('int' in str(t)) :\n",
        "        numeric_features.append(i)\n",
        "    else :\n",
        "        categorical_features.append(i)\n",
        "\n",
        "print('Found numeric features ', numeric_features)\n",
        "print('Found categorical features ', categorical_features)"
      ],
      "id": "bfuuIs8Ima6i"
    },
    {
      "cell_type": "code",
      "execution_count": 79,
      "metadata": {
        "id": "eAG4_GeQqTiu"
      },
      "outputs": [],
      "source": [
        "numeric_features=['Number of Proposed Stories', 'Duration']\n",
        "categorical_features=['Plansets','Permit Type', 'Proposed Construction Type', 'Neighborhoods - Analysis Boundaries','Year'] #'Zipcode'"
      ],
      "id": "eAG4_GeQqTiu"
    },
    {
      "cell_type": "code",
      "source": [
        "#X.values"
      ],
      "metadata": {
        "id": "nmZSNq-QdB1T"
      },
      "id": "nmZSNq-QdB1T",
      "execution_count": 80,
      "outputs": []
    },
    {
      "cell_type": "code",
      "source": [
        "#X_train"
      ],
      "metadata": {
        "id": "lARKVM1OgTPo"
      },
      "id": "lARKVM1OgTPo",
      "execution_count": 81,
      "outputs": []
    },
    {
      "cell_type": "code",
      "execution_count": 82,
      "metadata": {
        "id": "qOwe8HXBmbFz",
        "colab": {
          "base_uri": "https://localhost:8080/"
        },
        "outputId": "96cba352-a758-4bbe-d0cf-7fb0ef1f920f"
      },
      "outputs": [
        {
          "output_type": "stream",
          "name": "stdout",
          "text": [
            "...Done.\n",
            "\n"
          ]
        }
      ],
      "source": [
        "# Divide dataset Train set & Test set \n",
        "#If we use Kfold we don't need this part!\n",
        "#for X_train and Y_train we use all dataset since we use K-fold\n",
        "#print(\"Dividing into train and test sets...\")\n",
        "X_train = X\n",
        "Y_train = Y \n",
        "#X_train, X_test, Y_train, Y_test = train_test_split(X, Y, test_size=0.0, random_state=0)#,stratify=Y)\n",
        "print(\"...Done.\")\n",
        "print()"
      ],
      "id": "qOwe8HXBmbFz"
    },
    {
      "cell_type": "code",
      "execution_count": 83,
      "metadata": {
        "id": "eVlCoLA-mbSv"
      },
      "outputs": [],
      "source": [
        "# Create pipeline for numeric features\n",
        "numeric_transformer = Pipeline(steps=[\n",
        "    ('imputer', SimpleImputer(strategy='mean')), # missing values will be replaced by columns' mean\n",
        "    ('scaler', StandardScaler())\n",
        "])"
      ],
      "id": "eVlCoLA-mbSv"
    },
    {
      "cell_type": "code",
      "execution_count": 84,
      "metadata": {
        "id": "7b869160-f6c6-4790-a34e-203823a0d202"
      },
      "outputs": [],
      "source": [
        "# Create pipeline for categorical features\n",
        "categorical_transformer = Pipeline(\n",
        "    steps=[\n",
        "    ('encoder', OneHotEncoder(drop='first')) # first column will be dropped to avoid creating correlations between features\n",
        "    ])"
      ],
      "id": "7b869160-f6c6-4790-a34e-203823a0d202"
    },
    {
      "cell_type": "code",
      "execution_count": 85,
      "metadata": {
        "id": "krOrUBuUm0KN"
      },
      "outputs": [],
      "source": [
        "# Use ColumnTransformer to make a preprocessor object that describes all the treatments to be done\n",
        "preprocessor = ColumnTransformer(\n",
        "    transformers=[\n",
        "        ('num', numeric_transformer, numeric_features),\n",
        "        ('cat', categorical_transformer, categorical_features)\n",
        "    ])"
      ],
      "id": "krOrUBuUm0KN"
    },
    {
      "cell_type": "code",
      "source": [
        ""
      ],
      "metadata": {
        "id": "exlUgw6ChQoD"
      },
      "id": "exlUgw6ChQoD",
      "execution_count": 85,
      "outputs": []
    },
    {
      "cell_type": "code",
      "execution_count": 86,
      "metadata": {
        "id": "-B4yP8C_mzc1",
        "colab": {
          "base_uri": "https://localhost:8080/",
          "height": 486
        },
        "outputId": "541c241a-3c0c-49c1-adf1-cb1227d9c71a"
      },
      "outputs": [
        {
          "output_type": "stream",
          "name": "stdout",
          "text": [
            "Performing preprocessings on train set...\n",
            "...Done.\n",
            "     Permit Type  Number of Proposed Stories  Plansets  \\\n",
            "478            2                         4.0       2.0   \n",
            "856            1                         5.0       4.0   \n",
            "967            2                         4.0       2.0   \n",
            "978            2                         3.0       2.0   \n",
            "993            2                         3.0       2.0   \n",
            "\n",
            "    Proposed Construction Type Neighborhoods - Analysis Boundaries  Year  \\\n",
            "478                          5                 Castro/Upper Market  1991   \n",
            "856                          1                               Other  1991   \n",
            "967                          5                               Other  1995   \n",
            "978                          5                               Other  1995   \n",
            "993                          5                               Other  1996   \n",
            "\n",
            "     Duration  \n",
            "478     815.0  \n",
            "856    1100.0  \n",
            "967     528.0  \n",
            "978     496.0  \n",
            "993     662.0  \n",
            "\n"
          ]
        },
        {
          "output_type": "execute_result",
          "data": {
            "text/plain": [
              "'\\n# Preprocessings on test set\\nprint(\"Performing preprocessings on test set...\")\\nprint(X_test.head()) \\nX_test = preprocessor.transform(X_test) # Don\\'t fit again !! The test set is used for validating decisions\\n# we made based on the training set, therefore we can only apply transformations that were parametered using the training set.\\n# Otherwise this creates what is called a leak from the test set which will introduce a bias in all your results.\\nprint(\\'...Done.\\')\\nprint(X_test[0:5,:]) # MUST use this syntax because X_test is a numpy array and not a pandas DataFrame anymore\\nprint()\\n'"
            ],
            "application/vnd.google.colaboratory.intrinsic+json": {
              "type": "string"
            }
          },
          "metadata": {},
          "execution_count": 86
        }
      ],
      "source": [
        "# Preprocessings on train set\n",
        "print(\"Performing preprocessings on train set...\")\n",
        "#print(X.head())\n",
        "X_train = preprocessor.fit_transform(X_train)\n",
        "print('...Done.')\n",
        "print(X[0:5]) # MUST use this syntax because X_train is a numpy array and not a pandas DataFrame anymore\n",
        "print()\n",
        "\n",
        "\"\"\"\n",
        "# Preprocessings on test set\n",
        "print(\"Performing preprocessings on test set...\")\n",
        "print(X_test.head()) \n",
        "X_test = preprocessor.transform(X_test) # Don't fit again !! The test set is used for validating decisions\n",
        "# we made based on the training set, therefore we can only apply transformations that were parametered using the training set.\n",
        "# Otherwise this creates what is called a leak from the test set which will introduce a bias in all your results.\n",
        "print('...Done.')\n",
        "print(X_test[0:5,:]) # MUST use this syntax because X_test is a numpy array and not a pandas DataFrame anymore\n",
        "print()\n",
        "\"\"\""
      ],
      "id": "-B4yP8C_mzc1"
    },
    {
      "cell_type": "code",
      "execution_count": 86,
      "metadata": {
        "id": "61e6e509-70e1-4f30-8997-d37b86f8daee"
      },
      "outputs": [],
      "source": [
        ""
      ],
      "id": "61e6e509-70e1-4f30-8997-d37b86f8daee"
    },
    {
      "cell_type": "code",
      "execution_count": 86,
      "metadata": {
        "id": "-Pi1WL55rKEO"
      },
      "outputs": [],
      "source": [
        ""
      ],
      "id": "-Pi1WL55rKEO"
    },
    {
      "cell_type": "code",
      "execution_count": 87,
      "metadata": {
        "id": "Jk1z7WSvm9TK",
        "colab": {
          "base_uri": "https://localhost:8080/"
        },
        "outputId": "323ffaa8-28b5-4f00-9b93-4c6dfc4edc69"
      },
      "outputs": [
        {
          "output_type": "execute_result",
          "data": {
            "text/plain": [
              "0"
            ]
          },
          "metadata": {},
          "execution_count": 87
        }
      ],
      "source": [
        "np.isnan(Y_train).sum()"
      ],
      "id": "Jk1z7WSvm9TK"
    },
    {
      "cell_type": "code",
      "source": [
        "#libraries ref. https://www.kaggle.com/code/serigne/stacked-regressions-top-4-on-leaderboard\n",
        "\n",
        "from sklearn.linear_model import ElasticNet, Lasso,  BayesianRidge, LassoLarsIC\n",
        "from sklearn.ensemble import RandomForestRegressor,  GradientBoostingRegressor\n",
        "from sklearn.kernel_ridge import KernelRidge\n",
        "from sklearn.pipeline import make_pipeline\n",
        "from sklearn.preprocessing import RobustScaler\n",
        "from sklearn.base import BaseEstimator, TransformerMixin, RegressorMixin, clone\n",
        "from sklearn.model_selection import KFold, cross_val_score, train_test_split\n",
        "from sklearn.metrics import mean_squared_error\n",
        "import xgboost as xgb\n",
        "import lightgbm as lgb\n",
        "\n"
      ],
      "metadata": {
        "id": "I2z3syxStAnk"
      },
      "id": "I2z3syxStAnk",
      "execution_count": 88,
      "outputs": []
    },
    {
      "cell_type": "markdown",
      "source": [
        "---rephrase---\n",
        "\n",
        "Define a cross validation strategy\n",
        "\n",
        "We use the cross_val_score function of Sklearn. However this function has not a shuffle attribut, we add then one line of code, in order to shuffle the dataset prior to cross-validation\n"
      ],
      "metadata": {
        "id": "_PRRA92Enp_E"
      },
      "id": "_PRRA92Enp_E"
    },
    {
      "cell_type": "code",
      "source": [
        ""
      ],
      "metadata": {
        "id": "5b7_HSZayLWJ"
      },
      "id": "5b7_HSZayLWJ",
      "execution_count": 88,
      "outputs": []
    },
    {
      "cell_type": "code",
      "source": [
        "#Validation function\n",
        "n_folds = 3\n",
        "\n",
        "#sqrt of negative mean error\n",
        "def rmsle_cv(model):\n",
        "    kf = KFold(n_folds, shuffle=True, random_state=0).get_n_splits(X_train)\n",
        "    rmse= np.sqrt(-cross_val_score(model, X_train, Y_train, scoring=\"neg_mean_squared_error\", cv = kf))\n",
        "    return(rmse)"
      ],
      "metadata": {
        "id": "A5iwGmo2tAV6"
      },
      "id": "A5iwGmo2tAV6",
      "execution_count": 89,
      "outputs": []
    },
    {
      "cell_type": "code",
      "source": [
        "#R2\n",
        "\n",
        "def R2_cv(model):\n",
        "    kf = KFold(n_folds, shuffle=True, random_state=0).get_n_splits(X_train)\n",
        "    R2= cross_val_score(model, X_train, Y_train, scoring=\"r2\", cv = kf)\n",
        "    return(R2)"
      ],
      "metadata": {
        "id": "QCYl-zXvX-Z0"
      },
      "id": "QCYl-zXvX-Z0",
      "execution_count": 90,
      "outputs": []
    },
    {
      "cell_type": "code",
      "source": [
        "#‘explained_variance’"
      ],
      "metadata": {
        "id": "U1aJwS0rxZn0"
      },
      "id": "U1aJwS0rxZn0",
      "execution_count": 91,
      "outputs": []
    },
    {
      "cell_type": "code",
      "source": [
        "def R2_cv(model):\n",
        "    kf = KFold(n_folds, shuffle=True, random_state=0).get_n_splits(X_train)\n",
        "    R2= cross_val_score(model, X_train, Y_train, scoring=\"r2\", cv = kf)\n",
        "    return(R2)"
      ],
      "metadata": {
        "id": "ORJLQvxtw5Zu"
      },
      "id": "ORJLQvxtw5Zu",
      "execution_count": 92,
      "outputs": []
    },
    {
      "cell_type": "code",
      "source": [
        "#Defining rmsle function\n",
        "def rmsle(y, y_pred):\n",
        "    return np.sqrt(mean_squared_error(y, y_pred))\n"
      ],
      "metadata": {
        "id": "xWr2ww9pyaFH"
      },
      "id": "xWr2ww9pyaFH",
      "execution_count": 93,
      "outputs": []
    },
    {
      "cell_type": "code",
      "source": [
        ""
      ],
      "metadata": {
        "id": "www88og7r_4r"
      },
      "id": "www88og7r_4r",
      "execution_count": 93,
      "outputs": []
    },
    {
      "cell_type": "code",
      "source": [
        ""
      ],
      "metadata": {
        "id": "YwZpNEfRr2qT"
      },
      "id": "YwZpNEfRr2qT",
      "execution_count": 93,
      "outputs": []
    },
    {
      "cell_type": "code",
      "source": [
        ""
      ],
      "metadata": {
        "id": "RVHQK-KQsH3X"
      },
      "id": "RVHQK-KQsH3X",
      "execution_count": 93,
      "outputs": []
    },
    {
      "cell_type": "markdown",
      "source": [
        "\n",
        "Base models\n",
        "\n",
        "    Linear Regression :\n",
        "\n",
        "No, we dont apply Robustscaler()!\n",
        "This model may be very sensitive to outliers. So we need to made it more robust on them. For that we use the sklearn's Robustscaler() method on pipeline\n"
      ],
      "metadata": {
        "id": "xLAZOVdnozr7"
      },
      "id": "xLAZOVdnozr7"
    },
    {
      "cell_type": "code",
      "source": [
        "regressor0= LinearRegression()"
      ],
      "metadata": {
        "id": "3HUvPrL1vu4G"
      },
      "id": "3HUvPrL1vu4G",
      "execution_count": 94,
      "outputs": []
    },
    {
      "cell_type": "markdown",
      "source": [
        "\n",
        "    LASSO Regression :\n",
        "\n"
      ],
      "metadata": {
        "id": "bw8EOJ8ruBiE"
      },
      "id": "bw8EOJ8ruBiE"
    },
    {
      "cell_type": "code",
      "source": [
        ""
      ],
      "metadata": {
        "id": "1AgdKOequBHD"
      },
      "id": "1AgdKOequBHD",
      "execution_count": 94,
      "outputs": []
    },
    {
      "cell_type": "code",
      "source": [
        "lasso = Lasso(alpha =0.0005, random_state=0)\n",
        "#make_pipeline(RobustScaler(), Lasso(alpha =0.0005, random_state=1))"
      ],
      "metadata": {
        "id": "TbP3cMXco5ou"
      },
      "id": "TbP3cMXco5ou",
      "execution_count": 95,
      "outputs": []
    },
    {
      "cell_type": "markdown",
      "source": [
        "\n",
        "\n",
        "    Elastic Net Regression :\n",
        "\n",
        "again made robust to outliers\n"
      ],
      "metadata": {
        "id": "8KPGWKCJpQwQ"
      },
      "id": "8KPGWKCJpQwQ"
    },
    {
      "cell_type": "code",
      "source": [
        "ENet = ElasticNet(alpha=0.0005, l1_ratio=.9, random_state=0)\n",
        "#make_pipeline(RobustScaler(), ElasticNet(alpha=0.0005, l1_ratio=.9, random_state=3))"
      ],
      "metadata": {
        "id": "qZ0QtaVFo5gG"
      },
      "id": "qZ0QtaVFo5gG",
      "execution_count": 96,
      "outputs": []
    },
    {
      "cell_type": "markdown",
      "source": [
        "Kernel Ridge Regression :"
      ],
      "metadata": {
        "id": "Rm8qX9sMpVuE"
      },
      "id": "Rm8qX9sMpVuE"
    },
    {
      "cell_type": "code",
      "source": [
        "KRR = KernelRidge(alpha=0.6, kernel='polynomial', degree=2, coef0=2.5)"
      ],
      "metadata": {
        "id": "ef04h9Opo5Wq"
      },
      "id": "ef04h9Opo5Wq",
      "execution_count": 97,
      "outputs": []
    },
    {
      "cell_type": "markdown",
      "source": [
        "\n",
        "\n",
        "    Gradient Boosting Regression :\n",
        "\n",
        "With huber loss that makes it robust to outliers\n"
      ],
      "metadata": {
        "id": "9ADmL37Wpaax"
      },
      "id": "9ADmL37Wpaax"
    },
    {
      "cell_type": "code",
      "source": [
        "GBoost = GradientBoostingRegressor(n_estimators=3000, learning_rate=0.05,\n",
        "                                   max_depth=4, max_features='sqrt',\n",
        "                                   min_samples_leaf=15, min_samples_split=10, \n",
        "                                   loss='huber', random_state =0)"
      ],
      "metadata": {
        "id": "x8sNR7bVo5Nj"
      },
      "id": "x8sNR7bVo5Nj",
      "execution_count": 98,
      "outputs": []
    },
    {
      "cell_type": "markdown",
      "source": [
        "XGBoost :"
      ],
      "metadata": {
        "id": "slWkRkz-pf4M"
      },
      "id": "slWkRkz-pf4M"
    },
    {
      "cell_type": "code",
      "source": [
        "model_xgb = xgb.XGBRegressor(colsample_bytree=0.4603, gamma=0.0468, \n",
        "                             learning_rate=0.05, max_depth=3, \n",
        "                             min_child_weight=1.7817, n_estimators=2200,\n",
        "                             reg_alpha=0.4640, reg_lambda=0.8571,\n",
        "                             subsample=0.5213, silent=1,\n",
        "                             random_state =0, nthread = -1)"
      ],
      "metadata": {
        "id": "ObR7ezMoo49H"
      },
      "id": "ObR7ezMoo49H",
      "execution_count": 99,
      "outputs": []
    },
    {
      "cell_type": "markdown",
      "source": [
        "**LightGBM - Gradient Boosting With LightGBM**\n",
        "\n",
        "LightGBM is an algorithm developed by Microsoft in 2017. It has an advantage of changing the training algorithm that make the run time faster and likely result in a more effective model.\n",
        "\n",
        "Ref. to the LightGBM algorithm paper:\n",
        "\n",
        "    LightGBM: A Highly Efficient Gradient Boosting Decision Tree, 2017.\n",
        "link : https://papers.nips.cc/paper/2017/hash/6449f44a102fde848669bdd9eb6b76fa-Abstract.html"
      ],
      "metadata": {
        "id": "cCvIgcmSpnT5"
      },
      "id": "cCvIgcmSpnT5"
    },
    {
      "cell_type": "code",
      "source": [
        "model_lgb = lgb.LGBMRegressor(objective='regression',num_leaves=5,\n",
        "                              learning_rate=0.05, n_estimators=720,\n",
        "                              max_bin = 55, bagging_fraction = 0.8,\n",
        "                              bagging_freq = 5, feature_fraction = 0.2319,\n",
        "                              feature_fraction_seed=9, bagging_seed=9,\n",
        "                              min_data_in_leaf =6, min_sum_hessian_in_leaf = 11)"
      ],
      "metadata": {
        "id": "gHh9PxOZpqcp"
      },
      "id": "gHh9PxOZpqcp",
      "execution_count": 100,
      "outputs": []
    },
    {
      "cell_type": "markdown",
      "source": [
        "\n",
        "#Base models scores\n",
        "\n",
        "Let's see how these base models perform on the data by evaluating the cross-validation rmsle error\n"
      ],
      "metadata": {
        "id": "Wjrfuu67pwoZ"
      },
      "id": "Wjrfuu67pwoZ"
    },
    {
      "cell_type": "code",
      "source": [
        ""
      ],
      "metadata": {
        "id": "9MG51SZgZd_7"
      },
      "id": "9MG51SZgZd_7",
      "execution_count": 100,
      "outputs": []
    },
    {
      "cell_type": "code",
      "source": [
        ""
      ],
      "metadata": {
        "id": "ZBYOre9K3_s5"
      },
      "id": "ZBYOre9K3_s5",
      "execution_count": 100,
      "outputs": []
    },
    {
      "cell_type": "code",
      "source": [
        ""
      ],
      "metadata": {
        "id": "pgt2-OoE5J5K"
      },
      "id": "pgt2-OoE5J5K",
      "execution_count": 100,
      "outputs": []
    },
    {
      "cell_type": "code",
      "source": [
        "\n",
        "model = regressor0\n",
        "print(\"\\nLinear regressor model\\n\")\n",
        "score_1 = R2_cv(model)\n",
        "print(\"R2 score - mean : {:.4f}  |  std : {:.4f}\\n\".format(score_1.mean(), score_1.std()))\n",
        "score_2 = rmsle_cv(model)\n",
        "print(\"\\nRMSLE regressor score - mean : {:.4f}  |  std : {:.4f}\\n\".format(score_2.mean(), score_2.std()))"
      ],
      "metadata": {
        "colab": {
          "base_uri": "https://localhost:8080/"
        },
        "id": "EBfd--IJwVgp",
        "outputId": "b1fd17b7-d53b-4cda-dcc7-c14ee2190b75"
      },
      "id": "EBfd--IJwVgp",
      "execution_count": 111,
      "outputs": [
        {
          "output_type": "stream",
          "name": "stdout",
          "text": [
            "\n",
            "Linear regressor model\n",
            "\n",
            "R2 score - mean : 0.3670  |  std : 0.1367\n",
            "\n",
            "\n",
            "RMSLE regressor score - mean : 0.5193  |  std : 0.1325\n",
            "\n"
          ]
        }
      ]
    },
    {
      "cell_type": "code",
      "source": [
        "model = lasso\n",
        "\n",
        "print(\"\\nLasso model\\n\")\n",
        "score_1 = R2_cv(model)\n",
        "print(\"R2 score - mean : {:.4f}  |  std : {:.4f}\\n\".format(score_1.mean(), score_1.std()))\n",
        "score_2 = rmsle_cv(model)\n",
        "print(\"\\nRMSLE regressor score - mean : {:.4f}  |  std : {:.4f}\\n\".format(score_2.mean(), score_2.std()))"
      ],
      "metadata": {
        "colab": {
          "base_uri": "https://localhost:8080/"
        },
        "id": "aniNHgvDqV92",
        "outputId": "48a32de1-b84f-4219-fa17-f31e093ef778"
      },
      "id": "aniNHgvDqV92",
      "execution_count": 112,
      "outputs": [
        {
          "output_type": "stream",
          "name": "stdout",
          "text": [
            "\n",
            "Lasso model\n",
            "\n",
            "R2 score - mean : 0.3418  |  std : 0.0878\n",
            "\n",
            "\n",
            "RMSLE regressor score - mean : 0.5261  |  std : 0.1016\n",
            "\n"
          ]
        }
      ]
    },
    {
      "cell_type": "code",
      "source": [
        "model = ENet\n",
        "print(\"\\nElastic Net regressor model\\n\")\n",
        "score_1 = R2_cv(model)\n",
        "print(\"R2 score - mean : {:.4f}  |  std : {:.4f}\\n\".format(score_1.mean(), score_1.std()))\n",
        "score_2 = rmsle_cv(model)\n",
        "print(\"\\nRMSLE regressor score - mean : {:.4f}  |  std : {:.4f}\\n\".format(score_2.mean(), score_2.std()))\n"
      ],
      "metadata": {
        "colab": {
          "base_uri": "https://localhost:8080/"
        },
        "id": "wfeWJwPDqSL7",
        "outputId": "4b15d802-4640-48c5-a389-72ad4da1f254"
      },
      "id": "wfeWJwPDqSL7",
      "execution_count": 113,
      "outputs": [
        {
          "output_type": "stream",
          "name": "stdout",
          "text": [
            "\n",
            "Elastic Net regressor model\n",
            "\n",
            "R2 score - mean : 0.3429  |  std : 0.0910\n",
            "\n",
            "\n",
            "RMSLE regressor score - mean : 0.5259  |  std : 0.1041\n",
            "\n"
          ]
        }
      ]
    },
    {
      "cell_type": "code",
      "source": [
        "model = KRR\n",
        "print(\"\\nKernel Ridge model\\n\")\n",
        "score_1 = R2_cv(model)\n",
        "print(\"R2 score - mean : {:.4f}  |  std : {:.4f}\\n\".format(score_1.mean(), score_1.std()))\n",
        "score_2 = rmsle_cv(model)\n",
        "print(\"\\nRMSLE regressor score - mean : {:.4f}  |  std : {:.4f}\\n\".format(score_2.mean(), score_2.std()))"
      ],
      "metadata": {
        "colab": {
          "base_uri": "https://localhost:8080/"
        },
        "id": "J4kydvYJqR4k",
        "outputId": "d11d5a7d-c84d-453d-8859-3effd16a33b7"
      },
      "id": "J4kydvYJqR4k",
      "execution_count": 114,
      "outputs": [
        {
          "output_type": "stream",
          "name": "stdout",
          "text": [
            "\n",
            "Kernel Ridge model\n",
            "\n",
            "R2 score - mean : 0.4033  |  std : 0.0788\n",
            "\n",
            "\n",
            "RMSLE regressor score - mean : 0.5006  |  std : 0.0950\n",
            "\n"
          ]
        }
      ]
    },
    {
      "cell_type": "code",
      "source": [
        "model = GBoost\n",
        "print(\"\\nGradient Boosting model\\n\")\n",
        "score_1 = R2_cv(model)\n",
        "print(\"R2 score - mean : {:.4f}  |  std : {:.4f}\\n\".format(score_1.mean(), score_1.std()))\n",
        "score_2 = rmsle_cv(model)\n",
        "print(\"\\nRMSLE regressor score - mean : {:.4f}  |  std : {:.4f}\\n\".format(score_2.mean(), score_2.std()))\n"
      ],
      "metadata": {
        "colab": {
          "base_uri": "https://localhost:8080/"
        },
        "id": "FNYEi-YFpqLO",
        "outputId": "db8d6d41-72c3-4182-91bd-17194c285884"
      },
      "id": "FNYEi-YFpqLO",
      "execution_count": 115,
      "outputs": [
        {
          "output_type": "stream",
          "name": "stdout",
          "text": [
            "\n",
            "Gradient Boosting model\n",
            "\n",
            "R2 score - mean : 0.5470  |  std : 0.0176\n",
            "\n",
            "\n",
            "RMSLE regressor score - mean : 0.4364  |  std : 0.0715\n",
            "\n"
          ]
        }
      ]
    },
    {
      "cell_type": "code",
      "source": [
        "model = model_xgb\n",
        "print(\"\\n XGBoost model\\n\")\n",
        "score_1 = R2_cv(model)\n",
        "print(\"R2 score - mean : {:.4f}  |  std : {:.4f}\\n\".format(score_1.mean(), score_1.std()))\n",
        "score_2 = rmsle_cv(model)\n",
        "print(\"\\nRMSLE regressor score - mean : {:.4f}  |  std : {:.4f}\\n\".format(score_2.mean(), score_2.std()))"
      ],
      "metadata": {
        "colab": {
          "base_uri": "https://localhost:8080/"
        },
        "id": "vTlRPck4poih",
        "outputId": "db6e8ac3-26f4-459c-b714-cb37cc74d440"
      },
      "id": "vTlRPck4poih",
      "execution_count": 116,
      "outputs": [
        {
          "output_type": "stream",
          "name": "stdout",
          "text": [
            "\n",
            " XGBoost model\n",
            "\n",
            "R2 score - mean : 0.5529  |  std : 0.0344\n",
            "\n",
            "\n",
            "RMSLE regressor score - mean : 0.4345  |  std : 0.0803\n",
            "\n"
          ]
        }
      ]
    },
    {
      "cell_type": "code",
      "source": [
        ""
      ],
      "metadata": {
        "id": "YiScfNi2q236"
      },
      "id": "YiScfNi2q236",
      "execution_count": 116,
      "outputs": []
    },
    {
      "cell_type": "code",
      "source": [
        "model = model_lgb\n",
        "print(\"\\nLGBM model\\n\")\n",
        "score_1 = R2_cv(model)\n",
        "print(\"R2 score - mean : {:.4f}  |  std : {:.4f}\\n\".format(score_1.mean(), score_1.std()))\n",
        "score_2 = rmsle_cv(model)\n",
        "print(\"\\nRMSLE regressor score - mean : {:.4f}  |  std : {:.4f}\\n\".format(score_2.mean(), score_2.std()))"
      ],
      "metadata": {
        "colab": {
          "base_uri": "https://localhost:8080/"
        },
        "id": "tsIQYc5UqLdo",
        "outputId": "7392c89e-690d-4798-ed3a-8b111aa32bc9"
      },
      "id": "tsIQYc5UqLdo",
      "execution_count": 117,
      "outputs": [
        {
          "output_type": "stream",
          "name": "stdout",
          "text": [
            "\n",
            "LGBM model\n",
            "\n",
            "R2 score - mean : 0.5391  |  std : 0.0337\n",
            "\n",
            "\n",
            "RMSLE regressor score - mean : 0.4382  |  std : 0.0610\n",
            "\n"
          ]
        }
      ]
    },
    {
      "cell_type": "code",
      "source": [
        "score_1"
      ],
      "metadata": {
        "id": "M14LIdwyqLPM",
        "colab": {
          "base_uri": "https://localhost:8080/"
        },
        "outputId": "4fbcec05-b079-4a18-ed47-fca7d059f6a4"
      },
      "id": "M14LIdwyqLPM",
      "execution_count": 108,
      "outputs": [
        {
          "output_type": "execute_result",
          "data": {
            "text/plain": [
              "array([0.49359094, 0.57428782, 0.5493392 ])"
            ]
          },
          "metadata": {},
          "execution_count": 108
        }
      ]
    },
    {
      "cell_type": "code",
      "source": [
        "score_2"
      ],
      "metadata": {
        "id": "pvWf_SwcqK6J",
        "colab": {
          "base_uri": "https://localhost:8080/"
        },
        "outputId": "99f199fb-cadc-43ae-f3c6-61d31d515b91"
      },
      "id": "pvWf_SwcqK6J",
      "execution_count": 109,
      "outputs": [
        {
          "output_type": "execute_result",
          "data": {
            "text/plain": [
              "array([0.37818373, 0.41443536, 0.52190058])"
            ]
          },
          "metadata": {},
          "execution_count": 109
        }
      ]
    },
    {
      "cell_type": "markdown",
      "source": [
        "***Add your observations and conclusions here***"
      ],
      "metadata": {
        "id": "RtJafmhJ9EVt"
      },
      "id": "RtJafmhJ9EVt"
    },
    {
      "cell_type": "code",
      "execution_count": 110,
      "metadata": {
        "id": "QTQe4fSCVJOt",
        "colab": {
          "base_uri": "https://localhost:8080/",
          "height": 168
        },
        "outputId": "7c0471c5-859a-471b-9225-1040e6cda53e"
      },
      "outputs": [
        {
          "output_type": "error",
          "ename": "NameError",
          "evalue": "ignored",
          "traceback": [
            "\u001b[0;31m---------------------------------------------------------------------------\u001b[0m",
            "\u001b[0;31mNameError\u001b[0m                                 Traceback (most recent call last)",
            "\u001b[0;32m<ipython-input-110-03cfd743661f>\u001b[0m in \u001b[0;36m<module>\u001b[0;34m()\u001b[0m\n\u001b[0;32m----> 1\u001b[0;31m \u001b[0mabc\u001b[0m\u001b[0;34m\u001b[0m\u001b[0;34m\u001b[0m\u001b[0m\n\u001b[0m",
            "\u001b[0;31mNameError\u001b[0m: name 'abc' is not defined"
          ]
        }
      ],
      "source": [
        ""
      ],
      "id": "QTQe4fSCVJOt"
    },
    {
      "cell_type": "code",
      "execution_count": null,
      "metadata": {
        "id": "154f8358-7fcb-4d45-a3d1-c8dbeb754878"
      },
      "outputs": [],
      "source": [
        ""
      ],
      "id": "154f8358-7fcb-4d45-a3d1-c8dbeb754878"
    },
    {
      "cell_type": "markdown",
      "source": [
        "***Conclusions ***\n",
        "\n",
        "Stopped here 11/08/22\n"
      ],
      "metadata": {
        "id": "1CQBoKOA2SSY"
      },
      "id": "1CQBoKOA2SSY"
    },
    {
      "cell_type": "markdown",
      "metadata": {
        "id": "mSJg5_IvVWVe"
      },
      "source": [
        "*** Conclusion : ***\n",
        "Comment on your results"
      ],
      "id": "mSJg5_IvVWVe"
    }
  ],
  "metadata": {
    "colab": {
      "collapsed_sections": [],
      "name": "SF_mining.ipynb",
      "provenance": []
    },
    "kernelspec": {
      "display_name": "Python 3 (ipykernel)",
      "language": "python",
      "name": "python3"
    },
    "language_info": {
      "codemirror_mode": {
        "name": "ipython",
        "version": 3
      },
      "file_extension": ".py",
      "mimetype": "text/x-python",
      "name": "python",
      "nbconvert_exporter": "python",
      "pygments_lexer": "ipython3",
      "version": "3.9.7"
    }
  },
  "nbformat": 4,
  "nbformat_minor": 5
}