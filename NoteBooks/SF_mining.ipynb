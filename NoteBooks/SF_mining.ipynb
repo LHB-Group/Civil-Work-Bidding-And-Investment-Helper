{
 "cells": [
  {
   "cell_type": "markdown",
   "id": "276e7c4c-d1f6-467c-9863-80e8d552ef8a",
   "metadata": {},
   "source": [
    "***PART 1 - LOADING LIBRARIES AND DATABASE***"
   ]
  },
  {
   "cell_type": "code",
   "execution_count": 1,
   "id": "462851cc-45f5-4f5f-860a-7c154c262dd3",
   "metadata": {},
   "outputs": [],
   "source": [
    "import pandas as pd\n",
    "import numpy as np\n",
    "import matplotlib.pyplot as plt\n",
    "\n",
    "import plotly.express as px\n",
    "import plotly.graph_objects as go\n",
    "from plotly.subplots import make_subplots\n",
    "import plotly.io as pio\n",
    "\n",
    "pd.options.display.max_columns = None #The dataset is huge. To see all of the columns, we change max columns\n"
   ]
  },
  {
   "cell_type": "code",
   "execution_count": 2,
   "id": "ad2096f8-d662-4ed7-aadd-d0362fc1713b",
   "metadata": {},
   "outputs": [],
   "source": [
    "fname1 = 'Building_Permits.csv'\n"
   ]
  },
  {
   "cell_type": "code",
   "execution_count": 3,
   "id": "da151b56-2ac1-43d1-beb0-2084703103f5",
   "metadata": {},
   "outputs": [],
   "source": [
    "dataset = pd.read_csv(fname1, low_memory=False)"
   ]
  },
  {
   "cell_type": "code",
   "execution_count": 4,
   "id": "547bd10f-54d8-4960-8bd8-17f075986afb",
   "metadata": {},
   "outputs": [
    {
     "data": {
      "text/plain": [
       "(1193083, 53)"
      ]
     },
     "execution_count": 4,
     "metadata": {},
     "output_type": "execute_result"
    }
   ],
   "source": [
    "dataset.shape"
   ]
  },
  {
   "cell_type": "code",
   "execution_count": 5,
   "id": "c857dce1-a36e-4ca5-b76d-3bb5a026c453",
   "metadata": {},
   "outputs": [
    {
     "data": {
      "text/plain": [
       "Index(['Permit Number', 'Permit Type', 'Permit Type Definition',\n",
       "       'Permit Creation Date', 'Block', 'Lot', 'Street Number',\n",
       "       'Street Number Suffix', 'Street Name', 'Street Suffix', 'Unit',\n",
       "       'Unit Suffix', 'Description', 'Current Status', 'Current Status Date',\n",
       "       'Filed Date', 'Issued Date', 'Completed Date',\n",
       "       'First Construction Document Date', 'Structural Notification',\n",
       "       'Number of Existing Stories', 'Number of Proposed Stories',\n",
       "       'Voluntary Soft-Story Retrofit', 'Fire Only Permit',\n",
       "       'Permit Expiration Date', 'Estimated Cost', 'Revised Cost',\n",
       "       'Existing Use', 'Existing Units', 'Proposed Use', 'Proposed Units',\n",
       "       'Plansets', 'TIDF Compliance', 'Existing Construction Type',\n",
       "       'Existing Construction Type Description', 'Proposed Construction Type',\n",
       "       'Proposed Construction Type Description', 'Site Permit',\n",
       "       'Supervisor District', 'Neighborhoods - Analysis Boundaries', 'Zipcode',\n",
       "       'Location', 'Record ID', 'SF Find Neighborhoods 2',\n",
       "       'Current Police Districts 2', 'Current Supervisor Districts 2',\n",
       "       'Analysis Neighborhoods 2', 'DELETE - Zip Codes 2',\n",
       "       'DELETE - Fire Prevention Districts 2',\n",
       "       'DELETE - Supervisor Districts 2',\n",
       "       'DELETE - Current Police Districts 2',\n",
       "       'DELETE - Supervisorial_Districts_Waterline_data_from_7pkg_wer3 2',\n",
       "       'Neighborhoods'],\n",
       "      dtype='object')"
      ]
     },
     "execution_count": 5,
     "metadata": {},
     "output_type": "execute_result"
    }
   ],
   "source": [
    "dataset.columns"
   ]
  },
  {
   "cell_type": "code",
   "execution_count": 9,
   "id": "c7a45967-5f7b-4d28-8daa-f9364463a752",
   "metadata": {},
   "outputs": [
    {
     "name": "stdout",
     "output_type": "stream",
     "text": [
      "Earliest date db1= 10/24/2019\n",
      "Last date db1 =  1193082    12/06/1983\n",
      "Name: Filed Date, dtype: object\n"
     ]
    }
   ],
   "source": [
    "#date range verification\n",
    "print('Earliest date db1=', dataset['Filed Date'][0])\n",
    "print('Last date db1 = ', dataset['Filed Date'].tail(1))"
   ]
  },
  {
   "cell_type": "markdown",
   "id": "42b27bed-9216-4107-ab14-7fbdcd1c6b2a",
   "metadata": {},
   "source": [
    "In the following, we will convert Date columns to Datetime. It will be useful to avoid problems with our visualizations."
   ]
  },
  {
   "cell_type": "code",
   "execution_count": 10,
   "id": "0e6fbf99-3751-496e-ab1e-c13587fd3afa",
   "metadata": {},
   "outputs": [
    {
     "data": {
      "text/plain": [
       "['Permit Creation Date',\n",
       " 'Current Status Date',\n",
       " 'Filed Date',\n",
       " 'Issued Date',\n",
       " 'Completed Date',\n",
       " 'First Construction Document Date',\n",
       " 'Permit Expiration Date']"
      ]
     },
     "execution_count": 10,
     "metadata": {},
     "output_type": "execute_result"
    }
   ],
   "source": [
    "date_cols = [col for col in dataset.columns if 'date' in col.lower()]\n",
    "date_cols"
   ]
  },
  {
   "cell_type": "code",
   "execution_count": 11,
   "id": "63112874-67ee-4cb5-b125-dda452c3245b",
   "metadata": {},
   "outputs": [
    {
     "data": {
      "text/plain": [
       "'10/24/2019'"
      ]
     },
     "execution_count": 11,
     "metadata": {},
     "output_type": "execute_result"
    }
   ],
   "source": [
    "dataset['Permit Creation Date'][0]"
   ]
  },
  {
   "cell_type": "code",
   "execution_count": 28,
   "id": "d39e5cbe-ed43-4c60-b823-d0a60face067",
   "metadata": {},
   "outputs": [
    {
     "name": "stdout",
     "output_type": "stream",
     "text": [
      "Col : Permit Creation Date  Min=  1901-03-10 00:00:00 Max=  2022-08-05 00:00:00\n",
      "Col : Current Status Date  Min=  1968-10-25 00:00:00 Max=  2022-08-05 00:00:00\n",
      "Col : Filed Date  Min=  1901-03-10 00:00:00 Max=  2022-08-05 00:00:00\n",
      "Col : Issued Date  Min=  1906-11-08 00:00:00 Max=  2022-08-05 00:00:00\n",
      "Col : Completed Date  Min=  1900-03-01 00:00:00 Max=  2022-08-05 00:00:00\n",
      "Col : First Construction Document Date  Min=  1989-03-27 00:00:00 Max=  2022-08-04 00:00:00\n",
      "Col : Permit Expiration Date  Min=  1948-11-13 00:00:00 Max=  2031-01-29 00:00:00\n"
     ]
    }
   ],
   "source": [
    "for col in date_cols:\n",
    "    dataset.loc[:,col] = pd.to_datetime(dataset[col], errors = 'coerce')\n",
    "    print('Col :',col, ' Min= ', dataset.loc[:,col].min(), 'Max= ', dataset.loc[:,col].max())\n",
    "    #we used errors = coerce, as there are some values/outliers out of the bound     "
   ]
  },
  {
   "cell_type": "code",
   "execution_count": 29,
   "id": "c8d0da2e-6d53-4a4c-9ccf-e21c08ddba5c",
   "metadata": {},
   "outputs": [
    {
     "name": "stdout",
     "output_type": "stream",
     "text": [
      "<class 'pandas.core.frame.DataFrame'>\n",
      "RangeIndex: 1193083 entries, 0 to 1193082\n",
      "Data columns (total 7 columns):\n",
      " #   Column                            Non-Null Count    Dtype         \n",
      "---  ------                            --------------    -----         \n",
      " 0   Permit Creation Date              1193083 non-null  datetime64[ns]\n",
      " 1   Current Status Date               1193071 non-null  datetime64[ns]\n",
      " 2   Filed Date                        1193067 non-null  datetime64[ns]\n",
      " 3   Issued Date                       1133452 non-null  datetime64[ns]\n",
      " 4   Completed Date                    666075 non-null   datetime64[ns]\n",
      " 5   First Construction Document Date  14580 non-null    datetime64[ns]\n",
      " 6   Permit Expiration Date            1008221 non-null  datetime64[ns]\n",
      "dtypes: datetime64[ns](7)\n",
      "memory usage: 63.7 MB\n"
     ]
    }
   ],
   "source": [
    "dataset[date_cols].info()"
   ]
  },
  {
   "cell_type": "code",
   "execution_count": 31,
   "id": "f143667f-f037-4613-b887-abb704a08605",
   "metadata": {},
   "outputs": [
    {
     "data": {
      "text/html": [
       "<div>\n",
       "<style scoped>\n",
       "    .dataframe tbody tr th:only-of-type {\n",
       "        vertical-align: middle;\n",
       "    }\n",
       "\n",
       "    .dataframe tbody tr th {\n",
       "        vertical-align: top;\n",
       "    }\n",
       "\n",
       "    .dataframe thead th {\n",
       "        text-align: right;\n",
       "    }\n",
       "</style>\n",
       "<table border=\"1\" class=\"dataframe\">\n",
       "  <thead>\n",
       "    <tr style=\"text-align: right;\">\n",
       "      <th></th>\n",
       "      <th>Permit Creation Date</th>\n",
       "      <th>Current Status Date</th>\n",
       "      <th>Filed Date</th>\n",
       "      <th>Issued Date</th>\n",
       "      <th>Completed Date</th>\n",
       "      <th>First Construction Document Date</th>\n",
       "      <th>Permit Expiration Date</th>\n",
       "    </tr>\n",
       "  </thead>\n",
       "  <tbody>\n",
       "    <tr>\n",
       "      <th>count</th>\n",
       "      <td>1193083</td>\n",
       "      <td>1193071</td>\n",
       "      <td>1193067</td>\n",
       "      <td>1133452</td>\n",
       "      <td>666075</td>\n",
       "      <td>14580</td>\n",
       "      <td>1008221</td>\n",
       "    </tr>\n",
       "    <tr>\n",
       "      <th>mean</th>\n",
       "      <td>2004-10-04 02:12:47.727308288</td>\n",
       "      <td>2005-06-17 07:21:16.222119040</td>\n",
       "      <td>2004-10-05 02:59:20.432397952</td>\n",
       "      <td>2004-11-02 17:29:32.602633600</td>\n",
       "      <td>2004-09-15 10:47:11.389257728</td>\n",
       "      <td>2009-09-16 07:38:10.370370560</td>\n",
       "      <td>2004-10-05 15:41:19.759894016</td>\n",
       "    </tr>\n",
       "    <tr>\n",
       "      <th>min</th>\n",
       "      <td>1901-03-10 00:00:00</td>\n",
       "      <td>1968-10-25 00:00:00</td>\n",
       "      <td>1901-03-10 00:00:00</td>\n",
       "      <td>1906-11-08 00:00:00</td>\n",
       "      <td>1900-03-01 00:00:00</td>\n",
       "      <td>1989-03-27 00:00:00</td>\n",
       "      <td>1948-11-13 00:00:00</td>\n",
       "    </tr>\n",
       "    <tr>\n",
       "      <th>25%</th>\n",
       "      <td>1996-03-26 00:00:00</td>\n",
       "      <td>1996-12-25 00:00:00</td>\n",
       "      <td>1996-03-27 00:00:00</td>\n",
       "      <td>1996-06-21 00:00:00</td>\n",
       "      <td>1995-01-23 00:00:00</td>\n",
       "      <td>2003-07-21 00:00:00</td>\n",
       "      <td>1995-10-10 00:00:00</td>\n",
       "    </tr>\n",
       "    <tr>\n",
       "      <th>50%</th>\n",
       "      <td>2005-09-09 00:00:00</td>\n",
       "      <td>2006-07-10 00:00:00</td>\n",
       "      <td>2005-09-09 00:00:00</td>\n",
       "      <td>2005-09-13 00:00:00</td>\n",
       "      <td>2005-11-17 00:00:00</td>\n",
       "      <td>2008-08-01 00:00:00</td>\n",
       "      <td>2004-10-08 00:00:00</td>\n",
       "    </tr>\n",
       "    <tr>\n",
       "      <th>75%</th>\n",
       "      <td>2014-04-17 00:00:00</td>\n",
       "      <td>2014-11-14 00:00:00</td>\n",
       "      <td>2014-04-17 00:00:00</td>\n",
       "      <td>2014-02-27 00:00:00</td>\n",
       "      <td>2014-07-24 00:00:00</td>\n",
       "      <td>2016-06-24 00:00:00</td>\n",
       "      <td>2014-08-03 00:00:00</td>\n",
       "    </tr>\n",
       "    <tr>\n",
       "      <th>max</th>\n",
       "      <td>2022-08-05 00:00:00</td>\n",
       "      <td>2022-08-05 00:00:00</td>\n",
       "      <td>2022-08-05 00:00:00</td>\n",
       "      <td>2022-08-05 00:00:00</td>\n",
       "      <td>2022-08-05 00:00:00</td>\n",
       "      <td>2022-08-04 00:00:00</td>\n",
       "      <td>2031-01-29 00:00:00</td>\n",
       "    </tr>\n",
       "  </tbody>\n",
       "</table>\n",
       "</div>"
      ],
      "text/plain": [
       "                Permit Creation Date            Current Status Date  \\\n",
       "count                        1193083                        1193071   \n",
       "mean   2004-10-04 02:12:47.727308288  2005-06-17 07:21:16.222119040   \n",
       "min              1901-03-10 00:00:00            1968-10-25 00:00:00   \n",
       "25%              1996-03-26 00:00:00            1996-12-25 00:00:00   \n",
       "50%              2005-09-09 00:00:00            2006-07-10 00:00:00   \n",
       "75%              2014-04-17 00:00:00            2014-11-14 00:00:00   \n",
       "max              2022-08-05 00:00:00            2022-08-05 00:00:00   \n",
       "\n",
       "                          Filed Date                    Issued Date  \\\n",
       "count                        1193067                        1133452   \n",
       "mean   2004-10-05 02:59:20.432397952  2004-11-02 17:29:32.602633600   \n",
       "min              1901-03-10 00:00:00            1906-11-08 00:00:00   \n",
       "25%              1996-03-27 00:00:00            1996-06-21 00:00:00   \n",
       "50%              2005-09-09 00:00:00            2005-09-13 00:00:00   \n",
       "75%              2014-04-17 00:00:00            2014-02-27 00:00:00   \n",
       "max              2022-08-05 00:00:00            2022-08-05 00:00:00   \n",
       "\n",
       "                      Completed Date First Construction Document Date  \\\n",
       "count                         666075                            14580   \n",
       "mean   2004-09-15 10:47:11.389257728    2009-09-16 07:38:10.370370560   \n",
       "min              1900-03-01 00:00:00              1989-03-27 00:00:00   \n",
       "25%              1995-01-23 00:00:00              2003-07-21 00:00:00   \n",
       "50%              2005-11-17 00:00:00              2008-08-01 00:00:00   \n",
       "75%              2014-07-24 00:00:00              2016-06-24 00:00:00   \n",
       "max              2022-08-05 00:00:00              2022-08-04 00:00:00   \n",
       "\n",
       "              Permit Expiration Date  \n",
       "count                        1008221  \n",
       "mean   2004-10-05 15:41:19.759894016  \n",
       "min              1948-11-13 00:00:00  \n",
       "25%              1995-10-10 00:00:00  \n",
       "50%              2004-10-08 00:00:00  \n",
       "75%              2014-08-03 00:00:00  \n",
       "max              2031-01-29 00:00:00  "
      ]
     },
     "execution_count": 31,
     "metadata": {},
     "output_type": "execute_result"
    }
   ],
   "source": [
    "dataset[date_cols].describe(datetime_is_numeric=True )"
   ]
  },
  {
   "cell_type": "code",
   "execution_count": null,
   "id": "889e1c5f-47ff-4565-bf44-a1a21ae949b4",
   "metadata": {},
   "outputs": [],
   "source": [
    "fig = px.bar (dataset, x=date_cols[0],\n",
    "                   title='Histogram of Permits in San Francisco',\n",
    "                   #labels={'total_bill':'total bill'}, # can specify one label per df column\n",
    "                   opacity=0.8,\n",
    "                   log_y=True, # represent bars with log scale\n",
    "                   hover_data=[\"Permit Type Definition\"],\n",
    "                   color_discrete_sequence=['indianred'] # color of histogram bars\n",
    "                   )\n",
    "fig.update_xaxes(rangeslider_visible=True)\n",
    "fig.show()"
   ]
  },
  {
   "cell_type": "code",
   "execution_count": 40,
   "id": "8ba2b08a-687d-45d0-9d6f-3b4ab0a0cd76",
   "metadata": {},
   "outputs": [
    {
     "data": {
      "text/plain": [
       "2020"
      ]
     },
     "execution_count": 40,
     "metadata": {},
     "output_type": "execute_result"
    }
   ],
   "source": [
    "dataset[date_cols[0]][1].year"
   ]
  },
  {
   "cell_type": "code",
   "execution_count": 18,
   "id": "154f8358-7fcb-4d45-a3d1-c8dbeb754878",
   "metadata": {},
   "outputs": [
    {
     "data": {
      "text/html": [
       "<div>\n",
       "<style scoped>\n",
       "    .dataframe tbody tr th:only-of-type {\n",
       "        vertical-align: middle;\n",
       "    }\n",
       "\n",
       "    .dataframe tbody tr th {\n",
       "        vertical-align: top;\n",
       "    }\n",
       "\n",
       "    .dataframe thead th {\n",
       "        text-align: right;\n",
       "    }\n",
       "</style>\n",
       "<table border=\"1\" class=\"dataframe\">\n",
       "  <thead>\n",
       "    <tr style=\"text-align: right;\">\n",
       "      <th></th>\n",
       "      <th>Permit Number</th>\n",
       "      <th>Permit Type</th>\n",
       "      <th>Permit Type Definition</th>\n",
       "      <th>Permit Creation Date</th>\n",
       "      <th>Block</th>\n",
       "      <th>Lot</th>\n",
       "      <th>Street Number</th>\n",
       "      <th>Street Number Suffix</th>\n",
       "      <th>Street Name</th>\n",
       "      <th>Street Suffix</th>\n",
       "      <th>Unit</th>\n",
       "      <th>Unit Suffix</th>\n",
       "      <th>Description</th>\n",
       "      <th>Current Status</th>\n",
       "      <th>Current Status Date</th>\n",
       "      <th>Filed Date</th>\n",
       "      <th>Issued Date</th>\n",
       "      <th>Completed Date</th>\n",
       "      <th>First Construction Document Date</th>\n",
       "      <th>Structural Notification</th>\n",
       "      <th>Number of Existing Stories</th>\n",
       "      <th>Number of Proposed Stories</th>\n",
       "      <th>Voluntary Soft-Story Retrofit</th>\n",
       "      <th>Fire Only Permit</th>\n",
       "      <th>Permit Expiration Date</th>\n",
       "      <th>Estimated Cost</th>\n",
       "      <th>Revised Cost</th>\n",
       "      <th>Existing Use</th>\n",
       "      <th>Existing Units</th>\n",
       "      <th>Proposed Use</th>\n",
       "      <th>Proposed Units</th>\n",
       "      <th>Plansets</th>\n",
       "      <th>TIDF Compliance</th>\n",
       "      <th>Existing Construction Type</th>\n",
       "      <th>Existing Construction Type Description</th>\n",
       "      <th>Proposed Construction Type</th>\n",
       "      <th>Proposed Construction Type Description</th>\n",
       "      <th>Site Permit</th>\n",
       "      <th>Supervisor District</th>\n",
       "      <th>Neighborhoods - Analysis Boundaries</th>\n",
       "      <th>Zipcode</th>\n",
       "      <th>Location</th>\n",
       "      <th>Record ID</th>\n",
       "      <th>SF Find Neighborhoods 2</th>\n",
       "      <th>Current Police Districts 2</th>\n",
       "      <th>Current Supervisor Districts 2</th>\n",
       "      <th>Analysis Neighborhoods 2</th>\n",
       "      <th>DELETE - Zip Codes 2</th>\n",
       "      <th>DELETE - Fire Prevention Districts 2</th>\n",
       "      <th>DELETE - Supervisor Districts 2</th>\n",
       "      <th>DELETE - Current Police Districts 2</th>\n",
       "      <th>DELETE - Supervisorial_Districts_Waterline_data_from_7pkg_wer3 2</th>\n",
       "      <th>Neighborhoods</th>\n",
       "    </tr>\n",
       "  </thead>\n",
       "  <tbody>\n",
       "  </tbody>\n",
       "</table>\n",
       "</div>"
      ],
      "text/plain": [
       "Empty DataFrame\n",
       "Columns: [Permit Number, Permit Type, Permit Type Definition, Permit Creation Date, Block, Lot, Street Number, Street Number Suffix, Street Name, Street Suffix, Unit, Unit Suffix, Description, Current Status, Current Status Date, Filed Date, Issued Date, Completed Date, First Construction Document Date, Structural Notification, Number of Existing Stories, Number of Proposed Stories, Voluntary Soft-Story Retrofit, Fire Only Permit, Permit Expiration Date, Estimated Cost, Revised Cost, Existing Use, Existing Units, Proposed Use, Proposed Units, Plansets, TIDF Compliance, Existing Construction Type, Existing Construction Type Description, Proposed Construction Type, Proposed Construction Type Description, Site Permit, Supervisor District, Neighborhoods - Analysis Boundaries, Zipcode, Location, Record ID, SF Find Neighborhoods 2, Current Police Districts 2, Current Supervisor Districts 2, Analysis Neighborhoods 2, DELETE - Zip Codes 2, DELETE - Fire Prevention Districts 2, DELETE - Supervisor Districts 2, DELETE - Current Police Districts 2, DELETE - Supervisorial_Districts_Waterline_data_from_7pkg_wer3 2, Neighborhoods]\n",
       "Index: []"
      ]
     },
     "execution_count": 18,
     "metadata": {},
     "output_type": "execute_result"
    }
   ],
   "source": [
    "m1 = dataset['Completed Date'] == '208-03-24 00:00:00'\n",
    "dataset.loc[m1,:]"
   ]
  },
  {
   "cell_type": "code",
   "execution_count": null,
   "id": "7b869160-f6c6-4790-a34e-203823a0d202",
   "metadata": {},
   "outputs": [],
   "source": []
  },
  {
   "cell_type": "code",
   "execution_count": 41,
   "id": "61e6e509-70e1-4f30-8997-d37b86f8daee",
   "metadata": {},
   "outputs": [
    {
     "data": {
      "text/plain": [
       "Permit Number                             313948\n",
       "Permit Type                                    8\n",
       "Permit Type Definition                         8\n",
       "Permit Creation Date                        2485\n",
       "Block                                       5007\n",
       "Lot                                         1288\n",
       "Street Number                               5382\n",
       "Street Number Suffix                          18\n",
       "Street Name                                 1790\n",
       "Street Suffix                                 21\n",
       "Unit                                         855\n",
       "Unit Suffix                                  209\n",
       "Description                               236016\n",
       "Current Status                                18\n",
       "Current Status Date                         2528\n",
       "Filed Date                                  2486\n",
       "Issued Date                                 2484\n",
       "Completed Date                              2446\n",
       "First Construction Document Date            1719\n",
       "Structural Notification                        1\n",
       "Number of Existing Stories                    71\n",
       "Number of Proposed Stories                    73\n",
       "Voluntary Soft-Story Retrofit                  1\n",
       "Fire Only Permit                               1\n",
       "Permit Expiration Date                      3823\n",
       "Estimated Cost                             18876\n",
       "Revised Cost                               21038\n",
       "Existing Use                                  96\n",
       "Existing Units                               390\n",
       "Proposed Use                                  96\n",
       "Proposed Units                               420\n",
       "Plansets                                       8\n",
       "TIDF Compliance                                2\n",
       "Existing Construction Type                     5\n",
       "Existing Construction Type Description         5\n",
       "Proposed Construction Type                    11\n",
       "Proposed Construction Type Description         5\n",
       "Site Permit                                    1\n",
       "Supervisor District                           11\n",
       "Neighborhoods - Analysis Boundaries           41\n",
       "Zipcode                                       27\n",
       "Location                                   80125\n",
       "Record ID                                 343459\n",
       "dtype: int64"
      ]
     },
     "execution_count": 41,
     "metadata": {},
     "output_type": "execute_result"
    }
   ],
   "source": [
    "dataset.nunique()"
   ]
  },
  {
   "cell_type": "code",
   "execution_count": 82,
   "id": "fe293378-fc85-4bad-9089-061c5654bac5",
   "metadata": {},
   "outputs": [
    {
     "name": "stdout",
     "output_type": "stream",
     "text": [
      "<class 'pandas.core.frame.DataFrame'>\n",
      "RangeIndex: 343459 entries, 0 to 343458\n",
      "Data columns (total 43 columns):\n",
      " #   Column                                  Non-Null Count   Dtype  \n",
      "---  ------                                  --------------   -----  \n",
      " 0   Permit Number                           343459 non-null  object \n",
      " 1   Permit Type                             343459 non-null  int64  \n",
      " 2   Permit Type Definition                  343459 non-null  object \n",
      " 3   Permit Creation Date                    343459 non-null  object \n",
      " 4   Block                                   343459 non-null  object \n",
      " 5   Lot                                     343459 non-null  object \n",
      " 6   Street Number                           343459 non-null  int64  \n",
      " 7   Street Number Suffix                    4530 non-null    object \n",
      " 8   Street Name                             343459 non-null  object \n",
      " 9   Street Suffix                           338614 non-null  object \n",
      " 10  Unit                                    50091 non-null   float64\n",
      " 11  Unit Suffix                             3909 non-null    object \n",
      " 12  Description                             343128 non-null  object \n",
      " 13  Current Status                          343452 non-null  object \n",
      " 14  Current Status Date                     343452 non-null  object \n",
      " 15  Filed Date                              343452 non-null  object \n",
      " 16  Issued Date                             319423 non-null  object \n",
      " 17  Completed Date                          185816 non-null  object \n",
      " 18  First Construction Document Date        4751 non-null    object \n",
      " 19  Structural Notification                 11593 non-null   object \n",
      " 20  Number of Existing Stories              273181 non-null  float64\n",
      " 21  Number of Proposed Stories              273022 non-null  float64\n",
      " 22  Voluntary Soft-Story Retrofit           42 non-null      object \n",
      " 23  Fire Only Permit                        36114 non-null   object \n",
      " 24  Permit Expiration Date                  261294 non-null  object \n",
      " 25  Estimated Cost                          283073 non-null  object \n",
      " 26  Revised Cost                            335257 non-null  object \n",
      " 27  Existing Use                            276305 non-null  object \n",
      " 28  Existing Units                          249821 non-null  object \n",
      " 29  Proposed Use                            273829 non-null  object \n",
      " 30  Proposed Units                          251471 non-null  object \n",
      " 31  Plansets                                284384 non-null  float64\n",
      " 32  TIDF Compliance                         2 non-null       object \n",
      " 33  Existing Construction Type              272232 non-null  float64\n",
      " 34  Existing Construction Type Description  272232 non-null  object \n",
      " 35  Proposed Construction Type              272377 non-null  object \n",
      " 36  Proposed Construction Type Description  272376 non-null  object \n",
      " 37  Site Permit                             8390 non-null    object \n",
      " 38  Supervisor District                     340316 non-null  float64\n",
      " 39  Neighborhoods - Analysis Boundaries     340316 non-null  object \n",
      " 40  Zipcode                                 342987 non-null  float64\n",
      " 41  Location                                340316 non-null  object \n",
      " 42  Record ID                               343459 non-null  int64  \n",
      "dtypes: float64(7), int64(3), object(33)\n",
      "memory usage: 112.7+ MB\n"
     ]
    }
   ],
   "source": [
    "dataset.info()"
   ]
  },
  {
   "cell_type": "code",
   "execution_count": 10,
   "id": "f2bc1da9-dffa-4113-911a-bc34b4a67e29",
   "metadata": {},
   "outputs": [],
   "source": [
    "keep_columns = [\n",
    "                'Permit Number',\n",
    "       'Block', 'Lot', 'Street Number',\n",
    "       'Street Number Suffix', 'Street Name', 'Street Suffix', 'Unit',\n",
    "       'Unit Suffix',\n",
    "    'Description', #test\n",
    "    'Current Status', #test\n",
    "    'Current Status Date', \n",
    "       'First Construction Document Date', 'Structural Notification',\n",
    "       'Number of Existing Stories', 'Number of Proposed Stories',#test\n",
    "       'Voluntary Soft-Story Retrofit', 'Fire Only Permit',\n",
    "       'Permit Expiration Date', 'Estimated Cost', 'Revised Cost',\n",
    "       'Existing Use', 'Existing Units', 'Proposed Use', 'Proposed Units',\n",
    "       'Plansets', 'TIDF Compliance', 'Existing Construction Type',\n",
    "       'Existing Construction Type Description', 'Proposed Construction Type',\n",
    "       'Proposed Construction Type Description',\n",
    "       'Zipcode',\n",
    "       'Location']"
   ]
  },
  {
   "cell_type": "markdown",
   "id": "a761870b-d038-400d-9825-9902d1e694e2",
   "metadata": {},
   "source": [
    "***Let's investigate permit type definition*** "
   ]
  },
  {
   "cell_type": "code",
   "execution_count": 84,
   "id": "285375b1-a58e-450d-aa1c-d41c48768546",
   "metadata": {},
   "outputs": [],
   "source": [
    "mask3 = dataset['Permit Type Definition'] == 'new construction'\n",
    "ds1 = dataset.loc[mask3,['Description','Number of Existing Stories', 'Number of Proposed Stories','Existing Use', 'Existing Units', 'Proposed Use', 'Proposed Units','Revised Cost','Estimated Cost']]"
   ]
  },
  {
   "cell_type": "code",
   "execution_count": 85,
   "id": "46180c53-846f-4123-b305-280b07a34f4e",
   "metadata": {},
   "outputs": [
    {
     "data": {
      "text/html": [
       "<div>\n",
       "<style scoped>\n",
       "    .dataframe tbody tr th:only-of-type {\n",
       "        vertical-align: middle;\n",
       "    }\n",
       "\n",
       "    .dataframe tbody tr th {\n",
       "        vertical-align: top;\n",
       "    }\n",
       "\n",
       "    .dataframe thead th {\n",
       "        text-align: right;\n",
       "    }\n",
       "</style>\n",
       "<table border=\"1\" class=\"dataframe\">\n",
       "  <thead>\n",
       "    <tr style=\"text-align: right;\">\n",
       "      <th></th>\n",
       "      <th>Description</th>\n",
       "      <th>Number of Existing Stories</th>\n",
       "      <th>Number of Proposed Stories</th>\n",
       "      <th>Existing Use</th>\n",
       "      <th>Existing Units</th>\n",
       "      <th>Proposed Use</th>\n",
       "      <th>Proposed Units</th>\n",
       "      <th>Revised Cost</th>\n",
       "      <th>Estimated Cost</th>\n",
       "    </tr>\n",
       "  </thead>\n",
       "  <tbody>\n",
       "    <tr>\n",
       "      <th>1340</th>\n",
       "      <td>to erect 8 stories, 1 basement, 114 units resi...</td>\n",
       "      <td>NaN</td>\n",
       "      <td>8.0</td>\n",
       "      <td>NaN</td>\n",
       "      <td>NaN</td>\n",
       "      <td>apartments</td>\n",
       "      <td>114</td>\n",
       "      <td>35,000,000</td>\n",
       "      <td>35,000,000</td>\n",
       "    </tr>\n",
       "    <tr>\n",
       "      <th>2710</th>\n",
       "      <td>to erect 160 units, 11 stories with basement m...</td>\n",
       "      <td>NaN</td>\n",
       "      <td>11.0</td>\n",
       "      <td>NaN</td>\n",
       "      <td>NaN</td>\n",
       "      <td>apartments</td>\n",
       "      <td>160</td>\n",
       "      <td>29,011,002</td>\n",
       "      <td>20,000,000</td>\n",
       "    </tr>\n",
       "    <tr>\n",
       "      <th>2711</th>\n",
       "      <td>to erect 160 units, 11 stories with basement m...</td>\n",
       "      <td>NaN</td>\n",
       "      <td>11.0</td>\n",
       "      <td>NaN</td>\n",
       "      <td>NaN</td>\n",
       "      <td>apartments</td>\n",
       "      <td>160</td>\n",
       "      <td>29,011,002</td>\n",
       "      <td>20,000,000</td>\n",
       "    </tr>\n",
       "    <tr>\n",
       "      <th>3565</th>\n",
       "      <td>erect new 6 stories, 2 dwelling units building.</td>\n",
       "      <td>NaN</td>\n",
       "      <td>6.0</td>\n",
       "      <td>NaN</td>\n",
       "      <td>NaN</td>\n",
       "      <td>2 family dwelling</td>\n",
       "      <td>2</td>\n",
       "      <td>1,570,000</td>\n",
       "      <td>1,570,000</td>\n",
       "    </tr>\n",
       "    <tr>\n",
       "      <th>3623</th>\n",
       "      <td>erect new 6 stories, 2 dwelling units building.</td>\n",
       "      <td>NaN</td>\n",
       "      <td>6.0</td>\n",
       "      <td>NaN</td>\n",
       "      <td>NaN</td>\n",
       "      <td>2 family dwelling</td>\n",
       "      <td>2</td>\n",
       "      <td>1,570,000</td>\n",
       "      <td>1,570,000</td>\n",
       "    </tr>\n",
       "    <tr>\n",
       "      <th>...</th>\n",
       "      <td>...</td>\n",
       "      <td>...</td>\n",
       "      <td>...</td>\n",
       "      <td>...</td>\n",
       "      <td>...</td>\n",
       "      <td>...</td>\n",
       "      <td>...</td>\n",
       "      <td>...</td>\n",
       "      <td>...</td>\n",
       "    </tr>\n",
       "    <tr>\n",
       "      <th>340018</th>\n",
       "      <td>erect 55-stories over 2-basement, mixed use re...</td>\n",
       "      <td>NaN</td>\n",
       "      <td>55.0</td>\n",
       "      <td>NaN</td>\n",
       "      <td>NaN</td>\n",
       "      <td>apartments</td>\n",
       "      <td>966</td>\n",
       "      <td>NaN</td>\n",
       "      <td>430,000,000</td>\n",
       "    </tr>\n",
       "    <tr>\n",
       "      <th>340020</th>\n",
       "      <td>dir #17-02: 100% affordable housing - erect ii...</td>\n",
       "      <td>NaN</td>\n",
       "      <td>7.0</td>\n",
       "      <td>NaN</td>\n",
       "      <td>NaN</td>\n",
       "      <td>apartments</td>\n",
       "      <td>151</td>\n",
       "      <td>NaN</td>\n",
       "      <td>80,000,000</td>\n",
       "    </tr>\n",
       "    <tr>\n",
       "      <th>342397</th>\n",
       "      <td>to erect 7 stories, no basement, type iii-a ov...</td>\n",
       "      <td>NaN</td>\n",
       "      <td>7.0</td>\n",
       "      <td>NaN</td>\n",
       "      <td>NaN</td>\n",
       "      <td>apartments</td>\n",
       "      <td>24</td>\n",
       "      <td>NaN</td>\n",
       "      <td>8,000,000</td>\n",
       "    </tr>\n",
       "    <tr>\n",
       "      <th>342918</th>\n",
       "      <td>bldg e - mayor's ed# 17-02. erect a 7-story, t...</td>\n",
       "      <td>NaN</td>\n",
       "      <td>7.0</td>\n",
       "      <td>NaN</td>\n",
       "      <td>NaN</td>\n",
       "      <td>apartments</td>\n",
       "      <td>128</td>\n",
       "      <td>NaN</td>\n",
       "      <td>72,464,450</td>\n",
       "    </tr>\n",
       "    <tr>\n",
       "      <th>343081</th>\n",
       "      <td>erect a 9-story over zero basement type ib, 10...</td>\n",
       "      <td>NaN</td>\n",
       "      <td>9.0</td>\n",
       "      <td>NaN</td>\n",
       "      <td>NaN</td>\n",
       "      <td>apartments</td>\n",
       "      <td>150</td>\n",
       "      <td>NaN</td>\n",
       "      <td>56,977,150</td>\n",
       "    </tr>\n",
       "  </tbody>\n",
       "</table>\n",
       "<p>699 rows × 9 columns</p>\n",
       "</div>"
      ],
      "text/plain": [
       "                                              Description  \\\n",
       "1340    to erect 8 stories, 1 basement, 114 units resi...   \n",
       "2710    to erect 160 units, 11 stories with basement m...   \n",
       "2711    to erect 160 units, 11 stories with basement m...   \n",
       "3565      erect new 6 stories, 2 dwelling units building.   \n",
       "3623      erect new 6 stories, 2 dwelling units building.   \n",
       "...                                                   ...   \n",
       "340018  erect 55-stories over 2-basement, mixed use re...   \n",
       "340020  dir #17-02: 100% affordable housing - erect ii...   \n",
       "342397  to erect 7 stories, no basement, type iii-a ov...   \n",
       "342918  bldg e - mayor's ed# 17-02. erect a 7-story, t...   \n",
       "343081  erect a 9-story over zero basement type ib, 10...   \n",
       "\n",
       "        Number of Existing Stories  Number of Proposed Stories Existing Use  \\\n",
       "1340                           NaN                         8.0          NaN   \n",
       "2710                           NaN                        11.0          NaN   \n",
       "2711                           NaN                        11.0          NaN   \n",
       "3565                           NaN                         6.0          NaN   \n",
       "3623                           NaN                         6.0          NaN   \n",
       "...                            ...                         ...          ...   \n",
       "340018                         NaN                        55.0          NaN   \n",
       "340020                         NaN                         7.0          NaN   \n",
       "342397                         NaN                         7.0          NaN   \n",
       "342918                         NaN                         7.0          NaN   \n",
       "343081                         NaN                         9.0          NaN   \n",
       "\n",
       "       Existing Units       Proposed Use Proposed Units Revised Cost  \\\n",
       "1340              NaN         apartments            114   35,000,000   \n",
       "2710              NaN         apartments            160   29,011,002   \n",
       "2711              NaN         apartments            160   29,011,002   \n",
       "3565              NaN  2 family dwelling              2    1,570,000   \n",
       "3623              NaN  2 family dwelling              2    1,570,000   \n",
       "...               ...                ...            ...          ...   \n",
       "340018            NaN         apartments            966          NaN   \n",
       "340020            NaN         apartments            151          NaN   \n",
       "342397            NaN         apartments             24          NaN   \n",
       "342918            NaN         apartments            128          NaN   \n",
       "343081            NaN         apartments            150          NaN   \n",
       "\n",
       "       Estimated Cost  \n",
       "1340       35,000,000  \n",
       "2710       20,000,000  \n",
       "2711       20,000,000  \n",
       "3565        1,570,000  \n",
       "3623        1,570,000  \n",
       "...               ...  \n",
       "340018    430,000,000  \n",
       "340020     80,000,000  \n",
       "342397      8,000,000  \n",
       "342918     72,464,450  \n",
       "343081     56,977,150  \n",
       "\n",
       "[699 rows x 9 columns]"
      ]
     },
     "execution_count": 85,
     "metadata": {},
     "output_type": "execute_result"
    }
   ],
   "source": [
    "ds1"
   ]
  },
  {
   "cell_type": "code",
   "execution_count": 87,
   "id": "b6221a23-6450-4026-9bb7-c5bc75747977",
   "metadata": {},
   "outputs": [
    {
     "data": {
      "text/plain": [
       "\u001b[0;31mSignature:\u001b[0m      \u001b[0mds1\u001b[0m\u001b[0;34m.\u001b[0m\u001b[0mplot\u001b[0m\u001b[0;34m(\u001b[0m\u001b[0;34m*\u001b[0m\u001b[0margs\u001b[0m\u001b[0;34m,\u001b[0m \u001b[0;34m**\u001b[0m\u001b[0mkwargs\u001b[0m\u001b[0;34m)\u001b[0m\u001b[0;34m\u001b[0m\u001b[0;34m\u001b[0m\u001b[0m\n",
       "\u001b[0;31mType:\u001b[0m           PlotAccessor\n",
       "\u001b[0;31mString form:\u001b[0m    <pandas.plotting._core.PlotAccessor object at 0x7fc32f45b880>\n",
       "\u001b[0;31mFile:\u001b[0m           /opt/conda/lib/python3.9/site-packages/pandas/plotting/_core.py\n",
       "\u001b[0;31mDocstring:\u001b[0m     \n",
       "Make plots of Series or DataFrame.\n",
       "\n",
       "Uses the backend specified by the\n",
       "option ``plotting.backend``. By default, matplotlib is used.\n",
       "\n",
       "Parameters\n",
       "----------\n",
       "data : Series or DataFrame\n",
       "    The object for which the method is called.\n",
       "x : label or position, default None\n",
       "    Only used if data is a DataFrame.\n",
       "y : label, position or list of label, positions, default None\n",
       "    Allows plotting of one column versus another. Only used if data is a\n",
       "    DataFrame.\n",
       "kind : str\n",
       "    The kind of plot to produce:\n",
       "\n",
       "    - 'line' : line plot (default)\n",
       "    - 'bar' : vertical bar plot\n",
       "    - 'barh' : horizontal bar plot\n",
       "    - 'hist' : histogram\n",
       "    - 'box' : boxplot\n",
       "    - 'kde' : Kernel Density Estimation plot\n",
       "    - 'density' : same as 'kde'\n",
       "    - 'area' : area plot\n",
       "    - 'pie' : pie plot\n",
       "    - 'scatter' : scatter plot (DataFrame only)\n",
       "    - 'hexbin' : hexbin plot (DataFrame only)\n",
       "ax : matplotlib axes object, default None\n",
       "    An axes of the current figure.\n",
       "subplots : bool, default False\n",
       "    Make separate subplots for each column.\n",
       "sharex : bool, default True if ax is None else False\n",
       "    In case ``subplots=True``, share x axis and set some x axis labels\n",
       "    to invisible; defaults to True if ax is None otherwise False if\n",
       "    an ax is passed in; Be aware, that passing in both an ax and\n",
       "    ``sharex=True`` will alter all x axis labels for all axis in a figure.\n",
       "sharey : bool, default False\n",
       "    In case ``subplots=True``, share y axis and set some y axis labels to invisible.\n",
       "layout : tuple, optional\n",
       "    (rows, columns) for the layout of subplots.\n",
       "figsize : a tuple (width, height) in inches\n",
       "    Size of a figure object.\n",
       "use_index : bool, default True\n",
       "    Use index as ticks for x axis.\n",
       "title : str or list\n",
       "    Title to use for the plot. If a string is passed, print the string\n",
       "    at the top of the figure. If a list is passed and `subplots` is\n",
       "    True, print each item in the list above the corresponding subplot.\n",
       "grid : bool, default None (matlab style default)\n",
       "    Axis grid lines.\n",
       "legend : bool or {'reverse'}\n",
       "    Place legend on axis subplots.\n",
       "style : list or dict\n",
       "    The matplotlib line style per column.\n",
       "logx : bool or 'sym', default False\n",
       "    Use log scaling or symlog scaling on x axis.\n",
       "    .. versionchanged:: 0.25.0\n",
       "\n",
       "logy : bool or 'sym' default False\n",
       "    Use log scaling or symlog scaling on y axis.\n",
       "    .. versionchanged:: 0.25.0\n",
       "\n",
       "loglog : bool or 'sym', default False\n",
       "    Use log scaling or symlog scaling on both x and y axes.\n",
       "    .. versionchanged:: 0.25.0\n",
       "\n",
       "xticks : sequence\n",
       "    Values to use for the xticks.\n",
       "yticks : sequence\n",
       "    Values to use for the yticks.\n",
       "xlim : 2-tuple/list\n",
       "    Set the x limits of the current axes.\n",
       "ylim : 2-tuple/list\n",
       "    Set the y limits of the current axes.\n",
       "xlabel : label, optional\n",
       "    Name to use for the xlabel on x-axis. Default uses index name as xlabel, or the\n",
       "    x-column name for planar plots.\n",
       "\n",
       "    .. versionadded:: 1.1.0\n",
       "\n",
       "    .. versionchanged:: 1.2.0\n",
       "\n",
       "       Now applicable to planar plots (`scatter`, `hexbin`).\n",
       "\n",
       "ylabel : label, optional\n",
       "    Name to use for the ylabel on y-axis. Default will show no ylabel, or the\n",
       "    y-column name for planar plots.\n",
       "\n",
       "    .. versionadded:: 1.1.0\n",
       "\n",
       "    .. versionchanged:: 1.2.0\n",
       "\n",
       "       Now applicable to planar plots (`scatter`, `hexbin`).\n",
       "\n",
       "rot : int, default None\n",
       "    Rotation for ticks (xticks for vertical, yticks for horizontal\n",
       "    plots).\n",
       "fontsize : int, default None\n",
       "    Font size for xticks and yticks.\n",
       "colormap : str or matplotlib colormap object, default None\n",
       "    Colormap to select colors from. If string, load colormap with that\n",
       "    name from matplotlib.\n",
       "colorbar : bool, optional\n",
       "    If True, plot colorbar (only relevant for 'scatter' and 'hexbin'\n",
       "    plots).\n",
       "position : float\n",
       "    Specify relative alignments for bar plot layout.\n",
       "    From 0 (left/bottom-end) to 1 (right/top-end). Default is 0.5\n",
       "    (center).\n",
       "table : bool, Series or DataFrame, default False\n",
       "    If True, draw a table using the data in the DataFrame and the data\n",
       "    will be transposed to meet matplotlib's default layout.\n",
       "    If a Series or DataFrame is passed, use passed data to draw a\n",
       "    table.\n",
       "yerr : DataFrame, Series, array-like, dict and str\n",
       "    See :ref:`Plotting with Error Bars <visualization.errorbars>` for\n",
       "    detail.\n",
       "xerr : DataFrame, Series, array-like, dict and str\n",
       "    Equivalent to yerr.\n",
       "stacked : bool, default False in line and bar plots, and True in area plot\n",
       "    If True, create stacked plot.\n",
       "sort_columns : bool, default False\n",
       "    Sort column names to determine plot ordering.\n",
       "secondary_y : bool or sequence, default False\n",
       "    Whether to plot on the secondary y-axis if a list/tuple, which\n",
       "    columns to plot on secondary y-axis.\n",
       "mark_right : bool, default True\n",
       "    When using a secondary_y axis, automatically mark the column\n",
       "    labels with \"(right)\" in the legend.\n",
       "include_bool : bool, default is False\n",
       "    If True, boolean values can be plotted.\n",
       "backend : str, default None\n",
       "    Backend to use instead of the backend specified in the option\n",
       "    ``plotting.backend``. For instance, 'matplotlib'. Alternatively, to\n",
       "    specify the ``plotting.backend`` for the whole session, set\n",
       "    ``pd.options.plotting.backend``.\n",
       "\n",
       "    .. versionadded:: 1.0.0\n",
       "\n",
       "**kwargs\n",
       "    Options to pass to matplotlib plotting method.\n",
       "\n",
       "Returns\n",
       "-------\n",
       ":class:`matplotlib.axes.Axes` or numpy.ndarray of them\n",
       "    If the backend is not the default matplotlib one, the return value\n",
       "    will be the object returned by the backend.\n",
       "\n",
       "Notes\n",
       "-----\n",
       "- See matplotlib documentation online for more on this subject\n",
       "- If `kind` = 'bar' or 'barh', you can specify relative alignments\n",
       "  for bar plot layout by `position` keyword.\n",
       "  From 0 (left/bottom-end) to 1 (right/top-end). Default is 0.5\n",
       "  (center)\n",
       "\u001b[0;31mCall docstring:\u001b[0m\n",
       "Make plots of Series or DataFrame.\n",
       "\n",
       "Uses the backend specified by the\n",
       "option ``plotting.backend``. By default, matplotlib is used.\n",
       "\n",
       "Parameters\n",
       "----------\n",
       "data : Series or DataFrame\n",
       "    The object for which the method is called.\n",
       "x : label or position, default None\n",
       "    Only used if data is a DataFrame.\n",
       "y : label, position or list of label, positions, default None\n",
       "    Allows plotting of one column versus another. Only used if data is a\n",
       "    DataFrame.\n",
       "kind : str\n",
       "    The kind of plot to produce:\n",
       "\n",
       "    - 'line' : line plot (default)\n",
       "    - 'bar' : vertical bar plot\n",
       "    - 'barh' : horizontal bar plot\n",
       "    - 'hist' : histogram\n",
       "    - 'box' : boxplot\n",
       "    - 'kde' : Kernel Density Estimation plot\n",
       "    - 'density' : same as 'kde'\n",
       "    - 'area' : area plot\n",
       "    - 'pie' : pie plot\n",
       "    - 'scatter' : scatter plot (DataFrame only)\n",
       "    - 'hexbin' : hexbin plot (DataFrame only)\n",
       "ax : matplotlib axes object, default None\n",
       "    An axes of the current figure.\n",
       "subplots : bool, default False\n",
       "    Make separate subplots for each column.\n",
       "sharex : bool, default True if ax is None else False\n",
       "    In case ``subplots=True``, share x axis and set some x axis labels\n",
       "    to invisible; defaults to True if ax is None otherwise False if\n",
       "    an ax is passed in; Be aware, that passing in both an ax and\n",
       "    ``sharex=True`` will alter all x axis labels for all axis in a figure.\n",
       "sharey : bool, default False\n",
       "    In case ``subplots=True``, share y axis and set some y axis labels to invisible.\n",
       "layout : tuple, optional\n",
       "    (rows, columns) for the layout of subplots.\n",
       "figsize : a tuple (width, height) in inches\n",
       "    Size of a figure object.\n",
       "use_index : bool, default True\n",
       "    Use index as ticks for x axis.\n",
       "title : str or list\n",
       "    Title to use for the plot. If a string is passed, print the string\n",
       "    at the top of the figure. If a list is passed and `subplots` is\n",
       "    True, print each item in the list above the corresponding subplot.\n",
       "grid : bool, default None (matlab style default)\n",
       "    Axis grid lines.\n",
       "legend : bool or {'reverse'}\n",
       "    Place legend on axis subplots.\n",
       "style : list or dict\n",
       "    The matplotlib line style per column.\n",
       "logx : bool or 'sym', default False\n",
       "    Use log scaling or symlog scaling on x axis.\n",
       "    .. versionchanged:: 0.25.0\n",
       "\n",
       "logy : bool or 'sym' default False\n",
       "    Use log scaling or symlog scaling on y axis.\n",
       "    .. versionchanged:: 0.25.0\n",
       "\n",
       "loglog : bool or 'sym', default False\n",
       "    Use log scaling or symlog scaling on both x and y axes.\n",
       "    .. versionchanged:: 0.25.0\n",
       "\n",
       "xticks : sequence\n",
       "    Values to use for the xticks.\n",
       "yticks : sequence\n",
       "    Values to use for the yticks.\n",
       "xlim : 2-tuple/list\n",
       "    Set the x limits of the current axes.\n",
       "ylim : 2-tuple/list\n",
       "    Set the y limits of the current axes.\n",
       "xlabel : label, optional\n",
       "    Name to use for the xlabel on x-axis. Default uses index name as xlabel, or the\n",
       "    x-column name for planar plots.\n",
       "\n",
       "    .. versionadded:: 1.1.0\n",
       "\n",
       "    .. versionchanged:: 1.2.0\n",
       "\n",
       "       Now applicable to planar plots (`scatter`, `hexbin`).\n",
       "\n",
       "ylabel : label, optional\n",
       "    Name to use for the ylabel on y-axis. Default will show no ylabel, or the\n",
       "    y-column name for planar plots.\n",
       "\n",
       "    .. versionadded:: 1.1.0\n",
       "\n",
       "    .. versionchanged:: 1.2.0\n",
       "\n",
       "       Now applicable to planar plots (`scatter`, `hexbin`).\n",
       "\n",
       "rot : int, default None\n",
       "    Rotation for ticks (xticks for vertical, yticks for horizontal\n",
       "    plots).\n",
       "fontsize : int, default None\n",
       "    Font size for xticks and yticks.\n",
       "colormap : str or matplotlib colormap object, default None\n",
       "    Colormap to select colors from. If string, load colormap with that\n",
       "    name from matplotlib.\n",
       "colorbar : bool, optional\n",
       "    If True, plot colorbar (only relevant for 'scatter' and 'hexbin'\n",
       "    plots).\n",
       "position : float\n",
       "    Specify relative alignments for bar plot layout.\n",
       "    From 0 (left/bottom-end) to 1 (right/top-end). Default is 0.5\n",
       "    (center).\n",
       "table : bool, Series or DataFrame, default False\n",
       "    If True, draw a table using the data in the DataFrame and the data\n",
       "    will be transposed to meet matplotlib's default layout.\n",
       "    If a Series or DataFrame is passed, use passed data to draw a\n",
       "    table.\n",
       "yerr : DataFrame, Series, array-like, dict and str\n",
       "    See :ref:`Plotting with Error Bars <visualization.errorbars>` for\n",
       "    detail.\n",
       "xerr : DataFrame, Series, array-like, dict and str\n",
       "    Equivalent to yerr.\n",
       "stacked : bool, default False in line and bar plots, and True in area plot\n",
       "    If True, create stacked plot.\n",
       "sort_columns : bool, default False\n",
       "    Sort column names to determine plot ordering.\n",
       "secondary_y : bool or sequence, default False\n",
       "    Whether to plot on the secondary y-axis if a list/tuple, which\n",
       "    columns to plot on secondary y-axis.\n",
       "mark_right : bool, default True\n",
       "    When using a secondary_y axis, automatically mark the column\n",
       "    labels with \"(right)\" in the legend.\n",
       "include_bool : bool, default is False\n",
       "    If True, boolean values can be plotted.\n",
       "backend : str, default None\n",
       "    Backend to use instead of the backend specified in the option\n",
       "    ``plotting.backend``. For instance, 'matplotlib'. Alternatively, to\n",
       "    specify the ``plotting.backend`` for the whole session, set\n",
       "    ``pd.options.plotting.backend``.\n",
       "\n",
       "    .. versionadded:: 1.0.0\n",
       "\n",
       "**kwargs\n",
       "    Options to pass to matplotlib plotting method.\n",
       "\n",
       "Returns\n",
       "-------\n",
       ":class:`matplotlib.axes.Axes` or numpy.ndarray of them\n",
       "    If the backend is not the default matplotlib one, the return value\n",
       "    will be the object returned by the backend.\n",
       "\n",
       "Notes\n",
       "-----\n",
       "- See matplotlib documentation online for more on this subject\n",
       "- If `kind` = 'bar' or 'barh', you can specify relative alignments\n",
       "  for bar plot layout by `position` keyword.\n",
       "  From 0 (left/bottom-end) to 1 (right/top-end). Default is 0.5\n",
       "  (center)\n"
      ]
     },
     "metadata": {},
     "output_type": "display_data"
    }
   ],
   "source": [
    "ds1.plot?"
   ]
  },
  {
   "cell_type": "code",
   "execution_count": 91,
   "id": "41f6d418-e6e2-4b5d-8ce1-98205c310cf2",
   "metadata": {},
   "outputs": [
    {
     "ename": "TypeError",
     "evalue": "'value' must be an instance of str or bytes, not a float",
     "output_type": "error",
     "traceback": [
      "\u001b[0;31m---------------------------------------------------------------------------\u001b[0m",
      "\u001b[0;31mTypeError\u001b[0m                                 Traceback (most recent call last)",
      "Input \u001b[0;32mIn [91]\u001b[0m, in \u001b[0;36m<module>\u001b[0;34m\u001b[0m\n\u001b[0;32m----> 1\u001b[0m \u001b[43mds1\u001b[49m\u001b[38;5;241;43m.\u001b[39;49m\u001b[43mplot\u001b[49m\u001b[43m(\u001b[49m\u001b[43mx\u001b[49m\u001b[38;5;241;43m=\u001b[39;49m\u001b[38;5;124;43m'\u001b[39;49m\u001b[38;5;124;43mProposed Units\u001b[39;49m\u001b[38;5;124;43m'\u001b[39;49m\u001b[43m,\u001b[49m\u001b[43m \u001b[49m\u001b[43my\u001b[49m\u001b[38;5;241;43m=\u001b[39;49m\u001b[43m \u001b[49m\u001b[38;5;124;43m'\u001b[39;49m\u001b[38;5;124;43mEstimated Cost\u001b[39;49m\u001b[38;5;124;43m'\u001b[39;49m\u001b[43m,\u001b[49m\u001b[43mkind\u001b[49m\u001b[38;5;241;43m=\u001b[39;49m\u001b[38;5;124;43m'\u001b[39;49m\u001b[38;5;124;43mscatter\u001b[39;49m\u001b[38;5;124;43m'\u001b[39;49m\u001b[43m)\u001b[49m\n",
      "File \u001b[0;32m/opt/conda/lib/python3.9/site-packages/pandas/plotting/_core.py:917\u001b[0m, in \u001b[0;36mPlotAccessor.__call__\u001b[0;34m(self, *args, **kwargs)\u001b[0m\n\u001b[1;32m    915\u001b[0m \u001b[38;5;28;01mif\u001b[39;00m kind \u001b[38;5;129;01min\u001b[39;00m \u001b[38;5;28mself\u001b[39m\u001b[38;5;241m.\u001b[39m_dataframe_kinds:\n\u001b[1;32m    916\u001b[0m     \u001b[38;5;28;01mif\u001b[39;00m \u001b[38;5;28misinstance\u001b[39m(data, ABCDataFrame):\n\u001b[0;32m--> 917\u001b[0m         \u001b[38;5;28;01mreturn\u001b[39;00m \u001b[43mplot_backend\u001b[49m\u001b[38;5;241;43m.\u001b[39;49m\u001b[43mplot\u001b[49m\u001b[43m(\u001b[49m\u001b[43mdata\u001b[49m\u001b[43m,\u001b[49m\u001b[43m \u001b[49m\u001b[43mx\u001b[49m\u001b[38;5;241;43m=\u001b[39;49m\u001b[43mx\u001b[49m\u001b[43m,\u001b[49m\u001b[43m \u001b[49m\u001b[43my\u001b[49m\u001b[38;5;241;43m=\u001b[39;49m\u001b[43my\u001b[49m\u001b[43m,\u001b[49m\u001b[43m \u001b[49m\u001b[43mkind\u001b[49m\u001b[38;5;241;43m=\u001b[39;49m\u001b[43mkind\u001b[49m\u001b[43m,\u001b[49m\u001b[43m \u001b[49m\u001b[38;5;241;43m*\u001b[39;49m\u001b[38;5;241;43m*\u001b[39;49m\u001b[43mkwargs\u001b[49m\u001b[43m)\u001b[49m\n\u001b[1;32m    918\u001b[0m     \u001b[38;5;28;01melse\u001b[39;00m:\n\u001b[1;32m    919\u001b[0m         \u001b[38;5;28;01mraise\u001b[39;00m \u001b[38;5;167;01mValueError\u001b[39;00m(\u001b[38;5;124mf\u001b[39m\u001b[38;5;124m\"\u001b[39m\u001b[38;5;124mplot kind \u001b[39m\u001b[38;5;132;01m{\u001b[39;00mkind\u001b[38;5;132;01m}\u001b[39;00m\u001b[38;5;124m can only be used for data frames\u001b[39m\u001b[38;5;124m\"\u001b[39m)\n",
      "File \u001b[0;32m/opt/conda/lib/python3.9/site-packages/pandas/plotting/_matplotlib/__init__.py:71\u001b[0m, in \u001b[0;36mplot\u001b[0;34m(data, kind, **kwargs)\u001b[0m\n\u001b[1;32m     69\u001b[0m         kwargs[\u001b[38;5;124m\"\u001b[39m\u001b[38;5;124max\u001b[39m\u001b[38;5;124m\"\u001b[39m] \u001b[38;5;241m=\u001b[39m \u001b[38;5;28mgetattr\u001b[39m(ax, \u001b[38;5;124m\"\u001b[39m\u001b[38;5;124mleft_ax\u001b[39m\u001b[38;5;124m\"\u001b[39m, ax)\n\u001b[1;32m     70\u001b[0m plot_obj \u001b[38;5;241m=\u001b[39m PLOT_CLASSES[kind](data, \u001b[38;5;241m*\u001b[39m\u001b[38;5;241m*\u001b[39mkwargs)\n\u001b[0;32m---> 71\u001b[0m \u001b[43mplot_obj\u001b[49m\u001b[38;5;241;43m.\u001b[39;49m\u001b[43mgenerate\u001b[49m\u001b[43m(\u001b[49m\u001b[43m)\u001b[49m\n\u001b[1;32m     72\u001b[0m plot_obj\u001b[38;5;241m.\u001b[39mdraw()\n\u001b[1;32m     73\u001b[0m \u001b[38;5;28;01mreturn\u001b[39;00m plot_obj\u001b[38;5;241m.\u001b[39mresult\n",
      "File \u001b[0;32m/opt/conda/lib/python3.9/site-packages/pandas/plotting/_matplotlib/core.py:329\u001b[0m, in \u001b[0;36mMPLPlot.generate\u001b[0;34m(self)\u001b[0m\n\u001b[1;32m    327\u001b[0m \u001b[38;5;28mself\u001b[39m\u001b[38;5;241m.\u001b[39m_compute_plot_data()\n\u001b[1;32m    328\u001b[0m \u001b[38;5;28mself\u001b[39m\u001b[38;5;241m.\u001b[39m_setup_subplots()\n\u001b[0;32m--> 329\u001b[0m \u001b[38;5;28;43mself\u001b[39;49m\u001b[38;5;241;43m.\u001b[39;49m\u001b[43m_make_plot\u001b[49m\u001b[43m(\u001b[49m\u001b[43m)\u001b[49m\n\u001b[1;32m    330\u001b[0m \u001b[38;5;28mself\u001b[39m\u001b[38;5;241m.\u001b[39m_add_table()\n\u001b[1;32m    331\u001b[0m \u001b[38;5;28mself\u001b[39m\u001b[38;5;241m.\u001b[39m_make_legend()\n",
      "File \u001b[0;32m/opt/conda/lib/python3.9/site-packages/pandas/plotting/_matplotlib/core.py:1114\u001b[0m, in \u001b[0;36mScatterPlot._make_plot\u001b[0;34m(self)\u001b[0m\n\u001b[1;32m   1112\u001b[0m \u001b[38;5;28;01melse\u001b[39;00m:\n\u001b[1;32m   1113\u001b[0m     label \u001b[38;5;241m=\u001b[39m \u001b[38;5;28;01mNone\u001b[39;00m\n\u001b[0;32m-> 1114\u001b[0m scatter \u001b[38;5;241m=\u001b[39m \u001b[43max\u001b[49m\u001b[38;5;241;43m.\u001b[39;49m\u001b[43mscatter\u001b[49m\u001b[43m(\u001b[49m\n\u001b[1;32m   1115\u001b[0m \u001b[43m    \u001b[49m\u001b[43mdata\u001b[49m\u001b[43m[\u001b[49m\u001b[43mx\u001b[49m\u001b[43m]\u001b[49m\u001b[38;5;241;43m.\u001b[39;49m\u001b[43mvalues\u001b[49m\u001b[43m,\u001b[49m\n\u001b[1;32m   1116\u001b[0m \u001b[43m    \u001b[49m\u001b[43mdata\u001b[49m\u001b[43m[\u001b[49m\u001b[43my\u001b[49m\u001b[43m]\u001b[49m\u001b[38;5;241;43m.\u001b[39;49m\u001b[43mvalues\u001b[49m\u001b[43m,\u001b[49m\n\u001b[1;32m   1117\u001b[0m \u001b[43m    \u001b[49m\u001b[43mc\u001b[49m\u001b[38;5;241;43m=\u001b[39;49m\u001b[43mc_values\u001b[49m\u001b[43m,\u001b[49m\n\u001b[1;32m   1118\u001b[0m \u001b[43m    \u001b[49m\u001b[43mlabel\u001b[49m\u001b[38;5;241;43m=\u001b[39;49m\u001b[43mlabel\u001b[49m\u001b[43m,\u001b[49m\n\u001b[1;32m   1119\u001b[0m \u001b[43m    \u001b[49m\u001b[43mcmap\u001b[49m\u001b[38;5;241;43m=\u001b[39;49m\u001b[43mcmap\u001b[49m\u001b[43m,\u001b[49m\n\u001b[1;32m   1120\u001b[0m \u001b[43m    \u001b[49m\u001b[43mnorm\u001b[49m\u001b[38;5;241;43m=\u001b[39;49m\u001b[43mnorm\u001b[49m\u001b[43m,\u001b[49m\n\u001b[1;32m   1121\u001b[0m \u001b[43m    \u001b[49m\u001b[38;5;241;43m*\u001b[39;49m\u001b[38;5;241;43m*\u001b[39;49m\u001b[38;5;28;43mself\u001b[39;49m\u001b[38;5;241;43m.\u001b[39;49m\u001b[43mkwds\u001b[49m\u001b[43m,\u001b[49m\n\u001b[1;32m   1122\u001b[0m \u001b[43m\u001b[49m\u001b[43m)\u001b[49m\n\u001b[1;32m   1123\u001b[0m \u001b[38;5;28;01mif\u001b[39;00m cb:\n\u001b[1;32m   1124\u001b[0m     cbar_label \u001b[38;5;241m=\u001b[39m c \u001b[38;5;28;01mif\u001b[39;00m c_is_column \u001b[38;5;28;01melse\u001b[39;00m \u001b[38;5;124m\"\u001b[39m\u001b[38;5;124m\"\u001b[39m\n",
      "File \u001b[0;32m/opt/conda/lib/python3.9/site-packages/matplotlib/__init__.py:1412\u001b[0m, in \u001b[0;36m_preprocess_data.<locals>.inner\u001b[0;34m(ax, data, *args, **kwargs)\u001b[0m\n\u001b[1;32m   1409\u001b[0m \u001b[38;5;129m@functools\u001b[39m\u001b[38;5;241m.\u001b[39mwraps(func)\n\u001b[1;32m   1410\u001b[0m \u001b[38;5;28;01mdef\u001b[39;00m \u001b[38;5;21minner\u001b[39m(ax, \u001b[38;5;241m*\u001b[39margs, data\u001b[38;5;241m=\u001b[39m\u001b[38;5;28;01mNone\u001b[39;00m, \u001b[38;5;241m*\u001b[39m\u001b[38;5;241m*\u001b[39mkwargs):\n\u001b[1;32m   1411\u001b[0m     \u001b[38;5;28;01mif\u001b[39;00m data \u001b[38;5;129;01mis\u001b[39;00m \u001b[38;5;28;01mNone\u001b[39;00m:\n\u001b[0;32m-> 1412\u001b[0m         \u001b[38;5;28;01mreturn\u001b[39;00m \u001b[43mfunc\u001b[49m\u001b[43m(\u001b[49m\u001b[43max\u001b[49m\u001b[43m,\u001b[49m\u001b[43m \u001b[49m\u001b[38;5;241;43m*\u001b[39;49m\u001b[38;5;28;43mmap\u001b[39;49m\u001b[43m(\u001b[49m\u001b[43msanitize_sequence\u001b[49m\u001b[43m,\u001b[49m\u001b[43m \u001b[49m\u001b[43margs\u001b[49m\u001b[43m)\u001b[49m\u001b[43m,\u001b[49m\u001b[43m \u001b[49m\u001b[38;5;241;43m*\u001b[39;49m\u001b[38;5;241;43m*\u001b[39;49m\u001b[43mkwargs\u001b[49m\u001b[43m)\u001b[49m\n\u001b[1;32m   1414\u001b[0m     bound \u001b[38;5;241m=\u001b[39m new_sig\u001b[38;5;241m.\u001b[39mbind(ax, \u001b[38;5;241m*\u001b[39margs, \u001b[38;5;241m*\u001b[39m\u001b[38;5;241m*\u001b[39mkwargs)\n\u001b[1;32m   1415\u001b[0m     auto_label \u001b[38;5;241m=\u001b[39m (bound\u001b[38;5;241m.\u001b[39marguments\u001b[38;5;241m.\u001b[39mget(label_namer)\n\u001b[1;32m   1416\u001b[0m                   \u001b[38;5;129;01mor\u001b[39;00m bound\u001b[38;5;241m.\u001b[39mkwargs\u001b[38;5;241m.\u001b[39mget(label_namer))\n",
      "File \u001b[0;32m/opt/conda/lib/python3.9/site-packages/matplotlib/axes/_axes.py:4363\u001b[0m, in \u001b[0;36mAxes.scatter\u001b[0;34m(self, x, y, s, c, marker, cmap, norm, vmin, vmax, alpha, linewidths, edgecolors, plotnonfinite, **kwargs)\u001b[0m\n\u001b[1;32m   4249\u001b[0m \u001b[38;5;124;03m\"\"\"\u001b[39;00m\n\u001b[1;32m   4250\u001b[0m \u001b[38;5;124;03mA scatter plot of *y* vs. *x* with varying marker size and/or color.\u001b[39;00m\n\u001b[1;32m   4251\u001b[0m \n\u001b[0;32m   (...)\u001b[0m\n\u001b[1;32m   4360\u001b[0m \n\u001b[1;32m   4361\u001b[0m \u001b[38;5;124;03m\"\"\"\u001b[39;00m\n\u001b[1;32m   4362\u001b[0m \u001b[38;5;66;03m# Process **kwargs to handle aliases, conflicts with explicit kwargs:\u001b[39;00m\n\u001b[0;32m-> 4363\u001b[0m x, y \u001b[38;5;241m=\u001b[39m \u001b[38;5;28;43mself\u001b[39;49m\u001b[38;5;241;43m.\u001b[39;49m\u001b[43m_process_unit_info\u001b[49m\u001b[43m(\u001b[49m\u001b[43m[\u001b[49m\u001b[43m(\u001b[49m\u001b[38;5;124;43m\"\u001b[39;49m\u001b[38;5;124;43mx\u001b[39;49m\u001b[38;5;124;43m\"\u001b[39;49m\u001b[43m,\u001b[49m\u001b[43m \u001b[49m\u001b[43mx\u001b[49m\u001b[43m)\u001b[49m\u001b[43m,\u001b[49m\u001b[43m \u001b[49m\u001b[43m(\u001b[49m\u001b[38;5;124;43m\"\u001b[39;49m\u001b[38;5;124;43my\u001b[39;49m\u001b[38;5;124;43m\"\u001b[39;49m\u001b[43m,\u001b[49m\u001b[43m \u001b[49m\u001b[43my\u001b[49m\u001b[43m)\u001b[49m\u001b[43m]\u001b[49m\u001b[43m,\u001b[49m\u001b[43m \u001b[49m\u001b[43mkwargs\u001b[49m\u001b[43m)\u001b[49m\n\u001b[1;32m   4364\u001b[0m \u001b[38;5;66;03m# np.ma.ravel yields an ndarray, not a masked array,\u001b[39;00m\n\u001b[1;32m   4365\u001b[0m \u001b[38;5;66;03m# unless its argument is a masked array.\u001b[39;00m\n\u001b[1;32m   4366\u001b[0m x \u001b[38;5;241m=\u001b[39m np\u001b[38;5;241m.\u001b[39mma\u001b[38;5;241m.\u001b[39mravel(x)\n",
      "File \u001b[0;32m/opt/conda/lib/python3.9/site-packages/matplotlib/axes/_base.py:2521\u001b[0m, in \u001b[0;36m_AxesBase._process_unit_info\u001b[0;34m(self, datasets, kwargs, convert)\u001b[0m\n\u001b[1;32m   2519\u001b[0m     \u001b[38;5;66;03m# Update from data if axis is already set but no unit is set yet.\u001b[39;00m\n\u001b[1;32m   2520\u001b[0m     \u001b[38;5;28;01mif\u001b[39;00m axis \u001b[38;5;129;01mis\u001b[39;00m \u001b[38;5;129;01mnot\u001b[39;00m \u001b[38;5;28;01mNone\u001b[39;00m \u001b[38;5;129;01mand\u001b[39;00m data \u001b[38;5;129;01mis\u001b[39;00m \u001b[38;5;129;01mnot\u001b[39;00m \u001b[38;5;28;01mNone\u001b[39;00m \u001b[38;5;129;01mand\u001b[39;00m \u001b[38;5;129;01mnot\u001b[39;00m axis\u001b[38;5;241m.\u001b[39mhave_units():\n\u001b[0;32m-> 2521\u001b[0m         \u001b[43maxis\u001b[49m\u001b[38;5;241;43m.\u001b[39;49m\u001b[43mupdate_units\u001b[49m\u001b[43m(\u001b[49m\u001b[43mdata\u001b[49m\u001b[43m)\u001b[49m\n\u001b[1;32m   2522\u001b[0m \u001b[38;5;28;01mfor\u001b[39;00m axis_name, axis \u001b[38;5;129;01min\u001b[39;00m axis_map\u001b[38;5;241m.\u001b[39mitems():\n\u001b[1;32m   2523\u001b[0m     \u001b[38;5;66;03m# Return if no axis is set.\u001b[39;00m\n\u001b[1;32m   2524\u001b[0m     \u001b[38;5;28;01mif\u001b[39;00m axis \u001b[38;5;129;01mis\u001b[39;00m \u001b[38;5;28;01mNone\u001b[39;00m:\n",
      "File \u001b[0;32m/opt/conda/lib/python3.9/site-packages/matplotlib/axis.py:1449\u001b[0m, in \u001b[0;36mAxis.update_units\u001b[0;34m(self, data)\u001b[0m\n\u001b[1;32m   1447\u001b[0m neednew \u001b[38;5;241m=\u001b[39m \u001b[38;5;28mself\u001b[39m\u001b[38;5;241m.\u001b[39mconverter \u001b[38;5;241m!=\u001b[39m converter\n\u001b[1;32m   1448\u001b[0m \u001b[38;5;28mself\u001b[39m\u001b[38;5;241m.\u001b[39mconverter \u001b[38;5;241m=\u001b[39m converter\n\u001b[0;32m-> 1449\u001b[0m default \u001b[38;5;241m=\u001b[39m \u001b[38;5;28;43mself\u001b[39;49m\u001b[38;5;241;43m.\u001b[39;49m\u001b[43mconverter\u001b[49m\u001b[38;5;241;43m.\u001b[39;49m\u001b[43mdefault_units\u001b[49m\u001b[43m(\u001b[49m\u001b[43mdata\u001b[49m\u001b[43m,\u001b[49m\u001b[43m \u001b[49m\u001b[38;5;28;43mself\u001b[39;49m\u001b[43m)\u001b[49m\n\u001b[1;32m   1450\u001b[0m \u001b[38;5;28;01mif\u001b[39;00m default \u001b[38;5;129;01mis\u001b[39;00m \u001b[38;5;129;01mnot\u001b[39;00m \u001b[38;5;28;01mNone\u001b[39;00m \u001b[38;5;129;01mand\u001b[39;00m \u001b[38;5;28mself\u001b[39m\u001b[38;5;241m.\u001b[39munits \u001b[38;5;129;01mis\u001b[39;00m \u001b[38;5;28;01mNone\u001b[39;00m:\n\u001b[1;32m   1451\u001b[0m     \u001b[38;5;28mself\u001b[39m\u001b[38;5;241m.\u001b[39mset_units(default)\n",
      "File \u001b[0;32m/opt/conda/lib/python3.9/site-packages/matplotlib/category.py:116\u001b[0m, in \u001b[0;36mStrCategoryConverter.default_units\u001b[0;34m(data, axis)\u001b[0m\n\u001b[1;32m    114\u001b[0m \u001b[38;5;66;03m# the conversion call stack is default_units -> axis_info -> convert\u001b[39;00m\n\u001b[1;32m    115\u001b[0m \u001b[38;5;28;01mif\u001b[39;00m axis\u001b[38;5;241m.\u001b[39munits \u001b[38;5;129;01mis\u001b[39;00m \u001b[38;5;28;01mNone\u001b[39;00m:\n\u001b[0;32m--> 116\u001b[0m     axis\u001b[38;5;241m.\u001b[39mset_units(\u001b[43mUnitData\u001b[49m\u001b[43m(\u001b[49m\u001b[43mdata\u001b[49m\u001b[43m)\u001b[49m)\n\u001b[1;32m    117\u001b[0m \u001b[38;5;28;01melse\u001b[39;00m:\n\u001b[1;32m    118\u001b[0m     axis\u001b[38;5;241m.\u001b[39munits\u001b[38;5;241m.\u001b[39mupdate(data)\n",
      "File \u001b[0;32m/opt/conda/lib/python3.9/site-packages/matplotlib/category.py:192\u001b[0m, in \u001b[0;36mUnitData.__init__\u001b[0;34m(self, data)\u001b[0m\n\u001b[1;32m    190\u001b[0m \u001b[38;5;28mself\u001b[39m\u001b[38;5;241m.\u001b[39m_counter \u001b[38;5;241m=\u001b[39m itertools\u001b[38;5;241m.\u001b[39mcount()\n\u001b[1;32m    191\u001b[0m \u001b[38;5;28;01mif\u001b[39;00m data \u001b[38;5;129;01mis\u001b[39;00m \u001b[38;5;129;01mnot\u001b[39;00m \u001b[38;5;28;01mNone\u001b[39;00m:\n\u001b[0;32m--> 192\u001b[0m     \u001b[38;5;28;43mself\u001b[39;49m\u001b[38;5;241;43m.\u001b[39;49m\u001b[43mupdate\u001b[49m\u001b[43m(\u001b[49m\u001b[43mdata\u001b[49m\u001b[43m)\u001b[49m\n",
      "File \u001b[0;32m/opt/conda/lib/python3.9/site-packages/matplotlib/category.py:227\u001b[0m, in \u001b[0;36mUnitData.update\u001b[0;34m(self, data)\u001b[0m\n\u001b[1;32m    224\u001b[0m convertible \u001b[38;5;241m=\u001b[39m \u001b[38;5;28;01mTrue\u001b[39;00m\n\u001b[1;32m    225\u001b[0m \u001b[38;5;28;01mfor\u001b[39;00m val \u001b[38;5;129;01min\u001b[39;00m OrderedDict\u001b[38;5;241m.\u001b[39mfromkeys(data):\n\u001b[1;32m    226\u001b[0m     \u001b[38;5;66;03m# OrderedDict just iterates over unique values in data.\u001b[39;00m\n\u001b[0;32m--> 227\u001b[0m     \u001b[43m_api\u001b[49m\u001b[38;5;241;43m.\u001b[39;49m\u001b[43mcheck_isinstance\u001b[49m\u001b[43m(\u001b[49m\u001b[43m(\u001b[49m\u001b[38;5;28;43mstr\u001b[39;49m\u001b[43m,\u001b[49m\u001b[43m \u001b[49m\u001b[38;5;28;43mbytes\u001b[39;49m\u001b[43m)\u001b[49m\u001b[43m,\u001b[49m\u001b[43m \u001b[49m\u001b[43mvalue\u001b[49m\u001b[38;5;241;43m=\u001b[39;49m\u001b[43mval\u001b[49m\u001b[43m)\u001b[49m\n\u001b[1;32m    228\u001b[0m     \u001b[38;5;28;01mif\u001b[39;00m convertible:\n\u001b[1;32m    229\u001b[0m         \u001b[38;5;66;03m# this will only be called so long as convertible is True.\u001b[39;00m\n\u001b[1;32m    230\u001b[0m         convertible \u001b[38;5;241m=\u001b[39m \u001b[38;5;28mself\u001b[39m\u001b[38;5;241m.\u001b[39m_str_is_convertible(val)\n",
      "File \u001b[0;32m/opt/conda/lib/python3.9/site-packages/matplotlib/_api/__init__.py:93\u001b[0m, in \u001b[0;36mcheck_isinstance\u001b[0;34m(_types, **kwargs)\u001b[0m\n\u001b[1;32m     91\u001b[0m     names\u001b[38;5;241m.\u001b[39mremove(\u001b[38;5;124m\"\u001b[39m\u001b[38;5;124mNone\u001b[39m\u001b[38;5;124m\"\u001b[39m)\n\u001b[1;32m     92\u001b[0m     names\u001b[38;5;241m.\u001b[39mappend(\u001b[38;5;124m\"\u001b[39m\u001b[38;5;124mNone\u001b[39m\u001b[38;5;124m\"\u001b[39m)\n\u001b[0;32m---> 93\u001b[0m \u001b[38;5;28;01mraise\u001b[39;00m \u001b[38;5;167;01mTypeError\u001b[39;00m(\n\u001b[1;32m     94\u001b[0m     \u001b[38;5;124m\"\u001b[39m\u001b[38;5;132;01m{!r}\u001b[39;00m\u001b[38;5;124m must be an instance of \u001b[39m\u001b[38;5;132;01m{}\u001b[39;00m\u001b[38;5;124m, not a \u001b[39m\u001b[38;5;132;01m{}\u001b[39;00m\u001b[38;5;124m\"\u001b[39m\u001b[38;5;241m.\u001b[39mformat(\n\u001b[1;32m     95\u001b[0m         k,\n\u001b[1;32m     96\u001b[0m         \u001b[38;5;124m\"\u001b[39m\u001b[38;5;124m, \u001b[39m\u001b[38;5;124m\"\u001b[39m\u001b[38;5;241m.\u001b[39mjoin(names[:\u001b[38;5;241m-\u001b[39m\u001b[38;5;241m1\u001b[39m]) \u001b[38;5;241m+\u001b[39m \u001b[38;5;124m\"\u001b[39m\u001b[38;5;124m or \u001b[39m\u001b[38;5;124m\"\u001b[39m \u001b[38;5;241m+\u001b[39m names[\u001b[38;5;241m-\u001b[39m\u001b[38;5;241m1\u001b[39m]\n\u001b[1;32m     97\u001b[0m         \u001b[38;5;28;01mif\u001b[39;00m \u001b[38;5;28mlen\u001b[39m(names) \u001b[38;5;241m>\u001b[39m \u001b[38;5;241m1\u001b[39m \u001b[38;5;28;01melse\u001b[39;00m names[\u001b[38;5;241m0\u001b[39m],\n\u001b[1;32m     98\u001b[0m         type_name(\u001b[38;5;28mtype\u001b[39m(v))))\n",
      "\u001b[0;31mTypeError\u001b[0m: 'value' must be an instance of str or bytes, not a float"
     ]
    },
    {
     "data": {
      "image/png": "[encoded data removed]",
      "text/plain": [
       "<Figure size 432x288 with 1 Axes>"
      ]
     },
     "metadata": {
      "needs_background": "light"
     },
     "output_type": "display_data"
    }
   ],
   "source": [
    "ds1.plot(x='Proposed Units', y= 'Estimated Cost',kind='scatter')"
   ]
  },
  {
   "cell_type": "code",
   "execution_count": 75,
   "id": "e7cd48d8-0c4d-450a-9da2-3e5ad036da41",
   "metadata": {},
   "outputs": [
    {
     "data": {
      "text/plain": [
       "Permit Number                             586\n",
       "Permit Type                                 1\n",
       "Permit Type Definition                      1\n",
       "Permit Creation Date                      390\n",
       "Block                                     327\n",
       "Lot                                       135\n",
       "Street Number                             447\n",
       "Street Number Suffix                       11\n",
       "Street Name                               213\n",
       "Street Suffix                               8\n",
       "Unit                                        1\n",
       "Unit Suffix                                 2\n",
       "Description                               588\n",
       "Current Status                              7\n",
       "Current Status Date                       412\n",
       "Filed Date                                391\n",
       "Issued Date                               266\n",
       "Completed Date                            137\n",
       "First Construction Document Date          192\n",
       "Structural Notification                     0\n",
       "Number of Existing Stories                  0\n",
       "Number of Proposed Stories                 43\n",
       "Voluntary Soft-Story Retrofit               0\n",
       "Fire Only Permit                            0\n",
       "Permit Expiration Date                    269\n",
       "Estimated Cost                            333\n",
       "Revised Cost                              267\n",
       "Existing Use                                0\n",
       "Existing Units                              0\n",
       "Proposed Use                               36\n",
       "Proposed Units                            188\n",
       "Plansets                                    4\n",
       "TIDF Compliance                             0\n",
       "Existing Construction Type                  0\n",
       "Existing Construction Type Description      0\n",
       "Proposed Construction Type                  9\n",
       "Proposed Construction Type Description      5\n",
       "Site Permit                                 1\n",
       "Supervisor District                        11\n",
       "Neighborhoods - Analysis Boundaries        34\n",
       "Zipcode                                    25\n",
       "Location                                  526\n",
       "Record ID                                 699\n",
       "dtype: int64"
      ]
     },
     "execution_count": 75,
     "metadata": {},
     "output_type": "execute_result"
    }
   ],
   "source": [
    "dataset.loc[mask3,:].nunique()"
   ]
  },
  {
   "cell_type": "code",
   "execution_count": null,
   "id": "c5cbdb52-88f1-4312-bf01-d54bd165fe20",
   "metadata": {},
   "outputs": [],
   "source": []
  },
  {
   "cell_type": "code",
   "execution_count": 71,
   "id": "6073e846-6bb5-4cf6-813a-0dbdf6cb7332",
   "metadata": {},
   "outputs": [
    {
     "data": {
      "text/plain": [
       "(343459,)"
      ]
     },
     "execution_count": 71,
     "metadata": {},
     "output_type": "execute_result"
    }
   ],
   "source": [
    "dataset['Filed Date'].shape"
   ]
  },
  {
   "cell_type": "code",
   "execution_count": 68,
   "id": "925492e4-80e9-40a0-811b-f1dfd002c62a",
   "metadata": {},
   "outputs": [],
   "source": [
    "new_const=dataset.loc[mask3,:]\n",
    "new_const.to_csv('new_const.csv')"
   ]
  },
  {
   "cell_type": "code",
   "execution_count": 73,
   "id": "881dc302-c0e8-4e6f-9df5-44b6a1171053",
   "metadata": {},
   "outputs": [
    {
     "data": {
      "text/plain": [
       "21        erect a two wall signs same size two location.\n",
       "38                    erect 1 illuminated monument sign.\n",
       "39                    erect 1 illuminated monument sign.\n",
       "54     install 1 double face, illuminated directional...\n",
       "65                   to erect single faced electric sign\n",
       "231           to replace single faced electric wall sign\n",
       "233                  to erect projecting electrical sign\n",
       "283              to erect single face electric wall sign\n",
       "677       re-face (3) existing wall signs for \"citibank\"\n",
       "679     re-face (2) existing canopy signs for \"citibank\"\n",
       "Name: Description, dtype: object"
      ]
     },
     "execution_count": 73,
     "metadata": {},
     "output_type": "execute_result"
    }
   ],
   "source": [
    "mask2 = dataset['Permit Type Definition'] == 'sign - erect'\n",
    "dataset.loc[mask2,'Description'][0:10]"
   ]
  },
  {
   "cell_type": "code",
   "execution_count": null,
   "id": "d330ccea-a8b5-4b70-8bb7-ab10f15bc90d",
   "metadata": {},
   "outputs": [],
   "source": [
    "mask2 = dataset['Permit Type Definition'] == 'otc alterations permit'\n",
    "dataset.loc[mask2,'Description'][0:10]"
   ]
  },
  {
   "cell_type": "code",
   "execution_count": 45,
   "id": "b43c61dc-035c-4d12-b274-34b344e487d9",
   "metadata": {},
   "outputs": [
    {
     "data": {
      "text/plain": [
       "array(['otc alterations permit', 'sign - erect', 'wall or painted sign',\n",
       "       'additions alterations or repairs', 'new construction wood frame',\n",
       "       'demolitions', 'new construction',\n",
       "       'grade or quarry or fill or excavate'], dtype=object)"
      ]
     },
     "execution_count": 45,
     "metadata": {},
     "output_type": "execute_result"
    }
   ],
   "source": [
    "dataset['Permit Type Definition'].unique()"
   ]
  },
  {
   "cell_type": "code",
   "execution_count": 46,
   "id": "6ae52abf-7abd-47fc-94fe-28f7a29ed991",
   "metadata": {},
   "outputs": [
    {
     "data": {
      "text/plain": [
       "otc alterations permit                 309187\n",
       "additions alterations or repairs        24914\n",
       "sign - erect                             5012\n",
       "new construction wood frame              1499\n",
       "demolitions                              1155\n",
       "wall or painted sign                      834\n",
       "new construction                          699\n",
       "grade or quarry or fill or excavate       159\n",
       "Name: Permit Type Definition, dtype: int64"
      ]
     },
     "execution_count": 46,
     "metadata": {},
     "output_type": "execute_result"
    }
   ],
   "source": [
    "dataset['Permit Type Definition'].value_counts()"
   ]
  },
  {
   "cell_type": "code",
   "execution_count": 31,
   "id": "302f5133-b6d6-4c09-a319-6379995d50ce",
   "metadata": {},
   "outputs": [
    {
     "data": {
      "text/plain": [
       "array([  nan,   1. ,  26. ,   3. ,   7. ,  16. ,  34. ,  20. ,   2. ,\n",
       "        24. ,   5. ,   6. ,   4. ,   9. ,  48. ,  18. ,  38. ,  19. ,\n",
       "        11. ,  30. ,  15. ,   8. ,  25. ,  12. ,  14. ,  53. ,  52. ,\n",
       "        37. ,  13. ,  31. ,  23. ,  36. ,  40. ,  32. ,  39. ,  10. ,\n",
       "        22. ,  43. ,  33. ,  55. ,  50. ,  42. ,  17. ,  21. ,  60. ,\n",
       "        58. ,  29. ,  35. ,   0. ,  45. ,  28. ,  63. ,  27. ,  62. ,\n",
       "        41. ,  47. ,  46. ,  54. ,  61. ,  44. ,  49. ,  78. ,  56. ,\n",
       "         2.5,   1.5,  51. ,  67. , 479. ,  59. ,  64. ,  85. ,  57. ,\n",
       "       118. , 220. ])"
      ]
     },
     "execution_count": 31,
     "metadata": {},
     "output_type": "execute_result"
    }
   ],
   "source": [
    "dataset['Number of Proposed Stories'].unique()"
   ]
  },
  {
   "cell_type": "code",
   "execution_count": 33,
   "id": "de070ca2-4527-4a7a-ae71-7da92c1c5fda",
   "metadata": {},
   "outputs": [
    {
     "data": {
      "text/plain": [
       "2.0      88352\n",
       "3.0      81174\n",
       "4.0      32108\n",
       "1.0      13582\n",
       "5.0       7309\n",
       "         ...  \n",
       "51.0         1\n",
       "479.0        1\n",
       "85.0         1\n",
       "118.0        1\n",
       "220.0        1\n",
       "Name: Number of Proposed Stories, Length: 73, dtype: int64"
      ]
     },
     "execution_count": 33,
     "metadata": {},
     "output_type": "execute_result"
    }
   ],
   "source": [
    "dataset['Number of Proposed Stories'].value_counts()"
   ]
  },
  {
   "cell_type": "code",
   "execution_count": 44,
   "id": "587c3e0f-68c1-497f-97fa-666d1ba51932",
   "metadata": {},
   "outputs": [
    {
     "data": {
      "text/html": [
       "<div>\n",
       "<style scoped>\n",
       "    .dataframe tbody tr th:only-of-type {\n",
       "        vertical-align: middle;\n",
       "    }\n",
       "\n",
       "    .dataframe tbody tr th {\n",
       "        vertical-align: top;\n",
       "    }\n",
       "\n",
       "    .dataframe thead th {\n",
       "        text-align: right;\n",
       "    }\n",
       "</style>\n",
       "<table border=\"1\" class=\"dataframe\">\n",
       "  <thead>\n",
       "    <tr style=\"text-align: right;\">\n",
       "      <th></th>\n",
       "      <th>Permit Number</th>\n",
       "      <th>Permit Type</th>\n",
       "      <th>Permit Type Definition</th>\n",
       "      <th>Permit Creation Date</th>\n",
       "      <th>Block</th>\n",
       "      <th>Lot</th>\n",
       "      <th>Street Number</th>\n",
       "      <th>Street Number Suffix</th>\n",
       "      <th>Street Name</th>\n",
       "      <th>Street Suffix</th>\n",
       "      <th>Unit</th>\n",
       "      <th>Unit Suffix</th>\n",
       "      <th>Description</th>\n",
       "      <th>Current Status</th>\n",
       "      <th>Current Status Date</th>\n",
       "      <th>Filed Date</th>\n",
       "      <th>Issued Date</th>\n",
       "      <th>Completed Date</th>\n",
       "      <th>First Construction Document Date</th>\n",
       "      <th>Structural Notification</th>\n",
       "      <th>Number of Existing Stories</th>\n",
       "      <th>Number of Proposed Stories</th>\n",
       "      <th>Voluntary Soft-Story Retrofit</th>\n",
       "      <th>Fire Only Permit</th>\n",
       "      <th>Permit Expiration Date</th>\n",
       "      <th>Estimated Cost</th>\n",
       "      <th>Revised Cost</th>\n",
       "      <th>Existing Use</th>\n",
       "      <th>Existing Units</th>\n",
       "      <th>Proposed Use</th>\n",
       "      <th>Proposed Units</th>\n",
       "      <th>Plansets</th>\n",
       "      <th>TIDF Compliance</th>\n",
       "      <th>Existing Construction Type</th>\n",
       "      <th>Existing Construction Type Description</th>\n",
       "      <th>Proposed Construction Type</th>\n",
       "      <th>Proposed Construction Type Description</th>\n",
       "      <th>Site Permit</th>\n",
       "      <th>Supervisor District</th>\n",
       "      <th>Neighborhoods - Analysis Boundaries</th>\n",
       "      <th>Zipcode</th>\n",
       "      <th>Location</th>\n",
       "      <th>Record ID</th>\n",
       "    </tr>\n",
       "  </thead>\n",
       "  <tbody>\n",
       "    <tr>\n",
       "      <th>205393</th>\n",
       "      <td>201804206992</td>\n",
       "      <td>8</td>\n",
       "      <td>otc alterations permit</td>\n",
       "      <td>04/20/2018</td>\n",
       "      <td>0259</td>\n",
       "      <td>026</td>\n",
       "      <td>555</td>\n",
       "      <td>NaN</td>\n",
       "      <td>California</td>\n",
       "      <td>St</td>\n",
       "      <td>NaN</td>\n",
       "      <td>NaN</td>\n",
       "      <td>49th floor: t.i.  to demo and construct new pa...</td>\n",
       "      <td>complete</td>\n",
       "      <td>12/17/2018</td>\n",
       "      <td>04/20/2018</td>\n",
       "      <td>04/26/2018</td>\n",
       "      <td>12/17/2018</td>\n",
       "      <td>NaN</td>\n",
       "      <td>NaN</td>\n",
       "      <td>51.0</td>\n",
       "      <td>51.0</td>\n",
       "      <td>NaN</td>\n",
       "      <td>NaN</td>\n",
       "      <td>04/10/2021</td>\n",
       "      <td>1,675,914</td>\n",
       "      <td>1,675,914</td>\n",
       "      <td>office</td>\n",
       "      <td>0</td>\n",
       "      <td>office</td>\n",
       "      <td>0</td>\n",
       "      <td>2.0</td>\n",
       "      <td>NaN</td>\n",
       "      <td>1.0</td>\n",
       "      <td>constr type 1</td>\n",
       "      <td>1.0</td>\n",
       "      <td>constr type 1</td>\n",
       "      <td>NaN</td>\n",
       "      <td>3.0</td>\n",
       "      <td>Financial District/South Beach</td>\n",
       "      <td>94104.0</td>\n",
       "      <td>POINT (-122.4034859548936 37.79226164705224)</td>\n",
       "      <td>150513766052</td>\n",
       "    </tr>\n",
       "  </tbody>\n",
       "</table>\n",
       "</div>"
      ],
      "text/plain": [
       "       Permit Number  Permit Type  Permit Type Definition  \\\n",
       "205393  201804206992            8  otc alterations permit   \n",
       "\n",
       "       Permit Creation Date Block  Lot  Street Number Street Number Suffix  \\\n",
       "205393           04/20/2018  0259  026            555                  NaN   \n",
       "\n",
       "       Street Name Street Suffix  Unit Unit Suffix  \\\n",
       "205393  California            St   NaN         NaN   \n",
       "\n",
       "                                              Description Current Status  \\\n",
       "205393  49th floor: t.i.  to demo and construct new pa...       complete   \n",
       "\n",
       "       Current Status Date  Filed Date Issued Date Completed Date  \\\n",
       "205393          12/17/2018  04/20/2018  04/26/2018     12/17/2018   \n",
       "\n",
       "       First Construction Document Date Structural Notification  \\\n",
       "205393                              NaN                     NaN   \n",
       "\n",
       "        Number of Existing Stories  Number of Proposed Stories  \\\n",
       "205393                        51.0                        51.0   \n",
       "\n",
       "       Voluntary Soft-Story Retrofit Fire Only Permit Permit Expiration Date  \\\n",
       "205393                           NaN              NaN             04/10/2021   \n",
       "\n",
       "       Estimated Cost Revised Cost Existing Use Existing Units Proposed Use  \\\n",
       "205393      1,675,914    1,675,914       office              0       office   \n",
       "\n",
       "       Proposed Units  Plansets TIDF Compliance  Existing Construction Type  \\\n",
       "205393              0       2.0             NaN                         1.0   \n",
       "\n",
       "       Existing Construction Type Description Proposed Construction Type  \\\n",
       "205393                          constr type 1                        1.0   \n",
       "\n",
       "       Proposed Construction Type Description Site Permit  \\\n",
       "205393                          constr type 1         NaN   \n",
       "\n",
       "        Supervisor District Neighborhoods - Analysis Boundaries  Zipcode  \\\n",
       "205393                  3.0      Financial District/South Beach  94104.0   \n",
       "\n",
       "                                            Location     Record ID  \n",
       "205393  POINT (-122.4034859548936 37.79226164705224)  150513766052  "
      ]
     },
     "metadata": {},
     "output_type": "display_data"
    }
   ],
   "source": [
    "pd.set_option('display.max_columns',100)\n",
    "mask1= dataset['Number of Proposed Stories'] == 51.0\n",
    "display(dataset.loc[mask1,:])"
   ]
  },
  {
   "cell_type": "code",
   "execution_count": 29,
   "id": "e49d3d4a-a4c2-44e1-bd51-e8964602a6d4",
   "metadata": {},
   "outputs": [
    {
     "data": {
      "text/plain": [
       "array([ nan,  1. , 26. ,  3. ,  7. , 16. , 34. , 20. ,  2. , 24. ,  5. ,\n",
       "        4. ,  6. ,  9. , 48. , 18. , 38. , 19. , 11. , 30. , 15. ,  8. ,\n",
       "       25. , 12. , 14. , 53. , 52. , 37. , 13. , 31. , 23. , 36. , 40. ,\n",
       "       32. , 39. , 10. , 22. , 43. , 33. ,  0. , 55. , 50. , 42. , 17. ,\n",
       "       21. , 60. , 58. , 29. , 35. , 45. , 28. , 63. , 27. , 41. , 47. ,\n",
       "       46. , 61. , 44. , 49. , 54. , 78. ,  2.5,  1.5, 62. , 56. , 51. ,\n",
       "       67. , 59. , 64. , 85. , 88. , 57. ])"
      ]
     },
     "execution_count": 29,
     "metadata": {},
     "output_type": "execute_result"
    }
   ],
   "source": [
    "dataset['Number of Existing Stories'].unique()"
   ]
  },
  {
   "cell_type": "code",
   "execution_count": 30,
   "id": "abda3a27-d45d-45e9-812f-f1f5adad05cf",
   "metadata": {},
   "outputs": [
    {
     "data": {
      "text/plain": [
       "2.0     91569\n",
       "3.0     79503\n",
       "4.0     29524\n",
       "1.0     15277\n",
       "5.0      6783\n",
       "        ...  \n",
       "64.0        2\n",
       "78.0        1\n",
       "51.0        1\n",
       "85.0        1\n",
       "88.0        1\n",
       "Name: Number of Existing Stories, Length: 71, dtype: int64"
      ]
     },
     "execution_count": 30,
     "metadata": {},
     "output_type": "execute_result"
    }
   ],
   "source": [
    "dataset['Number of Existing Stories'].value_counts()"
   ]
  },
  {
   "cell_type": "code",
   "execution_count": null,
   "id": "ad45cc22-a938-4c28-97c9-8528a82a3ab3",
   "metadata": {},
   "outputs": [],
   "source": []
  },
  {
   "cell_type": "code",
   "execution_count": 27,
   "id": "4c7a8e0d-ade9-45c4-80d1-74123e93be99",
   "metadata": {},
   "outputs": [
    {
     "data": {
      "text/plain": [
       "complete       185599\n",
       "issued         126313\n",
       "filed           18145\n",
       "withdrawn        3905\n",
       "expired          3828\n",
       "cancelled        3685\n",
       "reinstated        791\n",
       "approved          726\n",
       "suspend           241\n",
       "revoked           115\n",
       "disapproved        62\n",
       "plancheck          25\n",
       "denied              9\n",
       "appeal              3\n",
       "unknown             2\n",
       "overruled           1\n",
       "incomplete          1\n",
       "upheld              1\n",
       "Name: Current Status, dtype: int64"
      ]
     },
     "execution_count": 27,
     "metadata": {},
     "output_type": "execute_result"
    }
   ],
   "source": [
    "dataset['Current Status'].value_counts() #we can delete withdrawn and some other permits"
   ]
  },
  {
   "cell_type": "code",
   "execution_count": 19,
   "id": "d5ac4244-a7e9-405a-a3a6-a5fea21f3e39",
   "metadata": {},
   "outputs": [
    {
     "data": {
      "text/plain": [
       "0                                         street space\n",
       "1                    street space and side walk repair\n",
       "2    remove two extg concrete columns and replace w...\n",
       "3                                         street space\n",
       "4    add 8-inch double detector check backflow prev...\n",
       "Name: Description, dtype: object"
      ]
     },
     "execution_count": 19,
     "metadata": {},
     "output_type": "execute_result"
    }
   ],
   "source": [
    "dataset['Description'][:5] #information on where construction takes place"
   ]
  },
  {
   "cell_type": "code",
   "execution_count": 79,
   "id": "aae8d6b9-e55d-4fd3-ad9a-88c329d68725",
   "metadata": {},
   "outputs": [
    {
     "data": {
      "text/plain": [
       "Permit Number                             1235\n",
       "Permit Type                                  1\n",
       "Permit Type Definition                       1\n",
       "Permit Creation Date                       683\n",
       "Block                                      634\n",
       "Lot                                        255\n",
       "Street Number                              928\n",
       "Street Number Suffix                         5\n",
       "Street Name                                422\n",
       "Street Suffix                               11\n",
       "Unit                                         4\n",
       "Unit Suffix                                  4\n",
       "Description                               1029\n",
       "Current Status                              10\n",
       "Current Status Date                        757\n",
       "Filed Date                                 685\n",
       "Issued Date                                435\n",
       "Completed Date                             335\n",
       "First Construction Document Date           312\n",
       "Structural Notification                      1\n",
       "Number of Existing Stories                   1\n",
       "Number of Proposed Stories                   8\n",
       "Voluntary Soft-Story Retrofit                0\n",
       "Fire Only Permit                             0\n",
       "Permit Expiration Date                     443\n",
       "Estimated Cost                             369\n",
       "Revised Cost                               395\n",
       "Existing Use                                 2\n",
       "Existing Units                               2\n",
       "Proposed Use                                38\n",
       "Proposed Units                              62\n",
       "Plansets                                     3\n",
       "TIDF Compliance                              0\n",
       "Existing Construction Type                   1\n",
       "Existing Construction Type Description       1\n",
       "Proposed Construction Type                   6\n",
       "Proposed Construction Type Description       4\n",
       "Site Permit                                  1\n",
       "Supervisor District                         11\n",
       "Neighborhoods - Analysis Boundaries         38\n",
       "Zipcode                                     25\n",
       "Location                                  1056\n",
       "Record ID                                 1499\n",
       "dtype: int64"
      ]
     },
     "execution_count": 79,
     "metadata": {},
     "output_type": "execute_result"
    }
   ],
   "source": [
    "mask5 = dataset['Permit Type Definition'] == 'new construction wood frame'\n",
    "dataset.loc[mask5,:].nunique()\n"
   ]
  },
  {
   "cell_type": "code",
   "execution_count": null,
   "id": "cb7cebfe-7616-4b05-957d-d267c4b73155",
   "metadata": {},
   "outputs": [],
   "source": []
  }
 ],
 "metadata": {
  "kernelspec": {
   "display_name": "Python 3 (ipykernel)",
   "language": "python",
   "name": "python3"
  },
  "language_info": {
   "codemirror_mode": {
    "name": "ipython",
    "version": 3
   },
   "file_extension": ".py",
   "mimetype": "text/x-python",
   "name": "python",
   "nbconvert_exporter": "python",
   "pygments_lexer": "ipython3",
   "version": "3.9.7"
  }
 },
 "nbformat": 4,
 "nbformat_minor": 5
}
