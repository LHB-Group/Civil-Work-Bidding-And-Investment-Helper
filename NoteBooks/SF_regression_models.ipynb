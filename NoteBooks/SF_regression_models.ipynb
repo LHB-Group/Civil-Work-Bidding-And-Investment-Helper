{
  "cells": [
    {
      "cell_type": "markdown",
      "metadata": {
        "id": "276e7c4c-d1f6-467c-9863-80e8d552ef8a"
      },
      "source": [
        "***PART 1 - LOADING LIBRARIES AND DATABASE***"
      ],
      "id": "276e7c4c-d1f6-467c-9863-80e8d552ef8a"
    },
    {
      "cell_type": "code",
      "execution_count": 1,
      "metadata": {
        "id": "462851cc-45f5-4f5f-860a-7c154c262dd3"
      },
      "outputs": [],
      "source": [
        "import pandas as pd\n",
        "import numpy as np\n",
        "import matplotlib.pyplot as plt\n",
        "\n",
        "import plotly.express as px\n",
        "import plotly.graph_objects as go\n",
        "from plotly.subplots import make_subplots\n",
        "import plotly.io as pio\n",
        "\n",
        "import warnings\n",
        "warnings.filterwarnings('ignore')\n",
        "\n"
      ],
      "id": "462851cc-45f5-4f5f-860a-7c154c262dd3"
    },
    {
      "cell_type": "code",
      "execution_count": 2,
      "metadata": {
        "id": "8EaKjOn5qmEV"
      },
      "outputs": [],
      "source": [
        "pd.options.display.max_columns = None #The dataset is huge. To see all of the columns, we change max columns\n",
        "pd.options.display.max_seq_items=1000\n",
        "pd.options.display.max_rows=1000"
      ],
      "id": "8EaKjOn5qmEV"
    },
    {
      "cell_type": "code",
      "execution_count": 3,
      "metadata": {
        "id": "da151b56-2ac1-43d1-beb0-2084703103f5"
      },
      "outputs": [],
      "source": [
        "fname1='https://drive.google.com/file/d/1XoqPujIOGHQStuAqM6Gzyqbkha4c5Y96/view?usp=sharing'\n",
        "fname1='https://drive.google.com/uc?id=' + fname1.split('/')[-2]\n",
        "dataset = pd.read_csv(fname1, low_memory=False)"
      ],
      "id": "da151b56-2ac1-43d1-beb0-2084703103f5"
    },
    {
      "cell_type": "code",
      "execution_count": 4,
      "metadata": {
        "id": "547bd10f-54d8-4960-8bd8-17f075986afb",
        "colab": {
          "base_uri": "https://localhost:8080/"
        },
        "outputId": "ad9866d1-059d-4696-dfc4-cfd964b3a5d6"
      },
      "outputs": [
        {
          "output_type": "execute_result",
          "data": {
            "text/plain": [
              "(5526, 58)"
            ]
          },
          "metadata": {},
          "execution_count": 4
        }
      ],
      "source": [
        "dataset.shape"
      ],
      "id": "547bd10f-54d8-4960-8bd8-17f075986afb"
    },
    {
      "cell_type": "code",
      "execution_count": 5,
      "metadata": {
        "id": "c857dce1-a36e-4ca5-b76d-3bb5a026c453",
        "colab": {
          "base_uri": "https://localhost:8080/"
        },
        "outputId": "0ab60777-868d-43c8-9932-91195b30c636"
      },
      "outputs": [
        {
          "output_type": "execute_result",
          "data": {
            "text/plain": [
              "Index(['Unnamed: 0', 'Permit Number', 'Permit Type', 'Permit Type Definition',\n",
              "       'Permit Creation Date', 'Block', 'Lot', 'Street Number',\n",
              "       'Street Number Suffix', 'Street Name', 'Street Suffix', 'Unit',\n",
              "       'Unit Suffix', 'Description', 'Current Status', 'Current Status Date',\n",
              "       'Filed Date', 'Issued Date', 'Completed Date',\n",
              "       'First Construction Document Date', 'Structural Notification',\n",
              "       'Number of Existing Stories', 'Number of Proposed Stories',\n",
              "       'Voluntary Soft-Story Retrofit', 'Fire Only Permit',\n",
              "       'Permit Expiration Date', 'Estimated Cost', 'Revised Cost',\n",
              "       'Existing Use', 'Existing Units', 'Proposed Use', 'Proposed Units',\n",
              "       'Plansets', 'TIDF Compliance', 'Existing Construction Type',\n",
              "       'Existing Construction Type Description', 'Proposed Construction Type',\n",
              "       'Proposed Construction Type Description', 'Site Permit',\n",
              "       'Supervisor District', 'Neighborhoods - Analysis Boundaries', 'Zipcode',\n",
              "       'Location', 'Record ID', 'SF Find Neighborhoods 2',\n",
              "       'Current Police Districts 2', 'Current Supervisor Districts 2',\n",
              "       'Analysis Neighborhoods 2', 'DELETE - Zip Codes 2',\n",
              "       'DELETE - Fire Prevention Districts 2',\n",
              "       'DELETE - Supervisor Districts 2',\n",
              "       'DELETE - Current Police Districts 2',\n",
              "       'DELETE - Supervisorial_Districts_Waterline_data_from_7pkg_wer3 2',\n",
              "       'Neighborhoods', 'Duration', 'Duration_b', 'Year',\n",
              "       'Estimated Cost_log10'],\n",
              "      dtype='object')"
            ]
          },
          "metadata": {},
          "execution_count": 5
        }
      ],
      "source": [
        "dataset.columns"
      ],
      "id": "c857dce1-a36e-4ca5-b76d-3bb5a026c453"
    },
    {
      "cell_type": "markdown",
      "metadata": {
        "id": "uZONddRV-q5E"
      },
      "source": [
        "#DATA VISUALISATION"
      ],
      "id": "uZONddRV-q5E"
    },
    {
      "cell_type": "markdown",
      "metadata": {
        "id": "M3lAEG3ROUuf"
      },
      "source": [
        "***Let's explore our dataset***"
      ],
      "id": "M3lAEG3ROUuf"
    },
    {
      "cell_type": "code",
      "execution_count": 6,
      "metadata": {
        "id": "AEe1R-7LUKf8"
      },
      "outputs": [],
      "source": [
        "import seaborn as sns"
      ],
      "id": "AEe1R-7LUKf8"
    },
    {
      "cell_type": "code",
      "execution_count": 6,
      "metadata": {
        "id": "a_Hxf71_UwVL"
      },
      "outputs": [],
      "source": [
        ""
      ],
      "id": "a_Hxf71_UwVL"
    },
    {
      "cell_type": "code",
      "execution_count": 7,
      "metadata": {
        "id": "9dGgQ3AaCd-f",
        "colab": {
          "base_uri": "https://localhost:8080/"
        },
        "outputId": "29b7e214-1671-441d-c129-e97ef7f82ffa"
      },
      "outputs": [
        {
          "output_type": "execute_result",
          "data": {
            "text/plain": [
              "(5526, 13)"
            ]
          },
          "metadata": {},
          "execution_count": 7
        }
      ],
      "source": [
        "cols = [#'Permit Type', 'Current Status',\n",
        "        'Duration', 'Year',\n",
        "        'Estimated Cost', 'Revised Cost',\n",
        "        'Neighborhoods - Analysis Boundaries', 'Zipcode',\n",
        "       'Number of Existing Stories', 'Number of Proposed Stories',\n",
        "       #'Existing Use', 'Existing Units',\n",
        "        'Proposed Use', 'Proposed Units',\n",
        "       # 'Existing Construction Type','Existing Construction Type Description',\n",
        "        'Proposed Construction Type','Proposed Construction Type Description',\n",
        "        'Plansets'\n",
        "       ]\n",
        "dataset[cols].shape\n"
      ],
      "id": "9dGgQ3AaCd-f"
    },
    {
      "cell_type": "code",
      "execution_count": 43,
      "metadata": {
        "colab": {
          "base_uri": "https://localhost:8080/",
          "height": 87
        },
        "id": "Laz60oDT-AjW",
        "outputId": "694d05e1-05f6-48cf-a6f7-028956c8f684"
      },
      "outputs": [
        {
          "output_type": "execute_result",
          "data": {
            "text/plain": [
              "\"comment on this figure\\nnewdf=dataset[cols].sample(1000)#frac=0.01)#0.15)\\n\\n\\nfig, axes = plt.subplots(nrows = 10, ncols = 2)    # axes is 2d array (3x3)\\naxes = axes.flatten()         # Convert axes to 1d array of length 9\\nfig.set_size_inches(20, 40)\\n\\nfor ax, col in zip(axes, newdf.columns):\\n    sns.histplot(data=newdf,y=col,kde=True,ax=ax,stat='density',color='forestgreen')\\n    #if 'cost' in col.lower():\\n    #  sns.histplot(data=newdf,y=col,kde=True,ax=ax,stat='density',color='forestgreen',log_scale=True)\\n    #ax.set_title(col)\\n    #print(col)\\n#fig.savefig('drive/MyDrive/colab/data_exploration_.png',dpi=800)\\n#fig.close()\\n\""
            ],
            "application/vnd.google.colaboratory.intrinsic+json": {
              "type": "string"
            }
          },
          "metadata": {},
          "execution_count": 43
        }
      ],
      "source": [
        "\"\"\"comment on this figure\n",
        "newdf=dataset[cols].sample(1000)#frac=0.01)#0.15)\n",
        "\n",
        "\n",
        "fig, axes = plt.subplots(nrows = 10, ncols = 2)    # axes is 2d array (3x3)\n",
        "axes = axes.flatten()         # Convert axes to 1d array of length 9\n",
        "fig.set_size_inches(20, 40)\n",
        "\n",
        "for ax, col in zip(axes, newdf.columns):\n",
        "    sns.histplot(data=newdf,y=col,kde=True,ax=ax,stat='density',color='forestgreen')\n",
        "    #if 'cost' in col.lower():\n",
        "    #  sns.histplot(data=newdf,y=col,kde=True,ax=ax,stat='density',color='forestgreen',log_scale=True)\n",
        "    #ax.set_title(col)\n",
        "    #print(col)\n",
        "#fig.savefig('drive/MyDrive/colab/data_exploration_.png',dpi=800)\n",
        "#fig.close()\n",
        "\"\"\"\n"
      ],
      "id": "Laz60oDT-AjW"
    },
    {
      "cell_type": "code",
      "source": [
        "#histogram\n",
        "sns.histplot(data= dataset , x='Estimated Cost',kde=True,stat='density',color='forestgreen',log_scale=True)"
      ],
      "metadata": {
        "colab": {
          "base_uri": "https://localhost:8080/",
          "height": 300
        },
        "id": "yQVHoUuFhKTb",
        "outputId": "ca22e1c6-51da-4a5e-d3a7-fec290112f37"
      },
      "id": "yQVHoUuFhKTb",
      "execution_count": 44,
      "outputs": [
        {
          "output_type": "execute_result",
          "data": {
            "text/plain": [
              "<matplotlib.axes._subplots.AxesSubplot at 0x7f7b98f379d0>"
            ]
          },
          "metadata": {},
          "execution_count": 44
        },
        {
          "output_type": "display_data",
          "data": {
            "text/plain": [
              "<Figure size 432x288 with 1 Axes>"
            ],
            "image/png": "[encoded data removed]"
          },
          "metadata": {
            "needs_background": "light"
          }
        }
      ]
    },
    {
      "cell_type": "markdown",
      "metadata": {
        "id": "C3qQmsgPObZe"
      },
      "source": [
        "***Let's explore heatmap***"
      ],
      "id": "C3qQmsgPObZe"
    },
    {
      "cell_type": "code",
      "execution_count": 44,
      "metadata": {
        "id": "JaJuVwBhXVHm"
      },
      "outputs": [],
      "source": [
        ""
      ],
      "id": "JaJuVwBhXVHm"
    },
    {
      "cell_type": "code",
      "source": [
        "newdf = dataset[cols]"
      ],
      "metadata": {
        "id": "BUwbygcZmExz"
      },
      "id": "BUwbygcZmExz",
      "execution_count": 45,
      "outputs": []
    },
    {
      "cell_type": "code",
      "execution_count": 46,
      "metadata": {
        "colab": {
          "base_uri": "https://localhost:8080/",
          "height": 524
        },
        "id": "qow8EKT2E6WD",
        "outputId": "b97d120a-5cbc-4047-cc77-55fa59ca4fc1"
      },
      "outputs": [
        {
          "output_type": "execute_result",
          "data": {
            "text/plain": [
              "<matplotlib.axes._subplots.AxesSubplot at 0x7f7b980df950>"
            ]
          },
          "metadata": {},
          "execution_count": 46
        },
        {
          "output_type": "display_data",
          "data": {
            "text/plain": [
              "<Figure size 648x432 with 2 Axes>"
            ],
            "image/png": "[encoded data removed]"
          },
          "metadata": {
            "needs_background": "light"
          }
        }
      ],
      "source": [
        "f, ax = plt.subplots(figsize=(9, 6))\n",
        "sns.heatmap(newdf.corr(), vmax=.8, square=True)\n",
        "#fig.savefig('drive/MyDrive/colab/data_heatmap.jpg',dpi=400)"
      ],
      "id": "qow8EKT2E6WD"
    },
    {
      "cell_type": "markdown",
      "source": [
        "**Observations of HeatMap**\n",
        "\n",
        "\n",
        "\n",
        "*   List item\n",
        "*   List item\n",
        "\n"
      ],
      "metadata": {
        "id": "5DROX0QNla6X"
      },
      "id": "5DROX0QNla6X"
    },
    {
      "cell_type": "code",
      "source": [
        ""
      ],
      "metadata": {
        "id": "tZTTJ2drlZ1N"
      },
      "id": "tZTTJ2drlZ1N",
      "execution_count": 46,
      "outputs": []
    },
    {
      "cell_type": "markdown",
      "source": [
        "**In summary **\n",
        "\n",
        "we can conclude that \n",
        "\n",
        "\n",
        "\n",
        "*   List item\n",
        "*   List item\n",
        "\n"
      ],
      "metadata": {
        "id": "N6P8Xp6EktH_"
      },
      "id": "N6P8Xp6EktH_"
    },
    {
      "cell_type": "markdown",
      "metadata": {
        "id": "BrpFaO9f99LU"
      },
      "source": [
        "#MACHINE LEARNING\n",
        "\n"
      ],
      "id": "BrpFaO9f99LU"
    },
    {
      "cell_type": "code",
      "execution_count": 47,
      "metadata": {
        "id": "lPq5X1tvvVkQ"
      },
      "outputs": [],
      "source": [
        "#kaggle ref. https://www.kaggle.com/code/serigne/stacked-regressions-top-4-on-leaderboard\n",
        "\n",
        "\n",
        "#libraries \n",
        "\n",
        "from sklearn.linear_model import ElasticNet, Lasso,  BayesianRidge, LassoLarsIC\n",
        "from sklearn.ensemble import RandomForestRegressor,  GradientBoostingRegressor\n",
        "from sklearn.kernel_ridge import KernelRidge\n",
        "from sklearn.pipeline import Pipeline, make_pipeline\n",
        "from sklearn.impute import SimpleImputer\n",
        "from sklearn.compose import ColumnTransformer\n",
        "from sklearn.preprocessing import RobustScaler,OneHotEncoder, StandardScaler\n",
        "from sklearn.base import BaseEstimator, TransformerMixin, RegressorMixin, clone\n",
        "from sklearn.linear_model import LinearRegression\n",
        "from sklearn.model_selection import KFold, cross_val_score, train_test_split\n",
        "from sklearn.metrics import mean_squared_error,r2_score\n",
        "import xgboost as xgb\n",
        "import lightgbm as lgb"
      ],
      "id": "lPq5X1tvvVkQ"
    },
    {
      "cell_type": "code",
      "execution_count": 48,
      "metadata": {
        "id": "wUMOJ1dfmayF",
        "colab": {
          "base_uri": "https://localhost:8080/"
        },
        "outputId": "387bd3f7-d5f5-4792-e58b-09a421a0a197"
      },
      "outputs": [
        {
          "output_type": "stream",
          "name": "stdout",
          "text": [
            "Separating labels from features...\n",
            "...Done.\n",
            "\n",
            "Y : \n",
            "0    5.397940\n",
            "1    7.653213\n",
            "2    5.505150\n",
            "3    5.243038\n",
            "4    5.130212\n",
            "Name: Estimated Cost_log10, dtype: float64\n",
            "\n",
            "X :\n",
            "   Permit Type  Number of Proposed Stories  Plansets  \\\n",
            "0            2                         4.0       2.0   \n",
            "1            1                         5.0       4.0   \n",
            "2            2                         4.0       2.0   \n",
            "3            2                         3.0       2.0   \n",
            "4            2                         3.0       2.0   \n",
            "\n",
            "   Proposed Construction Type Neighborhoods - Analysis Boundaries  Year  \\\n",
            "0                           5                 Castro/Upper Market  1991   \n",
            "1                           1                               Other  1991   \n",
            "2                           5                               Other  1995   \n",
            "3                           5                               Other  1995   \n",
            "4                           5                               Other  1996   \n",
            "\n",
            "   Duration  \n",
            "0     815.0  \n",
            "1    1100.0  \n",
            "2     528.0  \n",
            "3     496.0  \n",
            "4     662.0  \n"
          ]
        }
      ],
      "source": [
        "# Separate target variable Y from features X\n",
        "print(\"Separating labels from features...\")\n",
        "features_list = [\n",
        "    \"Permit Type\",\n",
        "    #\"Unit\",\n",
        "    #\"Street Name\",\n",
        "    \"Number of Proposed Stories\", \n",
        "    \"Plansets\", \n",
        "    \"Proposed Construction Type\", \n",
        "    \"Neighborhoods - Analysis Boundaries\", \n",
        "    #\"Zipcode\",\n",
        "    \"Year\",\n",
        "    \"Duration\"\n",
        "]\n",
        "\n",
        "target_variable = \"Estimated Cost_log10\"#\"Estimated Cost\"\n",
        "\n",
        "X = dataset.loc[:,features_list]\n",
        "Y = dataset.loc[:,target_variable]\n",
        "\n",
        "print(\"...Done.\")\n",
        "print()\n",
        "\n",
        "print('Y : ')\n",
        "print(Y.head())\n",
        "print()\n",
        "print('X :')\n",
        "print(X.head())\n"
      ],
      "id": "wUMOJ1dfmayF"
    },
    {
      "cell_type": "code",
      "execution_count": 49,
      "metadata": {
        "id": "bfuuIs8Ima6i",
        "colab": {
          "base_uri": "https://localhost:8080/"
        },
        "outputId": "9254df1e-c3c8-4eaf-a185-b1851eea320c"
      },
      "outputs": [
        {
          "output_type": "stream",
          "name": "stdout",
          "text": [
            "Found numeric features  ['Permit Type', 'Number of Proposed Stories', 'Plansets', 'Proposed Construction Type', 'Year', 'Duration']\n",
            "Found categorical features  ['Neighborhoods - Analysis Boundaries']\n"
          ]
        }
      ],
      "source": [
        "# Automatically detect names of numeric/categorical columns\n",
        "numeric_features = []\n",
        "categorical_features = []\n",
        "for i,t in X.dtypes.iteritems():\n",
        "    if ('float' in str(t)) or ('int' in str(t)) :\n",
        "        numeric_features.append(i)\n",
        "    else :\n",
        "        categorical_features.append(i)\n",
        "\n",
        "print('Found numeric features ', numeric_features)\n",
        "print('Found categorical features ', categorical_features)"
      ],
      "id": "bfuuIs8Ima6i"
    },
    {
      "cell_type": "code",
      "execution_count": 50,
      "metadata": {
        "id": "eAG4_GeQqTiu"
      },
      "outputs": [],
      "source": [
        "#Manually selecting type of features\n",
        "numeric_features=['Number of Proposed Stories', 'Duration']\n",
        "categorical_features=['Plansets','Permit Type', 'Proposed Construction Type', 'Neighborhoods - Analysis Boundaries','Year'] #'Zipcode'"
      ],
      "id": "eAG4_GeQqTiu"
    },
    {
      "cell_type": "code",
      "execution_count": 51,
      "metadata": {
        "id": "qOwe8HXBmbFz",
        "colab": {
          "base_uri": "https://localhost:8080/"
        },
        "outputId": "7e86ceac-af16-4970-c7e5-790234be8bb6"
      },
      "outputs": [
        {
          "output_type": "stream",
          "name": "stdout",
          "text": [
            "...Done.\n",
            "\n"
          ]
        }
      ],
      "source": [
        "#Since we use Kfold, we don't divide data into train and test data set!\n",
        "#for X_train and Y_train we use all dataset since we use K-fold\n",
        "X_train = X\n",
        "Y_train = Y \n",
        "#X_train, X_test, Y_train, Y_test = train_test_split(X, Y, test_size=0.0, random_state=0)#,stratify=Y)\n",
        "print(\"...Done.\")\n",
        "print()"
      ],
      "id": "qOwe8HXBmbFz"
    },
    {
      "cell_type": "code",
      "execution_count": 52,
      "metadata": {
        "id": "eVlCoLA-mbSv"
      },
      "outputs": [],
      "source": [
        "# Create pipeline for numeric features\n",
        "numeric_transformer = Pipeline(steps=[\n",
        "    ('imputer', SimpleImputer(strategy='mean')), # missing values will be replaced by columns' mean\n",
        "    ('scaler', StandardScaler())\n",
        "])"
      ],
      "id": "eVlCoLA-mbSv"
    },
    {
      "cell_type": "code",
      "execution_count": 53,
      "metadata": {
        "id": "7b869160-f6c6-4790-a34e-203823a0d202"
      },
      "outputs": [],
      "source": [
        "# Create pipeline for categorical features\n",
        "categorical_transformer = Pipeline(\n",
        "    steps=[\n",
        "    ('encoder', OneHotEncoder(drop='first')) # first column will be dropped to avoid creating correlations between features\n",
        "    ])"
      ],
      "id": "7b869160-f6c6-4790-a34e-203823a0d202"
    },
    {
      "cell_type": "code",
      "execution_count": 54,
      "metadata": {
        "id": "krOrUBuUm0KN"
      },
      "outputs": [],
      "source": [
        "# Use ColumnTransformer to make a preprocessor object that describes all the treatments to be done\n",
        "preprocessor = ColumnTransformer(\n",
        "    transformers=[\n",
        "        ('num', numeric_transformer, numeric_features),\n",
        "        ('cat', categorical_transformer, categorical_features)\n",
        "    ])"
      ],
      "id": "krOrUBuUm0KN"
    },
    {
      "cell_type": "code",
      "source": [
        ""
      ],
      "metadata": {
        "id": "exlUgw6ChQoD"
      },
      "id": "exlUgw6ChQoD",
      "execution_count": 54,
      "outputs": []
    },
    {
      "cell_type": "code",
      "execution_count": 55,
      "metadata": {
        "id": "-B4yP8C_mzc1",
        "colab": {
          "base_uri": "https://localhost:8080/",
          "height": 486
        },
        "outputId": "314ca27d-3487-47d0-df50-57c80826af88"
      },
      "outputs": [
        {
          "output_type": "stream",
          "name": "stdout",
          "text": [
            "Performing preprocessings on train set...\n",
            "...Done.\n",
            "   Permit Type  Number of Proposed Stories  Plansets  \\\n",
            "0            2                         4.0       2.0   \n",
            "1            1                         5.0       4.0   \n",
            "2            2                         4.0       2.0   \n",
            "3            2                         3.0       2.0   \n",
            "4            2                         3.0       2.0   \n",
            "\n",
            "   Proposed Construction Type Neighborhoods - Analysis Boundaries  Year  \\\n",
            "0                           5                 Castro/Upper Market  1991   \n",
            "1                           1                               Other  1991   \n",
            "2                           5                               Other  1995   \n",
            "3                           5                               Other  1995   \n",
            "4                           5                               Other  1996   \n",
            "\n",
            "   Duration  \n",
            "0     815.0  \n",
            "1    1100.0  \n",
            "2     528.0  \n",
            "3     496.0  \n",
            "4     662.0  \n",
            "\n"
          ]
        },
        {
          "output_type": "execute_result",
          "data": {
            "text/plain": [
              "'\\n# Preprocessings on test set \\n# IT IS COMMENTED SINCE WE USE K FOLD \\nprint(\"Performing preprocessings on test set...\")\\nprint(X_test.head()) \\nX_test = preprocessor.transform(X_test) # Don\\'t fit again !! The test set is used for validating decisions\\n# we made based on the training set, therefore we can only apply transformations that were parametered using the training set.\\n# Otherwise this creates what is called a leak from the test set which will introduce a bias in all your results.\\nprint(\\'...Done.\\')\\nprint(X_test[0:5,:]) # MUST use this syntax because X_test is a numpy array and not a pandas DataFrame anymore\\nprint()\\n'"
            ],
            "application/vnd.google.colaboratory.intrinsic+json": {
              "type": "string"
            }
          },
          "metadata": {},
          "execution_count": 55
        }
      ],
      "source": [
        "# Preprocessings on train set\n",
        "print(\"Performing preprocessings on train set...\")\n",
        "#print(X.head())\n",
        "X_train = preprocessor.fit_transform(X_train)\n",
        "print('...Done.')\n",
        "print(X[0:5]) # MUST use this syntax because X_train is a numpy array and not a pandas DataFrame anymore\n",
        "print()\n",
        "\n",
        "\"\"\"\n",
        "# Preprocessings on test set \n",
        "# IT IS COMMENTED SINCE WE USE K FOLD \n",
        "print(\"Performing preprocessings on test set...\")\n",
        "print(X_test.head()) \n",
        "X_test = preprocessor.transform(X_test) # Don't fit again !! The test set is used for validating decisions\n",
        "# we made based on the training set, therefore we can only apply transformations that were parametered using the training set.\n",
        "# Otherwise this creates what is called a leak from the test set which will introduce a bias in all your results.\n",
        "print('...Done.')\n",
        "print(X_test[0:5,:]) # MUST use this syntax because X_test is a numpy array and not a pandas DataFrame anymore\n",
        "print()\n",
        "\"\"\""
      ],
      "id": "-B4yP8C_mzc1"
    },
    {
      "cell_type": "code",
      "execution_count": 56,
      "metadata": {
        "id": "61e6e509-70e1-4f30-8997-d37b86f8daee",
        "colab": {
          "base_uri": "https://localhost:8080/"
        },
        "outputId": "7fe50e1a-85ea-4ab8-c176-7f16ecc6c353"
      },
      "outputs": [
        {
          "output_type": "execute_result",
          "data": {
            "text/plain": [
              "0"
            ]
          },
          "metadata": {},
          "execution_count": 56
        }
      ],
      "source": [
        "np.isnan(Y_train).sum()"
      ],
      "id": "61e6e509-70e1-4f30-8997-d37b86f8daee"
    },
    {
      "cell_type": "markdown",
      "source": [
        "#***---CROSS VALIDATION---***\n",
        "\n",
        "\n",
        "We take the cross_val_score function of Sklearn. Then, we use the function Kfold where shuffle = True to allow a shuffle attribution as cross_val_score does not have this option."
      ],
      "metadata": {
        "id": "_PRRA92Enp_E"
      },
      "id": "_PRRA92Enp_E"
    },
    {
      "cell_type": "code",
      "source": [
        ""
      ],
      "metadata": {
        "id": "5b7_HSZayLWJ"
      },
      "id": "5b7_HSZayLWJ",
      "execution_count": 56,
      "outputs": []
    },
    {
      "cell_type": "markdown",
      "source": [
        "***Define Metrics as Function Below***\n",
        "\n",
        "\n"
      ],
      "metadata": {
        "id": "r7xM7_DWXZZ1"
      },
      "id": "r7xM7_DWXZZ1"
    },
    {
      "cell_type": "code",
      "source": [
        "#Validation function\n",
        "n_folds = 3\n",
        "\n",
        "#sqrt of negative mean error\n",
        "def rmsle_cv(model):\n",
        "    kf = KFold(n_folds, shuffle=True, random_state=0).get_n_splits(X_train)\n",
        "    rmse= np.sqrt(-cross_val_score(model, X_train, Y_train, scoring=\"neg_mean_squared_error\", cv = kf))\n",
        "    return(rmse)"
      ],
      "metadata": {
        "id": "A5iwGmo2tAV6"
      },
      "id": "A5iwGmo2tAV6",
      "execution_count": 71,
      "outputs": []
    },
    {
      "cell_type": "code",
      "source": [
        "#R2\n",
        "\n",
        "def R2_cv(model):\n",
        "    kf = KFold(n_folds, shuffle=True, random_state=0).get_n_splits(X_train)\n",
        "    R2= cross_val_score(model, X_train, Y_train, scoring=\"r2\", cv = kf)\n",
        "    return(R2)"
      ],
      "metadata": {
        "id": "QCYl-zXvX-Z0"
      },
      "id": "QCYl-zXvX-Z0",
      "execution_count": 72,
      "outputs": []
    },
    {
      "cell_type": "code",
      "source": [
        ""
      ],
      "metadata": {
        "id": "RVHQK-KQsH3X"
      },
      "id": "RVHQK-KQsH3X",
      "execution_count": 72,
      "outputs": []
    },
    {
      "cell_type": "markdown",
      "source": [
        "\n",
        "***Definiton of base models***\n",
        "\n",
        "***Linear Regression :***\n",
        "    \n",
        "\n",
        "Not that we dont apply Robustscaler()! It can be useful to make data more robust on outliers in the future. We can use sklearn's Robustscaler() method on pipeline\n"
      ],
      "metadata": {
        "id": "xLAZOVdnozr7"
      },
      "id": "xLAZOVdnozr7"
    },
    {
      "cell_type": "code",
      "source": [
        "regressor0= LinearRegression()"
      ],
      "metadata": {
        "id": "3HUvPrL1vu4G"
      },
      "id": "3HUvPrL1vu4G",
      "execution_count": 73,
      "outputs": []
    },
    {
      "cell_type": "markdown",
      "source": [
        "***LASSO Regression :***\n",
        "    \n",
        "\n"
      ],
      "metadata": {
        "id": "bw8EOJ8ruBiE"
      },
      "id": "bw8EOJ8ruBiE"
    },
    {
      "cell_type": "code",
      "source": [
        "lasso = Lasso(alpha =0.0005, random_state=0)\n",
        "#make_pipeline(RobustScaler(), Lasso(alpha =0.0005, random_state=1))"
      ],
      "metadata": {
        "id": "TbP3cMXco5ou"
      },
      "id": "TbP3cMXco5ou",
      "execution_count": 74,
      "outputs": []
    },
    {
      "cell_type": "markdown",
      "source": [
        "***Elastic Net Regression :***\n",
        "\n",
        "\n"
      ],
      "metadata": {
        "id": "8KPGWKCJpQwQ"
      },
      "id": "8KPGWKCJpQwQ"
    },
    {
      "cell_type": "code",
      "source": [
        "ENet = ElasticNet(alpha=0.0005, l1_ratio=.9, random_state=0)\n",
        "#make_pipeline(RobustScaler(), ElasticNet(alpha=0.0005, l1_ratio=.9, random_state=3))"
      ],
      "metadata": {
        "id": "qZ0QtaVFo5gG"
      },
      "id": "qZ0QtaVFo5gG",
      "execution_count": 75,
      "outputs": []
    },
    {
      "cell_type": "markdown",
      "source": [
        "Kernel Ridge Regression :"
      ],
      "metadata": {
        "id": "Rm8qX9sMpVuE"
      },
      "id": "Rm8qX9sMpVuE"
    },
    {
      "cell_type": "code",
      "source": [
        "KRR = KernelRidge(alpha=0.6, kernel='polynomial', degree=2, coef0=2.5)"
      ],
      "metadata": {
        "id": "ef04h9Opo5Wq"
      },
      "id": "ef04h9Opo5Wq",
      "execution_count": 76,
      "outputs": []
    },
    {
      "cell_type": "markdown",
      "source": [
        "***Gradient Boosting Regression :***\n",
        "\n",
        "\n",
        "With huber loss, our model is more robust to outliers\n"
      ],
      "metadata": {
        "id": "9ADmL37Wpaax"
      },
      "id": "9ADmL37Wpaax"
    },
    {
      "cell_type": "code",
      "source": [
        "GBoost = GradientBoostingRegressor(n_estimators=3000, learning_rate=0.05,\n",
        "                                   max_depth=4, max_features='sqrt',\n",
        "                                   min_samples_leaf=15, min_samples_split=10, \n",
        "                                   loss='huber', random_state =0)"
      ],
      "metadata": {
        "id": "x8sNR7bVo5Nj"
      },
      "id": "x8sNR7bVo5Nj",
      "execution_count": 77,
      "outputs": []
    },
    {
      "cell_type": "markdown",
      "source": [
        "***XGBoost :***"
      ],
      "metadata": {
        "id": "slWkRkz-pf4M"
      },
      "id": "slWkRkz-pf4M"
    },
    {
      "cell_type": "code",
      "source": [
        "model_xgb = xgb.XGBRegressor(colsample_bytree=0.4603, gamma=0.0468, \n",
        "                             learning_rate=0.05, max_depth=3, \n",
        "                             min_child_weight=1.7817, n_estimators=2200,\n",
        "                             reg_alpha=0.4640, reg_lambda=0.8571,\n",
        "                             subsample=0.5213, silent=1,\n",
        "                             random_state =0, nthread = -1)"
      ],
      "metadata": {
        "id": "ObR7ezMoo49H"
      },
      "id": "ObR7ezMoo49H",
      "execution_count": 78,
      "outputs": []
    },
    {
      "cell_type": "markdown",
      "source": [
        "**LightGBM - Gradient Boosting With LightGBM**\n",
        "\n",
        "LightGBM is an algorithm developed by Microsoft in 2017. It has an advantage of changing the training algorithm that make the run time faster and likely result in a more effective model.\n",
        "\n",
        "Ref. to the LightGBM algorithm paper:\n",
        "\n",
        "    LightGBM: A Highly Efficient Gradient Boosting Decision Tree, 2017.\n",
        "link : https://papers.nips.cc/paper/2017/hash/6449f44a102fde848669bdd9eb6b76fa-Abstract.html"
      ],
      "metadata": {
        "id": "cCvIgcmSpnT5"
      },
      "id": "cCvIgcmSpnT5"
    },
    {
      "cell_type": "code",
      "source": [
        "model_lgb = lgb.LGBMRegressor(objective='regression',num_leaves=5,\n",
        "                              learning_rate=0.05, n_estimators=720,\n",
        "                              max_bin = 55, bagging_fraction = 0.8,\n",
        "                              bagging_freq = 5, feature_fraction = 0.2319,\n",
        "                              feature_fraction_seed=9, bagging_seed=9,\n",
        "                              min_data_in_leaf =6, min_sum_hessian_in_leaf = 11)"
      ],
      "metadata": {
        "id": "gHh9PxOZpqcp"
      },
      "id": "gHh9PxOZpqcp",
      "execution_count": 79,
      "outputs": []
    },
    {
      "cell_type": "markdown",
      "source": [
        "\n",
        "#Base models scores\n",
        "\n",
        "Let's see how these base models perform on the data by evaluating the cross-validation metrics\n"
      ],
      "metadata": {
        "id": "Wjrfuu67pwoZ"
      },
      "id": "Wjrfuu67pwoZ"
    },
    {
      "cell_type": "code",
      "source": [
        "model = regressor0\n",
        "print(\"\\nLinear regressor model\\n\")\n",
        "score_1 = R2_cv(model)\n",
        "print(\"R2 score - mean : {:.4f}  |  std : {:.4f}\\n\".format(score_1.mean(), score_1.std()))\n",
        "score_2 = rmsle_cv(model)\n",
        "print(\"\\nRMSLE regressor score - mean : {:.4f}  |  std : {:.4f}\\n\".format(score_2.mean(), score_2.std()))"
      ],
      "metadata": {
        "colab": {
          "base_uri": "https://localhost:8080/"
        },
        "id": "EBfd--IJwVgp",
        "outputId": "9f4ab068-c4ff-428c-a992-e10868ad1843"
      },
      "id": "EBfd--IJwVgp",
      "execution_count": 80,
      "outputs": [
        {
          "output_type": "stream",
          "name": "stdout",
          "text": [
            "\n",
            "Linear regressor model\n",
            "\n",
            "R2 score - mean : 0.3670  |  std : 0.1367\n",
            "\n",
            "\n",
            "RMSLE regressor score - mean : 0.5193  |  std : 0.1325\n",
            "\n"
          ]
        }
      ]
    },
    {
      "cell_type": "code",
      "source": [
        "model = lasso\n",
        "\n",
        "print(\"\\nLasso model\\n\")\n",
        "score_1 = R2_cv(model)\n",
        "print(\"R2 score - mean : {:.4f}  |  std : {:.4f}\\n\".format(score_1.mean(), score_1.std()))\n",
        "score_2 = rmsle_cv(model)\n",
        "print(\"\\nRMSLE regressor score - mean : {:.4f}  |  std : {:.4f}\\n\".format(score_2.mean(), score_2.std()))"
      ],
      "metadata": {
        "colab": {
          "base_uri": "https://localhost:8080/"
        },
        "id": "aniNHgvDqV92",
        "outputId": "f4727d84-0cbb-42e0-e191-77f58fcccb0e"
      },
      "id": "aniNHgvDqV92",
      "execution_count": 81,
      "outputs": [
        {
          "output_type": "stream",
          "name": "stdout",
          "text": [
            "\n",
            "Lasso model\n",
            "\n",
            "R2 score - mean : 0.3418  |  std : 0.0878\n",
            "\n",
            "\n",
            "RMSLE regressor score - mean : 0.5261  |  std : 0.1016\n",
            "\n"
          ]
        }
      ]
    },
    {
      "cell_type": "code",
      "source": [
        "model = ENet\n",
        "print(\"\\nElastic Net regressor model\\n\")\n",
        "score_1 = R2_cv(model)\n",
        "print(\"R2 score - mean : {:.4f}  |  std : {:.4f}\\n\".format(score_1.mean(), score_1.std()))\n",
        "score_2 = rmsle_cv(model)\n",
        "print(\"\\nRMSLE regressor score - mean : {:.4f}  |  std : {:.4f}\\n\".format(score_2.mean(), score_2.std()))\n"
      ],
      "metadata": {
        "colab": {
          "base_uri": "https://localhost:8080/"
        },
        "id": "wfeWJwPDqSL7",
        "outputId": "3b974fa0-26f6-4908-9d8e-d9c805a8cf4b"
      },
      "id": "wfeWJwPDqSL7",
      "execution_count": 82,
      "outputs": [
        {
          "output_type": "stream",
          "name": "stdout",
          "text": [
            "\n",
            "Elastic Net regressor model\n",
            "\n",
            "R2 score - mean : 0.3429  |  std : 0.0910\n",
            "\n",
            "\n",
            "RMSLE regressor score - mean : 0.5259  |  std : 0.1041\n",
            "\n"
          ]
        }
      ]
    },
    {
      "cell_type": "code",
      "source": [
        "model = KRR\n",
        "print(\"\\nKernel Ridge model\\n\")\n",
        "score_1 = R2_cv(model)\n",
        "print(\"R2 score - mean : {:.4f}  |  std : {:.4f}\\n\".format(score_1.mean(), score_1.std()))\n",
        "score_2 = rmsle_cv(model)\n",
        "print(\"\\nRMSLE regressor score - mean : {:.4f}  |  std : {:.4f}\\n\".format(score_2.mean(), score_2.std()))"
      ],
      "metadata": {
        "colab": {
          "base_uri": "https://localhost:8080/"
        },
        "id": "J4kydvYJqR4k",
        "outputId": "c8fc439e-3a6f-4c72-d7f0-28f694f67a78"
      },
      "id": "J4kydvYJqR4k",
      "execution_count": 83,
      "outputs": [
        {
          "output_type": "stream",
          "name": "stdout",
          "text": [
            "\n",
            "Kernel Ridge model\n",
            "\n",
            "R2 score - mean : 0.4033  |  std : 0.0788\n",
            "\n",
            "\n",
            "RMSLE regressor score - mean : 0.5006  |  std : 0.0950\n",
            "\n"
          ]
        }
      ]
    },
    {
      "cell_type": "code",
      "source": [
        "model = GBoost\n",
        "print(\"\\nGradient Boosting model\\n\")\n",
        "score_1 = R2_cv(model)\n",
        "print(\"R2 score - mean : {:.4f}  |  std : {:.4f}\\n\".format(score_1.mean(), score_1.std()))\n",
        "score_2 = rmsle_cv(model)\n",
        "print(\"\\nRMSLE regressor score - mean : {:.4f}  |  std : {:.4f}\\n\".format(score_2.mean(), score_2.std()))\n"
      ],
      "metadata": {
        "colab": {
          "base_uri": "https://localhost:8080/"
        },
        "id": "FNYEi-YFpqLO",
        "outputId": "44e540e2-3eeb-4bc3-fa8f-479b96eccf3b"
      },
      "id": "FNYEi-YFpqLO",
      "execution_count": 84,
      "outputs": [
        {
          "output_type": "stream",
          "name": "stdout",
          "text": [
            "\n",
            "Gradient Boosting model\n",
            "\n",
            "R2 score - mean : 0.5470  |  std : 0.0176\n",
            "\n",
            "\n",
            "RMSLE regressor score - mean : 0.4364  |  std : 0.0715\n",
            "\n"
          ]
        }
      ]
    },
    {
      "cell_type": "code",
      "source": [
        "model = model_xgb\n",
        "print(\"\\n XGBoost model\\n\")\n",
        "score_1 = R2_cv(model)\n",
        "print(\"R2 score - mean : {:.4f}  |  std : {:.4f}\\n\".format(score_1.mean(), score_1.std()))\n",
        "score_2 = rmsle_cv(model)\n",
        "print(\"\\nRMSLE regressor score - mean : {:.4f}  |  std : {:.4f}\\n\".format(score_2.mean(), score_2.std()))"
      ],
      "metadata": {
        "colab": {
          "base_uri": "https://localhost:8080/"
        },
        "id": "vTlRPck4poih",
        "outputId": "60680dbc-2899-4c5f-f7f4-58e23403f19b"
      },
      "id": "vTlRPck4poih",
      "execution_count": 85,
      "outputs": [
        {
          "output_type": "stream",
          "name": "stdout",
          "text": [
            "\n",
            " XGBoost model\n",
            "\n",
            "R2 score - mean : 0.5529  |  std : 0.0344\n",
            "\n",
            "\n",
            "RMSLE regressor score - mean : 0.4345  |  std : 0.0803\n",
            "\n"
          ]
        }
      ]
    },
    {
      "cell_type": "code",
      "source": [
        ""
      ],
      "metadata": {
        "id": "YiScfNi2q236"
      },
      "id": "YiScfNi2q236",
      "execution_count": 85,
      "outputs": []
    },
    {
      "cell_type": "code",
      "source": [
        "model = model_lgb\n",
        "print(\"\\nLGBM model\\n\")\n",
        "score_1 = R2_cv(model)\n",
        "print(\"R2 score - mean : {:.4f}  |  std : {:.4f}\\n\".format(score_1.mean(), score_1.std()))\n",
        "score_2 = rmsle_cv(model)\n",
        "\n",
        "print(\"\\nRMSLE regressor score - mean : {:.4f}  |  std : {:.4f}\\n\".format(score_2.mean(), score_2.std()))"
      ],
      "metadata": {
        "colab": {
          "base_uri": "https://localhost:8080/"
        },
        "id": "tsIQYc5UqLdo",
        "outputId": "9042942d-5ae3-4c2b-fb07-96c19cf5e24f"
      },
      "id": "tsIQYc5UqLdo",
      "execution_count": 86,
      "outputs": [
        {
          "output_type": "stream",
          "name": "stdout",
          "text": [
            "\n",
            "LGBM model\n",
            "\n",
            "R2 score - mean : 0.5391  |  std : 0.0337\n",
            "\n",
            "\n",
            "RMSLE regressor score - mean : 0.4382  |  std : 0.0610\n",
            "\n"
          ]
        }
      ]
    },
    {
      "cell_type": "markdown",
      "source": [
        "Stopped here 11/08/22\n",
        "\n",
        "***Add your observations and conclusions here***\n",
        "\n"
      ],
      "metadata": {
        "id": "RtJafmhJ9EVt"
      },
      "id": "RtJafmhJ9EVt"
    },
    {
      "cell_type": "markdown",
      "source": [
        "*** SUMMARY ***\n",
        "\n",
        "Metric 1 :\n",
        "\n",
        "Metric 2 :\n",
        "\n",
        "\n"
      ],
      "metadata": {
        "id": "1CQBoKOA2SSY"
      },
      "id": "1CQBoKOA2SSY"
    },
    {
      "cell_type": "markdown",
      "metadata": {
        "id": "mSJg5_IvVWVe"
      },
      "source": [
        "*** Conclusion : ***\n",
        "\n",
        "\n",
        "\n",
        "Comment on your results\n",
        "\n",
        "Which metric to use ?\n"
      ],
      "id": "mSJg5_IvVWVe"
    },
    {
      "cell_type": "code",
      "source": [
        ""
      ],
      "metadata": {
        "id": "AtVqO_n9aQuc"
      },
      "id": "AtVqO_n9aQuc",
      "execution_count": 86,
      "outputs": []
    }
  ],
  "metadata": {
    "colab": {
      "collapsed_sections": [],
      "name": "SF_regression_models.ipynb",
      "provenance": []
    },
    "kernelspec": {
      "display_name": "Python 3 (ipykernel)",
      "language": "python",
      "name": "python3"
    },
    "language_info": {
      "codemirror_mode": {
        "name": "ipython",
        "version": 3
      },
      "file_extension": ".py",
      "mimetype": "text/x-python",
      "name": "python",
      "nbconvert_exporter": "python",
      "pygments_lexer": "ipython3",
      "version": "3.9.7"
    }
  },
  "nbformat": 4,
  "nbformat_minor": 5
}