{
  "cells": [
    {
      "cell_type": "markdown",
      "id": "276e7c4c-d1f6-467c-9863-80e8d552ef8a",
      "metadata": {
        "id": "276e7c4c-d1f6-467c-9863-80e8d552ef8a"
      },
      "source": [
        "***PART 1 - LOADING LIBRARIES AND DATABASE***"
      ]
    },
    {
      "cell_type": "code",
      "execution_count": 1,
      "id": "462851cc-45f5-4f5f-860a-7c154c262dd3",
      "metadata": {
        "id": "462851cc-45f5-4f5f-860a-7c154c262dd3"
      },
      "outputs": [],
      "source": [
        "import pandas as pd\n",
        "import numpy as np\n",
        "\n",
        "import warnings\n",
        "warnings.filterwarnings('ignore')\n",
        "\n",
        "import matplotlib.pyplot as plt\n",
        "import plotly.express as px\n",
        "import plotly.graph_objects as go\n",
        "from plotly.subplots import make_subplots\n",
        "import plotly.io as pio\n",
        "import seaborn as sns\n",
        "\n",
        "pd.options.display.max_columns = None #The dataset is huge. To see all of the columns, we change max columns\n",
        "pd.options.display.max_seq_items=1000\n",
        "pd.options.display.max_rows=1000"
      ]
    },
    {
      "cell_type": "code",
      "execution_count": 2,
      "id": "da151b56-2ac1-43d1-beb0-2084703103f5",
      "metadata": {
        "id": "da151b56-2ac1-43d1-beb0-2084703103f5"
      },
      "outputs": [],
      "source": [
        "db_v2 ='https://drive.google.com/file/d/1XoqPujIOGHQStuAqM6Gzyqbkha4c5Y96/view?usp=sharing'\n",
        "db_v3 ='https://drive.google.com/file/d/1W1V3_hl7yqbWyXF8w7mZSDTxCOx3GMzf/view?usp=sharing'\n",
        "db_v4 ='https://drive.google.com/file/d/19ERs5bmAdxEfgUmTxgfIBhUoT6xPHzZy/view?usp=sharing'\n",
        "db_v5 = 'https://drive.google.com/file/d/1X4YJP5fjfyk8f_TjSGBdIsTdv8MCCgY7/view?usp=sharing'\n",
        "db_v8 = 'https://drive.google.com/file/d/1Ffbhy12m4JG9REEdSQwwewIFE0KUiEX3/view?usp=sharing'\n",
        "db_v8bis = 'https://drive.google.com/file/d/13x5iZArdw03O4rBel4A6M2XrjoMpBcUJ/view?usp=sharing'\n",
        "fname1 = db_v8\n",
        "fname1='https://drive.google.com/uc?id=' + fname1.split('/')[-2]\n",
        "dataset = pd.read_csv(fname1, low_memory=False)"
      ]
    },
    {
      "cell_type": "markdown",
      "id": "364e8a3e",
      "metadata": {},
      "source": []
    },
    {
      "cell_type": "code",
      "execution_count": 3,
      "id": "547bd10f-54d8-4960-8bd8-17f075986afb",
      "metadata": {
        "colab": {
          "base_uri": "https://localhost:8080/"
        },
        "id": "547bd10f-54d8-4960-8bd8-17f075986afb",
        "outputId": "b0048a1d-2af3-4228-be7f-62ff6d79b76e"
      },
      "outputs": [
        {
          "data": {
            "text/plain": [
              "(6575, 62)"
            ]
          },
          "execution_count": 3,
          "metadata": {},
          "output_type": "execute_result"
        }
      ],
      "source": [
        "dataset.shape"
      ]
    },
    {
      "cell_type": "markdown",
      "id": "BrpFaO9f99LU",
      "metadata": {
        "id": "BrpFaO9f99LU"
      },
      "source": [
        "#MACHINE LEARNING\n",
        "\n"
      ]
    },
    {
      "cell_type": "markdown",
      "id": "ebc2b9fb",
      "metadata": {},
      "source": [
        "# Don't forget to run requirements.txt\n",
        "\n",
        "command line : pip install -r ./requirements.txt"
      ]
    },
    {
      "cell_type": "code",
      "execution_count": 4,
      "id": "lPq5X1tvvVkQ",
      "metadata": {
        "id": "lPq5X1tvvVkQ"
      },
      "outputs": [],
      "source": [
        "#kaggle ref that explain some of used models in this notbook. https://www.kaggle.com/code/serigne/stacked-regressions-top-4-on-leaderboard\n",
        "\n",
        "#libraries \n",
        "\n",
        "from sklearn.linear_model import ElasticNet, Lasso,  BayesianRidge, LassoLarsIC\n",
        "from sklearn.ensemble import RandomForestRegressor,  GradientBoostingRegressor\n",
        "from sklearn.kernel_ridge import KernelRidge\n",
        "from sklearn.pipeline import Pipeline, make_pipeline\n",
        "from sklearn.impute import SimpleImputer\n",
        "from sklearn.compose import ColumnTransformer\n",
        "from sklearn.preprocessing import RobustScaler,OneHotEncoder, StandardScaler\n",
        "from sklearn.base import BaseEstimator, TransformerMixin, RegressorMixin, clone\n",
        "from sklearn.linear_model import LinearRegression\n",
        "from sklearn.model_selection import KFold, cross_val_score, train_test_split\n",
        "from sklearn.metrics import r2_score, mean_squared_error,mean_squared_error,mean_squared_log_error,mean_absolute_error,explained_variance_score\n",
        "import xgboost as xgb\n",
        "import lightgbm as lgb"
      ]
    },
    {
      "cell_type": "code",
      "execution_count": 5,
      "id": "59fc46e8",
      "metadata": {},
      "outputs": [
        {
          "data": {
            "text/plain": [
              "Index(['Permit Number', 'Permit Type', 'Permit Type Definition',\n",
              "       'Permit Creation Date', 'Block', 'Lot', 'Street Number', 'Street Name',\n",
              "       'Street Suffix', 'Description', 'Current Status', 'Current Status Date',\n",
              "       'Filed Date', 'Issued Date', 'Completed Date',\n",
              "       'First Construction Document Date', 'Number of Proposed Stories',\n",
              "       'Permit Expiration Date', 'Estimated Cost', 'Revised Cost',\n",
              "       'Proposed Use', 'Proposed Units', 'Plansets',\n",
              "       'Proposed Construction Type', 'Proposed Construction Type Description',\n",
              "       'Site Permit', 'Supervisor District',\n",
              "       'Neighborhoods - Analysis Boundaries', 'Zipcode', 'Location',\n",
              "       'Record ID', 'address', 'lat', 'lon', 'Duration_construction_days',\n",
              "       'Process_time_days', 'Year', 'Est_Cost_Infl', 'Rev_Cost_Infl',\n",
              "       'Est_Cost_Infl_log10', 'Est_Cost_Infl_loge', 'lat_lon', 'address.1',\n",
              "       'geometry', 'point', 'polygon', 'area_m2',\n",
              "       'Number of Proposed Stories_', 'Number of Proposed Stories_cat',\n",
              "       'Zipcode_', 'Proposed Construction Type_',\n",
              "       'Number of Proposed Stories_cat_f', 'Proposed Use_f',\n",
              "       'Proposed Construction Type_f', 'Number of Proposed Stories_bct',\n",
              "       'Number of Proposed Stories_cat_f_bct',\n",
              "       'Proposed Construction Type_f_bct', 'Proposed Units_bct',\n",
              "       'Proposed Use_f_bct', 'Duration_construction_days_bct', 'total_area_m2',\n",
              "       'cost_per_m2'],\n",
              "      dtype='object')"
            ]
          },
          "execution_count": 5,
          "metadata": {},
          "output_type": "execute_result"
        }
      ],
      "source": [
        "dataset.columns"
      ]
    },
    {
      "cell_type": "code",
      "execution_count": 6,
      "id": "72eb59cf",
      "metadata": {},
      "outputs": [
        {
          "data": {
            "text/html": [
              "<div>\n",
              "<style scoped>\n",
              "    .dataframe tbody tr th:only-of-type {\n",
              "        vertical-align: middle;\n",
              "    }\n",
              "\n",
              "    .dataframe tbody tr th {\n",
              "        vertical-align: top;\n",
              "    }\n",
              "\n",
              "    .dataframe thead th {\n",
              "        text-align: right;\n",
              "    }\n",
              "</style>\n",
              "<table border=\"1\" class=\"dataframe\">\n",
              "  <thead>\n",
              "    <tr style=\"text-align: right;\">\n",
              "      <th></th>\n",
              "      <th>Permit Number</th>\n",
              "      <th>Permit Type</th>\n",
              "      <th>Permit Type Definition</th>\n",
              "      <th>Permit Creation Date</th>\n",
              "      <th>Block</th>\n",
              "      <th>Lot</th>\n",
              "      <th>Street Number</th>\n",
              "      <th>Street Name</th>\n",
              "      <th>Street Suffix</th>\n",
              "      <th>Description</th>\n",
              "      <th>Current Status</th>\n",
              "      <th>Current Status Date</th>\n",
              "      <th>Filed Date</th>\n",
              "      <th>Issued Date</th>\n",
              "      <th>Completed Date</th>\n",
              "      <th>First Construction Document Date</th>\n",
              "      <th>Number of Proposed Stories</th>\n",
              "      <th>Permit Expiration Date</th>\n",
              "      <th>Estimated Cost</th>\n",
              "      <th>Revised Cost</th>\n",
              "      <th>Proposed Use</th>\n",
              "      <th>Proposed Units</th>\n",
              "      <th>Plansets</th>\n",
              "      <th>Proposed Construction Type</th>\n",
              "      <th>Proposed Construction Type Description</th>\n",
              "      <th>Site Permit</th>\n",
              "      <th>Supervisor District</th>\n",
              "      <th>Neighborhoods - Analysis Boundaries</th>\n",
              "      <th>Zipcode</th>\n",
              "      <th>Location</th>\n",
              "      <th>Record ID</th>\n",
              "      <th>address</th>\n",
              "      <th>lat</th>\n",
              "      <th>lon</th>\n",
              "      <th>Duration_construction_days</th>\n",
              "      <th>Process_time_days</th>\n",
              "      <th>Year</th>\n",
              "      <th>Est_Cost_Infl</th>\n",
              "      <th>Rev_Cost_Infl</th>\n",
              "      <th>Est_Cost_Infl_log10</th>\n",
              "      <th>Est_Cost_Infl_loge</th>\n",
              "      <th>lat_lon</th>\n",
              "      <th>address.1</th>\n",
              "      <th>geometry</th>\n",
              "      <th>point</th>\n",
              "      <th>polygon</th>\n",
              "      <th>area_m2</th>\n",
              "      <th>Number of Proposed Stories_</th>\n",
              "      <th>Number of Proposed Stories_cat</th>\n",
              "      <th>Zipcode_</th>\n",
              "      <th>Proposed Construction Type_</th>\n",
              "      <th>Number of Proposed Stories_cat_f</th>\n",
              "      <th>Proposed Use_f</th>\n",
              "      <th>Proposed Construction Type_f</th>\n",
              "      <th>Number of Proposed Stories_bct</th>\n",
              "      <th>Number of Proposed Stories_cat_f_bct</th>\n",
              "      <th>Proposed Construction Type_f_bct</th>\n",
              "      <th>Proposed Units_bct</th>\n",
              "      <th>Proposed Use_f_bct</th>\n",
              "      <th>Duration_construction_days_bct</th>\n",
              "      <th>total_area_m2</th>\n",
              "      <th>cost_per_m2</th>\n",
              "    </tr>\n",
              "  </thead>\n",
              "  <tbody>\n",
              "    <tr>\n",
              "      <th>0</th>\n",
              "      <td>9111378</td>\n",
              "      <td>2</td>\n",
              "      <td>new construction wood frame</td>\n",
              "      <td>1991-06-28</td>\n",
              "      <td>3566</td>\n",
              "      <td>037</td>\n",
              "      <td>3686</td>\n",
              "      <td>17th</td>\n",
              "      <td>St</td>\n",
              "      <td>erect a four story three unit residential bldg</td>\n",
              "      <td>complete</td>\n",
              "      <td>1993-09-20</td>\n",
              "      <td>1991-06-28</td>\n",
              "      <td>1992-11-30</td>\n",
              "      <td>1993-09-20</td>\n",
              "      <td>NaN</td>\n",
              "      <td>4.0</td>\n",
              "      <td>1994-11-30</td>\n",
              "      <td>250000.0</td>\n",
              "      <td>350000.0</td>\n",
              "      <td>apartments</td>\n",
              "      <td>3.0</td>\n",
              "      <td>2.0</td>\n",
              "      <td>5</td>\n",
              "      <td>wood frame (5)</td>\n",
              "      <td>NaN</td>\n",
              "      <td>8.0</td>\n",
              "      <td>Castro/Upper Market</td>\n",
              "      <td>94114</td>\n",
              "      <td>POINT (-122.42798037718552 37.76316610254898)</td>\n",
              "      <td>342335281878</td>\n",
              "      <td>3686 17th St</td>\n",
              "      <td>-122.427980</td>\n",
              "      <td>37.763166</td>\n",
              "      <td>294.0</td>\n",
              "      <td>521.0</td>\n",
              "      <td>1991</td>\n",
              "      <td>4.973752e+05</td>\n",
              "      <td>696325.256975</td>\n",
              "      <td>5.696684</td>\n",
              "      <td>13.117100</td>\n",
              "      <td>-4623.268159</td>\n",
              "      <td>3686 17th St, San Francisco, CA 94114</td>\n",
              "      <td>NaN</td>\n",
              "      <td>POINT (-122.42798037718552 37.76316610254898)</td>\n",
              "      <td>POLYGON ((6004384.44156398 2106033.407080037, ...</td>\n",
              "      <td>147.915331</td>\n",
              "      <td>4.0</td>\n",
              "      <td>3-4 stories</td>\n",
              "      <td>94114</td>\n",
              "      <td>5</td>\n",
              "      <td>0</td>\n",
              "      <td>0</td>\n",
              "      <td>0</td>\n",
              "      <td>1.746189</td>\n",
              "      <td>0.0</td>\n",
              "      <td>0.0</td>\n",
              "      <td>1.486984</td>\n",
              "      <td>0.000000</td>\n",
              "      <td>7.659654</td>\n",
              "      <td>591.661324</td>\n",
              "      <td>840.641704</td>\n",
              "    </tr>\n",
              "    <tr>\n",
              "      <th>1</th>\n",
              "      <td>8707430</td>\n",
              "      <td>2</td>\n",
              "      <td>new construction wood frame</td>\n",
              "      <td>1987-05-29</td>\n",
              "      <td>1733</td>\n",
              "      <td>046</td>\n",
              "      <td>1254</td>\n",
              "      <td>18th</td>\n",
              "      <td>Av</td>\n",
              "      <td>NaN</td>\n",
              "      <td>complete</td>\n",
              "      <td>1988-10-07</td>\n",
              "      <td>1987-05-29</td>\n",
              "      <td>1988-01-20</td>\n",
              "      <td>1988-10-07</td>\n",
              "      <td>NaN</td>\n",
              "      <td>3.0</td>\n",
              "      <td>1990-01-20</td>\n",
              "      <td>394000.0</td>\n",
              "      <td>NaN</td>\n",
              "      <td>apartments</td>\n",
              "      <td>4.0</td>\n",
              "      <td>2.0</td>\n",
              "      <td>5</td>\n",
              "      <td>wood frame (5)</td>\n",
              "      <td>NaN</td>\n",
              "      <td>4.0</td>\n",
              "      <td>Inner Sunset</td>\n",
              "      <td>94122</td>\n",
              "      <td>POINT (-122.47578567375196 37.76447248121622)</td>\n",
              "      <td>161612112132</td>\n",
              "      <td>1254 18th Av</td>\n",
              "      <td>-122.475786</td>\n",
              "      <td>37.764472</td>\n",
              "      <td>261.0</td>\n",
              "      <td>236.0</td>\n",
              "      <td>1987</td>\n",
              "      <td>9.398079e+05</td>\n",
              "      <td>NaN</td>\n",
              "      <td>5.973039</td>\n",
              "      <td>13.753431</td>\n",
              "      <td>-4625.233438</td>\n",
              "      <td>1254 18th Av, San Francisco, CA 94122</td>\n",
              "      <td>{\"type\": \"Polygon\", \"coordinates\": [[[-122.476...</td>\n",
              "      <td>POINT (-122.47578567375196 37.76447248121622)</td>\n",
              "      <td>POLYGON ((5990594.490913103 2106871.242348627,...</td>\n",
              "      <td>253.922359</td>\n",
              "      <td>3.0</td>\n",
              "      <td>3-4 stories</td>\n",
              "      <td>94122</td>\n",
              "      <td>5</td>\n",
              "      <td>0</td>\n",
              "      <td>0</td>\n",
              "      <td>0</td>\n",
              "      <td>1.486984</td>\n",
              "      <td>0.0</td>\n",
              "      <td>0.0</td>\n",
              "      <td>1.746189</td>\n",
              "      <td>0.000000</td>\n",
              "      <td>7.451394</td>\n",
              "      <td>761.767077</td>\n",
              "      <td>1233.720846</td>\n",
              "    </tr>\n",
              "    <tr>\n",
              "      <th>2</th>\n",
              "      <td>7912377</td>\n",
              "      <td>2</td>\n",
              "      <td>new construction wood frame</td>\n",
              "      <td>1979-12-01</td>\n",
              "      <td>1361</td>\n",
              "      <td>064</td>\n",
              "      <td>3900</td>\n",
              "      <td>California</td>\n",
              "      <td>St</td>\n",
              "      <td>NaN</td>\n",
              "      <td>complete</td>\n",
              "      <td>1984-02-29</td>\n",
              "      <td>1979-12-01</td>\n",
              "      <td>1983-01-24</td>\n",
              "      <td>1984-02-29</td>\n",
              "      <td>NaN</td>\n",
              "      <td>3.0</td>\n",
              "      <td>1985-01-24</td>\n",
              "      <td>790000.0</td>\n",
              "      <td>NaN</td>\n",
              "      <td>apartments</td>\n",
              "      <td>8.0</td>\n",
              "      <td>2.0</td>\n",
              "      <td>5</td>\n",
              "      <td>wood frame (5)</td>\n",
              "      <td>NaN</td>\n",
              "      <td>2.0</td>\n",
              "      <td>Inner Richmond</td>\n",
              "      <td>94118</td>\n",
              "      <td>POINT (-122.45952470081986 37.7858592269433)</td>\n",
              "      <td>86903496726</td>\n",
              "      <td>3900 California St</td>\n",
              "      <td>-122.459525</td>\n",
              "      <td>37.785859</td>\n",
              "      <td>401.0</td>\n",
              "      <td>1150.0</td>\n",
              "      <td>1979</td>\n",
              "      <td>2.948572e+06</td>\n",
              "      <td>NaN</td>\n",
              "      <td>6.469612</td>\n",
              "      <td>14.896831</td>\n",
              "      <td>-4627.238361</td>\n",
              "      <td>3900 California St, San Francisco, CA 94118</td>\n",
              "      <td>{\"type\": \"Polygon\", \"coordinates\": [[[-122.459...</td>\n",
              "      <td>POINT (-122.45952470081986 37.7858592269433)</td>\n",
              "      <td>POLYGON ((5995398.966155565 2114500.1454920806...</td>\n",
              "      <td>504.669823</td>\n",
              "      <td>3.0</td>\n",
              "      <td>3-4 stories</td>\n",
              "      <td>94118</td>\n",
              "      <td>5</td>\n",
              "      <td>0</td>\n",
              "      <td>0</td>\n",
              "      <td>0</td>\n",
              "      <td>1.486984</td>\n",
              "      <td>0.0</td>\n",
              "      <td>0.0</td>\n",
              "      <td>2.457309</td>\n",
              "      <td>0.000000</td>\n",
              "      <td>8.214724</td>\n",
              "      <td>1514.009469</td>\n",
              "      <td>1947.525221</td>\n",
              "    </tr>\n",
              "    <tr>\n",
              "      <th>3</th>\n",
              "      <td>8010466</td>\n",
              "      <td>2</td>\n",
              "      <td>new construction wood frame</td>\n",
              "      <td>1980-11-25</td>\n",
              "      <td>4159</td>\n",
              "      <td>074</td>\n",
              "      <td>1084</td>\n",
              "      <td>De Haro</td>\n",
              "      <td>St</td>\n",
              "      <td>NaN</td>\n",
              "      <td>complete</td>\n",
              "      <td>1985-07-05</td>\n",
              "      <td>1980-11-25</td>\n",
              "      <td>1984-08-06</td>\n",
              "      <td>1985-07-05</td>\n",
              "      <td>NaN</td>\n",
              "      <td>3.0</td>\n",
              "      <td>1985-08-06</td>\n",
              "      <td>210500.0</td>\n",
              "      <td>NaN</td>\n",
              "      <td>2 family dwelling</td>\n",
              "      <td>2.0</td>\n",
              "      <td>4.0</td>\n",
              "      <td>5</td>\n",
              "      <td>wood frame (5)</td>\n",
              "      <td>NaN</td>\n",
              "      <td>10.0</td>\n",
              "      <td>Potrero Hill</td>\n",
              "      <td>94107</td>\n",
              "      <td>POINT (-122.40107686660524 37.7560791545319)</td>\n",
              "      <td>1490171598</td>\n",
              "      <td>1084 De Haro St</td>\n",
              "      <td>-122.401077</td>\n",
              "      <td>37.756079</td>\n",
              "      <td>333.0</td>\n",
              "      <td>1350.0</td>\n",
              "      <td>1980</td>\n",
              "      <td>6.922231e+05</td>\n",
              "      <td>NaN</td>\n",
              "      <td>5.840246</td>\n",
              "      <td>13.447664</td>\n",
              "      <td>-4621.384747</td>\n",
              "      <td>1084 De Haro St, San Francisco, CA 94107</td>\n",
              "      <td>NaN</td>\n",
              "      <td>POINT (-122.40107686660524 37.7560791545319)</td>\n",
              "      <td>POLYGON ((6012157.402672291 2103366.9430118585...</td>\n",
              "      <td>167.842843</td>\n",
              "      <td>3.0</td>\n",
              "      <td>3-4 stories</td>\n",
              "      <td>94107</td>\n",
              "      <td>5</td>\n",
              "      <td>0</td>\n",
              "      <td>1</td>\n",
              "      <td>0</td>\n",
              "      <td>1.486984</td>\n",
              "      <td>0.0</td>\n",
              "      <td>0.0</td>\n",
              "      <td>1.161232</td>\n",
              "      <td>0.717735</td>\n",
              "      <td>7.880294</td>\n",
              "      <td>503.528529</td>\n",
              "      <td>1374.744586</td>\n",
              "    </tr>\n",
              "    <tr>\n",
              "      <th>4</th>\n",
              "      <td>8010466</td>\n",
              "      <td>2</td>\n",
              "      <td>new construction wood frame</td>\n",
              "      <td>1980-11-25</td>\n",
              "      <td>4159</td>\n",
              "      <td>073</td>\n",
              "      <td>1082</td>\n",
              "      <td>De Haro</td>\n",
              "      <td>St</td>\n",
              "      <td>NaN</td>\n",
              "      <td>complete</td>\n",
              "      <td>1985-07-05</td>\n",
              "      <td>1980-11-25</td>\n",
              "      <td>1984-08-06</td>\n",
              "      <td>1985-07-05</td>\n",
              "      <td>NaN</td>\n",
              "      <td>3.0</td>\n",
              "      <td>1985-08-06</td>\n",
              "      <td>210500.0</td>\n",
              "      <td>NaN</td>\n",
              "      <td>2 family dwelling</td>\n",
              "      <td>2.0</td>\n",
              "      <td>4.0</td>\n",
              "      <td>5</td>\n",
              "      <td>wood frame (5)</td>\n",
              "      <td>NaN</td>\n",
              "      <td>10.0</td>\n",
              "      <td>Potrero Hill</td>\n",
              "      <td>94107</td>\n",
              "      <td>POINT (-122.40107686660524 37.7560791545319)</td>\n",
              "      <td>1491249838</td>\n",
              "      <td>1082 De Haro St</td>\n",
              "      <td>-122.401077</td>\n",
              "      <td>37.756079</td>\n",
              "      <td>333.0</td>\n",
              "      <td>1350.0</td>\n",
              "      <td>1980</td>\n",
              "      <td>6.922231e+05</td>\n",
              "      <td>NaN</td>\n",
              "      <td>5.840246</td>\n",
              "      <td>13.447664</td>\n",
              "      <td>-4621.384747</td>\n",
              "      <td>1082 De Haro St, San Francisco, CA 94107</td>\n",
              "      <td>NaN</td>\n",
              "      <td>POINT (-122.40107686660524 37.7560791545319)</td>\n",
              "      <td>POLYGON ((6012157.402672291 2103366.9430118585...</td>\n",
              "      <td>167.842843</td>\n",
              "      <td>3.0</td>\n",
              "      <td>3-4 stories</td>\n",
              "      <td>94107</td>\n",
              "      <td>5</td>\n",
              "      <td>0</td>\n",
              "      <td>1</td>\n",
              "      <td>0</td>\n",
              "      <td>1.486984</td>\n",
              "      <td>0.0</td>\n",
              "      <td>0.0</td>\n",
              "      <td>1.161232</td>\n",
              "      <td>0.717735</td>\n",
              "      <td>7.880294</td>\n",
              "      <td>503.528529</td>\n",
              "      <td>1374.744586</td>\n",
              "    </tr>\n",
              "  </tbody>\n",
              "</table>\n",
              "</div>"
            ],
            "text/plain": [
              "  Permit Number  Permit Type       Permit Type Definition  \\\n",
              "0       9111378            2  new construction wood frame   \n",
              "1       8707430            2  new construction wood frame   \n",
              "2       7912377            2  new construction wood frame   \n",
              "3       8010466            2  new construction wood frame   \n",
              "4       8010466            2  new construction wood frame   \n",
              "\n",
              "  Permit Creation Date Block  Lot  Street Number Street Name Street Suffix  \\\n",
              "0           1991-06-28  3566  037           3686        17th            St   \n",
              "1           1987-05-29  1733  046           1254        18th            Av   \n",
              "2           1979-12-01  1361  064           3900  California            St   \n",
              "3           1980-11-25  4159  074           1084     De Haro            St   \n",
              "4           1980-11-25  4159  073           1082     De Haro            St   \n",
              "\n",
              "                                      Description Current Status  \\\n",
              "0  erect a four story three unit residential bldg       complete   \n",
              "1                                             NaN       complete   \n",
              "2                                             NaN       complete   \n",
              "3                                             NaN       complete   \n",
              "4                                             NaN       complete   \n",
              "\n",
              "  Current Status Date  Filed Date Issued Date Completed Date  \\\n",
              "0          1993-09-20  1991-06-28  1992-11-30     1993-09-20   \n",
              "1          1988-10-07  1987-05-29  1988-01-20     1988-10-07   \n",
              "2          1984-02-29  1979-12-01  1983-01-24     1984-02-29   \n",
              "3          1985-07-05  1980-11-25  1984-08-06     1985-07-05   \n",
              "4          1985-07-05  1980-11-25  1984-08-06     1985-07-05   \n",
              "\n",
              "  First Construction Document Date  Number of Proposed Stories  \\\n",
              "0                              NaN                         4.0   \n",
              "1                              NaN                         3.0   \n",
              "2                              NaN                         3.0   \n",
              "3                              NaN                         3.0   \n",
              "4                              NaN                         3.0   \n",
              "\n",
              "  Permit Expiration Date  Estimated Cost  Revised Cost       Proposed Use  \\\n",
              "0             1994-11-30        250000.0      350000.0         apartments   \n",
              "1             1990-01-20        394000.0           NaN         apartments   \n",
              "2             1985-01-24        790000.0           NaN         apartments   \n",
              "3             1985-08-06        210500.0           NaN  2 family dwelling   \n",
              "4             1985-08-06        210500.0           NaN  2 family dwelling   \n",
              "\n",
              "   Proposed Units  Plansets Proposed Construction Type  \\\n",
              "0             3.0       2.0                          5   \n",
              "1             4.0       2.0                          5   \n",
              "2             8.0       2.0                          5   \n",
              "3             2.0       4.0                          5   \n",
              "4             2.0       4.0                          5   \n",
              "\n",
              "  Proposed Construction Type Description Site Permit  Supervisor District  \\\n",
              "0                         wood frame (5)         NaN                  8.0   \n",
              "1                         wood frame (5)         NaN                  4.0   \n",
              "2                         wood frame (5)         NaN                  2.0   \n",
              "3                         wood frame (5)         NaN                 10.0   \n",
              "4                         wood frame (5)         NaN                 10.0   \n",
              "\n",
              "  Neighborhoods - Analysis Boundaries Zipcode  \\\n",
              "0                 Castro/Upper Market   94114   \n",
              "1                        Inner Sunset   94122   \n",
              "2                      Inner Richmond   94118   \n",
              "3                        Potrero Hill   94107   \n",
              "4                        Potrero Hill   94107   \n",
              "\n",
              "                                        Location     Record ID  \\\n",
              "0  POINT (-122.42798037718552 37.76316610254898)  342335281878   \n",
              "1  POINT (-122.47578567375196 37.76447248121622)  161612112132   \n",
              "2   POINT (-122.45952470081986 37.7858592269433)   86903496726   \n",
              "3   POINT (-122.40107686660524 37.7560791545319)    1490171598   \n",
              "4   POINT (-122.40107686660524 37.7560791545319)    1491249838   \n",
              "\n",
              "              address         lat        lon  Duration_construction_days  \\\n",
              "0        3686 17th St -122.427980  37.763166                       294.0   \n",
              "1        1254 18th Av -122.475786  37.764472                       261.0   \n",
              "2  3900 California St -122.459525  37.785859                       401.0   \n",
              "3     1084 De Haro St -122.401077  37.756079                       333.0   \n",
              "4     1082 De Haro St -122.401077  37.756079                       333.0   \n",
              "\n",
              "   Process_time_days  Year  Est_Cost_Infl  Rev_Cost_Infl  Est_Cost_Infl_log10  \\\n",
              "0              521.0  1991   4.973752e+05  696325.256975             5.696684   \n",
              "1              236.0  1987   9.398079e+05            NaN             5.973039   \n",
              "2             1150.0  1979   2.948572e+06            NaN             6.469612   \n",
              "3             1350.0  1980   6.922231e+05            NaN             5.840246   \n",
              "4             1350.0  1980   6.922231e+05            NaN             5.840246   \n",
              "\n",
              "   Est_Cost_Infl_loge      lat_lon  \\\n",
              "0           13.117100 -4623.268159   \n",
              "1           13.753431 -4625.233438   \n",
              "2           14.896831 -4627.238361   \n",
              "3           13.447664 -4621.384747   \n",
              "4           13.447664 -4621.384747   \n",
              "\n",
              "                                     address.1  \\\n",
              "0        3686 17th St, San Francisco, CA 94114   \n",
              "1        1254 18th Av, San Francisco, CA 94122   \n",
              "2  3900 California St, San Francisco, CA 94118   \n",
              "3     1084 De Haro St, San Francisco, CA 94107   \n",
              "4     1082 De Haro St, San Francisco, CA 94107   \n",
              "\n",
              "                                            geometry  \\\n",
              "0                                                NaN   \n",
              "1  {\"type\": \"Polygon\", \"coordinates\": [[[-122.476...   \n",
              "2  {\"type\": \"Polygon\", \"coordinates\": [[[-122.459...   \n",
              "3                                                NaN   \n",
              "4                                                NaN   \n",
              "\n",
              "                                           point  \\\n",
              "0  POINT (-122.42798037718552 37.76316610254898)   \n",
              "1  POINT (-122.47578567375196 37.76447248121622)   \n",
              "2   POINT (-122.45952470081986 37.7858592269433)   \n",
              "3   POINT (-122.40107686660524 37.7560791545319)   \n",
              "4   POINT (-122.40107686660524 37.7560791545319)   \n",
              "\n",
              "                                             polygon     area_m2  \\\n",
              "0  POLYGON ((6004384.44156398 2106033.407080037, ...  147.915331   \n",
              "1  POLYGON ((5990594.490913103 2106871.242348627,...  253.922359   \n",
              "2  POLYGON ((5995398.966155565 2114500.1454920806...  504.669823   \n",
              "3  POLYGON ((6012157.402672291 2103366.9430118585...  167.842843   \n",
              "4  POLYGON ((6012157.402672291 2103366.9430118585...  167.842843   \n",
              "\n",
              "   Number of Proposed Stories_ Number of Proposed Stories_cat Zipcode_  \\\n",
              "0                          4.0                    3-4 stories    94114   \n",
              "1                          3.0                    3-4 stories    94122   \n",
              "2                          3.0                    3-4 stories    94118   \n",
              "3                          3.0                    3-4 stories    94107   \n",
              "4                          3.0                    3-4 stories    94107   \n",
              "\n",
              "  Proposed Construction Type_  Number of Proposed Stories_cat_f  \\\n",
              "0                           5                                 0   \n",
              "1                           5                                 0   \n",
              "2                           5                                 0   \n",
              "3                           5                                 0   \n",
              "4                           5                                 0   \n",
              "\n",
              "   Proposed Use_f  Proposed Construction Type_f  \\\n",
              "0               0                             0   \n",
              "1               0                             0   \n",
              "2               0                             0   \n",
              "3               1                             0   \n",
              "4               1                             0   \n",
              "\n",
              "   Number of Proposed Stories_bct  Number of Proposed Stories_cat_f_bct  \\\n",
              "0                        1.746189                                   0.0   \n",
              "1                        1.486984                                   0.0   \n",
              "2                        1.486984                                   0.0   \n",
              "3                        1.486984                                   0.0   \n",
              "4                        1.486984                                   0.0   \n",
              "\n",
              "   Proposed Construction Type_f_bct  Proposed Units_bct  Proposed Use_f_bct  \\\n",
              "0                               0.0            1.486984            0.000000   \n",
              "1                               0.0            1.746189            0.000000   \n",
              "2                               0.0            2.457309            0.000000   \n",
              "3                               0.0            1.161232            0.717735   \n",
              "4                               0.0            1.161232            0.717735   \n",
              "\n",
              "   Duration_construction_days_bct  total_area_m2  cost_per_m2  \n",
              "0                        7.659654     591.661324   840.641704  \n",
              "1                        7.451394     761.767077  1233.720846  \n",
              "2                        8.214724    1514.009469  1947.525221  \n",
              "3                        7.880294     503.528529  1374.744586  \n",
              "4                        7.880294     503.528529  1374.744586  "
            ]
          },
          "execution_count": 6,
          "metadata": {},
          "output_type": "execute_result"
        }
      ],
      "source": [
        "dataset.head()"
      ]
    },
    {
      "cell_type": "code",
      "execution_count": 7,
      "id": "wUMOJ1dfmayF",
      "metadata": {
        "colab": {
          "base_uri": "https://localhost:8080/"
        },
        "id": "wUMOJ1dfmayF",
        "outputId": "384852f9-96f4-426c-a99a-b091de498906"
      },
      "outputs": [
        {
          "name": "stdout",
          "output_type": "stream",
          "text": [
            "Separating labels from features...\n",
            "...Done.\n",
            "\n",
            "Y : \n",
            "0    5.696684\n",
            "1    5.973039\n",
            "2    6.469612\n",
            "3    5.840246\n",
            "4    5.840246\n",
            "Name: Est_Cost_Infl_log10, dtype: float64\n",
            "\n",
            "X :\n",
            "   Permit Type  Number of Proposed Stories_       Proposed Use  \\\n",
            "0            2                          4.0         apartments   \n",
            "1            2                          3.0         apartments   \n",
            "2            2                          3.0         apartments   \n",
            "3            2                          3.0  2 family dwelling   \n",
            "4            2                          3.0  2 family dwelling   \n",
            "\n",
            "   Proposed Units Proposed Construction Type_      lat_lon  Year  \\\n",
            "0             3.0                           5 -4623.268159  1991   \n",
            "1             4.0                           5 -4625.233438  1987   \n",
            "2             8.0                           5 -4627.238361  1979   \n",
            "3             2.0                           5 -4621.384747  1980   \n",
            "4             2.0                           5 -4621.384747  1980   \n",
            "\n",
            "   Duration_construction_days Neighborhoods - Analysis Boundaries  \\\n",
            "0                       294.0                 Castro/Upper Market   \n",
            "1                       261.0                        Inner Sunset   \n",
            "2                       401.0                      Inner Richmond   \n",
            "3                       333.0                        Potrero Hill   \n",
            "4                       333.0                        Potrero Hill   \n",
            "\n",
            "   total_area_m2  \n",
            "0     591.661324  \n",
            "1     761.767077  \n",
            "2    1514.009469  \n",
            "3     503.528529  \n",
            "4     503.528529  \n"
          ]
        }
      ],
      "source": [
        "# Separate target variable Y from features X\n",
        "print(\"Separating labels from features...\")\n",
        "description_ML = \"dataset V8 | default feature used + total_area_m2 + Neighborhoods | Hicham\"#add why you do this experiment\n",
        "\n",
        "features_list = [\n",
        "    \"Permit Type\",\n",
        "    \"Number of Proposed Stories_\",\n",
        "    \"Proposed Use\",\n",
        "    \"Proposed Units\",\n",
        "    \"Proposed Construction Type_\", \n",
        "    'lat_lon',\n",
        "    \"Year\",\n",
        "    \"Duration_construction_days\",\n",
        "    \"Neighborhoods - Analysis Boundaries\",\n",
        "    \"total_area_m2\",\n",
        "]\n",
        "\n",
        "target_variable = \"Est_Cost_Infl_log10\"\n",
        "\n",
        "X = dataset.loc[:,features_list]\n",
        "Y = dataset.loc[:,target_variable]\n",
        "\n",
        "print(\"...Done.\")\n",
        "print()\n",
        "\n",
        "print('Y : ')\n",
        "print(Y.head())\n",
        "print()\n",
        "print('X :')\n",
        "print(X.head())\n"
      ]
    },
    {
      "cell_type": "code",
      "execution_count": 8,
      "id": "bfuuIs8Ima6i",
      "metadata": {
        "colab": {
          "base_uri": "https://localhost:8080/"
        },
        "id": "bfuuIs8Ima6i",
        "outputId": "4c16bb18-f297-4e17-f9d6-6d4a8aa419e9"
      },
      "outputs": [
        {
          "name": "stdout",
          "output_type": "stream",
          "text": [
            "Found numeric features  ['Permit Type', 'Number of Proposed Stories_', 'Proposed Units', 'lat_lon', 'Year', 'Duration_construction_days', 'total_area_m2']\n",
            "Found categorical features  ['Proposed Use', 'Proposed Construction Type_', 'Neighborhoods - Analysis Boundaries']\n"
          ]
        }
      ],
      "source": [
        "# Automatically detect names of numeric/categorical columns\n",
        "numeric_features = []\n",
        "categorical_features = []\n",
        "for i,t in X.dtypes.iteritems():\n",
        "    if ('float' in str(t)) or ('int' in str(t)) :\n",
        "        numeric_features.append(i)\n",
        "    else :\n",
        "        categorical_features.append(i)\n",
        "\n",
        "print('Found numeric features ', numeric_features)\n",
        "print('Found categorical features ', categorical_features)"
      ]
    },
    {
      "cell_type": "code",
      "execution_count": 9,
      "id": "eAG4_GeQqTiu",
      "metadata": {
        "id": "eAG4_GeQqTiu"
      },
      "outputs": [],
      "source": [
        "#Manually selecting type of features\n",
        "#numeric_features=['Number of Proposed Stories', 'Duration_construction_days','Year']\n",
        "#categorical_features=['Permit Type', 'Proposed Construction Type', 'Neighborhoods - Analysis Boundaries', 'Proposed Use'] "
      ]
    },
    {
      "cell_type": "code",
      "execution_count": 10,
      "id": "qOwe8HXBmbFz",
      "metadata": {
        "colab": {
          "base_uri": "https://localhost:8080/"
        },
        "id": "qOwe8HXBmbFz",
        "outputId": "f713ad6e-5052-413e-e0be-6c4d4a8cb62d"
      },
      "outputs": [
        {
          "name": "stdout",
          "output_type": "stream",
          "text": [
            "...Done.\n",
            "\n"
          ]
        }
      ],
      "source": [
        "#Since we use Kfold, we don't divide data into train and test data set!\n",
        "#for X_train and Y_train we use all dataset since we use K-fold\n",
        "X_train = X\n",
        "Y_train = Y \n",
        "#X_train, X_test, Y_train, Y_test = train_test_split(X, Y, test_size=0.0, random_state=0)#,stratify=Y)\n",
        "print(\"...Done.\")\n",
        "print()"
      ]
    },
    {
      "cell_type": "code",
      "execution_count": 11,
      "id": "10c47f98",
      "metadata": {},
      "outputs": [
        {
          "name": "stdout",
          "output_type": "stream",
          "text": [
            "<class 'pandas.core.frame.DataFrame'>\n",
            "RangeIndex: 6575 entries, 0 to 6574\n",
            "Data columns (total 10 columns):\n",
            " #   Column                               Non-Null Count  Dtype  \n",
            "---  ------                               --------------  -----  \n",
            " 0   Permit Type                          6575 non-null   int64  \n",
            " 1   Number of Proposed Stories_          6575 non-null   float64\n",
            " 2   Proposed Use                         6575 non-null   object \n",
            " 3   Proposed Units                       6575 non-null   float64\n",
            " 4   Proposed Construction Type_          6575 non-null   object \n",
            " 5   lat_lon                              6575 non-null   float64\n",
            " 6   Year                                 6575 non-null   int64  \n",
            " 7   Duration_construction_days           6574 non-null   float64\n",
            " 8   Neighborhoods - Analysis Boundaries  6575 non-null   object \n",
            " 9   total_area_m2                        6575 non-null   float64\n",
            "dtypes: float64(5), int64(2), object(3)\n",
            "memory usage: 513.8+ KB\n"
          ]
        }
      ],
      "source": [
        "X.info()"
      ]
    },
    {
      "cell_type": "code",
      "execution_count": 12,
      "id": "eVlCoLA-mbSv",
      "metadata": {
        "id": "eVlCoLA-mbSv"
      },
      "outputs": [],
      "source": [
        "# Create pipeline for numeric features\n",
        "numeric_transformer = Pipeline(steps=[\n",
        "    ('imputer', SimpleImputer(strategy='median')), # missing values will be replaced by columns' mean\n",
        "    ('scaler', StandardScaler())\n",
        "])"
      ]
    },
    {
      "cell_type": "code",
      "execution_count": 13,
      "id": "7b869160-f6c6-4790-a34e-203823a0d202",
      "metadata": {
        "id": "7b869160-f6c6-4790-a34e-203823a0d202"
      },
      "outputs": [],
      "source": [
        "# Create pipeline for categorical features\n",
        "categorical_transformer = Pipeline(\n",
        "    steps=[\n",
        "    ('encoder', OneHotEncoder(drop='first')) # first column will be dropped to avoid creating correlations between features\n",
        "    ])"
      ]
    },
    {
      "cell_type": "code",
      "execution_count": 14,
      "id": "krOrUBuUm0KN",
      "metadata": {
        "id": "krOrUBuUm0KN"
      },
      "outputs": [],
      "source": [
        "# Use ColumnTransformer to make a preprocessor object that describes all the treatments to be done\n",
        "preprocessor = ColumnTransformer(\n",
        "    transformers=[\n",
        "        ('num', numeric_transformer, numeric_features),\n",
        "        ('cat', categorical_transformer, categorical_features)\n",
        "    ])"
      ]
    },
    {
      "cell_type": "code",
      "execution_count": 15,
      "id": "-B4yP8C_mzc1",
      "metadata": {
        "colab": {
          "base_uri": "https://localhost:8080/",
          "height": 573
        },
        "id": "-B4yP8C_mzc1",
        "outputId": "f8f477a4-ac72-4426-a8f9-fa625fef398f"
      },
      "outputs": [
        {
          "name": "stdout",
          "output_type": "stream",
          "text": [
            "Performing preprocessings on train set...\n",
            "...Done.\n",
            "   Permit Type  Number of Proposed Stories_       Proposed Use  \\\n",
            "0            2                          4.0         apartments   \n",
            "1            2                          3.0         apartments   \n",
            "2            2                          3.0         apartments   \n",
            "3            2                          3.0  2 family dwelling   \n",
            "4            2                          3.0  2 family dwelling   \n",
            "\n",
            "   Proposed Units Proposed Construction Type_      lat_lon  Year  \\\n",
            "0             3.0                           5 -4623.268159  1991   \n",
            "1             4.0                           5 -4625.233438  1987   \n",
            "2             8.0                           5 -4627.238361  1979   \n",
            "3             2.0                           5 -4621.384747  1980   \n",
            "4             2.0                           5 -4621.384747  1980   \n",
            "\n",
            "   Duration_construction_days Neighborhoods - Analysis Boundaries  \\\n",
            "0                       294.0                 Castro/Upper Market   \n",
            "1                       261.0                        Inner Sunset   \n",
            "2                       401.0                      Inner Richmond   \n",
            "3                       333.0                        Potrero Hill   \n",
            "4                       333.0                        Potrero Hill   \n",
            "\n",
            "   total_area_m2  \n",
            "0     591.661324  \n",
            "1     761.767077  \n",
            "2    1514.009469  \n",
            "3     503.528529  \n",
            "4     503.528529  \n",
            "\n"
          ]
        }
      ],
      "source": [
        "\"\"\"\n",
        "# Preprocessings on test set \n",
        "# IT IS COMMENTED SINCE WE USE K FOLD \n",
        "print(\"Performing preprocessings on test set...\")\n",
        "print(X_test.head()) \n",
        "X_test = preprocessor.transform(X_test) # Don't fit again !! The test set is used for validating decisions\n",
        "# we made based on the training set, therefore we can only apply transformations that were parametered using the training set.\n",
        "# Otherwise this creates what is called a leak from the test set which will introduce a bias in all your results.\n",
        "print('...Done.')\n",
        "print(X_test[0:5,:]) # MUST use this syntax because X_test is a numpy array and not a pandas DataFrame anymore\n",
        "print()\n",
        "\"\"\"\n",
        "\n",
        "# Preprocessings on train set\n",
        "print(\"Performing preprocessings on train set...\")\n",
        "#print(X.head())\n",
        "X_train = preprocessor.fit_transform(X_train)\n",
        "print('...Done.')\n",
        "print(X[0:5]) # MUST use this syntax because X_train is a numpy array and not a pandas DataFrame anymore\n",
        "print()\n",
        "\n"
      ]
    },
    {
      "cell_type": "markdown",
      "id": "_PRRA92Enp_E",
      "metadata": {
        "id": "_PRRA92Enp_E"
      },
      "source": [
        "#***---CROSS VALIDATION---***\n",
        "\n",
        "\n",
        "We take the cross_val_score function of Sklearn. Then, we use the function Kfold where shuffle = True to allow a shuffle attribution as cross_val_score does not have this option."
      ]
    },
    {
      "cell_type": "markdown",
      "id": "r7xM7_DWXZZ1",
      "metadata": {
        "id": "r7xM7_DWXZZ1"
      },
      "source": [
        "***Define Metrics***\n",
        "\n",
        "\n"
      ]
    },
    {
      "cell_type": "markdown",
      "id": "TmIrSs4ywTQq",
      "metadata": {
        "id": "TmIrSs4ywTQq"
      },
      "source": [
        "\n",
        "*** Extrait of python-sklearn manuel***\n",
        "\n",
        "ref. https://scikit-learn.org/stable/modules/model_evaluation.html\n",
        "\n",
        "\n",
        "***R² score, the coefficient of determination***\n",
        "\n",
        "The r2_score function computes the coefficient of determination, usually denoted as\n",
        "\n",
        ".\n",
        "\n",
        "It represents the proportion of variance (of y) that has been explained by the independent variables in the model. It provides an indication of goodness of fit and therefore a measure of how well unseen samples are likely to be predicted by the model, through the proportion of explained variance.\n",
        "\n",
        "As such variance is dataset dependent,\n",
        "may not be meaningfully comparable across different datasets. Best possible score is 1.0 and it can be negative (because the model can be arbitrarily worse). A constant model that always predicts the expected (average) value of y, disregarding the input features, would get an score of 0.0.\n",
        "\n",
        "***Mean squared error***\n",
        "\n",
        "The mean_squared_error function computes mean square error, a risk metric corresponding to the expected value of the squared (quadratic) error or loss.\n",
        "\n",
        "\n",
        "**Mean squared logarithmic error**\n",
        "\n",
        "The mean_squared_log_error function computes a risk metric corresponding to the expected value of the squared logarithmic (quadratic) error or loss.\n",
        "\n",
        "This metric is best to use when targets having exponential growth, such as population counts, average sales of a commodity over a span of years etc. Note that this metric penalizes an under-predicted estimate greater than an over-predicted estimate.\n",
        "\n",
        "**Mean absolute percentage error***\n",
        "\n",
        "The mean_absolute_percentage_error (MAPE), also known as mean absolute percentage deviation (MAPD), is an evaluation metric for regression problems. The idea of this metric is to be sensitive to relative errors. It is for example not changed by a global scaling of the target variable.\n",
        "\n",
        "\n",
        "***Explained variance score***\n",
        "\n",
        "The best possible score is 1.0, lower values are worse.\n",
        "\n",
        "Link to R² score, the coefficient of determination: https://scikit-learn.org/stable/modules/model_evaluation.html#r2-score\n",
        "\n",
        "The difference between the explained variance score and the R² score, the coefficient of determination is that when the explained variance score does not account for systematic offset in the prediction. For this reason, the R² score, the coefficient of determination should be preferred in general.\n",
        "\n",
        "In the particular case where the true target is constant, the Explained Variance score is not finite: it is either NaN (perfect predictions) or -Inf (imperfect predictions). Such non-finite scores may prevent correct model optimization such as grid-search cross-validation to be performed correctly. For this reason the default behaviour of explained_variance_score is to replace them with 1.0 (perfect predictions) or 0.0 (imperfect predictions). You can set the force_finite parameter to False to prevent this fix from happening and fallback on the original Explained Variance score.\n",
        "\n"
      ]
    },
    {
      "cell_type": "code",
      "execution_count": 16,
      "id": "A5iwGmo2tAV6",
      "metadata": {
        "id": "A5iwGmo2tAV6"
      },
      "outputs": [],
      "source": [
        "#Validation function\n",
        "n_folds = 4\n",
        "random_state = 0"
      ]
    },
    {
      "cell_type": "code",
      "execution_count": 17,
      "id": "-lcDmO61yGU4",
      "metadata": {
        "id": "-lcDmO61yGU4"
      },
      "outputs": [],
      "source": [
        "#R2\n",
        "\n",
        "def R2_cv(model):\n",
        "    kf = KFold(n_folds, shuffle=True, random_state=random_state).get_n_splits(X_train)\n",
        "    R2= cross_val_score(model, X_train, Y_train, scoring=\"r2\", cv = kf)\n",
        "    return(R2)"
      ]
    },
    {
      "cell_type": "code",
      "execution_count": 18,
      "id": "ZJyuwL0UucBM",
      "metadata": {
        "id": "ZJyuwL0UucBM"
      },
      "outputs": [],
      "source": [
        "#sqrt of negative mean squared error\n",
        "def rmse_cv(model):\n",
        "    kf = KFold(n_folds, shuffle=True, random_state=random_state).get_n_splits(X_train)\n",
        "    rmse= np.sqrt(-cross_val_score(model, X_train, Y_train, scoring=\"neg_mean_squared_error\", cv = kf))\n",
        "    return(rmse)"
      ]
    },
    {
      "cell_type": "code",
      "execution_count": 19,
      "id": "MqdVUrRGyH3s",
      "metadata": {
        "id": "MqdVUrRGyH3s"
      },
      "outputs": [],
      "source": [
        "#sqrt of negative mean squred log error\n",
        "def rmsle_cv(model):\n",
        "    kf = KFold(n_folds, shuffle=True, random_state=random_state).get_n_splits(X_train)\n",
        "    rmsle= np.sqrt(-cross_val_score(model, X_train, Y_train, scoring=\"neg_mean_squared_log_error\", cv = kf))\n",
        "    return(rmsle)"
      ]
    },
    {
      "cell_type": "code",
      "execution_count": 20,
      "id": "swT6gtoEuo3S",
      "metadata": {
        "id": "swT6gtoEuo3S"
      },
      "outputs": [],
      "source": [
        "#Mean absolute percentage error*\n",
        "def mape_cv(model):\n",
        "    kf = KFold(n_folds, shuffle=True, random_state=random_state).get_n_splits(X_train)\n",
        "    mape= -cross_val_score(model, X_train, Y_train, scoring=\"neg_mean_absolute_percentage_error\", cv = kf)\n",
        "    return(mape)"
      ]
    },
    {
      "cell_type": "code",
      "execution_count": 21,
      "id": "vQbXaUntyTQ2",
      "metadata": {
        "id": "vQbXaUntyTQ2"
      },
      "outputs": [],
      "source": [
        "#explained_variance_score \n",
        "def evs_cv(model):\n",
        "    kf = KFold(n_folds, shuffle=True, random_state=random_state).get_n_splits(X_train)\n",
        "    evs= cross_val_score(model, X_train, Y_train, scoring=\"explained_variance\", cv = kf)\n",
        "    return(evs)"
      ]
    },
    {
      "cell_type": "markdown",
      "id": "xLAZOVdnozr7",
      "metadata": {
        "id": "xLAZOVdnozr7"
      },
      "source": [
        "\n",
        "***Definiton of base models***\n",
        "\n",
        "***Linear Regression :***\n",
        "    \n",
        "\n",
        "Not that we dont apply Robustscaler()! It can be useful to make data more robust on outliers in the future. We can use sklearn's Robustscaler() method on pipeline\n"
      ]
    },
    {
      "cell_type": "code",
      "execution_count": 22,
      "id": "3HUvPrL1vu4G",
      "metadata": {
        "id": "3HUvPrL1vu4G"
      },
      "outputs": [],
      "source": [
        "regressor0= LinearRegression()"
      ]
    },
    {
      "cell_type": "markdown",
      "id": "bw8EOJ8ruBiE",
      "metadata": {
        "id": "bw8EOJ8ruBiE"
      },
      "source": [
        "***LASSO Regression :***\n",
        "    \n",
        "\n"
      ]
    },
    {
      "cell_type": "code",
      "execution_count": 23,
      "id": "TbP3cMXco5ou",
      "metadata": {
        "id": "TbP3cMXco5ou"
      },
      "outputs": [],
      "source": [
        "lasso = Lasso(alpha =0.0005, random_state=random_state)\n",
        "#make_pipeline(RobustScaler(), Lasso(alpha =0.0005, random_state=1))"
      ]
    },
    {
      "cell_type": "markdown",
      "id": "8KPGWKCJpQwQ",
      "metadata": {
        "id": "8KPGWKCJpQwQ"
      },
      "source": [
        "***Elastic Net Regression :***\n",
        "\n",
        "\n"
      ]
    },
    {
      "cell_type": "code",
      "execution_count": 24,
      "id": "qZ0QtaVFo5gG",
      "metadata": {
        "id": "qZ0QtaVFo5gG"
      },
      "outputs": [],
      "source": [
        "ENet = ElasticNet(alpha=0.0005, l1_ratio=.9, random_state=random_state)\n",
        "#make_pipeline(RobustScaler(), ElasticNet(alpha=0.0005, l1_ratio=.9, random_state=3))"
      ]
    },
    {
      "cell_type": "markdown",
      "id": "Rm8qX9sMpVuE",
      "metadata": {
        "id": "Rm8qX9sMpVuE"
      },
      "source": [
        "Kernel Ridge Regression :"
      ]
    },
    {
      "cell_type": "code",
      "execution_count": 25,
      "id": "ef04h9Opo5Wq",
      "metadata": {
        "id": "ef04h9Opo5Wq"
      },
      "outputs": [],
      "source": [
        "KRR = KernelRidge(alpha=0.6, kernel='polynomial', degree=2, coef0=2.5)"
      ]
    },
    {
      "cell_type": "markdown",
      "id": "9ADmL37Wpaax",
      "metadata": {
        "id": "9ADmL37Wpaax"
      },
      "source": [
        "***Gradient Boosting Regression :***\n",
        "\n",
        "\n",
        "With huber loss, our model is more robust to outliers\n"
      ]
    },
    {
      "cell_type": "code",
      "execution_count": 26,
      "id": "x8sNR7bVo5Nj",
      "metadata": {
        "id": "x8sNR7bVo5Nj"
      },
      "outputs": [],
      "source": [
        "GBoost = GradientBoostingRegressor(n_estimators=3000, learning_rate=0.05,\n",
        "                                   max_depth=4, max_features='sqrt',\n",
        "                                   min_samples_leaf=15, min_samples_split=10, \n",
        "                                   loss='huber', random_state =random_state)"
      ]
    },
    {
      "cell_type": "markdown",
      "id": "slWkRkz-pf4M",
      "metadata": {
        "id": "slWkRkz-pf4M"
      },
      "source": [
        "***XGBoost :***"
      ]
    },
    {
      "cell_type": "code",
      "execution_count": 27,
      "id": "ObR7ezMoo49H",
      "metadata": {
        "id": "ObR7ezMoo49H"
      },
      "outputs": [],
      "source": [
        "model_xgb = xgb.XGBRegressor(colsample_bytree=0.4603, gamma=0.0468, \n",
        "                             learning_rate=0.05, max_depth=3, \n",
        "                             min_child_weight=1.7817, n_estimators=2200,\n",
        "                             reg_alpha=0.4640, reg_lambda=0.8571,\n",
        "                             subsample=0.5213, silent=1,\n",
        "                             random_state =random_state, nthread = -1)"
      ]
    },
    {
      "cell_type": "markdown",
      "id": "cCvIgcmSpnT5",
      "metadata": {
        "id": "cCvIgcmSpnT5"
      },
      "source": [
        "**LightGBM - Gradient Boosting With LightGBM**\n",
        "\n",
        "LightGBM is an algorithm developed by Microsoft in 2017. It has an advantage of changing the training algorithm that make the run time faster and likely result in a more effective model.\n",
        "\n",
        "Ref. to the LightGBM algorithm paper:\n",
        "\n",
        "    LightGBM: A Highly Efficient Gradient Boosting Decision Tree, 2017.\n",
        "link : https://papers.nips.cc/paper/2017/hash/6449f44a102fde848669bdd9eb6b76fa-Abstract.html"
      ]
    },
    {
      "cell_type": "code",
      "execution_count": 28,
      "id": "gHh9PxOZpqcp",
      "metadata": {
        "id": "gHh9PxOZpqcp"
      },
      "outputs": [],
      "source": [
        "model_lgb = lgb.LGBMRegressor(objective='regression',num_leaves=5,\n",
        "                              learning_rate=0.05, n_estimators=720,\n",
        "                              max_bin = 55, bagging_fraction = 0.8,\n",
        "                              bagging_freq = 5, feature_fraction = 0.2319,\n",
        "                              feature_fraction_seed=9, bagging_seed=9,\n",
        "                              min_data_in_leaf =6, min_sum_hessian_in_leaf = 11)"
      ]
    },
    {
      "cell_type": "markdown",
      "id": "458748ff",
      "metadata": {},
      "source": [
        "***RandomForestRegressor :***    "
      ]
    },
    {
      "cell_type": "code",
      "execution_count": 29,
      "id": "dc810212",
      "metadata": {},
      "outputs": [],
      "source": [
        "randomForestRegressor = RandomForestRegressor(max_depth=16, min_samples_leaf =2, min_samples_split=8, n_estimators=140,random_state=random_state)"
      ]
    },
    {
      "cell_type": "markdown",
      "id": "Wjrfuu67pwoZ",
      "metadata": {
        "id": "Wjrfuu67pwoZ"
      },
      "source": [
        "\n",
        "#Base models scores\n",
        "\n",
        "Let's see how these base models perform on the data by evaluating the cross-validation metrics\n"
      ]
    },
    {
      "cell_type": "code",
      "execution_count": 30,
      "id": "fq0-O8PMC3oC",
      "metadata": {
        "id": "fq0-O8PMC3oC"
      },
      "outputs": [],
      "source": [
        "models = [regressor0,\n",
        "          lasso,\n",
        "          ENet,\n",
        "          #KRR,\n",
        "          #GBoost, #there is an error. need to fix later. \n",
        "          #model_xgb,\n",
        "          model_lgb,\n",
        "          randomForestRegressor\n",
        "          ]\n",
        "\n",
        "model_names = [\"\\nLinear regressor model\\n\",\n",
        "               \"\\nLasso model\\n\",\n",
        "               \"\\nElastic Net regressor model\\n\",\n",
        "               #\"\\nKernel Ridge model\\n\",\n",
        "               #\"\\nGradient Boosting model\\n\",\n",
        "               #\"\\nXGBoost model\\n\",\n",
        "               \"\\nLGBM model\\n\",\n",
        "               \"\\nRand Forest Regressor\"\n",
        "               ]\n"
      ]
    },
    {
      "cell_type": "code",
      "execution_count": 31,
      "id": "qs35JsyHD8n6",
      "metadata": {
        "id": "qs35JsyHD8n6"
      },
      "outputs": [
        {
          "name": "stdout",
          "output_type": "stream",
          "text": [
            "\n",
            "Linear regressor model\n",
            "\n",
            "R2 score - mean : 0.6869  |  std : 0.0804\n",
            "\n",
            "\n",
            "Root mean squared error - mean : 0.2295  |  std : 0.0141\n",
            "\n",
            "\n",
            "RMSLE -logarithmic error - mean : 0.0328  |  std : 0.0016\n",
            "\n",
            "\n",
            "Mean absolute percentage error - mean : 0.03  |  std : 0.00\n",
            "\n",
            "\n",
            "Explained variance score - mean : 0.7092  |  std : 0.0559\n",
            "\n",
            "----------------END--------------------\n",
            "\n",
            "Lasso model\n",
            "\n",
            "R2 score - mean : 0.6868  |  std : 0.0730\n",
            "\n",
            "\n",
            "Root mean squared error - mean : 0.2304  |  std : 0.0170\n",
            "\n",
            "\n",
            "RMSLE -logarithmic error - mean : 0.0329  |  std : 0.0020\n",
            "\n",
            "\n",
            "Mean absolute percentage error - mean : 0.03  |  std : 0.00\n",
            "\n",
            "\n",
            "Explained variance score - mean : 0.7112  |  std : 0.0463\n",
            "\n",
            "----------------END--------------------\n",
            "\n",
            "Elastic Net regressor model\n",
            "\n",
            "R2 score - mean : 0.6870  |  std : 0.0733\n",
            "\n",
            "\n",
            "Root mean squared error - mean : 0.2303  |  std : 0.0168\n",
            "\n",
            "\n",
            "RMSLE -logarithmic error - mean : 0.0329  |  std : 0.0019\n",
            "\n",
            "\n",
            "Mean absolute percentage error - mean : 0.03  |  std : 0.00\n",
            "\n",
            "\n",
            "Explained variance score - mean : 0.7112  |  std : 0.0468\n",
            "\n",
            "----------------END--------------------\n",
            "\n",
            "LGBM model\n",
            "\n",
            "[LightGBM] [Warning] feature_fraction is set=0.2319, colsample_bytree=1.0 will be ignored. Current value: feature_fraction=0.2319\n",
            "[LightGBM] [Warning] min_sum_hessian_in_leaf is set=11, min_child_weight=0.001 will be ignored. Current value: min_sum_hessian_in_leaf=11\n",
            "[LightGBM] [Warning] min_data_in_leaf is set=6, min_child_samples=20 will be ignored. Current value: min_data_in_leaf=6\n",
            "[LightGBM] [Warning] bagging_freq is set=5, subsample_freq=0 will be ignored. Current value: bagging_freq=5\n",
            "[LightGBM] [Warning] bagging_fraction is set=0.8, subsample=1.0 will be ignored. Current value: bagging_fraction=0.8\n",
            "[LightGBM] [Warning] feature_fraction is set=0.2319, colsample_bytree=1.0 will be ignored. Current value: feature_fraction=0.2319\n",
            "[LightGBM] [Warning] min_sum_hessian_in_leaf is set=11, min_child_weight=0.001 will be ignored. Current value: min_sum_hessian_in_leaf=11\n",
            "[LightGBM] [Warning] min_data_in_leaf is set=6, min_child_samples=20 will be ignored. Current value: min_data_in_leaf=6\n",
            "[LightGBM] [Warning] bagging_freq is set=5, subsample_freq=0 will be ignored. Current value: bagging_freq=5\n",
            "[LightGBM] [Warning] bagging_fraction is set=0.8, subsample=1.0 will be ignored. Current value: bagging_fraction=0.8\n",
            "[LightGBM] [Warning] feature_fraction is set=0.2319, colsample_bytree=1.0 will be ignored. Current value: feature_fraction=0.2319\n",
            "[LightGBM] [Warning] min_sum_hessian_in_leaf is set=11, min_child_weight=0.001 will be ignored. Current value: min_sum_hessian_in_leaf=11\n",
            "[LightGBM] [Warning] min_data_in_leaf is set=6, min_child_samples=20 will be ignored. Current value: min_data_in_leaf=6\n",
            "[LightGBM] [Warning] bagging_freq is set=5, subsample_freq=0 will be ignored. Current value: bagging_freq=5\n",
            "[LightGBM] [Warning] bagging_fraction is set=0.8, subsample=1.0 will be ignored. Current value: bagging_fraction=0.8\n",
            "[LightGBM] [Warning] feature_fraction is set=0.2319, colsample_bytree=1.0 will be ignored. Current value: feature_fraction=0.2319\n",
            "[LightGBM] [Warning] min_sum_hessian_in_leaf is set=11, min_child_weight=0.001 will be ignored. Current value: min_sum_hessian_in_leaf=11\n",
            "[LightGBM] [Warning] min_data_in_leaf is set=6, min_child_samples=20 will be ignored. Current value: min_data_in_leaf=6\n",
            "[LightGBM] [Warning] bagging_freq is set=5, subsample_freq=0 will be ignored. Current value: bagging_freq=5\n",
            "[LightGBM] [Warning] bagging_fraction is set=0.8, subsample=1.0 will be ignored. Current value: bagging_fraction=0.8\n",
            "R2 score - mean : 0.8517  |  std : 0.0187\n",
            "\n",
            "[LightGBM] [Warning] feature_fraction is set=0.2319, colsample_bytree=1.0 will be ignored. Current value: feature_fraction=0.2319\n",
            "[LightGBM] [Warning] min_sum_hessian_in_leaf is set=11, min_child_weight=0.001 will be ignored. Current value: min_sum_hessian_in_leaf=11\n",
            "[LightGBM] [Warning] min_data_in_leaf is set=6, min_child_samples=20 will be ignored. Current value: min_data_in_leaf=6\n",
            "[LightGBM] [Warning] bagging_freq is set=5, subsample_freq=0 will be ignored. Current value: bagging_freq=5\n",
            "[LightGBM] [Warning] bagging_fraction is set=0.8, subsample=1.0 will be ignored. Current value: bagging_fraction=0.8\n",
            "[LightGBM] [Warning] feature_fraction is set=0.2319, colsample_bytree=1.0 will be ignored. Current value: feature_fraction=0.2319\n",
            "[LightGBM] [Warning] min_sum_hessian_in_leaf is set=11, min_child_weight=0.001 will be ignored. Current value: min_sum_hessian_in_leaf=11\n",
            "[LightGBM] [Warning] min_data_in_leaf is set=6, min_child_samples=20 will be ignored. Current value: min_data_in_leaf=6\n",
            "[LightGBM] [Warning] bagging_freq is set=5, subsample_freq=0 will be ignored. Current value: bagging_freq=5\n",
            "[LightGBM] [Warning] bagging_fraction is set=0.8, subsample=1.0 will be ignored. Current value: bagging_fraction=0.8\n",
            "[LightGBM] [Warning] feature_fraction is set=0.2319, colsample_bytree=1.0 will be ignored. Current value: feature_fraction=0.2319\n",
            "[LightGBM] [Warning] min_sum_hessian_in_leaf is set=11, min_child_weight=0.001 will be ignored. Current value: min_sum_hessian_in_leaf=11\n",
            "[LightGBM] [Warning] min_data_in_leaf is set=6, min_child_samples=20 will be ignored. Current value: min_data_in_leaf=6\n",
            "[LightGBM] [Warning] bagging_freq is set=5, subsample_freq=0 will be ignored. Current value: bagging_freq=5\n",
            "[LightGBM] [Warning] bagging_fraction is set=0.8, subsample=1.0 will be ignored. Current value: bagging_fraction=0.8\n",
            "[LightGBM] [Warning] feature_fraction is set=0.2319, colsample_bytree=1.0 will be ignored. Current value: feature_fraction=0.2319\n",
            "[LightGBM] [Warning] min_sum_hessian_in_leaf is set=11, min_child_weight=0.001 will be ignored. Current value: min_sum_hessian_in_leaf=11\n",
            "[LightGBM] [Warning] min_data_in_leaf is set=6, min_child_samples=20 will be ignored. Current value: min_data_in_leaf=6\n",
            "[LightGBM] [Warning] bagging_freq is set=5, subsample_freq=0 will be ignored. Current value: bagging_freq=5\n",
            "[LightGBM] [Warning] bagging_fraction is set=0.8, subsample=1.0 will be ignored. Current value: bagging_fraction=0.8\n",
            "\n",
            "Root mean squared error - mean : 0.1610  |  std : 0.0205\n",
            "\n",
            "[LightGBM] [Warning] feature_fraction is set=0.2319, colsample_bytree=1.0 will be ignored. Current value: feature_fraction=0.2319\n",
            "[LightGBM] [Warning] min_sum_hessian_in_leaf is set=11, min_child_weight=0.001 will be ignored. Current value: min_sum_hessian_in_leaf=11\n",
            "[LightGBM] [Warning] min_data_in_leaf is set=6, min_child_samples=20 will be ignored. Current value: min_data_in_leaf=6\n",
            "[LightGBM] [Warning] bagging_freq is set=5, subsample_freq=0 will be ignored. Current value: bagging_freq=5\n",
            "[LightGBM] [Warning] bagging_fraction is set=0.8, subsample=1.0 will be ignored. Current value: bagging_fraction=0.8\n",
            "[LightGBM] [Warning] feature_fraction is set=0.2319, colsample_bytree=1.0 will be ignored. Current value: feature_fraction=0.2319\n",
            "[LightGBM] [Warning] min_sum_hessian_in_leaf is set=11, min_child_weight=0.001 will be ignored. Current value: min_sum_hessian_in_leaf=11\n",
            "[LightGBM] [Warning] min_data_in_leaf is set=6, min_child_samples=20 will be ignored. Current value: min_data_in_leaf=6\n",
            "[LightGBM] [Warning] bagging_freq is set=5, subsample_freq=0 will be ignored. Current value: bagging_freq=5\n",
            "[LightGBM] [Warning] bagging_fraction is set=0.8, subsample=1.0 will be ignored. Current value: bagging_fraction=0.8\n",
            "[LightGBM] [Warning] feature_fraction is set=0.2319, colsample_bytree=1.0 will be ignored. Current value: feature_fraction=0.2319\n",
            "[LightGBM] [Warning] min_sum_hessian_in_leaf is set=11, min_child_weight=0.001 will be ignored. Current value: min_sum_hessian_in_leaf=11\n",
            "[LightGBM] [Warning] min_data_in_leaf is set=6, min_child_samples=20 will be ignored. Current value: min_data_in_leaf=6\n",
            "[LightGBM] [Warning] bagging_freq is set=5, subsample_freq=0 will be ignored. Current value: bagging_freq=5\n",
            "[LightGBM] [Warning] bagging_fraction is set=0.8, subsample=1.0 will be ignored. Current value: bagging_fraction=0.8\n",
            "[LightGBM] [Warning] feature_fraction is set=0.2319, colsample_bytree=1.0 will be ignored. Current value: feature_fraction=0.2319\n",
            "[LightGBM] [Warning] min_sum_hessian_in_leaf is set=11, min_child_weight=0.001 will be ignored. Current value: min_sum_hessian_in_leaf=11\n",
            "[LightGBM] [Warning] min_data_in_leaf is set=6, min_child_samples=20 will be ignored. Current value: min_data_in_leaf=6\n",
            "[LightGBM] [Warning] bagging_freq is set=5, subsample_freq=0 will be ignored. Current value: bagging_freq=5\n",
            "[LightGBM] [Warning] bagging_fraction is set=0.8, subsample=1.0 will be ignored. Current value: bagging_fraction=0.8\n",
            "\n",
            "RMSLE -logarithmic error - mean : 0.0234  |  std : 0.0024\n",
            "\n",
            "[LightGBM] [Warning] feature_fraction is set=0.2319, colsample_bytree=1.0 will be ignored. Current value: feature_fraction=0.2319\n",
            "[LightGBM] [Warning] min_sum_hessian_in_leaf is set=11, min_child_weight=0.001 will be ignored. Current value: min_sum_hessian_in_leaf=11\n",
            "[LightGBM] [Warning] min_data_in_leaf is set=6, min_child_samples=20 will be ignored. Current value: min_data_in_leaf=6\n",
            "[LightGBM] [Warning] bagging_freq is set=5, subsample_freq=0 will be ignored. Current value: bagging_freq=5\n",
            "[LightGBM] [Warning] bagging_fraction is set=0.8, subsample=1.0 will be ignored. Current value: bagging_fraction=0.8\n",
            "[LightGBM] [Warning] feature_fraction is set=0.2319, colsample_bytree=1.0 will be ignored. Current value: feature_fraction=0.2319\n",
            "[LightGBM] [Warning] min_sum_hessian_in_leaf is set=11, min_child_weight=0.001 will be ignored. Current value: min_sum_hessian_in_leaf=11\n",
            "[LightGBM] [Warning] min_data_in_leaf is set=6, min_child_samples=20 will be ignored. Current value: min_data_in_leaf=6\n",
            "[LightGBM] [Warning] bagging_freq is set=5, subsample_freq=0 will be ignored. Current value: bagging_freq=5\n",
            "[LightGBM] [Warning] bagging_fraction is set=0.8, subsample=1.0 will be ignored. Current value: bagging_fraction=0.8\n",
            "[LightGBM] [Warning] feature_fraction is set=0.2319, colsample_bytree=1.0 will be ignored. Current value: feature_fraction=0.2319\n",
            "[LightGBM] [Warning] min_sum_hessian_in_leaf is set=11, min_child_weight=0.001 will be ignored. Current value: min_sum_hessian_in_leaf=11\n",
            "[LightGBM] [Warning] min_data_in_leaf is set=6, min_child_samples=20 will be ignored. Current value: min_data_in_leaf=6\n",
            "[LightGBM] [Warning] bagging_freq is set=5, subsample_freq=0 will be ignored. Current value: bagging_freq=5\n",
            "[LightGBM] [Warning] bagging_fraction is set=0.8, subsample=1.0 will be ignored. Current value: bagging_fraction=0.8\n",
            "[LightGBM] [Warning] feature_fraction is set=0.2319, colsample_bytree=1.0 will be ignored. Current value: feature_fraction=0.2319\n",
            "[LightGBM] [Warning] min_sum_hessian_in_leaf is set=11, min_child_weight=0.001 will be ignored. Current value: min_sum_hessian_in_leaf=11\n",
            "[LightGBM] [Warning] min_data_in_leaf is set=6, min_child_samples=20 will be ignored. Current value: min_data_in_leaf=6\n",
            "[LightGBM] [Warning] bagging_freq is set=5, subsample_freq=0 will be ignored. Current value: bagging_freq=5\n",
            "[LightGBM] [Warning] bagging_fraction is set=0.8, subsample=1.0 will be ignored. Current value: bagging_fraction=0.8\n",
            "\n",
            "Mean absolute percentage error - mean : 0.02  |  std : 0.00\n",
            "\n",
            "[LightGBM] [Warning] feature_fraction is set=0.2319, colsample_bytree=1.0 will be ignored. Current value: feature_fraction=0.2319\n",
            "[LightGBM] [Warning] min_sum_hessian_in_leaf is set=11, min_child_weight=0.001 will be ignored. Current value: min_sum_hessian_in_leaf=11\n",
            "[LightGBM] [Warning] min_data_in_leaf is set=6, min_child_samples=20 will be ignored. Current value: min_data_in_leaf=6\n",
            "[LightGBM] [Warning] bagging_freq is set=5, subsample_freq=0 will be ignored. Current value: bagging_freq=5\n",
            "[LightGBM] [Warning] bagging_fraction is set=0.8, subsample=1.0 will be ignored. Current value: bagging_fraction=0.8\n",
            "[LightGBM] [Warning] feature_fraction is set=0.2319, colsample_bytree=1.0 will be ignored. Current value: feature_fraction=0.2319\n",
            "[LightGBM] [Warning] min_sum_hessian_in_leaf is set=11, min_child_weight=0.001 will be ignored. Current value: min_sum_hessian_in_leaf=11\n",
            "[LightGBM] [Warning] min_data_in_leaf is set=6, min_child_samples=20 will be ignored. Current value: min_data_in_leaf=6\n",
            "[LightGBM] [Warning] bagging_freq is set=5, subsample_freq=0 will be ignored. Current value: bagging_freq=5\n",
            "[LightGBM] [Warning] bagging_fraction is set=0.8, subsample=1.0 will be ignored. Current value: bagging_fraction=0.8\n",
            "[LightGBM] [Warning] feature_fraction is set=0.2319, colsample_bytree=1.0 will be ignored. Current value: feature_fraction=0.2319\n",
            "[LightGBM] [Warning] min_sum_hessian_in_leaf is set=11, min_child_weight=0.001 will be ignored. Current value: min_sum_hessian_in_leaf=11\n",
            "[LightGBM] [Warning] min_data_in_leaf is set=6, min_child_samples=20 will be ignored. Current value: min_data_in_leaf=6\n",
            "[LightGBM] [Warning] bagging_freq is set=5, subsample_freq=0 will be ignored. Current value: bagging_freq=5\n",
            "[LightGBM] [Warning] bagging_fraction is set=0.8, subsample=1.0 will be ignored. Current value: bagging_fraction=0.8\n",
            "[LightGBM] [Warning] feature_fraction is set=0.2319, colsample_bytree=1.0 will be ignored. Current value: feature_fraction=0.2319\n",
            "[LightGBM] [Warning] min_sum_hessian_in_leaf is set=11, min_child_weight=0.001 will be ignored. Current value: min_sum_hessian_in_leaf=11\n",
            "[LightGBM] [Warning] min_data_in_leaf is set=6, min_child_samples=20 will be ignored. Current value: min_data_in_leaf=6\n",
            "[LightGBM] [Warning] bagging_freq is set=5, subsample_freq=0 will be ignored. Current value: bagging_freq=5\n",
            "[LightGBM] [Warning] bagging_fraction is set=0.8, subsample=1.0 will be ignored. Current value: bagging_fraction=0.8\n",
            "\n",
            "Explained variance score - mean : 0.8539  |  std : 0.0194\n",
            "\n",
            "----------------END--------------------\n",
            "\n",
            "Rand Forest Regressor\n",
            "R2 score - mean : 0.8641  |  std : 0.0235\n",
            "\n",
            "\n",
            "Root mean squared error - mean : 0.1545  |  std : 0.0245\n",
            "\n",
            "\n",
            "RMSLE -logarithmic error - mean : 0.0224  |  std : 0.0032\n",
            "\n",
            "\n",
            "Mean absolute percentage error - mean : 0.02  |  std : 0.00\n",
            "\n",
            "\n",
            "Explained variance score - mean : 0.8651  |  std : 0.0232\n",
            "\n",
            "----------------END--------------------\n"
          ]
        }
      ],
      "source": [
        "count = 0\n",
        "for model in models :\n",
        "  print(model_names[count])\n",
        "  score_1 = R2_cv(model)\n",
        "  print(\"R2 score - mean : {:.4f}  |  std : {:.4f}\\n\".format(score_1.mean(), score_1.std()))\n",
        "\n",
        "  score_2 = rmse_cv(model)\n",
        "  print(\"\\nRoot mean squared error - mean : {:.4f}  |  std : {:.4f}\\n\".format(score_2.mean(), score_2.std()))\n",
        "\n",
        "  score_3 = rmsle_cv(model)\n",
        "  print(\"\\nRMSLE -logarithmic error - mean : {:.4f}  |  std : {:.4f}\\n\".format(score_3.mean(), score_3.std()))\n",
        "\n",
        "  score_4 = mape_cv(model)\n",
        "  print(\"\\nMean absolute percentage error - mean : {:.2f}  |  std : {:.2f}\\n\".format(score_4.mean(), score_4.std()))\n",
        "\n",
        "  score_5 = evs_cv(model)\n",
        "  print(\"\\nExplained variance score - mean : {:.4f}  |  std : {:.4f}\\n\".format(score_5.mean(), score_5.std()))\n",
        "  print(\"----------------END--------------------\")\n",
        "  count = count + 1\n",
        "  execfile('../src/score_ML.py') #!python fichier.py ou %run fichier.py ne recuperrent pas des variables locales"
      ]
    },
    {
      "cell_type": "code",
      "execution_count": null,
      "id": "a3245caf",
      "metadata": {},
      "outputs": [],
      "source": []
    }
  ],
  "metadata": {
    "colab": {
      "collapsed_sections": [
        "uZONddRV-q5E",
        "BrpFaO9f99LU",
        "_PRRA92Enp_E"
      ],
      "name": "SF_regression_models_log.ipynb",
      "provenance": []
    },
    "kernelspec": {
      "display_name": "Python 3.8.10 ('venv': venv)",
      "language": "python",
      "name": "python3"
    },
    "language_info": {
      "codemirror_mode": {
        "name": "ipython",
        "version": 3
      },
      "file_extension": ".py",
      "mimetype": "text/x-python",
      "name": "python",
      "nbconvert_exporter": "python",
      "pygments_lexer": "ipython3",
      "version": "3.8.10"
    },
    "vscode": {
      "interpreter": {
        "hash": "635ce82ea0d9fd7d43aaccb8f17ef64e962b34dd64c1b95b9aa63b53f8e0c0ca"
      }
    }
  },
  "nbformat": 4,
  "nbformat_minor": 5
}
