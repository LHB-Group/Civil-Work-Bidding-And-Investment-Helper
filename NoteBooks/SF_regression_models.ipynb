{
  "cells": [
    {
      "cell_type": "markdown",
      "metadata": {
        "id": "276e7c4c-d1f6-467c-9863-80e8d552ef8a"
      },
      "source": [
        "***PART 1 - LOADING LIBRARIES AND DATABASE***"
      ],
      "id": "276e7c4c-d1f6-467c-9863-80e8d552ef8a"
    },
    {
      "cell_type": "code",
      "execution_count": 7,
      "metadata": {
        "id": "462851cc-45f5-4f5f-860a-7c154c262dd3"
      },
      "outputs": [],
      "source": [
        "import pandas as pd\n",
        "import numpy as np\n",
        "import matplotlib.pyplot as plt\n",
        "\n",
        "import plotly.express as px\n",
        "import plotly.graph_objects as go\n",
        "from plotly.subplots import make_subplots\n",
        "import plotly.io as pio\n",
        "\n",
        "import warnings\n",
        "warnings.filterwarnings('ignore')\n",
        "\n"
      ],
      "id": "462851cc-45f5-4f5f-860a-7c154c262dd3"
    },
    {
      "cell_type": "code",
      "execution_count": 8,
      "metadata": {
        "id": "8EaKjOn5qmEV"
      },
      "outputs": [],
      "source": [
        "pd.options.display.max_columns = None #The dataset is huge. To see all of the columns, we change max columns\n",
        "pd.options.display.max_seq_items=1000\n",
        "pd.options.display.max_rows=1000"
      ],
      "id": "8EaKjOn5qmEV"
    },
    {
      "cell_type": "code",
      "execution_count": 9,
      "metadata": {
        "id": "da151b56-2ac1-43d1-beb0-2084703103f5"
      },
      "outputs": [],
      "source": [
        "db_v2 ='https://drive.google.com/file/d/1XoqPujIOGHQStuAqM6Gzyqbkha4c5Y96/view?usp=sharing'\n",
        "db_v3 ='https://drive.google.com/file/d/1W1V3_hl7yqbWyXF8w7mZSDTxCOx3GMzf/view?usp=sharing'\n",
        "db_v4 ='https://drive.google.com/file/d/19ERs5bmAdxEfgUmTxgfIBhUoT6xPHzZy/view?usp=sharing'\n",
        "fname1 = db_v4\n",
        "fname1='https://drive.google.com/uc?id=' + fname1.split('/')[-2]\n",
        "dataset = pd.read_csv(fname1, low_memory=False)"
      ],
      "id": "da151b56-2ac1-43d1-beb0-2084703103f5"
    },
    {
      "cell_type": "code",
      "execution_count": 10,
      "metadata": {
        "colab": {
          "base_uri": "https://localhost:8080/"
        },
        "id": "547bd10f-54d8-4960-8bd8-17f075986afb",
        "outputId": "b0048a1d-2af3-4228-be7f-62ff6d79b76e"
      },
      "outputs": [
        {
          "output_type": "execute_result",
          "data": {
            "text/plain": [
              "(9408, 42)"
            ]
          },
          "metadata": {},
          "execution_count": 10
        }
      ],
      "source": [
        "dataset.shape"
      ],
      "id": "547bd10f-54d8-4960-8bd8-17f075986afb"
    },
    {
      "cell_type": "markdown",
      "metadata": {
        "id": "uZONddRV-q5E"
      },
      "source": [
        "#DATA VISUALISATION"
      ],
      "id": "uZONddRV-q5E"
    },
    {
      "cell_type": "markdown",
      "metadata": {
        "id": "M3lAEG3ROUuf"
      },
      "source": [
        "***Let's explore our dataset***"
      ],
      "id": "M3lAEG3ROUuf"
    },
    {
      "cell_type": "code",
      "execution_count": 11,
      "metadata": {
        "id": "AEe1R-7LUKf8"
      },
      "outputs": [],
      "source": [
        "import seaborn as sns"
      ],
      "id": "AEe1R-7LUKf8"
    },
    {
      "cell_type": "code",
      "execution_count": 12,
      "metadata": {
        "colab": {
          "base_uri": "https://localhost:8080/",
          "height": 296
        },
        "id": "21S0XnJ5ldjA",
        "outputId": "d9f2972d-ab3e-4442-e710-443dbbfc9f3b"
      },
      "outputs": [
        {
          "output_type": "execute_result",
          "data": {
            "text/plain": [
              "<matplotlib.axes._subplots.AxesSubplot at 0x7f43e4ff6710>"
            ]
          },
          "metadata": {},
          "execution_count": 12
        },
        {
          "output_type": "display_data",
          "data": {
            "text/plain": [
              "<Figure size 432x288 with 1 Axes>"
            ],
            "image/png": "[encoded data removed]"
          },
          "metadata": {
            "needs_background": "light"
          }
        }
      ],
      "source": [
        "sns.histplot(data= dataset , x='Year',kde=True,stat='density',color='forestgreen')"
      ],
      "id": "21S0XnJ5ldjA"
    },
    {
      "cell_type": "code",
      "execution_count": 13,
      "metadata": {
        "colab": {
          "base_uri": "https://localhost:8080/",
          "height": 308
        },
        "id": "yQVHoUuFhKTb",
        "outputId": "f5e7ecd0-05f1-4535-c093-a516757d01b1"
      },
      "outputs": [
        {
          "output_type": "execute_result",
          "data": {
            "text/plain": [
              "<matplotlib.axes._subplots.AxesSubplot at 0x7f43e4ea2590>"
            ]
          },
          "metadata": {},
          "execution_count": 13
        },
        {
          "output_type": "display_data",
          "data": {
            "text/plain": [
              "<Figure size 432x288 with 1 Axes>"
            ],
            "image/png": "[encoded data removed]"
          },
          "metadata": {
            "needs_background": "light"
          }
        }
      ],
      "source": [
        "#histogram\n",
        "sns.histplot(data= dataset , x='Est_Cost_Infl',kde=True,stat='density',color='forestgreen')"
      ],
      "id": "yQVHoUuFhKTb"
    },
    {
      "cell_type": "code",
      "execution_count": 14,
      "metadata": {
        "colab": {
          "base_uri": "https://localhost:8080/",
          "height": 297
        },
        "id": "E1R53Kign-Cw",
        "outputId": "20f4d580-3ef7-4e9f-f85f-9c6026d2b103"
      },
      "outputs": [
        {
          "output_type": "execute_result",
          "data": {
            "text/plain": [
              "<matplotlib.axes._subplots.AxesSubplot at 0x7f43dd880950>"
            ]
          },
          "metadata": {},
          "execution_count": 14
        },
        {
          "output_type": "display_data",
          "data": {
            "text/plain": [
              "<Figure size 432x288 with 1 Axes>"
            ],
            "image/png": "[encoded data removed]"
          },
          "metadata": {
            "needs_background": "light"
          }
        }
      ],
      "source": [
        "#histogram\n",
        "sns.histplot(data= dataset , x='Est_Cost_Infl_log10',kde=True,stat='density',color='forestgreen')"
      ],
      "id": "E1R53Kign-Cw"
    },
    {
      "cell_type": "code",
      "execution_count": 15,
      "metadata": {
        "colab": {
          "base_uri": "https://localhost:8080/",
          "height": 297
        },
        "id": "TMUITF3WpCbo",
        "outputId": "2a8fbfea-3942-4a8d-9415-706285b8067d"
      },
      "outputs": [
        {
          "output_type": "execute_result",
          "data": {
            "text/plain": [
              "<matplotlib.axes._subplots.AxesSubplot at 0x7f43dded6410>"
            ]
          },
          "metadata": {},
          "execution_count": 15
        },
        {
          "output_type": "display_data",
          "data": {
            "text/plain": [
              "<Figure size 432x288 with 1 Axes>"
            ],
            "image/png": "[encoded data removed]"
          },
          "metadata": {
            "needs_background": "light"
          }
        }
      ],
      "source": [
        "sns.histplot(data= dataset , x='Duration_construction_days',kde=True,stat='density',color='forestgreen')"
      ],
      "id": "TMUITF3WpCbo"
    },
    {
      "cell_type": "markdown",
      "metadata": {
        "id": "BrpFaO9f99LU"
      },
      "source": [
        "#MACHINE LEARNING\n",
        "\n"
      ],
      "id": "BrpFaO9f99LU"
    },
    {
      "cell_type": "code",
      "execution_count": 16,
      "metadata": {
        "id": "lPq5X1tvvVkQ"
      },
      "outputs": [],
      "source": [
        "#kaggle ref. https://www.kaggle.com/code/serigne/stacked-regressions-top-4-on-leaderboard\n",
        "\n",
        "\n",
        "#libraries \n",
        "\n",
        "from sklearn.linear_model import ElasticNet, Lasso,  BayesianRidge, LassoLarsIC\n",
        "from sklearn.ensemble import RandomForestRegressor,  GradientBoostingRegressor\n",
        "from sklearn.kernel_ridge import KernelRidge\n",
        "from sklearn.pipeline import Pipeline, make_pipeline\n",
        "from sklearn.impute import SimpleImputer\n",
        "from sklearn.compose import ColumnTransformer\n",
        "from sklearn.preprocessing import RobustScaler,OneHotEncoder, StandardScaler\n",
        "from sklearn.base import BaseEstimator, TransformerMixin, RegressorMixin, clone\n",
        "from sklearn.linear_model import LinearRegression\n",
        "from sklearn.model_selection import KFold, cross_val_score, train_test_split\n",
        "from sklearn.metrics import r2_score, mean_squared_error,mean_squared_error,mean_squared_log_error,mean_absolute_error,explained_variance_score\n",
        "import xgboost as xgb\n",
        "import lightgbm as lgb"
      ],
      "id": "lPq5X1tvvVkQ"
    },
    {
      "cell_type": "code",
      "execution_count": 17,
      "metadata": {
        "colab": {
          "base_uri": "https://localhost:8080/"
        },
        "id": "wUMOJ1dfmayF",
        "outputId": "384852f9-96f4-426c-a99a-b091de498906"
      },
      "outputs": [
        {
          "output_type": "stream",
          "name": "stdout",
          "text": [
            "Separating labels from features...\n",
            "...Done.\n",
            "\n",
            "Y : \n",
            "0    5.696684\n",
            "1    5.973039\n",
            "2    2.316646\n",
            "3    7.249518\n",
            "4    6.640087\n",
            "Name: Est_Cost_Infl_log10, dtype: float64\n",
            "\n",
            "X :\n",
            "   Permit Type  Number of Proposed Stories  Plansets  \\\n",
            "0            2                         4.0       2.0   \n",
            "1            2                         3.0       2.0   \n",
            "2            2                         2.0       2.0   \n",
            "3            1                         NaN       0.0   \n",
            "4            1                         NaN       0.0   \n",
            "\n",
            "   Proposed Construction Type Neighborhoods - Analysis Boundaries  Year  \\\n",
            "0                           5                 Castro/Upper Market  1991   \n",
            "1                           5                        Inner Sunset  1987   \n",
            "2                           5                  West of Twin Peaks  1990   \n",
            "3                          99      Financial District/South Beach  1978   \n",
            "4                          99      Financial District/South Beach  1980   \n",
            "\n",
            "   Duration_construction_days  \n",
            "0                       294.0  \n",
            "1                       261.0  \n",
            "2                       566.0  \n",
            "3                      1761.0  \n",
            "4                      1378.0  \n"
          ]
        }
      ],
      "source": [
        "# Separate target variable Y from features X\n",
        "print(\"Separating labels from features...\")\n",
        "features_list = [\n",
        "    \"Permit Type\",\n",
        "    \"Number of Proposed Stories\", \n",
        "    \"Plansets\", \n",
        "    \"Proposed Construction Type\", \n",
        "    \"Neighborhoods - Analysis Boundaries\", \n",
        "    #\"Zipcode\",\n",
        "    #'lat_lon',\n",
        "    \"Year\",\n",
        "    \"Duration_construction_days\"\n",
        "]\n",
        "\n",
        "target_variable = \"Est_Cost_Infl_log10\" #\"Estimated Cost\"\n",
        "\n",
        "X = dataset.loc[:,features_list]\n",
        "Y = dataset.loc[:,target_variable]\n",
        "\n",
        "print(\"...Done.\")\n",
        "print()\n",
        "\n",
        "print('Y : ')\n",
        "print(Y.head())\n",
        "print()\n",
        "print('X :')\n",
        "print(X.head())\n"
      ],
      "id": "wUMOJ1dfmayF"
    },
    {
      "cell_type": "code",
      "execution_count": 18,
      "metadata": {
        "colab": {
          "base_uri": "https://localhost:8080/"
        },
        "id": "bfuuIs8Ima6i",
        "outputId": "4c16bb18-f297-4e17-f9d6-6d4a8aa419e9"
      },
      "outputs": [
        {
          "output_type": "stream",
          "name": "stdout",
          "text": [
            "Found numeric features  ['Permit Type', 'Number of Proposed Stories', 'Plansets', 'Proposed Construction Type', 'Year', 'Duration_construction_days']\n",
            "Found categorical features  ['Neighborhoods - Analysis Boundaries']\n"
          ]
        }
      ],
      "source": [
        "# Automatically detect names of numeric/categorical columns\n",
        "numeric_features = []\n",
        "categorical_features = []\n",
        "for i,t in X.dtypes.iteritems():\n",
        "    if ('float' in str(t)) or ('int' in str(t)) :\n",
        "        numeric_features.append(i)\n",
        "    else :\n",
        "        categorical_features.append(i)\n",
        "\n",
        "print('Found numeric features ', numeric_features)\n",
        "print('Found categorical features ', categorical_features)"
      ],
      "id": "bfuuIs8Ima6i"
    },
    {
      "cell_type": "code",
      "execution_count": 19,
      "metadata": {
        "id": "eAG4_GeQqTiu"
      },
      "outputs": [],
      "source": [
        "#Manually selecting type of features\n",
        "numeric_features=['Number of Proposed Stories', 'Duration_construction_days','Plansets','Year']\n",
        "categorical_features=['Permit Type', 'Proposed Construction Type', 'Neighborhoods - Analysis Boundaries',] "
      ],
      "id": "eAG4_GeQqTiu"
    },
    {
      "cell_type": "code",
      "execution_count": 20,
      "metadata": {
        "colab": {
          "base_uri": "https://localhost:8080/"
        },
        "id": "qOwe8HXBmbFz",
        "outputId": "f713ad6e-5052-413e-e0be-6c4d4a8cb62d"
      },
      "outputs": [
        {
          "output_type": "stream",
          "name": "stdout",
          "text": [
            "...Done.\n",
            "\n"
          ]
        }
      ],
      "source": [
        "#Since we use Kfold, we don't divide data into train and test data set!\n",
        "#for X_train and Y_train we use all dataset since we use K-fold\n",
        "X_train = X\n",
        "Y_train = Y \n",
        "#X_train, X_test, Y_train, Y_test = train_test_split(X, Y, test_size=0.0, random_state=0)#,stratify=Y)\n",
        "print(\"...Done.\")\n",
        "print()"
      ],
      "id": "qOwe8HXBmbFz"
    },
    {
      "cell_type": "code",
      "execution_count": 21,
      "metadata": {
        "id": "eVlCoLA-mbSv"
      },
      "outputs": [],
      "source": [
        "# Create pipeline for numeric features\n",
        "numeric_transformer = Pipeline(steps=[\n",
        "    ('imputer', SimpleImputer(strategy='median')), # missing values will be replaced by columns' mean\n",
        "    ('scaler', StandardScaler())\n",
        "])"
      ],
      "id": "eVlCoLA-mbSv"
    },
    {
      "cell_type": "code",
      "execution_count": 22,
      "metadata": {
        "id": "7b869160-f6c6-4790-a34e-203823a0d202"
      },
      "outputs": [],
      "source": [
        "# Create pipeline for categorical features\n",
        "categorical_transformer = Pipeline(\n",
        "    steps=[\n",
        "    ('encoder', OneHotEncoder(drop='first')) # first column will be dropped to avoid creating correlations between features\n",
        "    ])"
      ],
      "id": "7b869160-f6c6-4790-a34e-203823a0d202"
    },
    {
      "cell_type": "code",
      "execution_count": 23,
      "metadata": {
        "id": "krOrUBuUm0KN"
      },
      "outputs": [],
      "source": [
        "# Use ColumnTransformer to make a preprocessor object that describes all the treatments to be done\n",
        "preprocessor = ColumnTransformer(\n",
        "    transformers=[\n",
        "        ('num', numeric_transformer, numeric_features),\n",
        "        ('cat', categorical_transformer, categorical_features)\n",
        "    ])"
      ],
      "id": "krOrUBuUm0KN"
    },
    {
      "cell_type": "code",
      "execution_count": 23,
      "metadata": {
        "id": "exlUgw6ChQoD"
      },
      "outputs": [],
      "source": [
        ""
      ],
      "id": "exlUgw6ChQoD"
    },
    {
      "cell_type": "code",
      "execution_count": 24,
      "metadata": {
        "colab": {
          "base_uri": "https://localhost:8080/",
          "height": 573
        },
        "id": "-B4yP8C_mzc1",
        "outputId": "f8f477a4-ac72-4426-a8f9-fa625fef398f"
      },
      "outputs": [
        {
          "output_type": "stream",
          "name": "stdout",
          "text": [
            "Performing preprocessings on train set...\n",
            "...Done.\n",
            "   Permit Type  Number of Proposed Stories  Plansets  \\\n",
            "0            2                         4.0       2.0   \n",
            "1            2                         3.0       2.0   \n",
            "2            2                         2.0       2.0   \n",
            "3            1                         NaN       0.0   \n",
            "4            1                         NaN       0.0   \n",
            "\n",
            "   Proposed Construction Type Neighborhoods - Analysis Boundaries  Year  \\\n",
            "0                           5                 Castro/Upper Market  1991   \n",
            "1                           5                        Inner Sunset  1987   \n",
            "2                           5                  West of Twin Peaks  1990   \n",
            "3                          99      Financial District/South Beach  1978   \n",
            "4                          99      Financial District/South Beach  1980   \n",
            "\n",
            "   Duration_construction_days  \n",
            "0                       294.0  \n",
            "1                       261.0  \n",
            "2                       566.0  \n",
            "3                      1761.0  \n",
            "4                      1378.0  \n",
            "\n"
          ]
        },
        {
          "output_type": "execute_result",
          "data": {
            "text/plain": [
              "'\\n# Preprocessings on test set \\n# IT IS COMMENTED SINCE WE USE K FOLD \\nprint(\"Performing preprocessings on test set...\")\\nprint(X_test.head()) \\nX_test = preprocessor.transform(X_test) # Don\\'t fit again !! The test set is used for validating decisions\\n# we made based on the training set, therefore we can only apply transformations that were parametered using the training set.\\n# Otherwise this creates what is called a leak from the test set which will introduce a bias in all your results.\\nprint(\\'...Done.\\')\\nprint(X_test[0:5,:]) # MUST use this syntax because X_test is a numpy array and not a pandas DataFrame anymore\\nprint()\\n'"
            ],
            "application/vnd.google.colaboratory.intrinsic+json": {
              "type": "string"
            }
          },
          "metadata": {},
          "execution_count": 24
        }
      ],
      "source": [
        "# Preprocessings on train set\n",
        "print(\"Performing preprocessings on train set...\")\n",
        "#print(X.head())\n",
        "X_train = preprocessor.fit_transform(X_train)\n",
        "print('...Done.')\n",
        "print(X[0:5]) # MUST use this syntax because X_train is a numpy array and not a pandas DataFrame anymore\n",
        "print()\n",
        "\n",
        "\"\"\"\n",
        "# Preprocessings on test set \n",
        "# IT IS COMMENTED SINCE WE USE K FOLD \n",
        "print(\"Performing preprocessings on test set...\")\n",
        "print(X_test.head()) \n",
        "X_test = preprocessor.transform(X_test) # Don't fit again !! The test set is used for validating decisions\n",
        "# we made based on the training set, therefore we can only apply transformations that were parametered using the training set.\n",
        "# Otherwise this creates what is called a leak from the test set which will introduce a bias in all your results.\n",
        "print('...Done.')\n",
        "print(X_test[0:5,:]) # MUST use this syntax because X_test is a numpy array and not a pandas DataFrame anymore\n",
        "print()\n",
        "\"\"\""
      ],
      "id": "-B4yP8C_mzc1"
    },
    {
      "cell_type": "code",
      "execution_count": 25,
      "metadata": {
        "colab": {
          "base_uri": "https://localhost:8080/"
        },
        "id": "61e6e509-70e1-4f30-8997-d37b86f8daee",
        "outputId": "94084c1b-ba4a-443e-ef64-4ebcaa03f78a"
      },
      "outputs": [
        {
          "output_type": "execute_result",
          "data": {
            "text/plain": [
              "0"
            ]
          },
          "metadata": {},
          "execution_count": 25
        }
      ],
      "source": [
        "np.isnan(Y_train).sum()"
      ],
      "id": "61e6e509-70e1-4f30-8997-d37b86f8daee"
    },
    {
      "cell_type": "markdown",
      "metadata": {
        "id": "_PRRA92Enp_E"
      },
      "source": [
        "#***---CROSS VALIDATION---***\n",
        "\n",
        "\n",
        "We take the cross_val_score function of Sklearn. Then, we use the function Kfold where shuffle = True to allow a shuffle attribution as cross_val_score does not have this option."
      ],
      "id": "_PRRA92Enp_E"
    },
    {
      "cell_type": "markdown",
      "metadata": {
        "id": "r7xM7_DWXZZ1"
      },
      "source": [
        "***Define Metrics***\n",
        "\n",
        "\n"
      ],
      "id": "r7xM7_DWXZZ1"
    },
    {
      "cell_type": "markdown",
      "metadata": {
        "id": "TmIrSs4ywTQq"
      },
      "source": [
        "\n",
        "*** Extrait of python-sklearn manuel***\n",
        "\n",
        "ref. https://scikit-learn.org/stable/modules/model_evaluation.html\n",
        "\n",
        "\n",
        "***R² score, the coefficient of determination***\n",
        "\n",
        "The r2_score function computes the coefficient of determination, usually denoted as\n",
        "\n",
        ".\n",
        "\n",
        "It represents the proportion of variance (of y) that has been explained by the independent variables in the model. It provides an indication of goodness of fit and therefore a measure of how well unseen samples are likely to be predicted by the model, through the proportion of explained variance.\n",
        "\n",
        "As such variance is dataset dependent,\n",
        "may not be meaningfully comparable across different datasets. Best possible score is 1.0 and it can be negative (because the model can be arbitrarily worse). A constant model that always predicts the expected (average) value of y, disregarding the input features, would get an score of 0.0.\n",
        "\n",
        "***Mean squared error***\n",
        "\n",
        "The mean_squared_error function computes mean square error, a risk metric corresponding to the expected value of the squared (quadratic) error or loss.\n",
        "\n",
        "\n",
        "**Mean squared logarithmic error**\n",
        "\n",
        "The mean_squared_log_error function computes a risk metric corresponding to the expected value of the squared logarithmic (quadratic) error or loss.\n",
        "\n",
        "This metric is best to use when targets having exponential growth, such as population counts, average sales of a commodity over a span of years etc. Note that this metric penalizes an under-predicted estimate greater than an over-predicted estimate.\n",
        "\n",
        "**Mean absolute percentage error***\n",
        "\n",
        "The mean_absolute_percentage_error (MAPE), also known as mean absolute percentage deviation (MAPD), is an evaluation metric for regression problems. The idea of this metric is to be sensitive to relative errors. It is for example not changed by a global scaling of the target variable.\n",
        "\n",
        "\n",
        "***Explained variance score***\n",
        "\n",
        "The best possible score is 1.0, lower values are worse.\n",
        "\n",
        "Link to R² score, the coefficient of determination: https://scikit-learn.org/stable/modules/model_evaluation.html#r2-score\n",
        "\n",
        "The difference between the explained variance score and the R² score, the coefficient of determination is that when the explained variance score does not account for systematic offset in the prediction. For this reason, the R² score, the coefficient of determination should be preferred in general.\n",
        "\n",
        "In the particular case where the true target is constant, the Explained Variance score is not finite: it is either NaN (perfect predictions) or -Inf (imperfect predictions). Such non-finite scores may prevent correct model optimization such as grid-search cross-validation to be performed correctly. For this reason the default behaviour of explained_variance_score is to replace them with 1.0 (perfect predictions) or 0.0 (imperfect predictions). You can set the force_finite parameter to False to prevent this fix from happening and fallback on the original Explained Variance score.\n",
        "\n"
      ],
      "id": "TmIrSs4ywTQq"
    },
    {
      "cell_type": "code",
      "execution_count": 26,
      "metadata": {
        "id": "A5iwGmo2tAV6"
      },
      "outputs": [],
      "source": [
        "#Validation function\n",
        "n_folds = 4\n",
        "random_state = 0"
      ],
      "id": "A5iwGmo2tAV6"
    },
    {
      "cell_type": "code",
      "execution_count": 27,
      "metadata": {
        "id": "-lcDmO61yGU4"
      },
      "outputs": [],
      "source": [
        "#R2\n",
        "\n",
        "def R2_cv(model):\n",
        "    kf = KFold(n_folds, shuffle=True, random_state=random_state).get_n_splits(X_train)\n",
        "    R2= cross_val_score(model, X_train, Y_train, scoring=\"r2\", cv = kf)\n",
        "    return(R2)"
      ],
      "id": "-lcDmO61yGU4"
    },
    {
      "cell_type": "code",
      "execution_count": 28,
      "metadata": {
        "id": "ZJyuwL0UucBM"
      },
      "outputs": [],
      "source": [
        "#sqrt of negative mean squared error\n",
        "def rmse_cv(model):\n",
        "    kf = KFold(n_folds, shuffle=True, random_state=random_state).get_n_splits(X_train)\n",
        "    rmse= np.sqrt(-cross_val_score(model, X_train, Y_train, scoring=\"neg_mean_squared_error\", cv = kf))\n",
        "    return(rmse)"
      ],
      "id": "ZJyuwL0UucBM"
    },
    {
      "cell_type": "code",
      "execution_count": 29,
      "metadata": {
        "id": "MqdVUrRGyH3s"
      },
      "outputs": [],
      "source": [
        "#sqrt of negative mean squred log error\n",
        "def rmsle_cv(model):\n",
        "    kf = KFold(n_folds, shuffle=True, random_state=random_state).get_n_splits(X_train)\n",
        "    rmsle= np.sqrt(-cross_val_score(model, X_train, Y_train, scoring=\"neg_mean_squared_log_error\", cv = kf))\n",
        "    return(rmsle)"
      ],
      "id": "MqdVUrRGyH3s"
    },
    {
      "cell_type": "code",
      "execution_count": 30,
      "metadata": {
        "id": "swT6gtoEuo3S"
      },
      "outputs": [],
      "source": [
        "#Mean absolute percentage error*\n",
        "def mape_cv(model):\n",
        "    kf = KFold(n_folds, shuffle=True, random_state=random_state).get_n_splits(X_train)\n",
        "    mape= -cross_val_score(model, X_train, Y_train, scoring=\"neg_mean_absolute_percentage_error\", cv = kf)\n",
        "    return(mape)"
      ],
      "id": "swT6gtoEuo3S"
    },
    {
      "cell_type": "code",
      "execution_count": 31,
      "metadata": {
        "id": "vQbXaUntyTQ2"
      },
      "outputs": [],
      "source": [
        "#explained_variance_score \n",
        "def evs_cv(model):\n",
        "    kf = KFold(n_folds, shuffle=True, random_state=random_state).get_n_splits(X_train)\n",
        "    evs= cross_val_score(model, X_train, Y_train, scoring=\"explained_variance\", cv = kf)\n",
        "    return(evs)"
      ],
      "id": "vQbXaUntyTQ2"
    },
    {
      "cell_type": "code",
      "execution_count": 31,
      "metadata": {
        "id": "QCYl-zXvX-Z0"
      },
      "outputs": [],
      "source": [
        ""
      ],
      "id": "QCYl-zXvX-Z0"
    },
    {
      "cell_type": "code",
      "execution_count": 31,
      "metadata": {
        "id": "RVHQK-KQsH3X"
      },
      "outputs": [],
      "source": [
        ""
      ],
      "id": "RVHQK-KQsH3X"
    },
    {
      "cell_type": "markdown",
      "metadata": {
        "id": "xLAZOVdnozr7"
      },
      "source": [
        "\n",
        "***Definiton of base models***\n",
        "\n",
        "***Linear Regression :***\n",
        "    \n",
        "\n",
        "Not that we dont apply Robustscaler()! It can be useful to make data more robust on outliers in the future. We can use sklearn's Robustscaler() method on pipeline\n"
      ],
      "id": "xLAZOVdnozr7"
    },
    {
      "cell_type": "code",
      "execution_count": 32,
      "metadata": {
        "id": "3HUvPrL1vu4G"
      },
      "outputs": [],
      "source": [
        "regressor0= LinearRegression()"
      ],
      "id": "3HUvPrL1vu4G"
    },
    {
      "cell_type": "markdown",
      "metadata": {
        "id": "bw8EOJ8ruBiE"
      },
      "source": [
        "***LASSO Regression :***\n",
        "    \n",
        "\n"
      ],
      "id": "bw8EOJ8ruBiE"
    },
    {
      "cell_type": "code",
      "execution_count": 33,
      "metadata": {
        "id": "TbP3cMXco5ou"
      },
      "outputs": [],
      "source": [
        "lasso = Lasso(alpha =0.0005, random_state=random_state)\n",
        "#make_pipeline(RobustScaler(), Lasso(alpha =0.0005, random_state=1))"
      ],
      "id": "TbP3cMXco5ou"
    },
    {
      "cell_type": "markdown",
      "metadata": {
        "id": "8KPGWKCJpQwQ"
      },
      "source": [
        "***Elastic Net Regression :***\n",
        "\n",
        "\n"
      ],
      "id": "8KPGWKCJpQwQ"
    },
    {
      "cell_type": "code",
      "execution_count": 34,
      "metadata": {
        "id": "qZ0QtaVFo5gG"
      },
      "outputs": [],
      "source": [
        "ENet = ElasticNet(alpha=0.0005, l1_ratio=.9, random_state=random_state)\n",
        "#make_pipeline(RobustScaler(), ElasticNet(alpha=0.0005, l1_ratio=.9, random_state=3))"
      ],
      "id": "qZ0QtaVFo5gG"
    },
    {
      "cell_type": "markdown",
      "metadata": {
        "id": "Rm8qX9sMpVuE"
      },
      "source": [
        "Kernel Ridge Regression :"
      ],
      "id": "Rm8qX9sMpVuE"
    },
    {
      "cell_type": "code",
      "execution_count": 35,
      "metadata": {
        "id": "ef04h9Opo5Wq"
      },
      "outputs": [],
      "source": [
        "KRR = KernelRidge(alpha=0.6, kernel='polynomial', degree=2, coef0=2.5)"
      ],
      "id": "ef04h9Opo5Wq"
    },
    {
      "cell_type": "markdown",
      "metadata": {
        "id": "9ADmL37Wpaax"
      },
      "source": [
        "***Gradient Boosting Regression :***\n",
        "\n",
        "\n",
        "With huber loss, our model is more robust to outliers\n"
      ],
      "id": "9ADmL37Wpaax"
    },
    {
      "cell_type": "code",
      "execution_count": 36,
      "metadata": {
        "id": "x8sNR7bVo5Nj"
      },
      "outputs": [],
      "source": [
        "GBoost = GradientBoostingRegressor(n_estimators=3000, learning_rate=0.05,\n",
        "                                   max_depth=4, max_features='sqrt',\n",
        "                                   min_samples_leaf=15, min_samples_split=10, \n",
        "                                   loss='huber', random_state =random_state)"
      ],
      "id": "x8sNR7bVo5Nj"
    },
    {
      "cell_type": "markdown",
      "metadata": {
        "id": "slWkRkz-pf4M"
      },
      "source": [
        "***XGBoost :***"
      ],
      "id": "slWkRkz-pf4M"
    },
    {
      "cell_type": "code",
      "execution_count": 63,
      "metadata": {
        "id": "ObR7ezMoo49H"
      },
      "outputs": [],
      "source": [
        "model_xgb = xgb.XGBRegressor(colsample_bytree=0.4603, gamma=0.0468, \n",
        "                             learning_rate=0.05, max_depth=3, \n",
        "                             min_child_weight=1.7817, n_estimators=2200,\n",
        "                             reg_alpha=0.4640, reg_lambda=0.8571,\n",
        "                             subsample=0.5213, silent=1,\n",
        "                             random_state =random_state, nthread = -1)"
      ],
      "id": "ObR7ezMoo49H"
    },
    {
      "cell_type": "markdown",
      "metadata": {
        "id": "cCvIgcmSpnT5"
      },
      "source": [
        "**LightGBM - Gradient Boosting With LightGBM**\n",
        "\n",
        "LightGBM is an algorithm developed by Microsoft in 2017. It has an advantage of changing the training algorithm that make the run time faster and likely result in a more effective model.\n",
        "\n",
        "Ref. to the LightGBM algorithm paper:\n",
        "\n",
        "    LightGBM: A Highly Efficient Gradient Boosting Decision Tree, 2017.\n",
        "link : https://papers.nips.cc/paper/2017/hash/6449f44a102fde848669bdd9eb6b76fa-Abstract.html"
      ],
      "id": "cCvIgcmSpnT5"
    },
    {
      "cell_type": "code",
      "execution_count": 38,
      "metadata": {
        "id": "gHh9PxOZpqcp"
      },
      "outputs": [],
      "source": [
        "model_lgb = lgb.LGBMRegressor(objective='regression',num_leaves=5,\n",
        "                              learning_rate=0.05, n_estimators=720,\n",
        "                              max_bin = 55, bagging_fraction = 0.8,\n",
        "                              bagging_freq = 5, feature_fraction = 0.2319,\n",
        "                              feature_fraction_seed=9, bagging_seed=9,\n",
        "                              min_data_in_leaf =6, min_sum_hessian_in_leaf = 11)"
      ],
      "id": "gHh9PxOZpqcp"
    },
    {
      "cell_type": "markdown",
      "metadata": {
        "id": "Wjrfuu67pwoZ"
      },
      "source": [
        "\n",
        "#Base models scores\n",
        "\n",
        "Let's see how these base models perform on the data by evaluating the cross-validation metrics\n"
      ],
      "id": "Wjrfuu67pwoZ"
    },
    {
      "cell_type": "code",
      "source": [
        "description_ML"
      ],
      "metadata": {
        "colab": {
          "base_uri": "https://localhost:8080/",
          "height": 35
        },
        "id": "AkSUCMDfKyck",
        "outputId": "8fe7cc08-1d88-4273-acfa-50811d57ca58"
      },
      "id": "AkSUCMDfKyck",
      "execution_count": 44,
      "outputs": [
        {
          "output_type": "execute_result",
          "data": {
            "text/plain": [
              "'Hello world!'"
            ],
            "application/vnd.google.colaboratory.intrinsic+json": {
              "type": "string"
            }
          },
          "metadata": {},
          "execution_count": 44
        }
      ]
    },
    {
      "cell_type": "code",
      "source": [
        "description_ML = \"Hello world!\"#add why you do this experiment\n",
        "models = [regressor0,\n",
        "          ENet,\n",
        "          KRR,\n",
        "         # GBoost, #there is an error. need to fix later. \n",
        "          model_xgb,\n",
        "          model_lgb]\n",
        "\n",
        "model_names = [\"\\nLinear regressor model\\n\",\n",
        "               \"\\nLasso model\\n\",\n",
        "               \"\\nElastic Net regressor model\\n\",\n",
        "               \"\\nKernel Ridge model\\n\",\n",
        "               #\"\\nGradient Boosting model\\n\",\n",
        "               \"\\n XGBoost model\\n\",\n",
        "               \"\\nLGBM model\\n\"]\n"
      ],
      "metadata": {
        "id": "fq0-O8PMC3oC"
      },
      "id": "fq0-O8PMC3oC",
      "execution_count": 45,
      "outputs": []
    },
    {
      "cell_type": "code",
      "source": [
        "count = 0\n",
        "for model in models :\n",
        "  print(model_names[count])\n",
        "  score_1 = R2_cv(model)\n",
        "  print(\"R2 score - mean : {:.4f}  |  std : {:.4f}\\n\".format(score_1.mean(), score_1.std()))\n",
        "\n",
        "  score_2 = rmse_cv(model)\n",
        "  print(\"\\nRoot mean squared error - mean : {:.4f}  |  std : {:.4f}\\n\".format(score_2.mean(), score_2.std()))\n",
        "\n",
        "  score_3 = rmsle_cv(model)\n",
        "  print(\"\\nRMSLE -logarithmic error - mean : {:.4f}  |  std : {:.4f}\\n\".format(score_3.mean(), score_3.std()))\n",
        "\n",
        "  score_4 = mape_cv(model)\n",
        "  print(\"\\nMean absolute percentage error - mean : {:.2f}  |  std : {:.2f}\\n\".format(score_4.mean(), score_4.std()))\n",
        "\n",
        "  score_5 = evs_cv(model)\n",
        "  print(\"\\nExplained variance score - mean : {:.4f}  |  std : {:.4f}\\n\".format(score_5.mean(), score_5.std()))\n",
        "  print(\"----------------END--------------------\")\n",
        "  count = count + 1\n",
        "  execfile('../src/score_ML.py')\n"
      ],
      "metadata": {
        "id": "qs35JsyHD8n6"
      },
      "id": "qs35JsyHD8n6",
      "execution_count": null,
      "outputs": []
    },
    {
      "cell_type": "code",
      "execution_count": null,
      "metadata": {
        "id": "m3KCUKXNuKqt"
      },
      "outputs": [],
      "source": [
        ""
      ],
      "id": "m3KCUKXNuKqt"
    },
    {
      "cell_type": "markdown",
      "metadata": {
        "id": "RtJafmhJ9EVt"
      },
      "source": [
        "Stopped here 11/08/22\n",
        "\n",
        "***Add your observations and conclusions here***\n",
        "\n"
      ],
      "id": "RtJafmhJ9EVt"
    },
    {
      "cell_type": "markdown",
      "metadata": {
        "id": "1CQBoKOA2SSY"
      },
      "source": [
        "*** SUMMARY ***\n",
        "\n",
        "Metric 1 :\n",
        "\n",
        "Metric 2 :\n",
        "\n",
        "\n"
      ],
      "id": "1CQBoKOA2SSY"
    },
    {
      "cell_type": "markdown",
      "metadata": {
        "id": "mSJg5_IvVWVe"
      },
      "source": [
        "*** Conclusion : ***\n",
        "\n",
        "\n",
        "\n",
        "Comment on your results\n",
        "\n",
        "Which metric to use ?\n"
      ],
      "id": "mSJg5_IvVWVe"
    }
  ],
  "metadata": {
    "colab": {
      "collapsed_sections": [
        "uZONddRV-q5E",
        "BrpFaO9f99LU",
        "_PRRA92Enp_E"
      ],
      "name": "SF_regression_models_log.ipynb",
      "provenance": []
    },
    "kernelspec": {
      "display_name": "Python 3 (ipykernel)",
      "language": "python",
      "name": "python3"
    },
    "language_info": {
      "codemirror_mode": {
        "name": "ipython",
        "version": 3
      },
      "file_extension": ".py",
      "mimetype": "text/x-python",
      "name": "python",
      "nbconvert_exporter": "python",
      "pygments_lexer": "ipython3",
      "version": "3.9.7"
    }
  },
  "nbformat": 4,
  "nbformat_minor": 5
}