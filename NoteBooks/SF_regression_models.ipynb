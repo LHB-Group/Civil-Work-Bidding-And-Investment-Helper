{
  "cells": [
    {
      "cell_type": "markdown",
      "id": "276e7c4c-d1f6-467c-9863-80e8d552ef8a",
      "metadata": {
        "id": "276e7c4c-d1f6-467c-9863-80e8d552ef8a"
      },
      "source": [
        "***PART 1 - LOADING LIBRARIES AND DATABASE***"
      ]
    },
    {
      "cell_type": "code",
      "execution_count": 1,
      "id": "462851cc-45f5-4f5f-860a-7c154c262dd3",
      "metadata": {
        "id": "462851cc-45f5-4f5f-860a-7c154c262dd3"
      },
      "outputs": [],
      "source": [
        "import pandas as pd\n",
        "import numpy as np\n",
        "import matplotlib.pyplot as plt\n",
        "\n",
        "import plotly.express as px\n",
        "import plotly.graph_objects as go\n",
        "from plotly.subplots import make_subplots\n",
        "import plotly.io as pio\n",
        "import seaborn as sns\n",
        "\n",
        "import warnings\n",
        "warnings.filterwarnings('ignore')\n",
        "\n",
        "pd.options.display.max_columns = None #The dataset is huge. To see all of the columns, we change max columns\n",
        "pd.options.display.max_seq_items=1000\n",
        "pd.options.display.max_rows=1000"
      ]
    },
    {
      "cell_type": "code",
      "execution_count": 2,
      "id": "8EaKjOn5qmEV",
      "metadata": {
        "id": "8EaKjOn5qmEV"
      },
      "outputs": [],
      "source": [
        "pd.options.display.max_columns = None #The dataset is huge. To see all of the columns, we change max columns\n",
        "pd.options.display.max_seq_items=1000\n",
        "pd.options.display.max_rows=1000"
      ]
    },
    {
      "cell_type": "code",
      "execution_count": 3,
      "id": "da151b56-2ac1-43d1-beb0-2084703103f5",
      "metadata": {
        "id": "da151b56-2ac1-43d1-beb0-2084703103f5"
      },
      "outputs": [],
      "source": [
        "db_v2 ='https://drive.google.com/file/d/1XoqPujIOGHQStuAqM6Gzyqbkha4c5Y96/view?usp=sharing'\n",
        "db_v3 ='https://drive.google.com/file/d/1W1V3_hl7yqbWyXF8w7mZSDTxCOx3GMzf/view?usp=sharing'\n",
        "db_v4 ='https://drive.google.com/file/d/19ERs5bmAdxEfgUmTxgfIBhUoT6xPHzZy/view?usp=sharing'\n",
        "db_v5 = 'https://drive.google.com/file/d/1X4YJP5fjfyk8f_TjSGBdIsTdv8MCCgY7/view?usp=sharing'\n",
        "fname1 = db_v5\n",
        "fname1='https://drive.google.com/uc?id=' + fname1.split('/')[-2]\n",
        "dataset = pd.read_csv(fname1, low_memory=False)"
      ]
    },
    {
      "cell_type": "markdown",
      "id": "364e8a3e",
      "metadata": {},
      "source": []
    },
    {
      "cell_type": "code",
      "execution_count": 5,
      "id": "40ac2955",
      "metadata": {},
      "outputs": [],
      "source": [
        "# dataset[\"Proposed Use\"].value_counts()\n",
        "# We only keep 1 family dwelling, 2 family dwelling and appartments because it's represent 90% of the dataset and this improve prediction\n",
        "idx = np.where((dataset[\"Proposed Use\"]==\"1 family dwelling\") | (dataset[\"Proposed Use\"]==\"2 family dwelling\") | (dataset[\"Proposed Use\"]==\"apartments\"))\n",
        "dataset = dataset.loc[idx]"
      ]
    },
    {
      "cell_type": "code",
      "execution_count": 4,
      "id": "547bd10f-54d8-4960-8bd8-17f075986afb",
      "metadata": {
        "colab": {
          "base_uri": "https://localhost:8080/"
        },
        "id": "547bd10f-54d8-4960-8bd8-17f075986afb",
        "outputId": "b0048a1d-2af3-4228-be7f-62ff6d79b76e"
      },
      "outputs": [
        {
          "data": {
            "text/plain": [
              "(7561, 42)"
            ]
          },
          "execution_count": 4,
          "metadata": {},
          "output_type": "execute_result"
        }
      ],
      "source": [
        "dataset.shape"
      ]
    },
    {
      "cell_type": "markdown",
      "id": "uZONddRV-q5E",
      "metadata": {
        "id": "uZONddRV-q5E"
      },
      "source": [
        "#DATA VISUALISATION"
      ]
    },
    {
      "cell_type": "markdown",
      "id": "M3lAEG3ROUuf",
      "metadata": {
        "id": "M3lAEG3ROUuf"
      },
      "source": [
        "***Let's explore our dataset***"
      ]
    },
    {
      "cell_type": "code",
      "execution_count": 5,
      "id": "AEe1R-7LUKf8",
      "metadata": {
        "id": "AEe1R-7LUKf8"
      },
      "outputs": [],
      "source": [
        "import seaborn as sns"
      ]
    },
    {
      "cell_type": "code",
      "execution_count": 6,
      "id": "21S0XnJ5ldjA",
      "metadata": {
        "colab": {
          "base_uri": "https://localhost:8080/",
          "height": 296
        },
        "id": "21S0XnJ5ldjA",
        "outputId": "d9f2972d-ab3e-4442-e710-443dbbfc9f3b"
      },
      "outputs": [
        {
          "data": {
            "text/plain": [
              "<AxesSubplot:xlabel='Year', ylabel='Density'>"
            ]
          },
          "execution_count": 6,
          "metadata": {},
          "output_type": "execute_result"
        },
        {
          "data": {
            "image/png": "[encoded data removed]",
            "text/plain": [
              "<Figure size 432x288 with 1 Axes>"
            ]
          },
          "metadata": {
            "needs_background": "light"
          },
          "output_type": "display_data"
        }
      ],
      "source": [
        "sns.histplot(data= dataset , x='Year',kde=True,stat='density',color='forestgreen')"
      ]
    },
    {
      "cell_type": "code",
      "execution_count": 7,
      "id": "yQVHoUuFhKTb",
      "metadata": {
        "colab": {
          "base_uri": "https://localhost:8080/",
          "height": 308
        },
        "id": "yQVHoUuFhKTb",
        "outputId": "f5e7ecd0-05f1-4535-c093-a516757d01b1"
      },
      "outputs": [
        {
          "data": {
            "text/plain": [
              "<AxesSubplot:xlabel='Est_Cost_Infl', ylabel='Density'>"
            ]
          },
          "execution_count": 7,
          "metadata": {},
          "output_type": "execute_result"
        },
        {
          "data": {
            "image/png": "[encoded data removed]",
            "text/plain": [
              "<Figure size 432x288 with 1 Axes>"
            ]
          },
          "metadata": {
            "needs_background": "light"
          },
          "output_type": "display_data"
        }
      ],
      "source": [
        "#histogram\n",
        "sns.histplot(data= dataset , x='Est_Cost_Infl',kde=True,stat='density',color='forestgreen')"
      ]
    },
    {
      "cell_type": "code",
      "execution_count": 8,
      "id": "E1R53Kign-Cw",
      "metadata": {
        "colab": {
          "base_uri": "https://localhost:8080/",
          "height": 297
        },
        "id": "E1R53Kign-Cw",
        "outputId": "20f4d580-3ef7-4e9f-f85f-9c6026d2b103"
      },
      "outputs": [
        {
          "data": {
            "text/plain": [
              "<AxesSubplot:xlabel='Est_Cost_Infl_log10', ylabel='Density'>"
            ]
          },
          "execution_count": 8,
          "metadata": {},
          "output_type": "execute_result"
        },
        {
          "data": {
            "image/png": "[encoded data removed]",
            "text/plain": [
              "<Figure size 432x288 with 1 Axes>"
            ]
          },
          "metadata": {
            "needs_background": "light"
          },
          "output_type": "display_data"
        }
      ],
      "source": [
        "#histogram\n",
        "sns.histplot(data= dataset , x='Est_Cost_Infl_log10',kde=True,stat='density',color='forestgreen')"
      ]
    },
    {
      "cell_type": "code",
      "execution_count": 9,
      "id": "TMUITF3WpCbo",
      "metadata": {
        "colab": {
          "base_uri": "https://localhost:8080/",
          "height": 297
        },
        "id": "TMUITF3WpCbo",
        "outputId": "2a8fbfea-3942-4a8d-9415-706285b8067d"
      },
      "outputs": [
        {
          "data": {
            "text/plain": [
              "<AxesSubplot:xlabel='Duration_construction_days', ylabel='Density'>"
            ]
          },
          "execution_count": 9,
          "metadata": {},
          "output_type": "execute_result"
        },
        {
          "data": {
            "image/png": "[encoded data removed]",
            "text/plain": [
              "<Figure size 432x288 with 1 Axes>"
            ]
          },
          "metadata": {
            "needs_background": "light"
          },
          "output_type": "display_data"
        }
      ],
      "source": [
        "sns.histplot(data= dataset , x='Duration_construction_days',kde=True,stat='density',color='forestgreen')"
      ]
    },
    {
      "cell_type": "markdown",
      "id": "BrpFaO9f99LU",
      "metadata": {
        "id": "BrpFaO9f99LU"
      },
      "source": [
        "#MACHINE LEARNING\n",
        "\n"
      ]
    },
    {
      "cell_type": "code",
      "execution_count": 11,
      "id": "f5225d27",
      "metadata": {},
      "outputs": [
        {
          "name": "stdout",
          "output_type": "stream",
          "text": [
            "Collecting lightgbm\n",
            "  Downloading lightgbm-3.3.2-py3-none-win_amd64.whl (1.0 MB)\n",
            "     ---------------------------------------- 1.0/1.0 MB 10.8 MB/s eta 0:00:00\n",
            "Requirement already satisfied: numpy in c:\\users\\baptiste cournault\\appdata\\roaming\\python\\python310\\site-packages (from lightgbm) (1.21.2)\n",
            "Requirement already satisfied: wheel in c:\\users\\baptiste cournault\\appdata\\local\\programs\\python\\python310\\lib\\site-packages (from lightgbm) (0.37.1)\n",
            "Requirement already satisfied: scipy in c:\\users\\baptiste cournault\\appdata\\local\\programs\\python\\python310\\lib\\site-packages (from lightgbm) (1.7.2)\n",
            "Requirement already satisfied: scikit-learn!=0.22.0 in c:\\users\\baptiste cournault\\appdata\\local\\programs\\python\\python310\\lib\\site-packages (from lightgbm) (1.1.1)\n",
            "Requirement already satisfied: threadpoolctl>=2.0.0 in c:\\users\\baptiste cournault\\appdata\\local\\programs\\python\\python310\\lib\\site-packages (from scikit-learn!=0.22.0->lightgbm) (3.1.0)\n",
            "Requirement already satisfied: joblib>=1.0.0 in c:\\users\\baptiste cournault\\appdata\\local\\programs\\python\\python310\\lib\\site-packages (from scikit-learn!=0.22.0->lightgbm) (1.1.0)\n",
            "Installing collected packages: lightgbm\n",
            "Successfully installed lightgbm-3.3.2\n",
            "\n",
            "[notice] A new release of pip available: 22.1.2 -> 22.2.2\n",
            "[notice] To update, run: python.exe -m pip install --upgrade pip\n"
          ]
        }
      ],
      "source": [
        "! pip install lightgbm"
      ]
    },
    {
      "cell_type": "code",
      "execution_count": 12,
      "id": "lPq5X1tvvVkQ",
      "metadata": {
        "id": "lPq5X1tvvVkQ"
      },
      "outputs": [],
      "source": [
        "#kaggle ref. https://www.kaggle.com/code/serigne/stacked-regressions-top-4-on-leaderboard\n",
        "\n",
        "\n",
        "#libraries \n",
        "\n",
        "from sklearn.linear_model import ElasticNet, Lasso,  BayesianRidge, LassoLarsIC\n",
        "from sklearn.ensemble import RandomForestRegressor,  GradientBoostingRegressor\n",
        "from sklearn.kernel_ridge import KernelRidge\n",
        "from sklearn.pipeline import Pipeline, make_pipeline\n",
        "from sklearn.impute import SimpleImputer\n",
        "from sklearn.compose import ColumnTransformer\n",
        "from sklearn.preprocessing import RobustScaler,OneHotEncoder, StandardScaler\n",
        "from sklearn.base import BaseEstimator, TransformerMixin, RegressorMixin, clone\n",
        "from sklearn.linear_model import LinearRegression\n",
        "from sklearn.model_selection import KFold, cross_val_score, train_test_split\n",
        "from sklearn.metrics import r2_score, mean_squared_error,mean_squared_error,mean_squared_log_error,mean_absolute_error,explained_variance_score\n",
        "import xgboost as xgb\n",
        "import lightgbm as lgb"
      ]
    },
    {
      "cell_type": "code",
      "execution_count": 14,
      "id": "wUMOJ1dfmayF",
      "metadata": {
        "colab": {
          "base_uri": "https://localhost:8080/"
        },
        "id": "wUMOJ1dfmayF",
        "outputId": "384852f9-96f4-426c-a99a-b091de498906"
      },
      "outputs": [
        {
          "name": "stdout",
          "output_type": "stream",
          "text": [
            "Separating labels from features...\n"
          ]
        },
        {
          "ename": "KeyError",
          "evalue": "\"['Proposed UnitsProposed Construction Type'] not in index\"",
          "output_type": "error",
          "traceback": [
            "\u001b[1;31m---------------------------------------------------------------------------\u001b[0m",
            "\u001b[1;31mKeyError\u001b[0m                                  Traceback (most recent call last)",
            "\u001b[1;32mc:\\Users\\Baptiste Cournault\\Documents\\dev\\Civil-Work-Bidding-And-Investment-Helper\\NoteBooks\\SF_regression_models.ipynb Cellule 18\u001b[0m in \u001b[0;36m<cell line: 19>\u001b[1;34m()\u001b[0m\n\u001b[0;32m      <a href='vscode-notebook-cell:/c%3A/Users/Baptiste%20Cournault/Documents/dev/Civil-Work-Bidding-And-Investment-Helper/NoteBooks/SF_regression_models.ipynb#X22sZmlsZQ%3D%3D?line=2'>3</a>\u001b[0m features_list \u001b[39m=\u001b[39m [\n\u001b[0;32m      <a href='vscode-notebook-cell:/c%3A/Users/Baptiste%20Cournault/Documents/dev/Civil-Work-Bidding-And-Investment-Helper/NoteBooks/SF_regression_models.ipynb#X22sZmlsZQ%3D%3D?line=3'>4</a>\u001b[0m     \u001b[39m\"\u001b[39m\u001b[39mPermit Type\u001b[39m\u001b[39m\"\u001b[39m,\n\u001b[0;32m      <a href='vscode-notebook-cell:/c%3A/Users/Baptiste%20Cournault/Documents/dev/Civil-Work-Bidding-And-Investment-Helper/NoteBooks/SF_regression_models.ipynb#X22sZmlsZQ%3D%3D?line=4'>5</a>\u001b[0m     \u001b[39m\"\u001b[39m\u001b[39mNumber of Proposed Stories\u001b[39m\u001b[39m\"\u001b[39m,\n\u001b[1;32m   (...)\u001b[0m\n\u001b[0;32m     <a href='vscode-notebook-cell:/c%3A/Users/Baptiste%20Cournault/Documents/dev/Civil-Work-Bidding-And-Investment-Helper/NoteBooks/SF_regression_models.ipynb#X22sZmlsZQ%3D%3D?line=13'>14</a>\u001b[0m     \u001b[39m\"\u001b[39m\u001b[39mDuration_construction_days\u001b[39m\u001b[39m\"\u001b[39m\n\u001b[0;32m     <a href='vscode-notebook-cell:/c%3A/Users/Baptiste%20Cournault/Documents/dev/Civil-Work-Bidding-And-Investment-Helper/NoteBooks/SF_regression_models.ipynb#X22sZmlsZQ%3D%3D?line=14'>15</a>\u001b[0m ]\n\u001b[0;32m     <a href='vscode-notebook-cell:/c%3A/Users/Baptiste%20Cournault/Documents/dev/Civil-Work-Bidding-And-Investment-Helper/NoteBooks/SF_regression_models.ipynb#X22sZmlsZQ%3D%3D?line=16'>17</a>\u001b[0m target_variable \u001b[39m=\u001b[39m \u001b[39m\"\u001b[39m\u001b[39mEst_Cost_Infl_log10\u001b[39m\u001b[39m\"\u001b[39m \u001b[39m#\"Estimated Cost\"\u001b[39;00m\n\u001b[1;32m---> <a href='vscode-notebook-cell:/c%3A/Users/Baptiste%20Cournault/Documents/dev/Civil-Work-Bidding-And-Investment-Helper/NoteBooks/SF_regression_models.ipynb#X22sZmlsZQ%3D%3D?line=18'>19</a>\u001b[0m X \u001b[39m=\u001b[39m dataset\u001b[39m.\u001b[39;49mloc[:,features_list]\n\u001b[0;32m     <a href='vscode-notebook-cell:/c%3A/Users/Baptiste%20Cournault/Documents/dev/Civil-Work-Bidding-And-Investment-Helper/NoteBooks/SF_regression_models.ipynb#X22sZmlsZQ%3D%3D?line=19'>20</a>\u001b[0m Y \u001b[39m=\u001b[39m dataset\u001b[39m.\u001b[39mloc[:,target_variable]\n\u001b[0;32m     <a href='vscode-notebook-cell:/c%3A/Users/Baptiste%20Cournault/Documents/dev/Civil-Work-Bidding-And-Investment-Helper/NoteBooks/SF_regression_models.ipynb#X22sZmlsZQ%3D%3D?line=21'>22</a>\u001b[0m \u001b[39mprint\u001b[39m(\u001b[39m\"\u001b[39m\u001b[39m...Done.\u001b[39m\u001b[39m\"\u001b[39m)\n",
            "File \u001b[1;32m~\\AppData\\Roaming\\Python\\Python310\\site-packages\\pandas\\core\\indexing.py:925\u001b[0m, in \u001b[0;36m_LocationIndexer.__getitem__\u001b[1;34m(self, key)\u001b[0m\n\u001b[0;32m    923\u001b[0m         \u001b[39mwith\u001b[39;00m suppress(\u001b[39mKeyError\u001b[39;00m, \u001b[39mIndexError\u001b[39;00m):\n\u001b[0;32m    924\u001b[0m             \u001b[39mreturn\u001b[39;00m \u001b[39mself\u001b[39m\u001b[39m.\u001b[39mobj\u001b[39m.\u001b[39m_get_value(\u001b[39m*\u001b[39mkey, takeable\u001b[39m=\u001b[39m\u001b[39mself\u001b[39m\u001b[39m.\u001b[39m_takeable)\n\u001b[1;32m--> 925\u001b[0m     \u001b[39mreturn\u001b[39;00m \u001b[39mself\u001b[39;49m\u001b[39m.\u001b[39;49m_getitem_tuple(key)\n\u001b[0;32m    926\u001b[0m \u001b[39melse\u001b[39;00m:\n\u001b[0;32m    927\u001b[0m     \u001b[39m# we by definition only have the 0th axis\u001b[39;00m\n\u001b[0;32m    928\u001b[0m     axis \u001b[39m=\u001b[39m \u001b[39mself\u001b[39m\u001b[39m.\u001b[39maxis \u001b[39mor\u001b[39;00m \u001b[39m0\u001b[39m\n",
            "File \u001b[1;32m~\\AppData\\Roaming\\Python\\Python310\\site-packages\\pandas\\core\\indexing.py:1109\u001b[0m, in \u001b[0;36m_LocIndexer._getitem_tuple\u001b[1;34m(self, tup)\u001b[0m\n\u001b[0;32m   1106\u001b[0m \u001b[39mif\u001b[39;00m \u001b[39mself\u001b[39m\u001b[39m.\u001b[39m_multi_take_opportunity(tup):\n\u001b[0;32m   1107\u001b[0m     \u001b[39mreturn\u001b[39;00m \u001b[39mself\u001b[39m\u001b[39m.\u001b[39m_multi_take(tup)\n\u001b[1;32m-> 1109\u001b[0m \u001b[39mreturn\u001b[39;00m \u001b[39mself\u001b[39;49m\u001b[39m.\u001b[39;49m_getitem_tuple_same_dim(tup)\n",
            "File \u001b[1;32m~\\AppData\\Roaming\\Python\\Python310\\site-packages\\pandas\\core\\indexing.py:806\u001b[0m, in \u001b[0;36m_LocationIndexer._getitem_tuple_same_dim\u001b[1;34m(self, tup)\u001b[0m\n\u001b[0;32m    803\u001b[0m \u001b[39mif\u001b[39;00m com\u001b[39m.\u001b[39mis_null_slice(key):\n\u001b[0;32m    804\u001b[0m     \u001b[39mcontinue\u001b[39;00m\n\u001b[1;32m--> 806\u001b[0m retval \u001b[39m=\u001b[39m \u001b[39mgetattr\u001b[39;49m(retval, \u001b[39mself\u001b[39;49m\u001b[39m.\u001b[39;49mname)\u001b[39m.\u001b[39;49m_getitem_axis(key, axis\u001b[39m=\u001b[39;49mi)\n\u001b[0;32m    807\u001b[0m \u001b[39m# We should never have retval.ndim < self.ndim, as that should\u001b[39;00m\n\u001b[0;32m    808\u001b[0m \u001b[39m#  be handled by the _getitem_lowerdim call above.\u001b[39;00m\n\u001b[0;32m    809\u001b[0m \u001b[39massert\u001b[39;00m retval\u001b[39m.\u001b[39mndim \u001b[39m==\u001b[39m \u001b[39mself\u001b[39m\u001b[39m.\u001b[39mndim\n",
            "File \u001b[1;32m~\\AppData\\Roaming\\Python\\Python310\\site-packages\\pandas\\core\\indexing.py:1153\u001b[0m, in \u001b[0;36m_LocIndexer._getitem_axis\u001b[1;34m(self, key, axis)\u001b[0m\n\u001b[0;32m   1150\u001b[0m     \u001b[39mif\u001b[39;00m \u001b[39mhasattr\u001b[39m(key, \u001b[39m\"\u001b[39m\u001b[39mndim\u001b[39m\u001b[39m\"\u001b[39m) \u001b[39mand\u001b[39;00m key\u001b[39m.\u001b[39mndim \u001b[39m>\u001b[39m \u001b[39m1\u001b[39m:\n\u001b[0;32m   1151\u001b[0m         \u001b[39mraise\u001b[39;00m \u001b[39mValueError\u001b[39;00m(\u001b[39m\"\u001b[39m\u001b[39mCannot index with multidimensional key\u001b[39m\u001b[39m\"\u001b[39m)\n\u001b[1;32m-> 1153\u001b[0m     \u001b[39mreturn\u001b[39;00m \u001b[39mself\u001b[39;49m\u001b[39m.\u001b[39;49m_getitem_iterable(key, axis\u001b[39m=\u001b[39;49maxis)\n\u001b[0;32m   1155\u001b[0m \u001b[39m# nested tuple slicing\u001b[39;00m\n\u001b[0;32m   1156\u001b[0m \u001b[39mif\u001b[39;00m is_nested_tuple(key, labels):\n",
            "File \u001b[1;32m~\\AppData\\Roaming\\Python\\Python310\\site-packages\\pandas\\core\\indexing.py:1093\u001b[0m, in \u001b[0;36m_LocIndexer._getitem_iterable\u001b[1;34m(self, key, axis)\u001b[0m\n\u001b[0;32m   1090\u001b[0m \u001b[39mself\u001b[39m\u001b[39m.\u001b[39m_validate_key(key, axis)\n\u001b[0;32m   1092\u001b[0m \u001b[39m# A collection of keys\u001b[39;00m\n\u001b[1;32m-> 1093\u001b[0m keyarr, indexer \u001b[39m=\u001b[39m \u001b[39mself\u001b[39;49m\u001b[39m.\u001b[39;49m_get_listlike_indexer(key, axis)\n\u001b[0;32m   1094\u001b[0m \u001b[39mreturn\u001b[39;00m \u001b[39mself\u001b[39m\u001b[39m.\u001b[39mobj\u001b[39m.\u001b[39m_reindex_with_indexers(\n\u001b[0;32m   1095\u001b[0m     {axis: [keyarr, indexer]}, copy\u001b[39m=\u001b[39m\u001b[39mTrue\u001b[39;00m, allow_dups\u001b[39m=\u001b[39m\u001b[39mTrue\u001b[39;00m\n\u001b[0;32m   1096\u001b[0m )\n",
            "File \u001b[1;32m~\\AppData\\Roaming\\Python\\Python310\\site-packages\\pandas\\core\\indexing.py:1314\u001b[0m, in \u001b[0;36m_LocIndexer._get_listlike_indexer\u001b[1;34m(self, key, axis)\u001b[0m\n\u001b[0;32m   1311\u001b[0m \u001b[39melse\u001b[39;00m:\n\u001b[0;32m   1312\u001b[0m     keyarr, indexer, new_indexer \u001b[39m=\u001b[39m ax\u001b[39m.\u001b[39m_reindex_non_unique(keyarr)\n\u001b[1;32m-> 1314\u001b[0m \u001b[39mself\u001b[39;49m\u001b[39m.\u001b[39;49m_validate_read_indexer(keyarr, indexer, axis)\n\u001b[0;32m   1316\u001b[0m \u001b[39mif\u001b[39;00m needs_i8_conversion(ax\u001b[39m.\u001b[39mdtype) \u001b[39mor\u001b[39;00m \u001b[39misinstance\u001b[39m(\n\u001b[0;32m   1317\u001b[0m     ax, (IntervalIndex, CategoricalIndex)\n\u001b[0;32m   1318\u001b[0m ):\n\u001b[0;32m   1319\u001b[0m     \u001b[39m# For CategoricalIndex take instead of reindex to preserve dtype.\u001b[39;00m\n\u001b[0;32m   1320\u001b[0m     \u001b[39m#  For IntervalIndex this is to map integers to the Intervals they match to.\u001b[39;00m\n\u001b[0;32m   1321\u001b[0m     keyarr \u001b[39m=\u001b[39m ax\u001b[39m.\u001b[39mtake(indexer)\n",
            "File \u001b[1;32m~\\AppData\\Roaming\\Python\\Python310\\site-packages\\pandas\\core\\indexing.py:1377\u001b[0m, in \u001b[0;36m_LocIndexer._validate_read_indexer\u001b[1;34m(self, key, indexer, axis)\u001b[0m\n\u001b[0;32m   1374\u001b[0m     \u001b[39mraise\u001b[39;00m \u001b[39mKeyError\u001b[39;00m(\u001b[39mf\u001b[39m\u001b[39m\"\u001b[39m\u001b[39mNone of [\u001b[39m\u001b[39m{\u001b[39;00mkey\u001b[39m}\u001b[39;00m\u001b[39m] are in the [\u001b[39m\u001b[39m{\u001b[39;00maxis_name\u001b[39m}\u001b[39;00m\u001b[39m]\u001b[39m\u001b[39m\"\u001b[39m)\n\u001b[0;32m   1376\u001b[0m not_found \u001b[39m=\u001b[39m \u001b[39mlist\u001b[39m(ensure_index(key)[missing_mask\u001b[39m.\u001b[39mnonzero()[\u001b[39m0\u001b[39m]]\u001b[39m.\u001b[39munique())\n\u001b[1;32m-> 1377\u001b[0m \u001b[39mraise\u001b[39;00m \u001b[39mKeyError\u001b[39;00m(\u001b[39mf\u001b[39m\u001b[39m\"\u001b[39m\u001b[39m{\u001b[39;00mnot_found\u001b[39m}\u001b[39;00m\u001b[39m not in index\u001b[39m\u001b[39m\"\u001b[39m)\n",
            "\u001b[1;31mKeyError\u001b[0m: \"['Proposed UnitsProposed Construction Type'] not in index\""
          ]
        }
      ],
      "source": [
        "# Separate target variable Y from features X\n",
        "print(\"Separating labels from features...\")\n",
        "features_list = [\n",
        "    \"Permit Type\",\n",
        "    \"Number of Proposed Stories\",\n",
        "    \"Proposed Use\",\n",
        "    \"Proposed Units\",\n",
        "    #\"Plansets\", \n",
        "    \"Proposed Construction Type\", \n",
        "    #\"Neighborhoods - Analysis Boundaries\", \n",
        "    #\"Zipcode\",\n",
        "    'lat_lon',\n",
        "    \"Year\",\n",
        "    \"Duration_construction_days\"\n",
        "]\n",
        "\n",
        "target_variable = \"Est_Cost_Infl_log10\" #\"Estimated Cost\"\n",
        "\n",
        "X = dataset.loc[:,features_list]\n",
        "Y = dataset.loc[:,target_variable]\n",
        "\n",
        "print(\"...Done.\")\n",
        "print()\n",
        "\n",
        "print('Y : ')\n",
        "print(Y.head())\n",
        "print()\n",
        "print('X :')\n",
        "print(X.head())\n"
      ]
    },
    {
      "cell_type": "code",
      "execution_count": 13,
      "id": "bfuuIs8Ima6i",
      "metadata": {
        "colab": {
          "base_uri": "https://localhost:8080/"
        },
        "id": "bfuuIs8Ima6i",
        "outputId": "4c16bb18-f297-4e17-f9d6-6d4a8aa419e9"
      },
      "outputs": [
        {
          "name": "stdout",
          "output_type": "stream",
          "text": [
            "Found numeric features  ['Permit Type', 'Number of Proposed Stories', 'Proposed Construction Type', 'Year', 'Duration_construction_days']\n",
            "Found categorical features  ['Proposed Use', 'Neighborhoods - Analysis Boundaries']\n"
          ]
        }
      ],
      "source": [
        "# Automatically detect names of numeric/categorical columns\n",
        "numeric_features = []\n",
        "categorical_features = []\n",
        "for i,t in X.dtypes.iteritems():\n",
        "    if ('float' in str(t)) or ('int' in str(t)) :\n",
        "        numeric_features.append(i)\n",
        "    else :\n",
        "        categorical_features.append(i)\n",
        "\n",
        "print('Found numeric features ', numeric_features)\n",
        "print('Found categorical features ', categorical_features)"
      ]
    },
    {
      "cell_type": "code",
      "execution_count": 14,
      "id": "eAG4_GeQqTiu",
      "metadata": {
        "id": "eAG4_GeQqTiu"
      },
      "outputs": [],
      "source": [
        "#Manually selecting type of features\n",
        "numeric_features=['Number of Proposed Stories', 'Duration_construction_days','Year']\n",
        "categorical_features=['Permit Type', 'Proposed Construction Type', 'Neighborhoods - Analysis Boundaries', 'Proposed Use'] "
      ]
    },
    {
      "cell_type": "code",
      "execution_count": 15,
      "id": "qOwe8HXBmbFz",
      "metadata": {
        "colab": {
          "base_uri": "https://localhost:8080/"
        },
        "id": "qOwe8HXBmbFz",
        "outputId": "f713ad6e-5052-413e-e0be-6c4d4a8cb62d"
      },
      "outputs": [
        {
          "name": "stdout",
          "output_type": "stream",
          "text": [
            "...Done.\n",
            "\n"
          ]
        }
      ],
      "source": [
        "#Since we use Kfold, we don't divide data into train and test data set!\n",
        "#for X_train and Y_train we use all dataset since we use K-fold\n",
        "X_train = X\n",
        "Y_train = Y \n",
        "#X_train, X_test, Y_train, Y_test = train_test_split(X, Y, test_size=0.0, random_state=0)#,stratify=Y)\n",
        "print(\"...Done.\")\n",
        "print()"
      ]
    },
    {
      "cell_type": "code",
      "execution_count": 16,
      "id": "eVlCoLA-mbSv",
      "metadata": {
        "id": "eVlCoLA-mbSv"
      },
      "outputs": [],
      "source": [
        "# Create pipeline for numeric features\n",
        "numeric_transformer = Pipeline(steps=[\n",
        "    ('imputer', SimpleImputer(strategy='median')), # missing values will be replaced by columns' mean\n",
        "    ('scaler', StandardScaler())\n",
        "])"
      ]
    },
    {
      "cell_type": "code",
      "execution_count": 17,
      "id": "7b869160-f6c6-4790-a34e-203823a0d202",
      "metadata": {
        "id": "7b869160-f6c6-4790-a34e-203823a0d202"
      },
      "outputs": [],
      "source": [
        "# Create pipeline for categorical features\n",
        "categorical_transformer = Pipeline(\n",
        "    steps=[\n",
        "    ('encoder', OneHotEncoder(drop='first')) # first column will be dropped to avoid creating correlations between features\n",
        "    ])"
      ]
    },
    {
      "cell_type": "code",
      "execution_count": 18,
      "id": "krOrUBuUm0KN",
      "metadata": {
        "id": "krOrUBuUm0KN"
      },
      "outputs": [],
      "source": [
        "# Use ColumnTransformer to make a preprocessor object that describes all the treatments to be done\n",
        "preprocessor = ColumnTransformer(\n",
        "    transformers=[\n",
        "        ('num', numeric_transformer, numeric_features),\n",
        "        ('cat', categorical_transformer, categorical_features)\n",
        "    ])"
      ]
    },
    {
      "cell_type": "code",
      "execution_count": 19,
      "id": "-B4yP8C_mzc1",
      "metadata": {
        "colab": {
          "base_uri": "https://localhost:8080/",
          "height": 573
        },
        "id": "-B4yP8C_mzc1",
        "outputId": "f8f477a4-ac72-4426-a8f9-fa625fef398f"
      },
      "outputs": [
        {
          "name": "stdout",
          "output_type": "stream",
          "text": [
            "Performing preprocessings on train set...\n",
            "...Done.\n",
            "    Permit Type  Number of Proposed Stories       Proposed Use  \\\n",
            "0             2                         4.0         apartments   \n",
            "1             2                         3.0         apartments   \n",
            "2             2                         2.0  1 family dwelling   \n",
            "11            2                         4.0         apartments   \n",
            "21            2                         3.0         apartments   \n",
            "\n",
            "    Proposed Construction Type Neighborhoods - Analysis Boundaries  Year  \\\n",
            "0                            5                 Castro/Upper Market  1991   \n",
            "1                            5                        Inner Sunset  1987   \n",
            "2                            5                  West of Twin Peaks  1990   \n",
            "11                          99                        Russian Hill  1977   \n",
            "21                           5                      Inner Richmond  1979   \n",
            "\n",
            "    Duration_construction_days  \n",
            "0                        294.0  \n",
            "1                        261.0  \n",
            "2                        566.0  \n",
            "11                       827.0  \n",
            "21                       401.0  \n",
            "\n"
          ]
        },
        {
          "data": {
            "text/plain": [
              "'\\n# Preprocessings on test set \\n# IT IS COMMENTED SINCE WE USE K FOLD \\nprint(\"Performing preprocessings on test set...\")\\nprint(X_test.head()) \\nX_test = preprocessor.transform(X_test) # Don\\'t fit again !! The test set is used for validating decisions\\n# we made based on the training set, therefore we can only apply transformations that were parametered using the training set.\\n# Otherwise this creates what is called a leak from the test set which will introduce a bias in all your results.\\nprint(\\'...Done.\\')\\nprint(X_test[0:5,:]) # MUST use this syntax because X_test is a numpy array and not a pandas DataFrame anymore\\nprint()\\n'"
            ]
          },
          "execution_count": 19,
          "metadata": {},
          "output_type": "execute_result"
        }
      ],
      "source": [
        "# Preprocessings on train set\n",
        "print(\"Performing preprocessings on train set...\")\n",
        "#print(X.head())\n",
        "X_train = preprocessor.fit_transform(X_train)\n",
        "print('...Done.')\n",
        "print(X[0:5]) # MUST use this syntax because X_train is a numpy array and not a pandas DataFrame anymore\n",
        "print()\n",
        "\n",
        "\"\"\"\n",
        "# Preprocessings on test set \n",
        "# IT IS COMMENTED SINCE WE USE K FOLD \n",
        "print(\"Performing preprocessings on test set...\")\n",
        "print(X_test.head()) \n",
        "X_test = preprocessor.transform(X_test) # Don't fit again !! The test set is used for validating decisions\n",
        "# we made based on the training set, therefore we can only apply transformations that were parametered using the training set.\n",
        "# Otherwise this creates what is called a leak from the test set which will introduce a bias in all your results.\n",
        "print('...Done.')\n",
        "print(X_test[0:5,:]) # MUST use this syntax because X_test is a numpy array and not a pandas DataFrame anymore\n",
        "print()\n",
        "\"\"\""
      ]
    },
    {
      "cell_type": "code",
      "execution_count": 20,
      "id": "61e6e509-70e1-4f30-8997-d37b86f8daee",
      "metadata": {
        "colab": {
          "base_uri": "https://localhost:8080/"
        },
        "id": "61e6e509-70e1-4f30-8997-d37b86f8daee",
        "outputId": "94084c1b-ba4a-443e-ef64-4ebcaa03f78a"
      },
      "outputs": [],
      "source": [
        "#np.isnan(Y_train).sum()"
      ]
    },
    {
      "cell_type": "markdown",
      "id": "_PRRA92Enp_E",
      "metadata": {
        "id": "_PRRA92Enp_E"
      },
      "source": [
        "#***---CROSS VALIDATION---***\n",
        "\n",
        "\n",
        "We take the cross_val_score function of Sklearn. Then, we use the function Kfold where shuffle = True to allow a shuffle attribution as cross_val_score does not have this option."
      ]
    },
    {
      "cell_type": "markdown",
      "id": "r7xM7_DWXZZ1",
      "metadata": {
        "id": "r7xM7_DWXZZ1"
      },
      "source": [
        "***Define Metrics***\n",
        "\n",
        "\n"
      ]
    },
    {
      "cell_type": "markdown",
      "id": "TmIrSs4ywTQq",
      "metadata": {
        "id": "TmIrSs4ywTQq"
      },
      "source": [
        "\n",
        "*** Extrait of python-sklearn manuel***\n",
        "\n",
        "ref. https://scikit-learn.org/stable/modules/model_evaluation.html\n",
        "\n",
        "\n",
        "***R² score, the coefficient of determination***\n",
        "\n",
        "The r2_score function computes the coefficient of determination, usually denoted as\n",
        "\n",
        ".\n",
        "\n",
        "It represents the proportion of variance (of y) that has been explained by the independent variables in the model. It provides an indication of goodness of fit and therefore a measure of how well unseen samples are likely to be predicted by the model, through the proportion of explained variance.\n",
        "\n",
        "As such variance is dataset dependent,\n",
        "may not be meaningfully comparable across different datasets. Best possible score is 1.0 and it can be negative (because the model can be arbitrarily worse). A constant model that always predicts the expected (average) value of y, disregarding the input features, would get an score of 0.0.\n",
        "\n",
        "***Mean squared error***\n",
        "\n",
        "The mean_squared_error function computes mean square error, a risk metric corresponding to the expected value of the squared (quadratic) error or loss.\n",
        "\n",
        "\n",
        "**Mean squared logarithmic error**\n",
        "\n",
        "The mean_squared_log_error function computes a risk metric corresponding to the expected value of the squared logarithmic (quadratic) error or loss.\n",
        "\n",
        "This metric is best to use when targets having exponential growth, such as population counts, average sales of a commodity over a span of years etc. Note that this metric penalizes an under-predicted estimate greater than an over-predicted estimate.\n",
        "\n",
        "**Mean absolute percentage error***\n",
        "\n",
        "The mean_absolute_percentage_error (MAPE), also known as mean absolute percentage deviation (MAPD), is an evaluation metric for regression problems. The idea of this metric is to be sensitive to relative errors. It is for example not changed by a global scaling of the target variable.\n",
        "\n",
        "\n",
        "***Explained variance score***\n",
        "\n",
        "The best possible score is 1.0, lower values are worse.\n",
        "\n",
        "Link to R² score, the coefficient of determination: https://scikit-learn.org/stable/modules/model_evaluation.html#r2-score\n",
        "\n",
        "The difference between the explained variance score and the R² score, the coefficient of determination is that when the explained variance score does not account for systematic offset in the prediction. For this reason, the R² score, the coefficient of determination should be preferred in general.\n",
        "\n",
        "In the particular case where the true target is constant, the Explained Variance score is not finite: it is either NaN (perfect predictions) or -Inf (imperfect predictions). Such non-finite scores may prevent correct model optimization such as grid-search cross-validation to be performed correctly. For this reason the default behaviour of explained_variance_score is to replace them with 1.0 (perfect predictions) or 0.0 (imperfect predictions). You can set the force_finite parameter to False to prevent this fix from happening and fallback on the original Explained Variance score.\n",
        "\n"
      ]
    },
    {
      "cell_type": "code",
      "execution_count": 21,
      "id": "A5iwGmo2tAV6",
      "metadata": {
        "id": "A5iwGmo2tAV6"
      },
      "outputs": [],
      "source": [
        "#Validation function\n",
        "n_folds = 4\n",
        "random_state = 0"
      ]
    },
    {
      "cell_type": "code",
      "execution_count": 22,
      "id": "-lcDmO61yGU4",
      "metadata": {
        "id": "-lcDmO61yGU4"
      },
      "outputs": [],
      "source": [
        "#R2\n",
        "\n",
        "def R2_cv(model):\n",
        "    kf = KFold(n_folds, shuffle=True, random_state=random_state).get_n_splits(X_train)\n",
        "    R2= cross_val_score(model, X_train, Y_train, scoring=\"r2\", cv = kf)\n",
        "    return(R2)"
      ]
    },
    {
      "cell_type": "code",
      "execution_count": 23,
      "id": "ZJyuwL0UucBM",
      "metadata": {
        "id": "ZJyuwL0UucBM"
      },
      "outputs": [],
      "source": [
        "#sqrt of negative mean squared error\n",
        "def rmse_cv(model):\n",
        "    kf = KFold(n_folds, shuffle=True, random_state=random_state).get_n_splits(X_train)\n",
        "    rmse= np.sqrt(-cross_val_score(model, X_train, Y_train, scoring=\"neg_mean_squared_error\", cv = kf))\n",
        "    return(rmse)"
      ]
    },
    {
      "cell_type": "code",
      "execution_count": 24,
      "id": "MqdVUrRGyH3s",
      "metadata": {
        "id": "MqdVUrRGyH3s"
      },
      "outputs": [],
      "source": [
        "#sqrt of negative mean squred log error\n",
        "def rmsle_cv(model):\n",
        "    kf = KFold(n_folds, shuffle=True, random_state=random_state).get_n_splits(X_train)\n",
        "    rmsle= np.sqrt(-cross_val_score(model, X_train, Y_train, scoring=\"neg_mean_squared_log_error\", cv = kf))\n",
        "    return(rmsle)"
      ]
    },
    {
      "cell_type": "code",
      "execution_count": 25,
      "id": "swT6gtoEuo3S",
      "metadata": {
        "id": "swT6gtoEuo3S"
      },
      "outputs": [],
      "source": [
        "#Mean absolute percentage error*\n",
        "def mape_cv(model):\n",
        "    kf = KFold(n_folds, shuffle=True, random_state=random_state).get_n_splits(X_train)\n",
        "    mape= -cross_val_score(model, X_train, Y_train, scoring=\"neg_mean_absolute_percentage_error\", cv = kf)\n",
        "    return(mape)"
      ]
    },
    {
      "cell_type": "code",
      "execution_count": 26,
      "id": "vQbXaUntyTQ2",
      "metadata": {
        "id": "vQbXaUntyTQ2"
      },
      "outputs": [],
      "source": [
        "#explained_variance_score \n",
        "def evs_cv(model):\n",
        "    kf = KFold(n_folds, shuffle=True, random_state=random_state).get_n_splits(X_train)\n",
        "    evs= cross_val_score(model, X_train, Y_train, scoring=\"explained_variance\", cv = kf)\n",
        "    return(evs)"
      ]
    },
    {
      "cell_type": "markdown",
      "id": "xLAZOVdnozr7",
      "metadata": {
        "id": "xLAZOVdnozr7"
      },
      "source": [
        "\n",
        "***Definiton of base models***\n",
        "\n",
        "***Linear Regression :***\n",
        "    \n",
        "\n",
        "Not that we dont apply Robustscaler()! It can be useful to make data more robust on outliers in the future. We can use sklearn's Robustscaler() method on pipeline\n"
      ]
    },
    {
      "cell_type": "code",
      "execution_count": 27,
      "id": "3HUvPrL1vu4G",
      "metadata": {
        "id": "3HUvPrL1vu4G"
      },
      "outputs": [],
      "source": [
        "regressor0= LinearRegression()"
      ]
    },
    {
      "cell_type": "markdown",
      "id": "bw8EOJ8ruBiE",
      "metadata": {
        "id": "bw8EOJ8ruBiE"
      },
      "source": [
        "***LASSO Regression :***\n",
        "    \n",
        "\n"
      ]
    },
    {
      "cell_type": "code",
      "execution_count": 28,
      "id": "TbP3cMXco5ou",
      "metadata": {
        "id": "TbP3cMXco5ou"
      },
      "outputs": [],
      "source": [
        "lasso = Lasso(alpha =0.0005, random_state=random_state)\n",
        "#make_pipeline(RobustScaler(), Lasso(alpha =0.0005, random_state=1))"
      ]
    },
    {
      "cell_type": "markdown",
      "id": "8KPGWKCJpQwQ",
      "metadata": {
        "id": "8KPGWKCJpQwQ"
      },
      "source": [
        "***Elastic Net Regression :***\n",
        "\n",
        "\n"
      ]
    },
    {
      "cell_type": "code",
      "execution_count": 29,
      "id": "qZ0QtaVFo5gG",
      "metadata": {
        "id": "qZ0QtaVFo5gG"
      },
      "outputs": [],
      "source": [
        "ENet = ElasticNet(alpha=0.0005, l1_ratio=.9, random_state=random_state)\n",
        "#make_pipeline(RobustScaler(), ElasticNet(alpha=0.0005, l1_ratio=.9, random_state=3))"
      ]
    },
    {
      "cell_type": "markdown",
      "id": "Rm8qX9sMpVuE",
      "metadata": {
        "id": "Rm8qX9sMpVuE"
      },
      "source": [
        "Kernel Ridge Regression :"
      ]
    },
    {
      "cell_type": "code",
      "execution_count": 30,
      "id": "ef04h9Opo5Wq",
      "metadata": {
        "id": "ef04h9Opo5Wq"
      },
      "outputs": [],
      "source": [
        "KRR = KernelRidge(alpha=0.6, kernel='polynomial', degree=2, coef0=2.5)"
      ]
    },
    {
      "cell_type": "markdown",
      "id": "9ADmL37Wpaax",
      "metadata": {
        "id": "9ADmL37Wpaax"
      },
      "source": [
        "***Gradient Boosting Regression :***\n",
        "\n",
        "\n",
        "With huber loss, our model is more robust to outliers\n"
      ]
    },
    {
      "cell_type": "code",
      "execution_count": 31,
      "id": "x8sNR7bVo5Nj",
      "metadata": {
        "id": "x8sNR7bVo5Nj"
      },
      "outputs": [],
      "source": [
        "GBoost = GradientBoostingRegressor(n_estimators=3000, learning_rate=0.05,\n",
        "                                   max_depth=4, max_features='sqrt',\n",
        "                                   min_samples_leaf=15, min_samples_split=10, \n",
        "                                   loss='huber', random_state =random_state)"
      ]
    },
    {
      "cell_type": "markdown",
      "id": "slWkRkz-pf4M",
      "metadata": {
        "id": "slWkRkz-pf4M"
      },
      "source": [
        "***XGBoost :***"
      ]
    },
    {
      "cell_type": "code",
      "execution_count": 32,
      "id": "ObR7ezMoo49H",
      "metadata": {
        "id": "ObR7ezMoo49H"
      },
      "outputs": [],
      "source": [
        "model_xgb = xgb.XGBRegressor(colsample_bytree=0.4603, gamma=0.0468, \n",
        "                             learning_rate=0.05, max_depth=3, \n",
        "                             min_child_weight=1.7817, n_estimators=2200,\n",
        "                             reg_alpha=0.4640, reg_lambda=0.8571,\n",
        "                             subsample=0.5213, silent=1,\n",
        "                             random_state =random_state, nthread = -1)"
      ]
    },
    {
      "cell_type": "markdown",
      "id": "cCvIgcmSpnT5",
      "metadata": {
        "id": "cCvIgcmSpnT5"
      },
      "source": [
        "**LightGBM - Gradient Boosting With LightGBM**\n",
        "\n",
        "LightGBM is an algorithm developed by Microsoft in 2017. It has an advantage of changing the training algorithm that make the run time faster and likely result in a more effective model.\n",
        "\n",
        "Ref. to the LightGBM algorithm paper:\n",
        "\n",
        "    LightGBM: A Highly Efficient Gradient Boosting Decision Tree, 2017.\n",
        "link : https://papers.nips.cc/paper/2017/hash/6449f44a102fde848669bdd9eb6b76fa-Abstract.html"
      ]
    },
    {
      "cell_type": "code",
      "execution_count": 33,
      "id": "gHh9PxOZpqcp",
      "metadata": {
        "id": "gHh9PxOZpqcp"
      },
      "outputs": [],
      "source": [
        "model_lgb = lgb.LGBMRegressor(objective='regression',num_leaves=5,\n",
        "                              learning_rate=0.05, n_estimators=720,\n",
        "                              max_bin = 55, bagging_fraction = 0.8,\n",
        "                              bagging_freq = 5, feature_fraction = 0.2319,\n",
        "                              feature_fraction_seed=9, bagging_seed=9,\n",
        "                              min_data_in_leaf =6, min_sum_hessian_in_leaf = 11)"
      ]
    },
    {
      "cell_type": "markdown",
      "id": "458748ff",
      "metadata": {},
      "source": [
        "***RandomForestRegressor :***    "
      ]
    },
    {
      "cell_type": "code",
      "execution_count": 34,
      "id": "dc810212",
      "metadata": {},
      "outputs": [],
      "source": [
        "randomForestRegressor = RandomForestRegressor(max_depth=2, random_state=0)"
      ]
    },
    {
      "cell_type": "markdown",
      "id": "Wjrfuu67pwoZ",
      "metadata": {
        "id": "Wjrfuu67pwoZ"
      },
      "source": [
        "\n",
        "#Base models scores\n",
        "\n",
        "Let's see how these base models perform on the data by evaluating the cross-validation metrics\n"
      ]
    },
    {
      "cell_type": "code",
      "execution_count": 35,
      "id": "fq0-O8PMC3oC",
      "metadata": {
        "id": "fq0-O8PMC3oC"
      },
      "outputs": [],
      "source": [
        "description_ML = \"Hello world!\"#add why you do this experiment\n",
        "models = [regressor0,\n",
        "          ENet,\n",
        "          KRR,\n",
        "         # GBoost, #there is an error. need to fix later. \n",
        "          model_xgb,\n",
        "          model_lgb,\n",
        "          randomForestRegressor\n",
        "          ]\n",
        "\n",
        "model_names = [\"\\nLinear regressor model\\n\",\n",
        "               \"\\nLasso model\\n\",\n",
        "               \"\\nElastic Net regressor model\\n\",\n",
        "               \"\\nKernel Ridge model\\n\",\n",
        "               #\"\\nGradient Boosting model\\n\",\n",
        "               \"\\nXGBoost model\\n\",\n",
        "               \"\\nLGBM model\\n\",\n",
        "               \"\\nRand Forest Regressor\"\n",
        "               ]\n"
      ]
    },
    {
      "cell_type": "code",
      "execution_count": 36,
      "id": "qs35JsyHD8n6",
      "metadata": {
        "id": "qs35JsyHD8n6"
      },
      "outputs": [
        {
          "name": "stdout",
          "output_type": "stream",
          "text": [
            "\n",
            "Linear regressor model\n",
            "\n",
            "\n",
            "Root mean squared error - mean : 0.5990  |  std : 0.2882\n",
            "\n",
            "\n",
            "RMSLE -logarithmic error - mean : 0.1508  |  std : 0.1097\n",
            "\n",
            "\n",
            "Mean absolute percentage error - mean : 0.82  |  std : 1.26\n",
            "\n",
            "\n",
            "Explained variance score - mean : 0.2957  |  std : 0.0932\n",
            "\n",
            "----------------END--------------------\n",
            "\n",
            "Lasso model\n",
            "\n",
            "\n",
            "Root mean squared error - mean : 0.5879  |  std : 0.2952\n",
            "\n",
            "\n",
            "RMSLE -logarithmic error - mean : 0.1495  |  std : 0.1108\n",
            "\n",
            "\n",
            "Mean absolute percentage error - mean : 0.83  |  std : 1.26\n",
            "\n",
            "\n",
            "Explained variance score - mean : 0.3300  |  std : 0.0956\n",
            "\n",
            "----------------END--------------------\n",
            "\n",
            "Elastic Net regressor model\n",
            "\n",
            "\n",
            "Root mean squared error - mean : 0.6104  |  std : 0.2903\n",
            "\n",
            "\n",
            "RMSLE -logarithmic error - mean : nan  |  std : nan\n",
            "\n",
            "\n",
            "Mean absolute percentage error - mean : 0.85  |  std : 1.31\n",
            "\n",
            "\n",
            "Explained variance score - mean : 0.2384  |  std : 0.0724\n",
            "\n",
            "----------------END--------------------\n",
            "\n",
            "Kernel Ridge model\n",
            "\n",
            "[11:03:10] WARNING: ../src/learner.cc:627: \n",
            "Parameters: { \"silent\" } might not be used.\n",
            "\n",
            "  This could be a false alarm, with some parameters getting used by language bindings but\n",
            "  then being mistakenly passed down to XGBoost core, or some parameter actually being used\n",
            "  but getting flagged wrongly here. Please open an issue if you find any such cases.\n",
            "\n",
            "\n",
            "[11:03:25] WARNING: ../src/learner.cc:627: \n",
            "Parameters: { \"silent\" } might not be used.\n",
            "\n",
            "  This could be a false alarm, with some parameters getting used by language bindings but\n",
            "  then being mistakenly passed down to XGBoost core, or some parameter actually being used\n",
            "  but getting flagged wrongly here. Please open an issue if you find any such cases.\n",
            "\n",
            "\n",
            "[11:03:39] WARNING: ../src/learner.cc:627: \n",
            "Parameters: { \"silent\" } might not be used.\n",
            "\n",
            "  This could be a false alarm, with some parameters getting used by language bindings but\n",
            "  then being mistakenly passed down to XGBoost core, or some parameter actually being used\n",
            "  but getting flagged wrongly here. Please open an issue if you find any such cases.\n",
            "\n",
            "\n",
            "[11:03:52] WARNING: ../src/learner.cc:627: \n",
            "Parameters: { \"silent\" } might not be used.\n",
            "\n",
            "  This could be a false alarm, with some parameters getting used by language bindings but\n",
            "  then being mistakenly passed down to XGBoost core, or some parameter actually being used\n",
            "  but getting flagged wrongly here. Please open an issue if you find any such cases.\n",
            "\n",
            "\n",
            "\n",
            "Root mean squared error - mean : 0.5601  |  std : 0.2897\n",
            "\n",
            "[11:04:04] WARNING: ../src/learner.cc:627: \n",
            "Parameters: { \"silent\" } might not be used.\n",
            "\n",
            "  This could be a false alarm, with some parameters getting used by language bindings but\n",
            "  then being mistakenly passed down to XGBoost core, or some parameter actually being used\n",
            "  but getting flagged wrongly here. Please open an issue if you find any such cases.\n",
            "\n",
            "\n",
            "[11:04:14] WARNING: ../src/learner.cc:627: \n",
            "Parameters: { \"silent\" } might not be used.\n",
            "\n",
            "  This could be a false alarm, with some parameters getting used by language bindings but\n",
            "  then being mistakenly passed down to XGBoost core, or some parameter actually being used\n",
            "  but getting flagged wrongly here. Please open an issue if you find any such cases.\n",
            "\n",
            "\n",
            "[11:04:26] WARNING: ../src/learner.cc:627: \n",
            "Parameters: { \"silent\" } might not be used.\n",
            "\n",
            "  This could be a false alarm, with some parameters getting used by language bindings but\n",
            "  then being mistakenly passed down to XGBoost core, or some parameter actually being used\n",
            "  but getting flagged wrongly here. Please open an issue if you find any such cases.\n",
            "\n",
            "\n",
            "[11:04:38] WARNING: ../src/learner.cc:627: \n",
            "Parameters: { \"silent\" } might not be used.\n",
            "\n",
            "  This could be a false alarm, with some parameters getting used by language bindings but\n",
            "  then being mistakenly passed down to XGBoost core, or some parameter actually being used\n",
            "  but getting flagged wrongly here. Please open an issue if you find any such cases.\n",
            "\n",
            "\n",
            "\n",
            "RMSLE -logarithmic error - mean : 0.1446  |  std : 0.1106\n",
            "\n",
            "[11:04:51] WARNING: ../src/learner.cc:627: \n",
            "Parameters: { \"silent\" } might not be used.\n",
            "\n",
            "  This could be a false alarm, with some parameters getting used by language bindings but\n",
            "  then being mistakenly passed down to XGBoost core, or some parameter actually being used\n",
            "  but getting flagged wrongly here. Please open an issue if you find any such cases.\n",
            "\n",
            "\n",
            "[11:05:03] WARNING: ../src/learner.cc:627: \n",
            "Parameters: { \"silent\" } might not be used.\n",
            "\n",
            "  This could be a false alarm, with some parameters getting used by language bindings but\n",
            "  then being mistakenly passed down to XGBoost core, or some parameter actually being used\n",
            "  but getting flagged wrongly here. Please open an issue if you find any such cases.\n",
            "\n",
            "\n",
            "[11:05:13] WARNING: ../src/learner.cc:627: \n",
            "Parameters: { \"silent\" } might not be used.\n",
            "\n",
            "  This could be a false alarm, with some parameters getting used by language bindings but\n",
            "  then being mistakenly passed down to XGBoost core, or some parameter actually being used\n",
            "  but getting flagged wrongly here. Please open an issue if you find any such cases.\n",
            "\n",
            "\n",
            "[11:05:27] WARNING: ../src/learner.cc:627: \n",
            "Parameters: { \"silent\" } might not be used.\n",
            "\n",
            "  This could be a false alarm, with some parameters getting used by language bindings but\n",
            "  then being mistakenly passed down to XGBoost core, or some parameter actually being used\n",
            "  but getting flagged wrongly here. Please open an issue if you find any such cases.\n",
            "\n",
            "\n",
            "\n",
            "Mean absolute percentage error - mean : 0.81  |  std : 1.27\n",
            "\n",
            "[11:05:41] WARNING: ../src/learner.cc:627: \n",
            "Parameters: { \"silent\" } might not be used.\n",
            "\n",
            "  This could be a false alarm, with some parameters getting used by language bindings but\n",
            "  then being mistakenly passed down to XGBoost core, or some parameter actually being used\n",
            "  but getting flagged wrongly here. Please open an issue if you find any such cases.\n",
            "\n",
            "\n",
            "[11:05:51] WARNING: ../src/learner.cc:627: \n",
            "Parameters: { \"silent\" } might not be used.\n",
            "\n",
            "  This could be a false alarm, with some parameters getting used by language bindings but\n",
            "  then being mistakenly passed down to XGBoost core, or some parameter actually being used\n",
            "  but getting flagged wrongly here. Please open an issue if you find any such cases.\n",
            "\n",
            "\n",
            "[11:06:03] WARNING: ../src/learner.cc:627: \n",
            "Parameters: { \"silent\" } might not be used.\n",
            "\n",
            "  This could be a false alarm, with some parameters getting used by language bindings but\n",
            "  then being mistakenly passed down to XGBoost core, or some parameter actually being used\n",
            "  but getting flagged wrongly here. Please open an issue if you find any such cases.\n",
            "\n",
            "\n",
            "[11:06:15] WARNING: ../src/learner.cc:627: \n",
            "Parameters: { \"silent\" } might not be used.\n",
            "\n",
            "  This could be a false alarm, with some parameters getting used by language bindings but\n",
            "  then being mistakenly passed down to XGBoost core, or some parameter actually being used\n",
            "  but getting flagged wrongly here. Please open an issue if you find any such cases.\n",
            "\n",
            "\n",
            "\n",
            "Explained variance score - mean : 0.3503  |  std : 0.1158\n",
            "\n",
            "----------------END--------------------\n",
            "\n",
            "XGBoost model\n",
            "\n",
            "[LightGBM] [Warning] feature_fraction is set=0.2319, colsample_bytree=1.0 will be ignored. Current value: feature_fraction=0.2319\n",
            "[LightGBM] [Warning] min_sum_hessian_in_leaf is set=11, min_child_weight=0.001 will be ignored. Current value: min_sum_hessian_in_leaf=11\n",
            "[LightGBM] [Warning] min_data_in_leaf is set=6, min_child_samples=20 will be ignored. Current value: min_data_in_leaf=6\n",
            "[LightGBM] [Warning] bagging_freq is set=5, subsample_freq=0 will be ignored. Current value: bagging_freq=5\n",
            "[LightGBM] [Warning] bagging_fraction is set=0.8, subsample=1.0 will be ignored. Current value: bagging_fraction=0.8\n",
            "[LightGBM] [Warning] feature_fraction is set=0.2319, colsample_bytree=1.0 will be ignored. Current value: feature_fraction=0.2319\n",
            "[LightGBM] [Warning] min_sum_hessian_in_leaf is set=11, min_child_weight=0.001 will be ignored. Current value: min_sum_hessian_in_leaf=11\n",
            "[LightGBM] [Warning] min_data_in_leaf is set=6, min_child_samples=20 will be ignored. Current value: min_data_in_leaf=6\n",
            "[LightGBM] [Warning] bagging_freq is set=5, subsample_freq=0 will be ignored. Current value: bagging_freq=5\n",
            "[LightGBM] [Warning] bagging_fraction is set=0.8, subsample=1.0 will be ignored. Current value: bagging_fraction=0.8\n",
            "[LightGBM] [Warning] feature_fraction is set=0.2319, colsample_bytree=1.0 will be ignored. Current value: feature_fraction=0.2319\n",
            "[LightGBM] [Warning] min_sum_hessian_in_leaf is set=11, min_child_weight=0.001 will be ignored. Current value: min_sum_hessian_in_leaf=11\n",
            "[LightGBM] [Warning] min_data_in_leaf is set=6, min_child_samples=20 will be ignored. Current value: min_data_in_leaf=6\n",
            "[LightGBM] [Warning] bagging_freq is set=5, subsample_freq=0 will be ignored. Current value: bagging_freq=5\n",
            "[LightGBM] [Warning] bagging_fraction is set=0.8, subsample=1.0 will be ignored. Current value: bagging_fraction=0.8\n",
            "[LightGBM] [Warning] feature_fraction is set=0.2319, colsample_bytree=1.0 will be ignored. Current value: feature_fraction=0.2319\n",
            "[LightGBM] [Warning] min_sum_hessian_in_leaf is set=11, min_child_weight=0.001 will be ignored. Current value: min_sum_hessian_in_leaf=11\n",
            "[LightGBM] [Warning] min_data_in_leaf is set=6, min_child_samples=20 will be ignored. Current value: min_data_in_leaf=6\n",
            "[LightGBM] [Warning] bagging_freq is set=5, subsample_freq=0 will be ignored. Current value: bagging_freq=5\n",
            "[LightGBM] [Warning] bagging_fraction is set=0.8, subsample=1.0 will be ignored. Current value: bagging_fraction=0.8\n",
            "\n",
            "Root mean squared error - mean : 0.5518  |  std : 0.3130\n",
            "\n",
            "[LightGBM] [Warning] feature_fraction is set=0.2319, colsample_bytree=1.0 will be ignored. Current value: feature_fraction=0.2319\n",
            "[LightGBM] [Warning] min_sum_hessian_in_leaf is set=11, min_child_weight=0.001 will be ignored. Current value: min_sum_hessian_in_leaf=11\n",
            "[LightGBM] [Warning] min_data_in_leaf is set=6, min_child_samples=20 will be ignored. Current value: min_data_in_leaf=6\n",
            "[LightGBM] [Warning] bagging_freq is set=5, subsample_freq=0 will be ignored. Current value: bagging_freq=5\n",
            "[LightGBM] [Warning] bagging_fraction is set=0.8, subsample=1.0 will be ignored. Current value: bagging_fraction=0.8\n",
            "[LightGBM] [Warning] feature_fraction is set=0.2319, colsample_bytree=1.0 will be ignored. Current value: feature_fraction=0.2319\n",
            "[LightGBM] [Warning] min_sum_hessian_in_leaf is set=11, min_child_weight=0.001 will be ignored. Current value: min_sum_hessian_in_leaf=11\n",
            "[LightGBM] [Warning] min_data_in_leaf is set=6, min_child_samples=20 will be ignored. Current value: min_data_in_leaf=6\n",
            "[LightGBM] [Warning] bagging_freq is set=5, subsample_freq=0 will be ignored. Current value: bagging_freq=5\n",
            "[LightGBM] [Warning] bagging_fraction is set=0.8, subsample=1.0 will be ignored. Current value: bagging_fraction=0.8\n",
            "[LightGBM] [Warning] feature_fraction is set=0.2319, colsample_bytree=1.0 will be ignored. Current value: feature_fraction=0.2319\n",
            "[LightGBM] [Warning] min_sum_hessian_in_leaf is set=11, min_child_weight=0.001 will be ignored. Current value: min_sum_hessian_in_leaf=11\n",
            "[LightGBM] [Warning] min_data_in_leaf is set=6, min_child_samples=20 will be ignored. Current value: min_data_in_leaf=6\n",
            "[LightGBM] [Warning] bagging_freq is set=5, subsample_freq=0 will be ignored. Current value: bagging_freq=5\n",
            "[LightGBM] [Warning] bagging_fraction is set=0.8, subsample=1.0 will be ignored. Current value: bagging_fraction=0.8\n",
            "[LightGBM] [Warning] feature_fraction is set=0.2319, colsample_bytree=1.0 will be ignored. Current value: feature_fraction=0.2319\n",
            "[LightGBM] [Warning] min_sum_hessian_in_leaf is set=11, min_child_weight=0.001 will be ignored. Current value: min_sum_hessian_in_leaf=11\n",
            "[LightGBM] [Warning] min_data_in_leaf is set=6, min_child_samples=20 will be ignored. Current value: min_data_in_leaf=6\n",
            "[LightGBM] [Warning] bagging_freq is set=5, subsample_freq=0 will be ignored. Current value: bagging_freq=5\n",
            "[LightGBM] [Warning] bagging_fraction is set=0.8, subsample=1.0 will be ignored. Current value: bagging_fraction=0.8\n",
            "\n",
            "RMSLE -logarithmic error - mean : 0.1458  |  std : 0.1139\n",
            "\n",
            "[LightGBM] [Warning] feature_fraction is set=0.2319, colsample_bytree=1.0 will be ignored. Current value: feature_fraction=0.2319\n",
            "[LightGBM] [Warning] min_sum_hessian_in_leaf is set=11, min_child_weight=0.001 will be ignored. Current value: min_sum_hessian_in_leaf=11\n",
            "[LightGBM] [Warning] min_data_in_leaf is set=6, min_child_samples=20 will be ignored. Current value: min_data_in_leaf=6\n",
            "[LightGBM] [Warning] bagging_freq is set=5, subsample_freq=0 will be ignored. Current value: bagging_freq=5\n",
            "[LightGBM] [Warning] bagging_fraction is set=0.8, subsample=1.0 will be ignored. Current value: bagging_fraction=0.8\n",
            "[LightGBM] [Warning] feature_fraction is set=0.2319, colsample_bytree=1.0 will be ignored. Current value: feature_fraction=0.2319\n",
            "[LightGBM] [Warning] min_sum_hessian_in_leaf is set=11, min_child_weight=0.001 will be ignored. Current value: min_sum_hessian_in_leaf=11\n",
            "[LightGBM] [Warning] min_data_in_leaf is set=6, min_child_samples=20 will be ignored. Current value: min_data_in_leaf=6\n",
            "[LightGBM] [Warning] bagging_freq is set=5, subsample_freq=0 will be ignored. Current value: bagging_freq=5\n",
            "[LightGBM] [Warning] bagging_fraction is set=0.8, subsample=1.0 will be ignored. Current value: bagging_fraction=0.8\n",
            "[LightGBM] [Warning] feature_fraction is set=0.2319, colsample_bytree=1.0 will be ignored. Current value: feature_fraction=0.2319\n",
            "[LightGBM] [Warning] min_sum_hessian_in_leaf is set=11, min_child_weight=0.001 will be ignored. Current value: min_sum_hessian_in_leaf=11\n",
            "[LightGBM] [Warning] min_data_in_leaf is set=6, min_child_samples=20 will be ignored. Current value: min_data_in_leaf=6\n",
            "[LightGBM] [Warning] bagging_freq is set=5, subsample_freq=0 will be ignored. Current value: bagging_freq=5\n",
            "[LightGBM] [Warning] bagging_fraction is set=0.8, subsample=1.0 will be ignored. Current value: bagging_fraction=0.8\n",
            "[LightGBM] [Warning] feature_fraction is set=0.2319, colsample_bytree=1.0 will be ignored. Current value: feature_fraction=0.2319\n",
            "[LightGBM] [Warning] min_sum_hessian_in_leaf is set=11, min_child_weight=0.001 will be ignored. Current value: min_sum_hessian_in_leaf=11\n",
            "[LightGBM] [Warning] min_data_in_leaf is set=6, min_child_samples=20 will be ignored. Current value: min_data_in_leaf=6\n",
            "[LightGBM] [Warning] bagging_freq is set=5, subsample_freq=0 will be ignored. Current value: bagging_freq=5\n",
            "[LightGBM] [Warning] bagging_fraction is set=0.8, subsample=1.0 will be ignored. Current value: bagging_fraction=0.8\n",
            "\n",
            "Mean absolute percentage error - mean : 0.83  |  std : 1.29\n",
            "\n",
            "[LightGBM] [Warning] feature_fraction is set=0.2319, colsample_bytree=1.0 will be ignored. Current value: feature_fraction=0.2319\n",
            "[LightGBM] [Warning] min_sum_hessian_in_leaf is set=11, min_child_weight=0.001 will be ignored. Current value: min_sum_hessian_in_leaf=11\n",
            "[LightGBM] [Warning] min_data_in_leaf is set=6, min_child_samples=20 will be ignored. Current value: min_data_in_leaf=6\n",
            "[LightGBM] [Warning] bagging_freq is set=5, subsample_freq=0 will be ignored. Current value: bagging_freq=5\n",
            "[LightGBM] [Warning] bagging_fraction is set=0.8, subsample=1.0 will be ignored. Current value: bagging_fraction=0.8\n",
            "[LightGBM] [Warning] feature_fraction is set=0.2319, colsample_bytree=1.0 will be ignored. Current value: feature_fraction=0.2319\n",
            "[LightGBM] [Warning] min_sum_hessian_in_leaf is set=11, min_child_weight=0.001 will be ignored. Current value: min_sum_hessian_in_leaf=11\n",
            "[LightGBM] [Warning] min_data_in_leaf is set=6, min_child_samples=20 will be ignored. Current value: min_data_in_leaf=6\n",
            "[LightGBM] [Warning] bagging_freq is set=5, subsample_freq=0 will be ignored. Current value: bagging_freq=5\n",
            "[LightGBM] [Warning] bagging_fraction is set=0.8, subsample=1.0 will be ignored. Current value: bagging_fraction=0.8\n",
            "[LightGBM] [Warning] feature_fraction is set=0.2319, colsample_bytree=1.0 will be ignored. Current value: feature_fraction=0.2319\n",
            "[LightGBM] [Warning] min_sum_hessian_in_leaf is set=11, min_child_weight=0.001 will be ignored. Current value: min_sum_hessian_in_leaf=11\n",
            "[LightGBM] [Warning] min_data_in_leaf is set=6, min_child_samples=20 will be ignored. Current value: min_data_in_leaf=6\n",
            "[LightGBM] [Warning] bagging_freq is set=5, subsample_freq=0 will be ignored. Current value: bagging_freq=5\n",
            "[LightGBM] [Warning] bagging_fraction is set=0.8, subsample=1.0 will be ignored. Current value: bagging_fraction=0.8\n",
            "[LightGBM] [Warning] feature_fraction is set=0.2319, colsample_bytree=1.0 will be ignored. Current value: feature_fraction=0.2319\n",
            "[LightGBM] [Warning] min_sum_hessian_in_leaf is set=11, min_child_weight=0.001 will be ignored. Current value: min_sum_hessian_in_leaf=11\n",
            "[LightGBM] [Warning] min_data_in_leaf is set=6, min_child_samples=20 will be ignored. Current value: min_data_in_leaf=6\n",
            "[LightGBM] [Warning] bagging_freq is set=5, subsample_freq=0 will be ignored. Current value: bagging_freq=5\n",
            "[LightGBM] [Warning] bagging_fraction is set=0.8, subsample=1.0 will be ignored. Current value: bagging_fraction=0.8\n",
            "\n",
            "Explained variance score - mean : 0.4036  |  std : 0.1288\n",
            "\n",
            "----------------END--------------------\n",
            "\n",
            "LGBM model\n",
            "\n",
            "\n",
            "Root mean squared error - mean : 0.5738  |  std : 0.2982\n",
            "\n",
            "\n",
            "RMSLE -logarithmic error - mean : 0.1479  |  std : 0.1106\n",
            "\n",
            "\n",
            "Mean absolute percentage error - mean : 0.81  |  std : 1.25\n",
            "\n",
            "\n",
            "Explained variance score - mean : 0.3475  |  std : 0.0758\n",
            "\n",
            "----------------END--------------------\n"
          ]
        },
        {
          "ename": "NameError",
          "evalue": "name 'score_1' is not defined",
          "output_type": "error",
          "traceback": [
            "\u001b[0;31m---------------------------------------------------------------------------\u001b[0m",
            "\u001b[0;31mNameError\u001b[0m                                 Traceback (most recent call last)",
            "\u001b[1;32m/home/shinaki/workspace/GitHub/Civil-Work-Bidding-And-Investment-Helper/NoteBooks/SF_regression_models.ipynb Cell 53\u001b[0m in \u001b[0;36m<cell line: 20>\u001b[0;34m()\u001b[0m\n\u001b[1;32m     <a href='vscode-notebook-cell:/home/shinaki/workspace/GitHub/Civil-Work-Bidding-And-Investment-Helper/NoteBooks/SF_regression_models.ipynb#Y102sZmlsZQ%3D%3D?line=17'>18</a>\u001b[0m   \u001b[39mprint\u001b[39m(\u001b[39m\"\u001b[39m\u001b[39m----------------END--------------------\u001b[39m\u001b[39m\"\u001b[39m)\n\u001b[1;32m     <a href='vscode-notebook-cell:/home/shinaki/workspace/GitHub/Civil-Work-Bidding-And-Investment-Helper/NoteBooks/SF_regression_models.ipynb#Y102sZmlsZQ%3D%3D?line=18'>19</a>\u001b[0m   count \u001b[39m=\u001b[39m count \u001b[39m+\u001b[39m \u001b[39m1\u001b[39m\n\u001b[0;32m---> <a href='vscode-notebook-cell:/home/shinaki/workspace/GitHub/Civil-Work-Bidding-And-Investment-Helper/NoteBooks/SF_regression_models.ipynb#Y102sZmlsZQ%3D%3D?line=19'>20</a>\u001b[0m execfile(\u001b[39m'\u001b[39;49m\u001b[39m../src/score_ML.py\u001b[39;49m\u001b[39m'\u001b[39;49m)\n",
            "File \u001b[0;32m~/workspace/GitHub/Civil-Work-Bidding-And-Investment-Helper/venv/lib/python3.8/site-packages/debugpy/_vendored/pydevd/_pydev_bundle/_pydev_execfile.py:25\u001b[0m, in \u001b[0;36mexecfile\u001b[0;34m(file, glob, loc)\u001b[0m\n\u001b[1;32m     22\u001b[0m     stream\u001b[39m.\u001b[39mclose()\n\u001b[1;32m     24\u001b[0m \u001b[39m# execute the script (note: it's important to compile first to have the filename set in debug mode)\u001b[39;00m\n\u001b[0;32m---> 25\u001b[0m exec(\u001b[39mcompile\u001b[39;49m(contents \u001b[39m+\u001b[39;49m \u001b[39m\"\u001b[39;49m\u001b[39m\\n\u001b[39;49;00m\u001b[39m\"\u001b[39;49m, file, \u001b[39m'\u001b[39;49m\u001b[39mexec\u001b[39;49m\u001b[39m'\u001b[39;49m), glob, loc)\n",
            "File \u001b[0;32m~/workspace/GitHub/Civil-Work-Bidding-And-Investment-Helper/src/score_ML.py:20\u001b[0m, in \u001b[0;36m<module>\u001b[0;34m\u001b[0m\n\u001b[1;32m      2\u001b[0m \u001b[39mimport\u001b[39;00m \u001b[39mpandas\u001b[39;00m \u001b[39mas\u001b[39;00m \u001b[39mpd\u001b[39;00m\n\u001b[1;32m      4\u001b[0m df0 \u001b[39m=\u001b[39m pd\u001b[39m.\u001b[39mread_csv(\u001b[39m\"\u001b[39m\u001b[39m../Tracking/exp_logs.csv\u001b[39m\u001b[39m\"\u001b[39m) \n\u001b[1;32m      5\u001b[0m df1 \u001b[39m=\u001b[39m pd\u001b[39m.\u001b[39mDataFrame(\n\u001b[1;32m      6\u001b[0m     {\n\u001b[1;32m      7\u001b[0m     \u001b[39m'\u001b[39m\u001b[39mdate\u001b[39m\u001b[39m'\u001b[39m:[time\u001b[39m.\u001b[39mctime()],\n\u001b[1;32m      8\u001b[0m     \u001b[39m'\u001b[39m\u001b[39mexperiment\u001b[39m\u001b[39m'\u001b[39m: [description_ML], \u001b[39m# put the name of you experiment -> it must be explicit !\u001b[39;00m\n\u001b[1;32m      9\u001b[0m     \u001b[39m'\u001b[39m\u001b[39mmodel\u001b[39m\u001b[39m'\u001b[39m:model,\n\u001b[1;32m     10\u001b[0m     \u001b[39m'\u001b[39m\u001b[39mrmse_cv_mean\u001b[39m\u001b[39m'\u001b[39m:[score_2\u001b[39m.\u001b[39mmean()\u001b[39m.\u001b[39mround(\u001b[39m3\u001b[39m)],\n\u001b[1;32m     11\u001b[0m     \u001b[39m'\u001b[39m\u001b[39mrmse_cv_std\u001b[39m\u001b[39m'\u001b[39m:[score_2\u001b[39m.\u001b[39mstd()\u001b[39m.\u001b[39mround(\u001b[39m3\u001b[39m)],\n\u001b[1;32m     12\u001b[0m     \u001b[39m'\u001b[39m\u001b[39mdataset_version\u001b[39m\u001b[39m'\u001b[39m:[fname1], \u001b[39m# correct format examples : permit_building_v1, permit_building_v23 ... ect\u001b[39;00m\n\u001b[1;32m     13\u001b[0m     \u001b[39m'\u001b[39m\u001b[39mdataset_shape\u001b[39m\u001b[39m'\u001b[39m:[dataset\u001b[39m.\u001b[39mshape],\n\u001b[1;32m     14\u001b[0m     \u001b[39m'\u001b[39m\u001b[39mtarget_variable\u001b[39m\u001b[39m'\u001b[39m:[target_variable],\n\u001b[1;32m     15\u001b[0m     \u001b[39m'\u001b[39m\u001b[39mfeatures_cat\u001b[39m\u001b[39m'\u001b[39m:[categorical_features],\n\u001b[1;32m     16\u001b[0m     \u001b[39m'\u001b[39m\u001b[39mfeatures_num\u001b[39m\u001b[39m'\u001b[39m:[numeric_features],\n\u001b[1;32m     17\u001b[0m     \u001b[39m'\u001b[39m\u001b[39mrandom_state\u001b[39m\u001b[39m'\u001b[39m:[random_state],\n\u001b[1;32m     18\u001b[0m     \u001b[39m'\u001b[39m\u001b[39mn_folds\u001b[39m\u001b[39m'\u001b[39m:[n_folds],\n\u001b[1;32m     19\u001b[0m     \u001b[39m'\u001b[39m\u001b[39mrmse_cv\u001b[39m\u001b[39m'\u001b[39m:[score_2],\n\u001b[0;32m---> 20\u001b[0m     \u001b[39m'\u001b[39m\u001b[39mr2_score_cv\u001b[39m\u001b[39m'\u001b[39m:[score_1],\n\u001b[1;32m     21\u001b[0m     \u001b[39m'\u001b[39m\u001b[39mrmsle_cv\u001b[39m\u001b[39m'\u001b[39m:[score_3],\n\u001b[1;32m     22\u001b[0m     \u001b[39m'\u001b[39m\u001b[39mmape_cv\u001b[39m\u001b[39m'\u001b[39m:[score_4],\n\u001b[1;32m     23\u001b[0m     \u001b[39m'\u001b[39m\u001b[39mevs_cv\u001b[39m\u001b[39m'\u001b[39m:[score_5]\n\u001b[1;32m     24\u001b[0m     }\n\u001b[1;32m     25\u001b[0m )\n\u001b[1;32m     27\u001b[0m df \u001b[39m=\u001b[39m pd\u001b[39m.\u001b[39mconcat([df0,df1])\n\u001b[1;32m     29\u001b[0m df\u001b[39m.\u001b[39mto_csv(\u001b[39m\"\u001b[39m\u001b[39m../Tracking/exp_logs.csv\u001b[39m\u001b[39m\"\u001b[39m,index\u001b[39m=\u001b[39m\u001b[39mFalse\u001b[39;00m)\n",
            "\u001b[0;31mNameError\u001b[0m: name 'score_1' is not defined"
          ]
        }
      ],
      "source": [
        "count = 0\n",
        "for model in models :\n",
        "  print(model_names[count])\n",
        "  score_1 = R2_cv(model)\n",
        "  print(\"R2 score - mean : {:.4f}  |  std : {:.4f}\\n\".format(score_1.mean(), score_1.std()))\n",
        "\n",
        "  score_2 = rmse_cv(model)\n",
        "  print(\"\\nRoot mean squared error - mean : {:.4f}  |  std : {:.4f}\\n\".format(score_2.mean(), score_2.std()))\n",
        "\n",
        "  score_3 = rmsle_cv(model)\n",
        "  print(\"\\nRMSLE -logarithmic error - mean : {:.4f}  |  std : {:.4f}\\n\".format(score_3.mean(), score_3.std()))\n",
        "\n",
        "  score_4 = mape_cv(model)\n",
        "  print(\"\\nMean absolute percentage error - mean : {:.2f}  |  std : {:.2f}\\n\".format(score_4.mean(), score_4.std()))\n",
        "\n",
        "  score_5 = evs_cv(model)\n",
        "  print(\"\\nExplained variance score - mean : {:.4f}  |  std : {:.4f}\\n\".format(score_5.mean(), score_5.std()))\n",
        "  print(\"----------------END--------------------\")\n",
        "  count = count + 1\n",
        "execfile('../src/score_ML.py')\n"
      ]
    },
    {
      "cell_type": "markdown",
      "id": "RtJafmhJ9EVt",
      "metadata": {
        "id": "RtJafmhJ9EVt"
      },
      "source": [
        "Stopped here 11/08/22\n",
        "\n",
        "***Add your observations and conclusions here***\n",
        "\n"
      ]
    },
    {
      "cell_type": "markdown",
      "id": "1CQBoKOA2SSY",
      "metadata": {
        "id": "1CQBoKOA2SSY"
      },
      "source": [
        "*** SUMMARY ***\n",
        "\n",
        "Metric 1 :\n",
        "\n",
        "Metric 2 :\n",
        "\n",
        "\n"
      ]
    },
    {
      "cell_type": "markdown",
      "id": "mSJg5_IvVWVe",
      "metadata": {
        "id": "mSJg5_IvVWVe"
      },
      "source": [
        "*** Conclusion : ***\n",
        "\n",
        "\n",
        "\n",
        "Comment on your results\n",
        "\n",
        "Which metric to use ?\n"
      ]
    }
  ],
  "metadata": {
    "colab": {
      "collapsed_sections": [
        "uZONddRV-q5E",
        "BrpFaO9f99LU",
        "_PRRA92Enp_E"
      ],
      "name": "SF_regression_models_log.ipynb",
      "provenance": []
    },
    "kernelspec": {
      "display_name": "Python 3.10.0 64-bit",
      "language": "python",
      "name": "python3"
    },
    "language_info": {
      "codemirror_mode": {
        "name": "ipython",
        "version": 3
      },
      "file_extension": ".py",
      "mimetype": "text/x-python",
      "name": "python",
      "nbconvert_exporter": "python",
      "pygments_lexer": "ipython3",
      "version": "3.10.0"
    },
    "vscode": {
      "interpreter": {
        "hash": "6b23b447ae8d7dd20d4fc812b5289c3091e759321a9b689f6e1bbc2b9587a95b"
      }
    }
  },
  "nbformat": 4,
  "nbformat_minor": 5
}
