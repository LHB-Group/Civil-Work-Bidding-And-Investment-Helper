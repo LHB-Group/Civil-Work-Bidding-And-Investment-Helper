{
  "cells": [
    {
      "cell_type": "markdown",
      "metadata": {
        "id": "276e7c4c-d1f6-467c-9863-80e8d552ef8a"
      },
      "source": [
        "***PART 1 - LOADING LIBRARIES AND DATABASE***"
      ],
      "id": "276e7c4c-d1f6-467c-9863-80e8d552ef8a"
    },
    {
      "cell_type": "code",
      "execution_count": 1,
      "metadata": {
        "id": "462851cc-45f5-4f5f-860a-7c154c262dd3"
      },
      "outputs": [],
      "source": [
        "import pandas as pd\n",
        "import numpy as np\n",
        "import matplotlib.pyplot as plt\n",
        "\n",
        "import plotly.express as px\n",
        "import plotly.graph_objects as go\n",
        "from plotly.subplots import make_subplots\n",
        "import plotly.io as pio\n",
        "\n",
        "import warnings\n",
        "warnings.filterwarnings('ignore')\n",
        "\n"
      ],
      "id": "462851cc-45f5-4f5f-860a-7c154c262dd3"
    },
    {
      "cell_type": "code",
      "execution_count": 2,
      "metadata": {
        "id": "8EaKjOn5qmEV"
      },
      "outputs": [],
      "source": [
        "pd.options.display.max_columns = None #The dataset is huge. To see all of the columns, we change max columns\n",
        "pd.options.display.max_seq_items=1000\n",
        "pd.options.display.max_rows=1000"
      ],
      "id": "8EaKjOn5qmEV"
    },
    {
      "cell_type": "code",
      "execution_count": 3,
      "metadata": {
        "id": "da151b56-2ac1-43d1-beb0-2084703103f5"
      },
      "outputs": [],
      "source": [
        "db_v2='https://drive.google.com/file/d/1XoqPujIOGHQStuAqM6Gzyqbkha4c5Y96/view?usp=sharing'\n",
        "db_v4 = 'https://drive.google.com/file/d/19ERs5bmAdxEfgUmTxgfIBhUoT6xPHzZy/view?usp=sharing'\n",
        "fname1 = db_v4\n",
        "fname1='https://drive.google.com/uc?id=' + fname1.split('/')[-2]\n",
        "dataset = pd.read_csv(fname1, low_memory=False)"
      ],
      "id": "da151b56-2ac1-43d1-beb0-2084703103f5"
    },
    {
      "cell_type": "code",
      "execution_count": 4,
      "metadata": {
        "id": "547bd10f-54d8-4960-8bd8-17f075986afb",
        "colab": {
          "base_uri": "https://localhost:8080/"
        },
        "outputId": "8260fe0f-5ad3-4d7e-c4b6-c4759affc8e1"
      },
      "outputs": [
        {
          "output_type": "execute_result",
          "data": {
            "text/plain": [
              "(9201, 40)"
            ]
          },
          "metadata": {},
          "execution_count": 4
        }
      ],
      "source": [
        "dataset.shape"
      ],
      "id": "547bd10f-54d8-4960-8bd8-17f075986afb"
    },
    {
      "cell_type": "code",
      "execution_count": 5,
      "metadata": {
        "id": "c857dce1-a36e-4ca5-b76d-3bb5a026c453",
        "colab": {
          "base_uri": "https://localhost:8080/"
        },
        "outputId": "c0589fbe-a08b-4c7e-a3c4-71acdfcffad6"
      },
      "outputs": [
        {
          "output_type": "execute_result",
          "data": {
            "text/plain": [
              "Index(['Permit Number', 'Permit Type', 'Permit Type Definition',\n",
              "       'Permit Creation Date', 'Block', 'Lot', 'Street Number', 'Street Name',\n",
              "       'Street Suffix', 'Description', 'Current Status', 'Current Status Date',\n",
              "       'Filed Date', 'Issued Date', 'Completed Date',\n",
              "       'First Construction Document Date', 'Number of Proposed Stories',\n",
              "       'Permit Expiration Date', 'Estimated Cost', 'Revised Cost',\n",
              "       'Proposed Use', 'Proposed Units', 'Plansets',\n",
              "       'Proposed Construction Type', 'Proposed Construction Type Description',\n",
              "       'Site Permit', 'Supervisor District',\n",
              "       'Neighborhoods - Analysis Boundaries', 'Zipcode', 'Location',\n",
              "       'Record ID', 'address', 'lat', 'lon', 'Duration', 'Duration_b',\n",
              "       'Process_time_days', 'Duration_construction_days', 'Year',\n",
              "       'Estimated Cost_log10'],\n",
              "      dtype='object')"
            ]
          },
          "metadata": {},
          "execution_count": 5
        }
      ],
      "source": [
        "dataset.columns"
      ],
      "id": "c857dce1-a36e-4ca5-b76d-3bb5a026c453"
    },
    {
      "cell_type": "code",
      "source": [
        "#adjusting prices according to inflation, ref. https://towardsdatascience.com/the-easiest-way-to-adjust-your-data-for-inflation-in-python-365490c03969\n",
        "!pip install cpi\n"
      ],
      "metadata": {
        "colab": {
          "base_uri": "https://localhost:8080/"
        },
        "id": "dDyXxzVHm712",
        "outputId": "4344a632-7d9d-4f45-85ec-bdd6ecada944"
      },
      "id": "dDyXxzVHm712",
      "execution_count": 22,
      "outputs": [
        {
          "output_type": "stream",
          "name": "stdout",
          "text": [
            "Looking in indexes: https://pypi.org/simple, https://us-python.pkg.dev/colab-wheels/public/simple/\n",
            "Requirement already satisfied: cpi in /usr/local/lib/python3.7/dist-packages (1.0.5)\n",
            "Requirement already satisfied: python-dateutil in /usr/local/lib/python3.7/dist-packages (from cpi) (2.8.2)\n",
            "Requirement already satisfied: click in /usr/local/lib/python3.7/dist-packages (from cpi) (7.1.2)\n",
            "Requirement already satisfied: pandas in /usr/local/lib/python3.7/dist-packages (from cpi) (1.3.5)\n",
            "Requirement already satisfied: requests in /usr/local/lib/python3.7/dist-packages (from cpi) (2.23.0)\n",
            "Requirement already satisfied: pytz>=2017.3 in /usr/local/lib/python3.7/dist-packages (from pandas->cpi) (2022.1)\n",
            "Requirement already satisfied: numpy>=1.17.3 in /usr/local/lib/python3.7/dist-packages (from pandas->cpi) (1.21.6)\n",
            "Requirement already satisfied: six>=1.5 in /usr/local/lib/python3.7/dist-packages (from python-dateutil->cpi) (1.15.0)\n",
            "Requirement already satisfied: certifi>=2017.4.17 in /usr/local/lib/python3.7/dist-packages (from requests->cpi) (2022.6.15)\n",
            "Requirement already satisfied: chardet<4,>=3.0.2 in /usr/local/lib/python3.7/dist-packages (from requests->cpi) (3.0.4)\n",
            "Requirement already satisfied: idna<3,>=2.5 in /usr/local/lib/python3.7/dist-packages (from requests->cpi) (2.10)\n",
            "Requirement already satisfied: urllib3!=1.25.0,!=1.25.1,<1.26,>=1.21.1 in /usr/local/lib/python3.7/dist-packages (from requests->cpi) (1.24.3)\n"
          ]
        }
      ]
    },
    {
      "cell_type": "code",
      "source": [
        "import cpi\n",
        "cpi.update()\n",
        "#cpi quickly adjusts US dollars for inflation using the consumer price index CPI"
      ],
      "metadata": {
        "colab": {
          "base_uri": "https://localhost:8080/"
        },
        "id": "JyiRY4yRnFuB",
        "outputId": "b98e221c-1fb6-4b72-e9fc-02e228bc6bec"
      },
      "id": "JyiRY4yRnFuB",
      "execution_count": 23,
      "outputs": [
        {
          "output_type": "stream",
          "name": "stderr",
          "text": [
            "WARNING:cpi:CPI data is out of date. To accurately inflate to today's dollars, you must run `cpi.update()`.\n"
          ]
        }
      ]
    },
    {
      "cell_type": "code",
      "source": [
        "dataset[\"Est_Cost_Infl\"] = dataset.apply(lambda x: cpi.inflate(x[\"Estimated Cost\"], x[\"Year\"]), axis=1)\n",
        "dataset[\"Rev_Cost_Infl\"] = dataset.apply(lambda x: cpi.inflate(x[\"Revised Cost\"] , x[\"Year\"]), axis=1)"
      ],
      "metadata": {
        "id": "DOEsbEEOmpgC"
      },
      "id": "DOEsbEEOmpgC",
      "execution_count": 40,
      "outputs": []
    },
    {
      "cell_type": "code",
      "source": [
        ""
      ],
      "metadata": {
        "id": "Dy0HsEl2n7mO"
      },
      "id": "Dy0HsEl2n7mO",
      "execution_count": null,
      "outputs": []
    },
    {
      "cell_type": "markdown",
      "metadata": {
        "id": "uZONddRV-q5E"
      },
      "source": [
        "#DATA VISUALISATION"
      ],
      "id": "uZONddRV-q5E"
    },
    {
      "cell_type": "markdown",
      "metadata": {
        "id": "M3lAEG3ROUuf"
      },
      "source": [
        "***Let's explore our dataset***"
      ],
      "id": "M3lAEG3ROUuf"
    },
    {
      "cell_type": "code",
      "execution_count": 18,
      "metadata": {
        "id": "AEe1R-7LUKf8"
      },
      "outputs": [],
      "source": [
        "import seaborn as sns"
      ],
      "id": "AEe1R-7LUKf8"
    },
    {
      "cell_type": "code",
      "source": [
        "sns.histplot(data= dataset , x='Year',kde=True,stat='density',color='forestgreen')"
      ],
      "metadata": {
        "colab": {
          "base_uri": "https://localhost:8080/",
          "height": 296
        },
        "id": "21S0XnJ5ldjA",
        "outputId": "9643be69-d839-4b30-eadd-28bff2e73e20"
      },
      "id": "21S0XnJ5ldjA",
      "execution_count": 19,
      "outputs": [
        {
          "output_type": "execute_result",
          "data": {
            "text/plain": [
              "<matplotlib.axes._subplots.AxesSubplot at 0x7f12788b7850>"
            ]
          },
          "metadata": {},
          "execution_count": 19
        },
        {
          "output_type": "display_data",
          "data": {
            "text/plain": [
              "<Figure size 432x288 with 1 Axes>"
            ],
            "image/png": "[encoded data removed]"
          },
          "metadata": {
            "needs_background": "light"
          }
        }
      ]
    },
    {
      "cell_type": "code",
      "execution_count": 60,
      "metadata": {
        "id": "a_Hxf71_UwVL",
        "colab": {
          "base_uri": "https://localhost:8080/"
        },
        "outputId": "aaf404bc-3cb4-4714-e051-66bd5d929a83"
      },
      "outputs": [
        {
          "output_type": "execute_result",
          "data": {
            "text/plain": [
              "377"
            ]
          },
          "metadata": {},
          "execution_count": 60
        }
      ],
      "source": [
        "m_year = dataset[ 'Year'] < 1983\n",
        "m_year.sum()"
      ],
      "id": "a_Hxf71_UwVL"
    },
    {
      "cell_type": "code",
      "source": [
        "m_cost = dataset[ 'Estimated Cost'] > 50000\n",
        "dataset = dataset.loc[m_cost,:]\n",
        "m_cost.sum()"
      ],
      "metadata": {
        "colab": {
          "base_uri": "https://localhost:8080/"
        },
        "id": "SHbW749j108d",
        "outputId": "0ef24c59-c519-492d-ee95-c87b2de6c34e"
      },
      "id": "SHbW749j108d",
      "execution_count": 210,
      "outputs": [
        {
          "output_type": "execute_result",
          "data": {
            "text/plain": [
              "8841"
            ]
          },
          "metadata": {},
          "execution_count": 210
        }
      ]
    },
    {
      "cell_type": "code",
      "source": [
        "dataset.columns"
      ],
      "metadata": {
        "colab": {
          "base_uri": "https://localhost:8080/"
        },
        "id": "Fax4jaezp3Fq",
        "outputId": "e5229f79-cee8-4a94-af69-fca400cd217b"
      },
      "id": "Fax4jaezp3Fq",
      "execution_count": 54,
      "outputs": [
        {
          "output_type": "execute_result",
          "data": {
            "text/plain": [
              "Index(['Permit Number', 'Permit Type', 'Permit Type Definition',\n",
              "       'Permit Creation Date', 'Block', 'Lot', 'Street Number', 'Street Name',\n",
              "       'Street Suffix', 'Description', 'Current Status', 'Current Status Date',\n",
              "       'Filed Date', 'Issued Date', 'Completed Date',\n",
              "       'First Construction Document Date', 'Number of Proposed Stories',\n",
              "       'Permit Expiration Date', 'Estimated Cost', 'Revised Cost',\n",
              "       'Proposed Use', 'Proposed Units', 'Plansets',\n",
              "       'Proposed Construction Type', 'Proposed Construction Type Description',\n",
              "       'Site Permit', 'Supervisor District',\n",
              "       'Neighborhoods - Analysis Boundaries', 'Zipcode', 'Location',\n",
              "       'Record ID', 'address', 'lat', 'lon', 'Duration', 'Duration_b',\n",
              "       'Process_time_days', 'Duration_construction_days', 'Year',\n",
              "       'Estimated Cost_log10', 'Est_Cost_Infl', 'Rev_Cost_Inf',\n",
              "       'Rev_Cost_Infl'],\n",
              "      dtype='object')"
            ]
          },
          "metadata": {},
          "execution_count": 54
        }
      ]
    },
    {
      "cell_type": "code",
      "execution_count": 41,
      "metadata": {
        "id": "9dGgQ3AaCd-f",
        "colab": {
          "base_uri": "https://localhost:8080/"
        },
        "outputId": "82e7e585-9769-483e-f0d5-58db7aa0f110"
      },
      "outputs": [
        {
          "output_type": "execute_result",
          "data": {
            "text/plain": [
              "(9201, 14)"
            ]
          },
          "metadata": {},
          "execution_count": 41
        }
      ],
      "source": [
        "cols = [#'Permit Type', 'Current Status',\n",
        "        'Duration_construction_days', 'Year',\n",
        "        'Estimated Cost', 'Revised Cost',\n",
        "        'Est_Cost_Infl', 'Rev_Cost_Infl',\n",
        "        'Neighborhoods - Analysis Boundaries', 'Zipcode',\n",
        "        'Number of Proposed Stories',\n",
        "       #'Existing Use', 'Existing Units','Number of Existing Stories',\n",
        "        'Proposed Use', 'Proposed Units',\n",
        "       # 'Existing Construction Type','Existing Construction Type Description',\n",
        "        'Proposed Construction Type','Proposed Construction Type Description',\n",
        "        'Plansets'\n",
        "       ]\n",
        "dataset[cols].shape\n"
      ],
      "id": "9dGgQ3AaCd-f"
    },
    {
      "cell_type": "code",
      "execution_count": 49,
      "metadata": {
        "colab": {
          "base_uri": "https://localhost:8080/",
          "height": 87
        },
        "id": "Laz60oDT-AjW",
        "outputId": "a37a7aa3-0017-4137-83d4-99ff4a4bd15a"
      },
      "outputs": [
        {
          "output_type": "execute_result",
          "data": {
            "text/plain": [
              "\"\\nnewdf=dataset[cols].sample(1000)#frac=0.01)#0.15)\\n\\n\\nfig, axes = plt.subplots(nrows = 10, ncols = 2)    # axes is 2d array (3x3)\\naxes = axes.flatten()         # Convert axes to 1d array of length 9\\nfig.set_size_inches(20, 40)\\n\\nfor ax, col in zip(axes, newdf.columns):\\n    sns.histplot(data=newdf,y=col,kde=True,ax=ax,stat='density',color='forestgreen')\\n    #if 'cost' in col.lower():\\n    #  sns.histplot(data=newdf,y=col,kde=True,ax=ax,stat='density',color='forestgreen',log_scale=True)\\n    #ax.set_title(col)\\n    #print(col)\\n#fig.savefig('drive/MyDrive/colab/data_exploration_.png',dpi=800)\\n#fig.close()\\n\""
            ],
            "application/vnd.google.colaboratory.intrinsic+json": {
              "type": "string"
            }
          },
          "metadata": {},
          "execution_count": 49
        }
      ],
      "source": [
        "\"\"\"\n",
        "newdf=dataset[cols].sample(1000)#frac=0.01)#0.15)\n",
        "\n",
        "\n",
        "fig, axes = plt.subplots(nrows = 10, ncols = 2)    # axes is 2d array (3x3)\n",
        "axes = axes.flatten()         # Convert axes to 1d array of length 9\n",
        "fig.set_size_inches(20, 40)\n",
        "\n",
        "for ax, col in zip(axes, newdf.columns):\n",
        "    sns.histplot(data=newdf,y=col,kde=True,ax=ax,stat='density',color='forestgreen')\n",
        "    #if 'cost' in col.lower():\n",
        "    #  sns.histplot(data=newdf,y=col,kde=True,ax=ax,stat='density',color='forestgreen',log_scale=True)\n",
        "    #ax.set_title(col)\n",
        "    #print(col)\n",
        "#fig.savefig('drive/MyDrive/colab/data_exploration_.png',dpi=800)\n",
        "#fig.close()\n",
        "\"\"\"\n"
      ],
      "id": "Laz60oDT-AjW"
    },
    {
      "cell_type": "code",
      "source": [
        "features = ['Number of Proposed Stories', 'Duration_construction_days',\n",
        "             'Plansets','Permit Type', 'Proposed Construction Type',\n",
        "             'Neighborhoods - Analysis Boundaries','Year']\n",
        "\n",
        "for col in features [2:] :\n",
        "  if 'days' not in col.lower():\n",
        "    print(dataset[col].value_counts())"
      ],
      "metadata": {
        "colab": {
          "base_uri": "https://localhost:8080/"
        },
        "id": "wujeyt6WpJDk",
        "outputId": "084b2ac7-9e05-4f9d-c478-5c3899d2aa9c"
      },
      "id": "wujeyt6WpJDk",
      "execution_count": 56,
      "outputs": [
        {
          "output_type": "stream",
          "name": "stdout",
          "text": [
            "2.0    8054\n",
            "4.0    1008\n",
            "8.0      52\n",
            "5.0      26\n",
            "0.0      19\n",
            "6.0      17\n",
            "3.0      14\n",
            "7.0       6\n",
            "1.0       4\n",
            "9.0       1\n",
            "Name: Plansets, dtype: int64\n",
            "2    8185\n",
            "1    1016\n",
            "Name: Permit Type, dtype: int64\n",
            "5     7980\n",
            "1      591\n",
            "3      207\n",
            "2      200\n",
            "99     174\n",
            "4       49\n",
            "Name: Proposed Construction Type, dtype: int64\n",
            "Bayview Hunters Point             1475\n",
            "Other                             1061\n",
            "Mission                            483\n",
            "Potrero Hill                       450\n",
            "Outer Richmond                     419\n",
            "South of Market                    316\n",
            "Sunset/Parkside                    312\n",
            "Portola                            308\n",
            "Bernal Heights                     288\n",
            "Visitacion Valley                  281\n",
            "West of Twin Peaks                 269\n",
            "Oceanview/Merced/Ingleside         267\n",
            "Noe Valley                         266\n",
            "Castro/Upper Market                241\n",
            "Inner Sunset                       229\n",
            "Excelsior                          226\n",
            "Outer Mission                      219\n",
            "Hayes Valley                       211\n",
            "Lakeshore                          205\n",
            "Western Addition                   194\n",
            "Financial District/South Beach     162\n",
            "Marina                             153\n",
            "Inner Richmond                     139\n",
            "Pacific Heights                    134\n",
            "Glen Park                          113\n",
            "North Beach                        111\n",
            "Lone Mountain/USF                  108\n",
            "Russian Hill                       103\n",
            "Mission Bay                         86\n",
            "Presidio Heights                    82\n",
            "Twin Peaks                          67\n",
            "Nob Hill                            63\n",
            "Tenderloin                          57\n",
            "Haight Ashbury                      49\n",
            "Chinatown                           34\n",
            "Seacliff                            20\n",
            "Name: Neighborhoods - Analysis Boundaries, dtype: int64\n",
            "1984    521\n",
            "1987    497\n",
            "1998    454\n",
            "1985    439\n",
            "1983    434\n",
            "1991    433\n",
            "1986    432\n",
            "1988    399\n",
            "2000    393\n",
            "1999    323\n",
            "1990    305\n",
            "1989    283\n",
            "1997    276\n",
            "2005    261\n",
            "2001    251\n",
            "1995    244\n",
            "1996    237\n",
            "2002    233\n",
            "1994    227\n",
            "1982    225\n",
            "1993    197\n",
            "2004    195\n",
            "2014    186\n",
            "2015    175\n",
            "2013    172\n",
            "1992    166\n",
            "2012    162\n",
            "2003    154\n",
            "1981    152\n",
            "2007    151\n",
            "2006    149\n",
            "2016    101\n",
            "2008     88\n",
            "2010     83\n",
            "2009     79\n",
            "2011     59\n",
            "2017     38\n",
            "2018     20\n",
            "2019      6\n",
            "2020      1\n",
            "Name: Year, dtype: int64\n"
          ]
        }
      ]
    },
    {
      "cell_type": "code",
      "source": [
        "#histogram\n",
        "sns.histplot(data= dataset , x='Estimated Cost',kde=True,stat='density',color='forestgreen',log_scale=True)"
      ],
      "metadata": {
        "colab": {
          "base_uri": "https://localhost:8080/",
          "height": 303
        },
        "id": "yQVHoUuFhKTb",
        "outputId": "b6f62144-b405-4443-dc09-de1cc133dcc7"
      },
      "id": "yQVHoUuFhKTb",
      "execution_count": 43,
      "outputs": [
        {
          "output_type": "execute_result",
          "data": {
            "text/plain": [
              "<matplotlib.axes._subplots.AxesSubplot at 0x7f1278385350>"
            ]
          },
          "metadata": {},
          "execution_count": 43
        },
        {
          "output_type": "display_data",
          "data": {
            "text/plain": [
              "<Figure size 432x288 with 1 Axes>"
            ],
            "image/png": "[encoded data removed]"
          },
          "metadata": {
            "needs_background": "light"
          }
        }
      ]
    },
    {
      "cell_type": "code",
      "source": [
        "#histogram\n",
        "sns.histplot(data= dataset , x='Est_Cost_Infl',kde=True,stat='density',color='forestgreen',log_scale=True)"
      ],
      "metadata": {
        "colab": {
          "base_uri": "https://localhost:8080/",
          "height": 301
        },
        "id": "E1R53Kign-Cw",
        "outputId": "c29a7347-cf3a-45e5-ddec-793e6f7e9801"
      },
      "id": "E1R53Kign-Cw",
      "execution_count": 44,
      "outputs": [
        {
          "output_type": "execute_result",
          "data": {
            "text/plain": [
              "<matplotlib.axes._subplots.AxesSubplot at 0x7f1278418790>"
            ]
          },
          "metadata": {},
          "execution_count": 44
        },
        {
          "output_type": "display_data",
          "data": {
            "text/plain": [
              "<Figure size 432x288 with 1 Axes>"
            ],
            "image/png": "[encoded data removed]"
          },
          "metadata": {
            "needs_background": "light"
          }
        }
      ]
    },
    {
      "cell_type": "code",
      "source": [
        "sns.histplot(data= dataset , x='lon',kde=True,stat='density',color='forestgreen',log_scale=True)"
      ],
      "metadata": {
        "colab": {
          "base_uri": "https://localhost:8080/",
          "height": 299
        },
        "id": "TMUITF3WpCbo",
        "outputId": "2836209b-7979-4314-e414-ca83b45f7274"
      },
      "id": "TMUITF3WpCbo",
      "execution_count": 98,
      "outputs": [
        {
          "output_type": "execute_result",
          "data": {
            "text/plain": [
              "<matplotlib.axes._subplots.AxesSubplot at 0x7f122c5fb710>"
            ]
          },
          "metadata": {},
          "execution_count": 98
        },
        {
          "output_type": "display_data",
          "data": {
            "text/plain": [
              "<Figure size 432x288 with 1 Axes>"
            ],
            "image/png": "[encoded data removed]"
          },
          "metadata": {
            "needs_background": "light"
          }
        }
      ]
    },
    {
      "cell_type": "markdown",
      "metadata": {
        "id": "C3qQmsgPObZe"
      },
      "source": [
        "***Let's explore heatmap***"
      ],
      "id": "C3qQmsgPObZe"
    },
    {
      "cell_type": "code",
      "execution_count": 44,
      "metadata": {
        "id": "JaJuVwBhXVHm"
      },
      "outputs": [],
      "source": [
        ""
      ],
      "id": "JaJuVwBhXVHm"
    },
    {
      "cell_type": "code",
      "source": [
        "newdf = dataset[cols]"
      ],
      "metadata": {
        "id": "BUwbygcZmExz"
      },
      "id": "BUwbygcZmExz",
      "execution_count": 211,
      "outputs": []
    },
    {
      "cell_type": "code",
      "source": [
        ""
      ],
      "metadata": {
        "id": "1wr7ixviolCS"
      },
      "id": "1wr7ixviolCS",
      "execution_count": 211,
      "outputs": []
    },
    {
      "cell_type": "code",
      "execution_count": 46,
      "metadata": {
        "colab": {
          "base_uri": "https://localhost:8080/",
          "height": 524
        },
        "id": "qow8EKT2E6WD",
        "outputId": "ad99a51e-df62-49fc-c61b-627a669f49af"
      },
      "outputs": [
        {
          "output_type": "execute_result",
          "data": {
            "text/plain": [
              "<matplotlib.axes._subplots.AxesSubplot at 0x7f1278494850>"
            ]
          },
          "metadata": {},
          "execution_count": 46
        },
        {
          "output_type": "display_data",
          "data": {
            "text/plain": [
              "<Figure size 648x432 with 2 Axes>"
            ],
            "image/png": "[encoded data removed]"
          },
          "metadata": {
            "needs_background": "light"
          }
        }
      ],
      "source": [
        "f, ax = plt.subplots(figsize=(9, 6))\n",
        "sns.heatmap(newdf.corr(), vmax=.8, square=True)\n",
        "#fig.savefig('drive/MyDrive/colab/data_heatmap.jpg',dpi=400)"
      ],
      "id": "qow8EKT2E6WD"
    },
    {
      "cell_type": "markdown",
      "source": [
        "**Observations of HeatMap**\n",
        "\n",
        "\n",
        "\n",
        "*   List item\n",
        "*   List item\n",
        "\n"
      ],
      "metadata": {
        "id": "5DROX0QNla6X"
      },
      "id": "5DROX0QNla6X"
    },
    {
      "cell_type": "code",
      "source": [
        ""
      ],
      "metadata": {
        "id": "tZTTJ2drlZ1N"
      },
      "id": "tZTTJ2drlZ1N",
      "execution_count": null,
      "outputs": []
    },
    {
      "cell_type": "markdown",
      "source": [
        "**In summary **\n",
        "\n",
        "we can conclude that \n",
        "\n",
        "\n",
        "\n",
        "*   List item\n",
        "*   List item\n",
        "\n"
      ],
      "metadata": {
        "id": "N6P8Xp6EktH_"
      },
      "id": "N6P8Xp6EktH_"
    },
    {
      "cell_type": "markdown",
      "metadata": {
        "id": "BrpFaO9f99LU"
      },
      "source": [
        "#MACHINE LEARNING\n",
        "\n"
      ],
      "id": "BrpFaO9f99LU"
    },
    {
      "cell_type": "code",
      "execution_count": 212,
      "metadata": {
        "id": "lPq5X1tvvVkQ"
      },
      "outputs": [],
      "source": [
        "#kaggle ref. https://www.kaggle.com/code/serigne/stacked-regressions-top-4-on-leaderboard\n",
        "\n",
        "\n",
        "#libraries \n",
        "\n",
        "from sklearn.linear_model import ElasticNet, Lasso,  BayesianRidge, LassoLarsIC\n",
        "from sklearn.ensemble import RandomForestRegressor,  GradientBoostingRegressor\n",
        "from sklearn.kernel_ridge import KernelRidge\n",
        "from sklearn.pipeline import Pipeline, make_pipeline\n",
        "from sklearn.impute import SimpleImputer\n",
        "from sklearn.compose import ColumnTransformer\n",
        "from sklearn.preprocessing import RobustScaler,OneHotEncoder, StandardScaler\n",
        "from sklearn.base import BaseEstimator, TransformerMixin, RegressorMixin, clone\n",
        "from sklearn.linear_model import LinearRegression\n",
        "from sklearn.model_selection import KFold, cross_val_score, train_test_split\n",
        "from sklearn.metrics import r2_score, mean_squared_error,mean_squared_error,mean_squared_log_error,mean_absolute_error,explained_variance_score\n",
        "import xgboost as xgb\n",
        "import lightgbm as lgb"
      ],
      "id": "lPq5X1tvvVkQ"
    },
    {
      "cell_type": "code",
      "source": [
        "dataset.columns"
      ],
      "metadata": {
        "colab": {
          "base_uri": "https://localhost:8080/"
        },
        "id": "j7wOwn5L2yw1",
        "outputId": "8a7c2b63-e202-47c8-c9f4-61aa28004264"
      },
      "id": "j7wOwn5L2yw1",
      "execution_count": 213,
      "outputs": [
        {
          "output_type": "execute_result",
          "data": {
            "text/plain": [
              "Index(['Permit Number', 'Permit Type', 'Permit Type Definition',\n",
              "       'Permit Creation Date', 'Block', 'Lot', 'Street Number', 'Street Name',\n",
              "       'Street Suffix', 'Description', 'Current Status', 'Current Status Date',\n",
              "       'Filed Date', 'Issued Date', 'Completed Date',\n",
              "       'First Construction Document Date', 'Number of Proposed Stories',\n",
              "       'Permit Expiration Date', 'Estimated Cost', 'Revised Cost',\n",
              "       'Proposed Use', 'Proposed Units', 'Plansets',\n",
              "       'Proposed Construction Type', 'Proposed Construction Type Description',\n",
              "       'Site Permit', 'Supervisor District',\n",
              "       'Neighborhoods - Analysis Boundaries', 'Zipcode', 'Location',\n",
              "       'Record ID', 'address', 'lat', 'lon', 'Duration', 'Duration_b',\n",
              "       'Process_time_days', 'Duration_construction_days', 'Year',\n",
              "       'Estimated Cost_log10', 'Est_Cost_Infl', 'Rev_Cost_Inf',\n",
              "       'Rev_Cost_Infl', 'lat_lon'],\n",
              "      dtype='object')"
            ]
          },
          "metadata": {},
          "execution_count": 213
        }
      ]
    },
    {
      "cell_type": "code",
      "source": [
        "dataset[\"Estimated Cost\"].isna().sum()"
      ],
      "metadata": {
        "colab": {
          "base_uri": "https://localhost:8080/"
        },
        "id": "S-1NePZU3tnx",
        "outputId": "de8cdd42-9ffd-4fd2-a3e3-5e0f5ad9dbfd"
      },
      "id": "S-1NePZU3tnx",
      "execution_count": 214,
      "outputs": [
        {
          "output_type": "execute_result",
          "data": {
            "text/plain": [
              "0"
            ]
          },
          "metadata": {},
          "execution_count": 214
        }
      ]
    },
    {
      "cell_type": "code",
      "source": [
        "dataset['lat_lon']=dataset['lat']*dataset['lon']"
      ],
      "metadata": {
        "id": "I4osXKrUtuAt"
      },
      "id": "I4osXKrUtuAt",
      "execution_count": 215,
      "outputs": []
    },
    {
      "cell_type": "code",
      "execution_count": 216,
      "metadata": {
        "id": "wUMOJ1dfmayF",
        "colab": {
          "base_uri": "https://localhost:8080/"
        },
        "outputId": "554cd19e-6f04-4e2b-dc6c-055c64ed1ae7"
      },
      "outputs": [
        {
          "output_type": "stream",
          "name": "stdout",
          "text": [
            "Separating labels from features...\n",
            "...Done.\n",
            "\n",
            "Y : \n",
            "0    4.973752e+05\n",
            "1    9.398079e+05\n",
            "2    1.091235e+08\n",
            "3    1.091235e+08\n",
            "4    1.091235e+08\n",
            "Name: Est_Cost_Infl, dtype: float64\n",
            "\n",
            "X :\n",
            "   Permit Type  Number of Proposed Stories  Plansets  \\\n",
            "0            2                         4.0       2.0   \n",
            "1            2                         3.0       2.0   \n",
            "2            1                        25.0       4.0   \n",
            "3            1                        25.0       4.0   \n",
            "4            1                        25.0       4.0   \n",
            "\n",
            "   Proposed Construction Type Neighborhoods - Analysis Boundaries  \\\n",
            "0                           5                 Castro/Upper Market   \n",
            "1                           5                        Inner Sunset   \n",
            "2                           1                          Tenderloin   \n",
            "3                           1                          Tenderloin   \n",
            "4                           1                          Tenderloin   \n",
            "\n",
            "       lat_lon  Year  Duration_construction_days  \n",
            "0 -4623.268159  1991                       294.0  \n",
            "1 -4625.233438  1987                       261.0  \n",
            "2 -4625.316130  1984                      1075.0  \n",
            "3 -4625.366712  1984                      1075.0  \n",
            "4 -4625.359715  1984                      1075.0  \n"
          ]
        }
      ],
      "source": [
        "# Separate target variable Y from features X\n",
        "print(\"Separating labels from features...\")\n",
        "features_list = [\n",
        "    \"Permit Type\",\n",
        "    \"Number of Proposed Stories\", \n",
        "    \"Plansets\", \n",
        "    \"Proposed Construction Type\", \n",
        "    \"Neighborhoods - Analysis Boundaries\", \n",
        "    #\"Zipcode\",\n",
        "    'lat_lon',\n",
        "    #'lon',\n",
        "    \"Year\",\n",
        "    \"Duration_construction_days\"\n",
        "]\n",
        "\n",
        "target_variable = \"Est_Cost_Infl\"#\"Estimated Cost_log10\"#\"Estimated Cost\"\n",
        "\n",
        "X = dataset.loc[:,features_list]\n",
        "Y = dataset.loc[:,target_variable]\n",
        "\n",
        "print(\"...Done.\")\n",
        "print()\n",
        "\n",
        "print('Y : ')\n",
        "print(Y.head())\n",
        "print()\n",
        "print('X :')\n",
        "print(X.head())\n"
      ],
      "id": "wUMOJ1dfmayF"
    },
    {
      "cell_type": "code",
      "execution_count": 217,
      "metadata": {
        "id": "bfuuIs8Ima6i",
        "colab": {
          "base_uri": "https://localhost:8080/"
        },
        "outputId": "68997436-621d-4783-f2ad-d8ce0e170d0e"
      },
      "outputs": [
        {
          "output_type": "stream",
          "name": "stdout",
          "text": [
            "Found numeric features  ['Permit Type', 'Number of Proposed Stories', 'Plansets', 'Proposed Construction Type', 'lat_lon', 'Year', 'Duration_construction_days']\n",
            "Found categorical features  ['Neighborhoods - Analysis Boundaries']\n"
          ]
        }
      ],
      "source": [
        "# Automatically detect names of numeric/categorical columns\n",
        "numeric_features = []\n",
        "categorical_features = []\n",
        "for i,t in X.dtypes.iteritems():\n",
        "    if ('float' in str(t)) or ('int' in str(t)) :\n",
        "        numeric_features.append(i)\n",
        "    else :\n",
        "        categorical_features.append(i)\n",
        "\n",
        "print('Found numeric features ', numeric_features)\n",
        "print('Found categorical features ', categorical_features)"
      ],
      "id": "bfuuIs8Ima6i"
    },
    {
      "cell_type": "code",
      "execution_count": 218,
      "metadata": {
        "id": "eAG4_GeQqTiu"
      },
      "outputs": [],
      "source": [
        "#Manually selecting type of features\n",
        "numeric_features=['Number of Proposed Stories', 'Duration_construction_days','Plansets','Year','lat_lon']\n",
        "categorical_features=['Permit Type', 'Proposed Construction Type', 'Neighborhoods - Analysis Boundaries',] "
      ],
      "id": "eAG4_GeQqTiu"
    },
    {
      "cell_type": "code",
      "source": [
        "X.isna().sum()/X.shape[0]"
      ],
      "metadata": {
        "colab": {
          "base_uri": "https://localhost:8080/"
        },
        "id": "uIOC2NR04lD5",
        "outputId": "56bcd821-b5c9-4bde-c678-845937405890"
      },
      "id": "uIOC2NR04lD5",
      "execution_count": 219,
      "outputs": [
        {
          "output_type": "execute_result",
          "data": {
            "text/plain": [
              "Permit Type                            0.000000\n",
              "Number of Proposed Stories             0.015835\n",
              "Plansets                               0.000000\n",
              "Proposed Construction Type             0.000000\n",
              "Neighborhoods - Analysis Boundaries    0.000000\n",
              "lat_lon                                0.000000\n",
              "Year                                   0.000000\n",
              "Duration_construction_days             0.000000\n",
              "dtype: float64"
            ]
          },
          "metadata": {},
          "execution_count": 219
        }
      ]
    },
    {
      "cell_type": "code",
      "source": [
        "X['Number of Proposed Stories'].describe()"
      ],
      "metadata": {
        "colab": {
          "base_uri": "https://localhost:8080/"
        },
        "id": "f_cbr4_q5YX3",
        "outputId": "a3672dd7-f038-4f49-c447-0d43ff57ef4b"
      },
      "id": "f_cbr4_q5YX3",
      "execution_count": 220,
      "outputs": [
        {
          "output_type": "execute_result",
          "data": {
            "text/plain": [
              "count    8701.000000\n",
              "mean        3.699632\n",
              "std        14.657238\n",
              "min         0.000000\n",
              "25%         2.000000\n",
              "50%         3.000000\n",
              "75%         4.000000\n",
              "max       920.000000\n",
              "Name: Number of Proposed Stories, dtype: float64"
            ]
          },
          "metadata": {},
          "execution_count": 220
        }
      ]
    },
    {
      "cell_type": "code",
      "source": [
        "X.loc[X['Number of Proposed Stories'].isna(),:].head()"
      ],
      "metadata": {
        "colab": {
          "base_uri": "https://localhost:8080/",
          "height": 268
        },
        "id": "TKB9jGja5C8Y",
        "outputId": "9bc49c3b-088f-4724-bc47-f1a7ee00006f"
      },
      "id": "TKB9jGja5C8Y",
      "execution_count": 221,
      "outputs": [
        {
          "output_type": "execute_result",
          "data": {
            "text/plain": [
              "    Permit Type  Number of Proposed Stories  Plansets  \\\n",
              "6             2                         NaN       2.0   \n",
              "7             2                         NaN       2.0   \n",
              "13            2                         NaN       0.0   \n",
              "14            2                         NaN       2.0   \n",
              "15            2                         NaN       4.0   \n",
              "\n",
              "    Proposed Construction Type Neighborhoods - Analysis Boundaries  \\\n",
              "6                           99                      Bernal Heights   \n",
              "7                           99                        Potrero Hill   \n",
              "13                          99                      Haight Ashbury   \n",
              "14                          99                      Outer Richmond   \n",
              "15                          99                      Inner Richmond   \n",
              "\n",
              "        lat_lon  Year  Duration_construction_days  \n",
              "6  -4619.172084  1982                       363.0  \n",
              "7  -4620.678392  1981                       705.0  \n",
              "13 -4624.397350  1981                       764.0  \n",
              "14 -4627.975908  1981                       407.0  \n",
              "15 -4625.995625  1981                       474.0  "
            ],
            "text/html": [
              "\n",
              "  <div id=\"df-bbbb66f7-0b59-4836-95d6-c79e89dc9b2c\">\n",
              "    <div class=\"colab-df-container\">\n",
              "      <div>\n",
              "<style scoped>\n",
              "    .dataframe tbody tr th:only-of-type {\n",
              "        vertical-align: middle;\n",
              "    }\n",
              "\n",
              "    .dataframe tbody tr th {\n",
              "        vertical-align: top;\n",
              "    }\n",
              "\n",
              "    .dataframe thead th {\n",
              "        text-align: right;\n",
              "    }\n",
              "</style>\n",
              "<table border=\"1\" class=\"dataframe\">\n",
              "  <thead>\n",
              "    <tr style=\"text-align: right;\">\n",
              "      <th></th>\n",
              "      <th>Permit Type</th>\n",
              "      <th>Number of Proposed Stories</th>\n",
              "      <th>Plansets</th>\n",
              "      <th>Proposed Construction Type</th>\n",
              "      <th>Neighborhoods - Analysis Boundaries</th>\n",
              "      <th>lat_lon</th>\n",
              "      <th>Year</th>\n",
              "      <th>Duration_construction_days</th>\n",
              "    </tr>\n",
              "  </thead>\n",
              "  <tbody>\n",
              "    <tr>\n",
              "      <th>6</th>\n",
              "      <td>2</td>\n",
              "      <td>NaN</td>\n",
              "      <td>2.0</td>\n",
              "      <td>99</td>\n",
              "      <td>Bernal Heights</td>\n",
              "      <td>-4619.172084</td>\n",
              "      <td>1982</td>\n",
              "      <td>363.0</td>\n",
              "    </tr>\n",
              "    <tr>\n",
              "      <th>7</th>\n",
              "      <td>2</td>\n",
              "      <td>NaN</td>\n",
              "      <td>2.0</td>\n",
              "      <td>99</td>\n",
              "      <td>Potrero Hill</td>\n",
              "      <td>-4620.678392</td>\n",
              "      <td>1981</td>\n",
              "      <td>705.0</td>\n",
              "    </tr>\n",
              "    <tr>\n",
              "      <th>13</th>\n",
              "      <td>2</td>\n",
              "      <td>NaN</td>\n",
              "      <td>0.0</td>\n",
              "      <td>99</td>\n",
              "      <td>Haight Ashbury</td>\n",
              "      <td>-4624.397350</td>\n",
              "      <td>1981</td>\n",
              "      <td>764.0</td>\n",
              "    </tr>\n",
              "    <tr>\n",
              "      <th>14</th>\n",
              "      <td>2</td>\n",
              "      <td>NaN</td>\n",
              "      <td>2.0</td>\n",
              "      <td>99</td>\n",
              "      <td>Outer Richmond</td>\n",
              "      <td>-4627.975908</td>\n",
              "      <td>1981</td>\n",
              "      <td>407.0</td>\n",
              "    </tr>\n",
              "    <tr>\n",
              "      <th>15</th>\n",
              "      <td>2</td>\n",
              "      <td>NaN</td>\n",
              "      <td>4.0</td>\n",
              "      <td>99</td>\n",
              "      <td>Inner Richmond</td>\n",
              "      <td>-4625.995625</td>\n",
              "      <td>1981</td>\n",
              "      <td>474.0</td>\n",
              "    </tr>\n",
              "  </tbody>\n",
              "</table>\n",
              "</div>\n",
              "      <button class=\"colab-df-convert\" onclick=\"convertToInteractive('df-bbbb66f7-0b59-4836-95d6-c79e89dc9b2c')\"\n",
              "              title=\"Convert this dataframe to an interactive table.\"\n",
              "              style=\"display:none;\">\n",
              "        \n",
              "  <svg xmlns=\"http://www.w3.org/2000/svg\" height=\"24px\"viewBox=\"0 0 24 24\"\n",
              "       width=\"24px\">\n",
              "    <path d=\"M0 0h24v24H0V0z\" fill=\"none\"/>\n",
              "    <path d=\"M18.56 5.44l.94 2.06.94-2.06 2.06-.94-2.06-.94-.94-2.06-.94 2.06-2.06.94zm-11 1L8.5 8.5l.94-2.06 2.06-.94-2.06-.94L8.5 2.5l-.94 2.06-2.06.94zm10 10l.94 2.06.94-2.06 2.06-.94-2.06-.94-.94-2.06-.94 2.06-2.06.94z\"/><path d=\"M17.41 7.96l-1.37-1.37c-.4-.4-.92-.59-1.43-.59-.52 0-1.04.2-1.43.59L10.3 9.45l-7.72 7.72c-.78.78-.78 2.05 0 2.83L4 21.41c.39.39.9.59 1.41.59.51 0 1.02-.2 1.41-.59l7.78-7.78 2.81-2.81c.8-.78.8-2.07 0-2.86zM5.41 20L4 18.59l7.72-7.72 1.47 1.35L5.41 20z\"/>\n",
              "  </svg>\n",
              "      </button>\n",
              "      \n",
              "  <style>\n",
              "    .colab-df-container {\n",
              "      display:flex;\n",
              "      flex-wrap:wrap;\n",
              "      gap: 12px;\n",
              "    }\n",
              "\n",
              "    .colab-df-convert {\n",
              "      background-color: #E8F0FE;\n",
              "      border: none;\n",
              "      border-radius: 50%;\n",
              "      cursor: pointer;\n",
              "      display: none;\n",
              "      fill: #1967D2;\n",
              "      height: 32px;\n",
              "      padding: 0 0 0 0;\n",
              "      width: 32px;\n",
              "    }\n",
              "\n",
              "    .colab-df-convert:hover {\n",
              "      background-color: #E2EBFA;\n",
              "      box-shadow: 0px 1px 2px rgba(60, 64, 67, 0.3), 0px 1px 3px 1px rgba(60, 64, 67, 0.15);\n",
              "      fill: #174EA6;\n",
              "    }\n",
              "\n",
              "    [theme=dark] .colab-df-convert {\n",
              "      background-color: #3B4455;\n",
              "      fill: #D2E3FC;\n",
              "    }\n",
              "\n",
              "    [theme=dark] .colab-df-convert:hover {\n",
              "      background-color: #434B5C;\n",
              "      box-shadow: 0px 1px 3px 1px rgba(0, 0, 0, 0.15);\n",
              "      filter: drop-shadow(0px 1px 2px rgba(0, 0, 0, 0.3));\n",
              "      fill: #FFFFFF;\n",
              "    }\n",
              "  </style>\n",
              "\n",
              "      <script>\n",
              "        const buttonEl =\n",
              "          document.querySelector('#df-bbbb66f7-0b59-4836-95d6-c79e89dc9b2c button.colab-df-convert');\n",
              "        buttonEl.style.display =\n",
              "          google.colab.kernel.accessAllowed ? 'block' : 'none';\n",
              "\n",
              "        async function convertToInteractive(key) {\n",
              "          const element = document.querySelector('#df-bbbb66f7-0b59-4836-95d6-c79e89dc9b2c');\n",
              "          const dataTable =\n",
              "            await google.colab.kernel.invokeFunction('convertToInteractive',\n",
              "                                                     [key], {});\n",
              "          if (!dataTable) return;\n",
              "\n",
              "          const docLinkHtml = 'Like what you see? Visit the ' +\n",
              "            '<a target=\"_blank\" href=https://colab.research.google.com/notebooks/data_table.ipynb>data table notebook</a>'\n",
              "            + ' to learn more about interactive tables.';\n",
              "          element.innerHTML = '';\n",
              "          dataTable['output_type'] = 'display_data';\n",
              "          await google.colab.output.renderOutput(dataTable, element);\n",
              "          const docLink = document.createElement('div');\n",
              "          docLink.innerHTML = docLinkHtml;\n",
              "          element.appendChild(docLink);\n",
              "        }\n",
              "      </script>\n",
              "    </div>\n",
              "  </div>\n",
              "  "
            ]
          },
          "metadata": {},
          "execution_count": 221
        }
      ]
    },
    {
      "cell_type": "code",
      "execution_count": 222,
      "metadata": {
        "id": "qOwe8HXBmbFz",
        "colab": {
          "base_uri": "https://localhost:8080/"
        },
        "outputId": "594bb5f8-8683-4b3c-b5ce-1157723e6673"
      },
      "outputs": [
        {
          "output_type": "stream",
          "name": "stdout",
          "text": [
            "...Done.\n",
            "\n"
          ]
        }
      ],
      "source": [
        "#Since we use Kfold, we don't divide data into train and test data set!\n",
        "#for X_train and Y_train we use all dataset since we use K-fold\n",
        "X_train = X\n",
        "Y_train = Y \n",
        "#X_train, X_test, Y_train, Y_test = train_test_split(X, Y, test_size=0.0, random_state=0)#,stratify=Y)\n",
        "print(\"...Done.\")\n",
        "print()"
      ],
      "id": "qOwe8HXBmbFz"
    },
    {
      "cell_type": "code",
      "execution_count": 223,
      "metadata": {
        "id": "eVlCoLA-mbSv"
      },
      "outputs": [],
      "source": [
        "# Create pipeline for numeric features\n",
        "numeric_transformer = Pipeline(steps=[\n",
        "    ('imputer', SimpleImputer(strategy='median')), # missing values will be replaced by columns' mean\n",
        "    ('scaler', StandardScaler())\n",
        "])"
      ],
      "id": "eVlCoLA-mbSv"
    },
    {
      "cell_type": "code",
      "execution_count": 224,
      "metadata": {
        "id": "7b869160-f6c6-4790-a34e-203823a0d202"
      },
      "outputs": [],
      "source": [
        "# Create pipeline for categorical features\n",
        "categorical_transformer = Pipeline(\n",
        "    steps=[\n",
        "    ('encoder', OneHotEncoder(drop='first')) # first column will be dropped to avoid creating correlations between features\n",
        "    ])"
      ],
      "id": "7b869160-f6c6-4790-a34e-203823a0d202"
    },
    {
      "cell_type": "code",
      "execution_count": 225,
      "metadata": {
        "id": "krOrUBuUm0KN"
      },
      "outputs": [],
      "source": [
        "# Use ColumnTransformer to make a preprocessor object that describes all the treatments to be done\n",
        "preprocessor = ColumnTransformer(\n",
        "    transformers=[\n",
        "        ('num', numeric_transformer, numeric_features),\n",
        "        ('cat', categorical_transformer, categorical_features)\n",
        "    ])"
      ],
      "id": "krOrUBuUm0KN"
    },
    {
      "cell_type": "code",
      "source": [
        ""
      ],
      "metadata": {
        "id": "exlUgw6ChQoD"
      },
      "id": "exlUgw6ChQoD",
      "execution_count": 225,
      "outputs": []
    },
    {
      "cell_type": "code",
      "execution_count": 226,
      "metadata": {
        "id": "-B4yP8C_mzc1",
        "colab": {
          "base_uri": "https://localhost:8080/",
          "height": 486
        },
        "outputId": "a57a21cb-af8c-4920-a1df-29b5b829edf4"
      },
      "outputs": [
        {
          "output_type": "stream",
          "name": "stdout",
          "text": [
            "Performing preprocessings on train set...\n",
            "...Done.\n",
            "   Permit Type  Number of Proposed Stories  Plansets  \\\n",
            "0            2                         4.0       2.0   \n",
            "1            2                         3.0       2.0   \n",
            "2            1                        25.0       4.0   \n",
            "3            1                        25.0       4.0   \n",
            "4            1                        25.0       4.0   \n",
            "\n",
            "   Proposed Construction Type Neighborhoods - Analysis Boundaries  \\\n",
            "0                           5                 Castro/Upper Market   \n",
            "1                           5                        Inner Sunset   \n",
            "2                           1                          Tenderloin   \n",
            "3                           1                          Tenderloin   \n",
            "4                           1                          Tenderloin   \n",
            "\n",
            "       lat_lon  Year  Duration_construction_days  \n",
            "0 -4623.268159  1991                       294.0  \n",
            "1 -4625.233438  1987                       261.0  \n",
            "2 -4625.316130  1984                      1075.0  \n",
            "3 -4625.366712  1984                      1075.0  \n",
            "4 -4625.359715  1984                      1075.0  \n",
            "\n"
          ]
        },
        {
          "output_type": "execute_result",
          "data": {
            "text/plain": [
              "'\\n# Preprocessings on test set \\n# IT IS COMMENTED SINCE WE USE K FOLD \\nprint(\"Performing preprocessings on test set...\")\\nprint(X_test.head()) \\nX_test = preprocessor.transform(X_test) # Don\\'t fit again !! The test set is used for validating decisions\\n# we made based on the training set, therefore we can only apply transformations that were parametered using the training set.\\n# Otherwise this creates what is called a leak from the test set which will introduce a bias in all your results.\\nprint(\\'...Done.\\')\\nprint(X_test[0:5,:]) # MUST use this syntax because X_test is a numpy array and not a pandas DataFrame anymore\\nprint()\\n'"
            ],
            "application/vnd.google.colaboratory.intrinsic+json": {
              "type": "string"
            }
          },
          "metadata": {},
          "execution_count": 226
        }
      ],
      "source": [
        "# Preprocessings on train set\n",
        "print(\"Performing preprocessings on train set...\")\n",
        "#print(X.head())\n",
        "X_train = preprocessor.fit_transform(X_train)\n",
        "print('...Done.')\n",
        "print(X[0:5]) # MUST use this syntax because X_train is a numpy array and not a pandas DataFrame anymore\n",
        "print()\n",
        "\n",
        "\"\"\"\n",
        "# Preprocessings on test set \n",
        "# IT IS COMMENTED SINCE WE USE K FOLD \n",
        "print(\"Performing preprocessings on test set...\")\n",
        "print(X_test.head()) \n",
        "X_test = preprocessor.transform(X_test) # Don't fit again !! The test set is used for validating decisions\n",
        "# we made based on the training set, therefore we can only apply transformations that were parametered using the training set.\n",
        "# Otherwise this creates what is called a leak from the test set which will introduce a bias in all your results.\n",
        "print('...Done.')\n",
        "print(X_test[0:5,:]) # MUST use this syntax because X_test is a numpy array and not a pandas DataFrame anymore\n",
        "print()\n",
        "\"\"\""
      ],
      "id": "-B4yP8C_mzc1"
    },
    {
      "cell_type": "code",
      "execution_count": 227,
      "metadata": {
        "id": "61e6e509-70e1-4f30-8997-d37b86f8daee",
        "colab": {
          "base_uri": "https://localhost:8080/"
        },
        "outputId": "e7e3eb27-10e8-475c-ad0c-b6a8f16091c9"
      },
      "outputs": [
        {
          "output_type": "execute_result",
          "data": {
            "text/plain": [
              "0"
            ]
          },
          "metadata": {},
          "execution_count": 227
        }
      ],
      "source": [
        "np.isnan(Y_train).sum()"
      ],
      "id": "61e6e509-70e1-4f30-8997-d37b86f8daee"
    },
    {
      "cell_type": "markdown",
      "source": [
        "#***---CROSS VALIDATION---***\n",
        "\n",
        "\n",
        "We take the cross_val_score function of Sklearn. Then, we use the function Kfold where shuffle = True to allow a shuffle attribution as cross_val_score does not have this option."
      ],
      "metadata": {
        "id": "_PRRA92Enp_E"
      },
      "id": "_PRRA92Enp_E"
    },
    {
      "cell_type": "code",
      "source": [
        "#Y_train = np.log10(Y_train)"
      ],
      "metadata": {
        "id": "5b7_HSZayLWJ"
      },
      "id": "5b7_HSZayLWJ",
      "execution_count": 228,
      "outputs": []
    },
    {
      "cell_type": "markdown",
      "source": [
        "***Define Metrics***\n",
        "\n",
        "\n"
      ],
      "metadata": {
        "id": "r7xM7_DWXZZ1"
      },
      "id": "r7xM7_DWXZZ1"
    },
    {
      "cell_type": "markdown",
      "source": [
        "\n",
        "*** Extrait of python-sklearn manuel***\n",
        "\n",
        "ref. https://scikit-learn.org/stable/modules/model_evaluation.html\n",
        "\n",
        "\n",
        "***R² score, the coefficient of determination***\n",
        "\n",
        "The r2_score function computes the coefficient of determination, usually denoted as\n",
        "\n",
        ".\n",
        "\n",
        "It represents the proportion of variance (of y) that has been explained by the independent variables in the model. It provides an indication of goodness of fit and therefore a measure of how well unseen samples are likely to be predicted by the model, through the proportion of explained variance.\n",
        "\n",
        "As such variance is dataset dependent,\n",
        "may not be meaningfully comparable across different datasets. Best possible score is 1.0 and it can be negative (because the model can be arbitrarily worse). A constant model that always predicts the expected (average) value of y, disregarding the input features, would get an score of 0.0.\n",
        "\n",
        "***Mean squared error***\n",
        "\n",
        "The mean_squared_error function computes mean square error, a risk metric corresponding to the expected value of the squared (quadratic) error or loss.\n",
        "\n",
        "\n",
        "**Mean squared logarithmic error**\n",
        "\n",
        "The mean_squared_log_error function computes a risk metric corresponding to the expected value of the squared logarithmic (quadratic) error or loss.\n",
        "\n",
        "This metric is best to use when targets having exponential growth, such as population counts, average sales of a commodity over a span of years etc. Note that this metric penalizes an under-predicted estimate greater than an over-predicted estimate.\n",
        "\n",
        "**Mean absolute percentage error***\n",
        "\n",
        "The mean_absolute_percentage_error (MAPE), also known as mean absolute percentage deviation (MAPD), is an evaluation metric for regression problems. The idea of this metric is to be sensitive to relative errors. It is for example not changed by a global scaling of the target variable.\n",
        "\n",
        "\n",
        "***Explained variance score***\n",
        "\n",
        "The best possible score is 1.0, lower values are worse.\n",
        "\n",
        "Link to R² score, the coefficient of determination: https://scikit-learn.org/stable/modules/model_evaluation.html#r2-score\n",
        "\n",
        "The difference between the explained variance score and the R² score, the coefficient of determination is that when the explained variance score does not account for systematic offset in the prediction. For this reason, the R² score, the coefficient of determination should be preferred in general.\n",
        "\n",
        "In the particular case where the true target is constant, the Explained Variance score is not finite: it is either NaN (perfect predictions) or -Inf (imperfect predictions). Such non-finite scores may prevent correct model optimization such as grid-search cross-validation to be performed correctly. For this reason the default behaviour of explained_variance_score is to replace them with 1.0 (perfect predictions) or 0.0 (imperfect predictions). You can set the force_finite parameter to False to prevent this fix from happening and fallback on the original Explained Variance score.\n",
        "\n"
      ],
      "metadata": {
        "id": "TmIrSs4ywTQq"
      },
      "id": "TmIrSs4ywTQq"
    },
    {
      "cell_type": "code",
      "source": [
        "#Validation function\n",
        "n_folds = 4\n",
        "\n"
      ],
      "metadata": {
        "id": "A5iwGmo2tAV6"
      },
      "id": "A5iwGmo2tAV6",
      "execution_count": 229,
      "outputs": []
    },
    {
      "cell_type": "code",
      "source": [
        "#R2\n",
        "\n",
        "def R2_cv(model):\n",
        "    kf = KFold(n_folds, shuffle=True, random_state=0).get_n_splits(X_train)\n",
        "    R2= cross_val_score(model, X_train, Y_train, scoring=\"r2\", cv = kf)\n",
        "    return(R2)"
      ],
      "metadata": {
        "id": "-lcDmO61yGU4"
      },
      "id": "-lcDmO61yGU4",
      "execution_count": 230,
      "outputs": []
    },
    {
      "cell_type": "code",
      "source": [
        "#sqrt of negative mean squared error\n",
        "def rmse_cv(model):\n",
        "    kf = KFold(n_folds, shuffle=True, random_state=0).get_n_splits(X_train)\n",
        "    rmse= np.sqrt(-cross_val_score(model, X_train, Y_train, scoring=\"neg_mean_squared_error\", cv = kf))\n",
        "    return(rmse)"
      ],
      "metadata": {
        "id": "ZJyuwL0UucBM"
      },
      "id": "ZJyuwL0UucBM",
      "execution_count": 231,
      "outputs": []
    },
    {
      "cell_type": "code",
      "source": [
        "#sqrt of negative mean squred log error\n",
        "def rmsle_cv(model):\n",
        "    kf = KFold(n_folds, shuffle=True, random_state=0).get_n_splits(X_train)\n",
        "    rmsle= np.sqrt(-cross_val_score(model, X_train, Y_train, scoring=\"neg_mean_squared_log_error\", cv = kf))\n",
        "    return(rmsle)"
      ],
      "metadata": {
        "id": "MqdVUrRGyH3s"
      },
      "id": "MqdVUrRGyH3s",
      "execution_count": 232,
      "outputs": []
    },
    {
      "cell_type": "code",
      "source": [
        "#Mean absolute percentage error*\n",
        "def mape_cv(model):\n",
        "    kf = KFold(n_folds, shuffle=True, random_state=0).get_n_splits(X_train)\n",
        "    mape= -cross_val_score(model, X_train, Y_train, scoring=\"neg_mean_absolute_percentage_error\", cv = kf)\n",
        "    return(mape)"
      ],
      "metadata": {
        "id": "swT6gtoEuo3S"
      },
      "id": "swT6gtoEuo3S",
      "execution_count": 233,
      "outputs": []
    },
    {
      "cell_type": "code",
      "source": [
        "#explained_variance_score \n",
        "def evs_cv(model):\n",
        "    kf = KFold(n_folds, shuffle=True, random_state=0).get_n_splits(X_train)\n",
        "    evs= cross_val_score(model, X_train, Y_train, scoring=\"explained_variance\", cv = kf)\n",
        "    return(evs)"
      ],
      "metadata": {
        "id": "vQbXaUntyTQ2"
      },
      "id": "vQbXaUntyTQ2",
      "execution_count": 234,
      "outputs": []
    },
    {
      "cell_type": "code",
      "source": [
        ""
      ],
      "metadata": {
        "id": "QCYl-zXvX-Z0"
      },
      "id": "QCYl-zXvX-Z0",
      "execution_count": 234,
      "outputs": []
    },
    {
      "cell_type": "code",
      "source": [
        ""
      ],
      "metadata": {
        "id": "RVHQK-KQsH3X"
      },
      "id": "RVHQK-KQsH3X",
      "execution_count": 234,
      "outputs": []
    },
    {
      "cell_type": "markdown",
      "source": [
        "\n",
        "***Definiton of base models***\n",
        "\n",
        "***Linear Regression :***\n",
        "    \n",
        "\n",
        "Not that we dont apply Robustscaler()! It can be useful to make data more robust on outliers in the future. We can use sklearn's Robustscaler() method on pipeline\n"
      ],
      "metadata": {
        "id": "xLAZOVdnozr7"
      },
      "id": "xLAZOVdnozr7"
    },
    {
      "cell_type": "code",
      "source": [
        "regressor0= LinearRegression()"
      ],
      "metadata": {
        "id": "3HUvPrL1vu4G"
      },
      "id": "3HUvPrL1vu4G",
      "execution_count": 235,
      "outputs": []
    },
    {
      "cell_type": "markdown",
      "source": [
        "***LASSO Regression :***\n",
        "    \n",
        "\n"
      ],
      "metadata": {
        "id": "bw8EOJ8ruBiE"
      },
      "id": "bw8EOJ8ruBiE"
    },
    {
      "cell_type": "code",
      "source": [
        "lasso = Lasso(alpha =0.0005, random_state=0)\n",
        "#make_pipeline(RobustScaler(), Lasso(alpha =0.0005, random_state=1))"
      ],
      "metadata": {
        "id": "TbP3cMXco5ou"
      },
      "id": "TbP3cMXco5ou",
      "execution_count": 236,
      "outputs": []
    },
    {
      "cell_type": "markdown",
      "source": [
        "***Elastic Net Regression :***\n",
        "\n",
        "\n"
      ],
      "metadata": {
        "id": "8KPGWKCJpQwQ"
      },
      "id": "8KPGWKCJpQwQ"
    },
    {
      "cell_type": "code",
      "source": [
        "ENet = ElasticNet(alpha=0.0005, l1_ratio=.9, random_state=0)\n",
        "#make_pipeline(RobustScaler(), ElasticNet(alpha=0.0005, l1_ratio=.9, random_state=3))"
      ],
      "metadata": {
        "id": "qZ0QtaVFo5gG"
      },
      "id": "qZ0QtaVFo5gG",
      "execution_count": 237,
      "outputs": []
    },
    {
      "cell_type": "markdown",
      "source": [
        "Kernel Ridge Regression :"
      ],
      "metadata": {
        "id": "Rm8qX9sMpVuE"
      },
      "id": "Rm8qX9sMpVuE"
    },
    {
      "cell_type": "code",
      "source": [
        "KRR = KernelRidge(alpha=0.6, kernel='polynomial', degree=2, coef0=2.5)"
      ],
      "metadata": {
        "id": "ef04h9Opo5Wq"
      },
      "id": "ef04h9Opo5Wq",
      "execution_count": 238,
      "outputs": []
    },
    {
      "cell_type": "markdown",
      "source": [
        "***Gradient Boosting Regression :***\n",
        "\n",
        "\n",
        "With huber loss, our model is more robust to outliers\n"
      ],
      "metadata": {
        "id": "9ADmL37Wpaax"
      },
      "id": "9ADmL37Wpaax"
    },
    {
      "cell_type": "code",
      "source": [
        "GBoost = GradientBoostingRegressor(n_estimators=3000, learning_rate=0.05,\n",
        "                                   max_depth=4, max_features='sqrt',\n",
        "                                   min_samples_leaf=15, min_samples_split=10, \n",
        "                                   loss='huber', random_state =0)"
      ],
      "metadata": {
        "id": "x8sNR7bVo5Nj"
      },
      "id": "x8sNR7bVo5Nj",
      "execution_count": 239,
      "outputs": []
    },
    {
      "cell_type": "markdown",
      "source": [
        "***XGBoost :***"
      ],
      "metadata": {
        "id": "slWkRkz-pf4M"
      },
      "id": "slWkRkz-pf4M"
    },
    {
      "cell_type": "code",
      "source": [
        "model_xgb = xgb.XGBRegressor(colsample_bytree=0.4603, gamma=0.0468, \n",
        "                             learning_rate=0.05, max_depth=3, \n",
        "                             min_child_weight=1.7817, n_estimators=2200,\n",
        "                             reg_alpha=0.4640, reg_lambda=0.8571,\n",
        "                             subsample=0.5213, silent=1,\n",
        "                             random_state =0, nthread = -1)"
      ],
      "metadata": {
        "id": "ObR7ezMoo49H"
      },
      "id": "ObR7ezMoo49H",
      "execution_count": 240,
      "outputs": []
    },
    {
      "cell_type": "markdown",
      "source": [
        "**LightGBM - Gradient Boosting With LightGBM**\n",
        "\n",
        "LightGBM is an algorithm developed by Microsoft in 2017. It has an advantage of changing the training algorithm that make the run time faster and likely result in a more effective model.\n",
        "\n",
        "Ref. to the LightGBM algorithm paper:\n",
        "\n",
        "    LightGBM: A Highly Efficient Gradient Boosting Decision Tree, 2017.\n",
        "link : https://papers.nips.cc/paper/2017/hash/6449f44a102fde848669bdd9eb6b76fa-Abstract.html"
      ],
      "metadata": {
        "id": "cCvIgcmSpnT5"
      },
      "id": "cCvIgcmSpnT5"
    },
    {
      "cell_type": "code",
      "source": [
        "model_lgb = lgb.LGBMRegressor(objective='regression',num_leaves=5,\n",
        "                              learning_rate=0.05, n_estimators=720,\n",
        "                              max_bin = 55, bagging_fraction = 0.8,\n",
        "                              bagging_freq = 5, feature_fraction = 0.2319,\n",
        "                              feature_fraction_seed=9, bagging_seed=9,\n",
        "                              min_data_in_leaf =6, min_sum_hessian_in_leaf = 11)"
      ],
      "metadata": {
        "id": "gHh9PxOZpqcp"
      },
      "id": "gHh9PxOZpqcp",
      "execution_count": 241,
      "outputs": []
    },
    {
      "cell_type": "markdown",
      "source": [
        "\n",
        "#Base models scores\n",
        "\n",
        "Let's see how these base models perform on the data by evaluating the cross-validation metrics\n"
      ],
      "metadata": {
        "id": "Wjrfuu67pwoZ"
      },
      "id": "Wjrfuu67pwoZ"
    },
    {
      "cell_type": "code",
      "source": [
        "model = regressor0\n",
        "print(\"\\nLinear regressor model\\n\")\n",
        "score_1 = R2_cv(model)\n",
        "print(\"R2 score - mean : {:.4f}  |  std : {:.4f}\\n\".format(score_1.mean(), score_1.std()))\n",
        "\n",
        "score_2 = rmse_cv(model)\n",
        "print(\"\\nRoot mean squared error - mean : {:.0f}  |  std : {:.0f}\\n\".format(score_2.mean(), score_2.std()))\n",
        "\n",
        "score_3 = rmsle_cv(model)\n",
        "print(\"\\nRMSLE -logarithmic error - mean : {:.4f}  |  std : {:.4f}\\n\".format(score_3.mean(), score_3.std()))\n",
        "\n",
        "score_4 = mape_cv(model)\n",
        "print(\"\\nMean absolute percentage error - mean : {:.2f}  |  std : {:.2f}\\n\".format(score_4.mean(), score_4.std()))\n",
        "\n",
        "score_5 = evs_cv(model)\n",
        "print(\"\\nExplained variance score - mean : {:.4f}  |  std : {:.4f}\\n\".format(score_5.mean(), score_5.std()))"
      ],
      "metadata": {
        "colab": {
          "base_uri": "https://localhost:8080/"
        },
        "id": "EBfd--IJwVgp",
        "outputId": "f36edf4a-5cad-4f2f-da76-17c07b7d8fae"
      },
      "id": "EBfd--IJwVgp",
      "execution_count": 251,
      "outputs": [
        {
          "output_type": "stream",
          "name": "stdout",
          "text": [
            "\n",
            "Linear regressor model\n",
            "\n",
            "R2 score - mean : 0.0798  |  std : 0.3058\n",
            "\n",
            "\n",
            "Root mean squared error - mean : 16245903  |  std : 6054055\n",
            "\n",
            "\n",
            "RMSLE -logarithmic error - mean : nan  |  std : nan\n",
            "\n",
            "\n",
            "Mean absolute percentage error - mean : 5.97  |  std : 1.74\n",
            "\n",
            "\n",
            "Explained variance score - mean : 0.0924  |  std : 0.3086\n",
            "\n"
          ]
        }
      ]
    },
    {
      "cell_type": "code",
      "source": [
        "model = lasso\n",
        "\n",
        "print(\"\\nLasso model\\n\")\n",
        "score_1 = R2_cv(model)\n",
        "print(\"R2 score - mean : {:.4f}  |  std : {:.4f}\\n\".format(score_1.mean(), score_1.std()))\n",
        "\n",
        "score_2 = rmse_cv(model)\n",
        "print(\"\\nRoot mean squared error - mean : {:.0f}  |  std : {:.0f}\\n\".format(score_2.mean(), score_2.std()))\n",
        "\n",
        "score_3 = rmsle_cv(model)\n",
        "print(\"\\nRMSLE -logarithmic error - mean : {:.4f}  |  std : {:.4f}\\n\".format(score_3.mean(), score_3.std()))\n",
        "\n",
        "score_4 = mape_cv(model)\n",
        "print(\"\\nMean absolute percentage error - mean : {:.2f}  |  std : {:.2f}\\n\".format(score_4.mean(), score_4.std()))\n",
        "\n",
        "score_5 = evs_cv(model)\n",
        "print(\"\\nExplained variance score - mean : {:.4f}  |  std : {:.4f}\\n\".format(score_5.mean(), score_5.std()))"
      ],
      "metadata": {
        "colab": {
          "base_uri": "https://localhost:8080/"
        },
        "id": "aniNHgvDqV92",
        "outputId": "a4b7b33c-3fae-4153-8eb4-425ae3cb8949"
      },
      "id": "aniNHgvDqV92",
      "execution_count": 252,
      "outputs": [
        {
          "output_type": "stream",
          "name": "stdout",
          "text": [
            "\n",
            "Lasso model\n",
            "\n",
            "R2 score - mean : 0.0798  |  std : 0.3058\n",
            "\n",
            "\n",
            "Root mean squared error - mean : 16245903  |  std : 6054055\n",
            "\n",
            "\n",
            "RMSLE -logarithmic error - mean : nan  |  std : nan\n",
            "\n",
            "\n",
            "Mean absolute percentage error - mean : 5.97  |  std : 1.74\n",
            "\n",
            "\n",
            "Explained variance score - mean : 0.0924  |  std : 0.3086\n",
            "\n"
          ]
        }
      ]
    },
    {
      "cell_type": "code",
      "source": [
        "score_1"
      ],
      "metadata": {
        "id": "S7d69d6Z7Wbf",
        "outputId": "9c8ec3a0-1509-4608-f6b5-34fba15be575",
        "colab": {
          "base_uri": "https://localhost:8080/"
        }
      },
      "id": "S7d69d6Z7Wbf",
      "execution_count": 253,
      "outputs": [
        {
          "output_type": "execute_result",
          "data": {
            "text/plain": [
              "array([ 0.15247052, -0.43828016,  0.32620765,  0.27895324])"
            ]
          },
          "metadata": {},
          "execution_count": 253
        }
      ]
    },
    {
      "cell_type": "code",
      "source": [
        "model = ENet\n",
        "print(\"\\nElastic Net regressor model\\n\")\n",
        "score_1 = R2_cv(model)\n",
        "print(\"R2 score - mean : {:.4f}  |  std : {:.4f}\\n\".format(score_1.mean(), score_1.std()))\n",
        "\n",
        "score_2 = rmse_cv(model)\n",
        "print(\"\\nRoot mean squared error - mean : {:.0f}  |  std : {:.0f}\\n\".format(score_2.mean(), score_2.std()))\n",
        "\n",
        "score_3 = rmsle_cv(model)\n",
        "print(\"\\nRMSLE -logarithmic error - mean : {:.4f}  |  std : {:.4f}\\n\".format(score_3.mean(), score_3.std()))\n",
        "\n",
        "score_4 = mape_cv(model)\n",
        "print(\"\\nMean absolute percentage error - mean : {:.2f}  |  std : {:.2f}\\n\".format(score_4.mean(), score_4.std()))\n",
        "\n",
        "score_5 = evs_cv(model)\n",
        "print(\"\\nExplained variance score - mean : {:.4f}  |  std : {:.4f}\\n\".format(score_5.mean(), score_5.std()))\n"
      ],
      "metadata": {
        "colab": {
          "base_uri": "https://localhost:8080/"
        },
        "id": "wfeWJwPDqSL7",
        "outputId": "11b702ed-6693-454f-e334-e109b77c3707"
      },
      "id": "wfeWJwPDqSL7",
      "execution_count": 254,
      "outputs": [
        {
          "output_type": "stream",
          "name": "stdout",
          "text": [
            "\n",
            "Elastic Net regressor model\n",
            "\n",
            "R2 score - mean : 0.0812  |  std : 0.3049\n",
            "\n",
            "\n",
            "Root mean squared error - mean : 16237450  |  std : 6057084\n",
            "\n",
            "\n",
            "RMSLE -logarithmic error - mean : nan  |  std : nan\n",
            "\n",
            "\n",
            "Mean absolute percentage error - mean : 5.96  |  std : 1.74\n",
            "\n",
            "\n",
            "Explained variance score - mean : 0.0937  |  std : 0.3078\n",
            "\n"
          ]
        }
      ]
    },
    {
      "cell_type": "code",
      "source": [
        "model = KRR\n",
        "print(\"\\nKernel Ridge model\\n\")\n",
        "score_1 = R2_cv(model)\n",
        "print(\"R2 score - mean : {:.4f}  |  std : {:.4f}\\n\".format(score_1.mean(), score_1.std()))\n",
        "\n",
        "score_2 = rmse_cv(model)\n",
        "print(\"\\nRoot mean squared error - mean : {:.0f}  |  std : {:.0f}\\n\".format(score_2.mean(), score_2.std()))\n",
        "\n",
        "score_3 = rmsle_cv(model)\n",
        "print(\"\\nRMSLE -logarithmic error - mean : {:.4f}  |  std : {:.4f}\\n\".format(score_3.mean(), score_3.std()))\n",
        "\n",
        "score_4 = mape_cv(model)\n",
        "print(\"\\nMean absolute percentage error - mean : {:.2f}  |  std : {:.2f}\\n\".format(score_4.mean(), score_4.std()))\n",
        "\n",
        "score_5 = evs_cv(model)\n",
        "print(\"\\nExplained variance score - mean : {:.4f}  |  std : {:.4f}\\n\".format(score_5.mean(), score_5.std()))"
      ],
      "metadata": {
        "colab": {
          "base_uri": "https://localhost:8080/"
        },
        "id": "J4kydvYJqR4k",
        "outputId": "f3c1dc98-8ee5-43c6-8224-697208bca7f6"
      },
      "id": "J4kydvYJqR4k",
      "execution_count": 255,
      "outputs": [
        {
          "output_type": "stream",
          "name": "stdout",
          "text": [
            "\n",
            "Kernel Ridge model\n",
            "\n",
            "R2 score - mean : -0.2016  |  std : 0.6120\n",
            "\n",
            "\n",
            "Root mean squared error - mean : 18062548  |  std : 7322227\n",
            "\n",
            "\n",
            "RMSLE -logarithmic error - mean : nan  |  std : nan\n",
            "\n",
            "\n",
            "Mean absolute percentage error - mean : 5.75  |  std : 0.90\n",
            "\n",
            "\n",
            "Explained variance score - mean : -0.1953  |  std : 0.6094\n",
            "\n"
          ]
        }
      ]
    },
    {
      "cell_type": "code",
      "source": [
        "model = GBoost\n",
        "print(\"\\nGradient Boosting model\\n\")\n",
        "score_1 = R2_cv(model)\n",
        "print(\"R2 score - mean : {:.4f}  |  std : {:.4f}\\n\".format(score_1.mean(), score_1.std()))\n",
        "\n",
        "score_2 = rmse_cv(model)\n",
        "print(\"\\nRoot mean squared error - mean : {:.0f}  |  std : {:.0f}\\n\".format(score_2.mean(), score_2.std()))\n",
        "\n",
        "score_3 = rmsle_cv(model)\n",
        "print(\"\\nRMSLE -logarithmic error - mean : {:.4f}  |  std : {:.4f}\\n\".format(score_3.mean(), score_3.std()))\n",
        "\n",
        "score_4 = mape_cv(model)\n",
        "print(\"\\nMean absolute percentage error - mean : {:.2f}  |  std : {:.2f}\\n\".format(score_4.mean(), score_4.std()))\n",
        "\n",
        "score_5 = evs_cv(model)\n",
        "print(\"\\nExplained variance score - mean : {:.4f}  |  std : {:.4f}\\n\".format(score_5.mean(), score_5.std()))\n"
      ],
      "metadata": {
        "colab": {
          "base_uri": "https://localhost:8080/"
        },
        "id": "FNYEi-YFpqLO",
        "outputId": "64952ac4-7670-4eb9-a07b-f9ef635c63df"
      },
      "id": "FNYEi-YFpqLO",
      "execution_count": 256,
      "outputs": [
        {
          "output_type": "stream",
          "name": "stdout",
          "text": [
            "\n",
            "Gradient Boosting model\n",
            "\n",
            "R2 score - mean : 0.3752  |  std : 0.0504\n",
            "\n",
            "\n",
            "Root mean squared error - mean : 14129612  |  std : 5726277\n",
            "\n",
            "\n",
            "RMSLE -logarithmic error - mean : nan  |  std : nan\n",
            "\n",
            "\n",
            "Mean absolute percentage error - mean : 1.15  |  std : 0.30\n",
            "\n",
            "\n",
            "Explained variance score - mean : 0.3781  |  std : 0.0519\n",
            "\n"
          ]
        }
      ]
    },
    {
      "cell_type": "code",
      "source": [
        "model = model_xgb\n",
        "print(\"\\n XGBoost model\\n\")\n",
        "score_1 = R2_cv(model)\n",
        "print(\"R2 score - mean : {:.4f}  |  std : {:.4f}\\n\".format(score_1.mean(), score_1.std()))\n",
        "\n",
        "score_2 = rmse_cv(model)\n",
        "print(\"\\nRoot mean squared error - mean : {:.0f}  |  std : {:.0f}\\n\".format(score_2.mean(), score_2.std()))\n",
        "\n",
        "score_3 = rmsle_cv(model)\n",
        "print(\"\\nRMSLE -logarithmic error - mean : {:.4f}  |  std : {:.4f}\\n\".format(score_3.mean(), score_3.std()))\n",
        "\n",
        "score_4 = mape_cv(model)\n",
        "print(\"\\nMean absolute percentage error - mean : {:.2f}  |  std : {:.2f}\\n\".format(score_4.mean(), score_4.std()))\n",
        "\n",
        "score_5 = evs_cv(model)\n",
        "print(\"\\nExplained variance score - mean : {:.4f}  |  std : {:.4f}\\n\".format(score_5.mean(), score_5.std()))"
      ],
      "metadata": {
        "id": "vTlRPck4poih",
        "colab": {
          "base_uri": "https://localhost:8080/"
        },
        "outputId": "e84277a3-6951-4ff3-e96d-f2e13b7bfa85"
      },
      "id": "vTlRPck4poih",
      "execution_count": 257,
      "outputs": [
        {
          "output_type": "stream",
          "name": "stdout",
          "text": [
            "\n",
            " XGBoost model\n",
            "\n",
            "R2 score - mean : 0.2783  |  std : 0.4084\n",
            "\n",
            "\n",
            "Root mean squared error - mean : 13467413  |  std : 4766966\n",
            "\n",
            "\n",
            "RMSLE -logarithmic error - mean : nan  |  std : nan\n",
            "\n",
            "\n",
            "Mean absolute percentage error - mean : 2.96  |  std : 0.79\n",
            "\n",
            "\n",
            "Explained variance score - mean : 0.2791  |  std : 0.4085\n",
            "\n"
          ]
        }
      ]
    },
    {
      "cell_type": "code",
      "source": [
        ""
      ],
      "metadata": {
        "id": "YiScfNi2q236"
      },
      "id": "YiScfNi2q236",
      "execution_count": 257,
      "outputs": []
    },
    {
      "cell_type": "code",
      "source": [
        "model = model_lgb\n",
        "print(\"\\nLGBM model\\n\")\n",
        "score_1 = R2_cv(model)\n",
        "print(\"R2 score - mean : {:.4f}  |  std : {:.4f}\\n\".format(score_1.mean(), score_1.std()))\n",
        "\n",
        "score_2 = rmse_cv(model)\n",
        "print(\"\\nRoot mean squared error - mean : {:.0f}  |  std : {:.0f}\\n\".format(score_2.mean(), score_2.std()))\n",
        "\n",
        "score_3 = rmsle_cv(model)\n",
        "print(\"\\nRMSLE -logarithmic error - mean : {:.4f}  |  std : {:.4f}\\n\".format(score_3.mean(), score_3.std()))\n",
        "\n",
        "score_4 = mape_cv(model)\n",
        "print(\"\\nMean absolute percentage error - mean : {:.2f}  |  std : {:.2f}\\n\".format(score_4.mean(), score_4.std()))\n",
        "\n",
        "score_5 = evs_cv(model)\n",
        "print(\"\\nExplained variance score - mean : {:.4f}  |  std : {:.4f}\\n\".format(score_5.mean(), score_5.std()))\n"
      ],
      "metadata": {
        "id": "tsIQYc5UqLdo",
        "colab": {
          "base_uri": "https://localhost:8080/"
        },
        "outputId": "bbe04aae-e212-4483-c41a-3b4d3ecc8008"
      },
      "id": "tsIQYc5UqLdo",
      "execution_count": 258,
      "outputs": [
        {
          "output_type": "stream",
          "name": "stdout",
          "text": [
            "\n",
            "LGBM model\n",
            "\n",
            "R2 score - mean : 0.4158  |  std : 0.0900\n",
            "\n",
            "\n",
            "Root mean squared error - mean : 13474831  |  std : 5376606\n",
            "\n",
            "\n",
            "RMSLE -logarithmic error - mean : nan  |  std : nan\n",
            "\n",
            "\n",
            "Mean absolute percentage error - mean : 3.29  |  std : 1.29\n",
            "\n",
            "\n",
            "Explained variance score - mean : 0.4160  |  std : 0.0899\n",
            "\n"
          ]
        }
      ]
    },
    {
      "cell_type": "code",
      "source": [
        ""
      ],
      "metadata": {
        "colab": {
          "base_uri": "https://localhost:8080/"
        },
        "id": "m3KCUKXNuKqt",
        "outputId": "31da5007-3f49-483b-824a-57f8cce51af8"
      },
      "id": "m3KCUKXNuKqt",
      "execution_count": 250,
      "outputs": [
        {
          "output_type": "execute_result",
          "data": {
            "text/plain": [
              "array([nan, nan, nan, nan])"
            ]
          },
          "metadata": {},
          "execution_count": 250
        }
      ]
    },
    {
      "cell_type": "markdown",
      "source": [
        "Stopped here 11/08/22\n",
        "\n",
        "***Add your observations and conclusions here***\n",
        "\n"
      ],
      "metadata": {
        "id": "RtJafmhJ9EVt"
      },
      "id": "RtJafmhJ9EVt"
    },
    {
      "cell_type": "markdown",
      "source": [
        "*** SUMMARY ***\n",
        "\n",
        "Metric 1 :\n",
        "\n",
        "Metric 2 :\n",
        "\n",
        "\n"
      ],
      "metadata": {
        "id": "1CQBoKOA2SSY"
      },
      "id": "1CQBoKOA2SSY"
    },
    {
      "cell_type": "markdown",
      "metadata": {
        "id": "mSJg5_IvVWVe"
      },
      "source": [
        "*** Conclusion : ***\n",
        "\n",
        "\n",
        "\n",
        "Comment on your results\n",
        "\n",
        "Which metric to use ?\n"
      ],
      "id": "mSJg5_IvVWVe"
    },
    {
      "cell_type": "code",
      "source": [
        ""
      ],
      "metadata": {
        "id": "AtVqO_n9aQuc"
      },
      "id": "AtVqO_n9aQuc",
      "execution_count": 250,
      "outputs": []
    }
  ],
  "metadata": {
    "colab": {
      "collapsed_sections": [],
      "name": "Copy of SF_regression_models.ipynb",
      "provenance": []
    },
    "kernelspec": {
      "display_name": "Python 3 (ipykernel)",
      "language": "python",
      "name": "python3"
    },
    "language_info": {
      "codemirror_mode": {
        "name": "ipython",
        "version": 3
      },
      "file_extension": ".py",
      "mimetype": "text/x-python",
      "name": "python",
      "nbconvert_exporter": "python",
      "pygments_lexer": "ipython3",
      "version": "3.9.7"
    }
  },
  "nbformat": 4,
  "nbformat_minor": 5
}